{
 "cells": [
  {
   "cell_type": "markdown",
   "metadata": {},
   "source": [
    "# Import Module&Dataset"
   ]
  },
  {
   "cell_type": "code",
   "execution_count": 26,
   "metadata": {},
   "outputs": [],
   "source": [
    "import os\n",
    "import sys\n",
    "import matplotlib.pyplot as plt\n",
    "import numpy as np\n",
    "import pandas as pd\n",
    "from scipy.integrate import odeint\n",
    "import plotly.graph_objects as go\n",
    "import plotly.io as pio\n",
    "import requests\n",
    "from lmfit import minimize, Parameters, Parameter, report_fit\n",
    "pio.renderers.default = \"notebook\"\n",
    "%matplotlib inline\n",
    "plt.style.use('ggplot')\n",
    "# Jupyter Specifics\n",
    "from IPython.display import HTML\n",
    "from ipywidgets.widgets import interact, IntSlider, FloatSlider, Layout, ToggleButton, ToggleButtons\n",
    "\n",
    "style = {'description_width': '100px'}\n",
    "slider_layout = Layout(width='99%')"
   ]
  },
  {
   "cell_type": "code",
   "execution_count": 27,
   "metadata": {},
   "outputs": [
    {
     "name": "stdout",
     "output_type": "stream",
     "text": [
      "Request Success? True\n",
      "(458, 9)\n"
     ]
    },
    {
     "data": {
      "text/html": [
       "<div>\n",
       "<style scoped>\n",
       "    .dataframe tbody tr th:only-of-type {\n",
       "        vertical-align: middle;\n",
       "    }\n",
       "\n",
       "    .dataframe tbody tr th {\n",
       "        vertical-align: top;\n",
       "    }\n",
       "\n",
       "    .dataframe thead th {\n",
       "        text-align: right;\n",
       "    }\n",
       "</style>\n",
       "<table border=\"1\" class=\"dataframe\">\n",
       "  <thead>\n",
       "    <tr style=\"text-align: right;\">\n",
       "      <th></th>\n",
       "      <th>day</th>\n",
       "      <th>total</th>\n",
       "      <th>confirmedCasesIndian</th>\n",
       "      <th>confirmedCasesForeign</th>\n",
       "      <th>confirmedButLocationUnidentified</th>\n",
       "      <th>discharged</th>\n",
       "      <th>deaths</th>\n",
       "      <th>infected</th>\n",
       "      <th>total_recovered_or_dead</th>\n",
       "    </tr>\n",
       "  </thead>\n",
       "  <tbody>\n",
       "    <tr>\n",
       "      <td>0</td>\n",
       "      <td>2020-03-10</td>\n",
       "      <td>47</td>\n",
       "      <td>31</td>\n",
       "      <td>16</td>\n",
       "      <td>0</td>\n",
       "      <td>0</td>\n",
       "      <td>0</td>\n",
       "      <td>47</td>\n",
       "      <td>0</td>\n",
       "    </tr>\n",
       "    <tr>\n",
       "      <td>1</td>\n",
       "      <td>2020-03-11</td>\n",
       "      <td>60</td>\n",
       "      <td>44</td>\n",
       "      <td>16</td>\n",
       "      <td>0</td>\n",
       "      <td>0</td>\n",
       "      <td>0</td>\n",
       "      <td>60</td>\n",
       "      <td>0</td>\n",
       "    </tr>\n",
       "    <tr>\n",
       "      <td>2</td>\n",
       "      <td>2020-03-12</td>\n",
       "      <td>73</td>\n",
       "      <td>56</td>\n",
       "      <td>17</td>\n",
       "      <td>0</td>\n",
       "      <td>0</td>\n",
       "      <td>0</td>\n",
       "      <td>73</td>\n",
       "      <td>0</td>\n",
       "    </tr>\n",
       "    <tr>\n",
       "      <td>3</td>\n",
       "      <td>2020-03-13</td>\n",
       "      <td>82</td>\n",
       "      <td>65</td>\n",
       "      <td>17</td>\n",
       "      <td>0</td>\n",
       "      <td>10</td>\n",
       "      <td>2</td>\n",
       "      <td>70</td>\n",
       "      <td>12</td>\n",
       "    </tr>\n",
       "    <tr>\n",
       "      <td>4</td>\n",
       "      <td>2020-03-14</td>\n",
       "      <td>84</td>\n",
       "      <td>67</td>\n",
       "      <td>17</td>\n",
       "      <td>0</td>\n",
       "      <td>10</td>\n",
       "      <td>2</td>\n",
       "      <td>72</td>\n",
       "      <td>12</td>\n",
       "    </tr>\n",
       "  </tbody>\n",
       "</table>\n",
       "</div>"
      ],
      "text/plain": [
       "          day  total  confirmedCasesIndian  confirmedCasesForeign  \\\n",
       "0  2020-03-10     47                    31                     16   \n",
       "1  2020-03-11     60                    44                     16   \n",
       "2  2020-03-12     73                    56                     17   \n",
       "3  2020-03-13     82                    65                     17   \n",
       "4  2020-03-14     84                    67                     17   \n",
       "\n",
       "   confirmedButLocationUnidentified  discharged  deaths  infected  \\\n",
       "0                                 0           0       0        47   \n",
       "1                                 0           0       0        60   \n",
       "2                                 0           0       0        73   \n",
       "3                                 0          10       2        70   \n",
       "4                                 0          10       2        72   \n",
       "\n",
       "   total_recovered_or_dead  \n",
       "0                        0  \n",
       "1                        0  \n",
       "2                        0  \n",
       "3                       12  \n",
       "4                       12  "
      ]
     },
     "execution_count": 27,
     "metadata": {},
     "output_type": "execute_result"
    }
   ],
   "source": [
    "response = requests.get('https://api.rootnet.in/covid19-in/stats/history')\n",
    "print('Request Success? {}'.format(response.status_code == 200))\n",
    "covid_history = response.json()['data']\n",
    "keys = ['day', 'total', 'confirmedCasesIndian', 'confirmedCasesForeign', 'confirmedButLocationUnidentified',\n",
    "        'discharged', 'deaths']\n",
    "df_covid_history = pd.DataFrame([[d.get('day'), \n",
    "                                  d['summary'].get('total'), \n",
    "                                  d['summary'].get('confirmedCasesIndian'), \n",
    "                                  d['summary'].get('confirmedCasesForeign'),\n",
    "                                  d['summary'].get('confirmedButLocationUnidentified'),\n",
    "                                  d['summary'].get('discharged'), \n",
    "                                  d['summary'].get('deaths')] \n",
    "                                 for d in covid_history],\n",
    "                    columns=keys)\n",
    "df_covid_history = df_covid_history.sort_values(by='day')\n",
    "df_covid_history['infected'] = df_covid_history['total'] - df_covid_history['discharged'] - df_covid_history['deaths']\n",
    "df_covid_history['total_recovered_or_dead'] = df_covid_history['discharged'] + df_covid_history['deaths']\n",
    "print(df_covid_history.shape)\n",
    "df_covid_history.head()"
   ]
  },
  {
   "cell_type": "code",
   "execution_count": 3,
   "metadata": {},
   "outputs": [],
   "source": [
    "# def ode_model(z, t, alpha, beta, epsilon, sigma, gamma, mu,nat_d_rate, nat_b_rate):\n",
    "#     \"\"\"\n",
    "#     Reference https://www.idmod.org/docs/hiv/model-seir.html\n",
    "#     \"\"\"\n",
    "#     V, S, E, I, R, D = z\n",
    "#     N = V + S + E + I + R + D\n",
    "#     dVdt = alpha*R + epsilon*S - nat_d_rate*V\n",
    "#     dSdt = -beta*S*I/N-epsilon*S + nat_b_rate*N - nat_d_rate*S\n",
    "#     dEdt = beta*S*I/N - sigma*E - nat_d_rate*E\n",
    "#     dIdt = sigma*E - gamma*I - mu*I - nat_d_rate*I\n",
    "#     dRdt = gamma*I -alpha*R - nat_d_rate*R\n",
    "#     dDdt = mu*I + nat_d_rate*(N)\n",
    "#     return [dVdt, dSdt, dEdt, dIdt, dRdt, dDdt]"
   ]
  },
  {
   "cell_type": "markdown",
   "metadata": {},
   "source": [
    "# Define model"
   ]
  },
  {
   "cell_type": "code",
   "execution_count": 263,
   "metadata": {},
   "outputs": [],
   "source": [
    "def ode_model(z, t, alpha, beta, epsilon, sigma, gamma, mu,nat_d_rate, nat_b_rate):\n",
    "    \"\"\"\n",
    "    Reference https://www.idmod.org/docs/hiv/model-seir.html\n",
    "    \"\"\"\n",
    "    V, S, E, I, R, D = z\n",
    "    N = V + S + E + I + R + D\n",
    "    dVdt = alpha*R + epsilon*S - nat_d_rate*V\n",
    "    dSdt = -beta*S*I/N-epsilon*S + nat_b_rate*N - nat_d_rate*S\n",
    "    dEdt = beta*S*I/N - sigma*E - nat_d_rate*E\n",
    "    dIdt = sigma*E - gamma*I - mu*I - nat_d_rate*I\n",
    "    dRdt = gamma*I -alpha*R - nat_d_rate*R\n",
    "    dDdt = mu*I + nat_d_rate*N\n",
    "    return [dVdt, dSdt, dEdt, dIdt, dRdt, dDdt]"
   ]
  },
  {
   "cell_type": "code",
   "execution_count": 264,
   "metadata": {},
   "outputs": [],
   "source": [
    "def ode_solver(t, initial_conditions, params, nat_d_rate, nat_b_rate):\n",
    "    initV, initE, initI, initR, initN, initD = initial_conditions\n",
    "    \n",
    "    alpha = params['alpha'].value\n",
    "    beta = params['beta'].value\n",
    "    epsilon = params['epsilon'].value\n",
    "    sigma = params['sigma'].value\n",
    "    gamma = params['gamma'].value\n",
    "    mu = params['mu'].value\n",
    "\n",
    "    \n",
    "    initS = initN - (initV + initE + initI + initR + initD)\n",
    "    res = odeint(ode_model, \n",
    "                 [initV, initS, initE, initI, initR, initD], \n",
    "                 t, \n",
    "                 args=(alpha, beta, epsilon,sigma, gamma, mu, nat_d_rate, nat_b_rate)\n",
    "                )\n",
    "    return res"
   ]
  },
  {
   "cell_type": "code",
   "execution_count": 265,
   "metadata": {},
   "outputs": [],
   "source": [
    "def error(params, initial_conditions, tspan, data, nat_d_rate, nat_b_rate):\n",
    "    sol = ode_solver(tspan, initial_conditions, params, nat_d_rate, nat_b_rate)\n",
    "#     print(sol[45,:])\n",
    "    return (sol[:, 3:6] - data).ravel()"
   ]
  },
  {
   "cell_type": "markdown",
   "metadata": {},
   "source": [
    "# Parameters"
   ]
  },
  {
   "cell_type": "code",
   "execution_count": 267,
   "metadata": {},
   "outputs": [],
   "source": [
    "initN = 1380000000\n",
    "# S0 = 966000000\n",
    "initV = 0\n",
    "initE = 1000\n",
    "initI = 47\n",
    "initR = 0\n",
    "initD = 0\n",
    "\n",
    "alpha = .02\n",
    "sigma = 1/5.2\n",
    "gamma = 1/2.9\n",
    "epsilon = 0.02\n",
    "mu = 0.034\n",
    "R0 = 4\n",
    "beta = R0 * gamma\n",
    "nat_b_rate= 0.00174/2\n",
    "nat_d_rate = 0#.000000073\n",
    "days = 100\n",
    "\n",
    "params = Parameters()\n",
    "params.add('alpha', value=alpha, min=0, max=10)\n",
    "params.add('beta', value=beta, min=0, max=10)\n",
    "params.add('sigma', value=sigma, min=0, max=10)\n",
    "params.add('gamma', value=gamma, min=0, max=10)\n",
    "params.add('epsilon', value=epsilon, min=0, max=10)\n",
    "params.add('mu', value=mu, min=0, max=10)\n",
    "\n",
    "initial_conditions = [initV, initE, initI, initR, initN, initD]\n",
    "# print(initE,initI)\n",
    "tspan = np.arange(0, days, 1)\n",
    "observed_IRD = df_covid_history.loc[:, ['infected', 'discharged', 'deaths']].values\n",
    "data = df_covid_history.loc[0:(days-1), ['infected', 'discharged', 'deaths']].values"
   ]
  },
  {
   "cell_type": "markdown",
   "metadata": {},
   "source": [
    "# Training"
   ]
  },
  {
   "cell_type": "code",
   "execution_count": 268,
   "metadata": {},
   "outputs": [
    {
     "name": "stdout",
     "output_type": "stream",
     "text": [
      "(100, 3)\n"
     ]
    }
   ],
   "source": [
    "result = minimize(error, \n",
    "                  params, \n",
    "                  args=(initial_conditions, tspan, data, nat_d_rate, nat_b_rate), \n",
    "                  method='leastsq')\n",
    "final = data + result.residual.reshape(data.shape)\n",
    "print(final.shape)"
   ]
  },
  {
   "cell_type": "code",
   "execution_count": 269,
   "metadata": {},
   "outputs": [
    {
     "data": {
      "text/html": [
       "<div>\n",
       "        \n",
       "        \n",
       "            <div id=\"ea608cd0-8d94-464d-af78-87ae41c8da30\" class=\"plotly-graph-div\" style=\"height:600px; width:1000px;\"></div>\n",
       "            <script type=\"text/javascript\">\n",
       "                require([\"plotly\"], function(Plotly) {\n",
       "                    window.PLOTLYENV=window.PLOTLYENV || {};\n",
       "                    \n",
       "                if (document.getElementById(\"ea608cd0-8d94-464d-af78-87ae41c8da30\")) {\n",
       "                    Plotly.newPlot(\n",
       "                        'ea608cd0-8d94-464d-af78-87ae41c8da30',\n",
       "                        [{\"line\": {\"dash\": \"dot\"}, \"mode\": \"markers\", \"name\": \"Observed Infections\", \"type\": \"scatter\", \"x\": [0, 1, 2, 3, 4, 5, 6, 7, 8, 9, 10, 11, 12, 13, 14, 15, 16, 17, 18, 19, 20, 21, 22, 23, 24, 25, 26, 27, 28, 29, 30, 31, 32, 33, 34, 35, 36, 37, 38, 39, 40, 41, 42, 43, 44, 45, 46, 47, 48, 49, 50, 51, 52, 53, 54, 55, 56, 57, 58, 59, 60, 61, 62, 63, 64, 65, 66, 67, 68, 69, 70, 71, 72, 73, 74, 75, 76, 77, 78, 79, 80, 81, 82, 83, 84, 85, 86, 87, 88, 89, 90, 91, 92, 93, 94, 95, 96, 97, 98, 99], \"y\": [47, 60, 73, 70, 72, 95, 99, 120, 134, 149, 196, 256, 329, 424, 469, 553, 634, 640, 810, 901, 1118, 1238, 1649, 1860, 2322, 2784, 3219, 3851, 4312, 4714, 5218, 6039, 6634, 7409, 8048, 9272, 10197, 10824, 11616, 12289, 13295, 14255, 15122, 15859, 16689, 17915, 18953, 20177, 21132, 22010, 22904, 24162, 25148, 26535, 28070, 29685, 31967, 33514, 35902, 37916, 39834, 41472, 44029, 46008, 47480, 49219, 51401, 52805, 53946, 56316, 58802, 61149, 63624, 66330, 69597, 73560, 77103, 80722, 83004, 86110, 89987, 86422, 89995, 93322, 97581, 101497, 106737, 110960, 115942, 120406, 124981, 129813, 133632, 137448, 141842, 145779, 149348, 153106, 153178, 155227]}, {\"line\": {\"dash\": \"dot\"}, \"mode\": \"markers\", \"name\": \"Observed Recovered\", \"type\": \"scatter\", \"x\": [0, 1, 2, 3, 4, 5, 6, 7, 8, 9, 10, 11, 12, 13, 14, 15, 16, 17, 18, 19, 20, 21, 22, 23, 24, 25, 26, 27, 28, 29, 30, 31, 32, 33, 34, 35, 36, 37, 38, 39, 40, 41, 42, 43, 44, 45, 46, 47, 48, 49, 50, 51, 52, 53, 54, 55, 56, 57, 58, 59, 60, 61, 62, 63, 64, 65, 66, 67, 68, 69, 70, 71, 72, 73, 74, 75, 76, 77, 78, 79, 80, 81, 82, 83, 84, 85, 86, 87, 88, 89, 90, 91, 92, 93, 94, 95, 96, 97, 98, 99], \"y\": [0, 0, 0, 10, 10, 13, 13, 14, 14, 20, 23, 23, 24, 35, 40, 43, 45, 67, 80, 96, 102, 124, 144, 156, 163, 213, 275, 319, 353, 411, 478, 516, 653, 765, 980, 1190, 1344, 1515, 1767, 2015, 2302, 2842, 3260, 3960, 4325, 4814, 5210, 5914, 6362, 7027, 7797, 8373, 9065, 10018, 10887, 11762, 13161, 14183, 15267, 16540, 17847, 19358, 20917, 22455, 24386, 26235, 27920, 30153, 34109, 36824, 39174, 42298, 45300, 48534, 51784, 54441, 57721, 60491, 64426, 67692, 71106, 82370, 86984, 91819, 95527, 100303, 104107, 109462, 114073, 119293, 124430, 129314, 135206, 141029, 147195, 154330, 162379, 169798, 180013, 186935]}, {\"line\": {\"dash\": \"dot\"}, \"mode\": \"markers\", \"name\": \"Observed Deaths\", \"type\": \"scatter\", \"x\": [0, 1, 2, 3, 4, 5, 6, 7, 8, 9, 10, 11, 12, 13, 14, 15, 16, 17, 18, 19, 20, 21, 22, 23, 24, 25, 26, 27, 28, 29, 30, 31, 32, 33, 34, 35, 36, 37, 38, 39, 40, 41, 42, 43, 44, 45, 46, 47, 48, 49, 50, 51, 52, 53, 54, 55, 56, 57, 58, 59, 60, 61, 62, 63, 64, 65, 66, 67, 68, 69, 70, 71, 72, 73, 74, 75, 76, 77, 78, 79, 80, 81, 82, 83, 84, 85, 86, 87, 88, 89, 90, 91, 92, 93, 94, 95, 96, 97, 98, 99], \"y\": [0, 0, 0, 2, 2, 2, 2, 3, 3, 4, 4, 4, 7, 8, 10, 10, 15, 17, 19, 27, 31, 35, 41, 53, 62, 75, 83, 111, 124, 149, 169, 206, 242, 273, 324, 353, 392, 420, 452, 488, 519, 559, 603, 652, 686, 723, 779, 826, 886, 937, 1008, 1075, 1152, 1223, 1306, 1389, 1583, 1694, 1783, 1886, 1981, 2109, 2206, 2293, 2415, 2549, 2649, 2752, 2872, 3029, 3163, 3303, 3435, 3583, 3720, 3867, 4021, 4167, 4337, 4531, 4706, 4971, 5164, 5394, 5598, 5815, 6075, 6348, 6642, 6929, 7200, 7471, 7745, 8102, 8498, 8884, 9195, 9520, 9900, 11903]}, {\"mode\": \"lines+markers\", \"name\": \"Fitted Infections\", \"type\": \"scatter\", \"x\": [0, 1, 2, 3, 4, 5, 6, 7, 8, 9, 10, 11, 12, 13, 14, 15, 16, 17, 18, 19, 20, 21, 22, 23, 24, 25, 26, 27, 28, 29, 30, 31, 32, 33, 34, 35, 36, 37, 38, 39, 40, 41, 42, 43, 44, 45, 46, 47, 48, 49, 50, 51, 52, 53, 54, 55, 56, 57, 58, 59, 60, 61, 62, 63, 64, 65, 66, 67, 68, 69, 70, 71, 72, 73, 74, 75, 76, 77, 78, 79, 80, 81, 82, 83, 84, 85, 86, 87, 88, 89, 90, 91, 92, 93, 94, 95, 96, 97, 98, 99], \"y\": [47.0, 59.15353117668353, 72.88665913666651, 88.54328732612262, 106.48416221028873, 127.093121550948, 150.78242727296902, 177.99742387407537, 209.22066174253845, 244.97559892314862, 285.82994656033003, 332.3987051352631, 385.3469176441902, 445.39214843381404, 513.3066885659192, 589.9194826119141, 676.1177635542853, 772.848381121076, 881.1188078146024, 1001.9978015731597, 1136.6157108110112, 1286.16440361773, 1451.8968061237613, 1635.1260373110679, 1837.2241301018169, 2059.6203308661534, 2303.79897653072, 2571.296942860327, 2863.70066277383, 3182.6427524710407, 3529.7982079713665, 3906.880227818392, 4315.635652598726, 4757.840053490066, 5235.292511945585, 5749.810082539944, 6303.22199661905, 6897.3636376585755, 7534.070312008915, 8215.170868239606, 8942.48119083884, 9717.797615821364, 10542.89031169023, 11419.496657576083, 12349.314672583194, 13333.996525325849, 14375.142173234175, 15474.293164397339, 16632.926645358446, 17852.449601955643, 19134.193378801647, 20479.408496250988, 21889.259803062392, 23364.82198842002, 24907.07546854097, 26516.90268653409, 28195.084816118466, 29942.29890332964, 31759.11546466483, 33645.99654473636, 35603.294127482906, 37631.24919192019, 39729.991015255524, 41899.5370837669, 44139.7933773038, 46450.5550468872, 48831.50764470084, 51282.22856672982, 53802.18908187104, 56390.7565777935, 59047.19723313941, 61770.67902336426, 64560.27495247095, 67414.96668879778, 70333.64833336398, 73315.13051185425, 76358.1446296637, 79461.3473011638, 82623.3249619916, 85842.59862144558, 89117.62864599856, 92446.81972697741, 95828.52578711566, 99261.05506186449, 102742.67502141929, 106271.61746670962, 109846.08340364989, 113464.24805105667, 117124.26561279097, 120824.27409812814, 124562.39994750041, 128336.76262493976, 132145.47894854686, 135986.66745802134, 139858.45245807501, 143758.9680540028, 147686.3618663027, 151638.79871872257, 155614.46400356648, 159611.5669876399]}, {\"mode\": \"lines+markers\", \"name\": \"Fitted Recovered\", \"type\": \"scatter\", \"x\": [0, 1, 2, 3, 4, 5, 6, 7, 8, 9, 10, 11, 12, 13, 14, 15, 16, 17, 18, 19, 20, 21, 22, 23, 24, 25, 26, 27, 28, 29, 30, 31, 32, 33, 34, 35, 36, 37, 38, 39, 40, 41, 42, 43, 44, 45, 46, 47, 48, 49, 50, 51, 52, 53, 54, 55, 56, 57, 58, 59, 60, 61, 62, 63, 64, 65, 66, 67, 68, 69, 70, 71, 72, 73, 74, 75, 76, 77, 78, 79, 80, 81, 82, 83, 84, 85, 86, 87, 88, 89, 90, 91, 92, 93, 94, 95, 96, 97, 98, 99], \"y\": [0.0, 2.3762435454849653, 5.331983257604809, 8.945759987836295, 13.311897548321275, 18.541403302642568, 24.76312593156118, 32.125137883079034, 40.796314377585, 50.96808668227987, 62.856354165308964, 76.70353928427875, 92.78077208164223, 111.39019205625517, 132.86735546505707, 157.58373506586435, 185.94929995221094, 218.4151616460491, 255.47627362739783, 297.6741667733357, 345.5997077453726, 399.89586239044587, 461.2604471657794, 530.4488508985137, 608.2767084657027, 695.6225055800344, 793.4301066058083, 902.7111666975098, 1024.547416101954, 1160.0928226310436, 1310.5755702226866, 1477.2998746878293, 1661.6475940373564, 1865.0796301519063, 2089.1371002412625, 2335.44226947395, 2605.6992280030468, 2901.694304337415, 3225.296200923458, 3578.4558475531076, 3963.205967491648, 4381.660346936989, 4836.012811888021, 5328.535901043247, 5861.579251879598, 6437.567684757345, 7058.999004011844, 7728.441516412585, 8448.531271887843, 9221.969048388388, 10051.517075004142, 10939.995524228343, 11890.278773495387, 12905.291458800139, 13988.00433762732, 15141.429971363628, 16368.618257030135, 17672.651817363847, 19056.64127026625, 20523.720397133937, 22077.04126039951, 23719.76921833948, 25455.077941658605, 27286.144392208094, 29216.14381027305, 31248.24473090634, 33385.6040340983, 35631.36205324617, 37988.637776287585, 40460.5241224381, 43050.08334624766, 45760.342565895335, 48594.28941209175, 51554.86787421655, 54644.97425398731, 57867.45335622693, 61225.09482455189, 64720.62967862766, 68356.72707260805, 72135.99125132323, 76060.95872005615, 80134.09562619781, 84357.79538763297, 88734.37651388811, 93266.08067756271, 97955.07099015621, 102803.430519364, 107813.16101568317, 112986.18186189405, 118324.32924022406, 123829.35550934586, 129502.92879283662, 135346.63275303325, 141361.96658848645, 147550.34517847892, 153913.09946216707, 160451.47692764344, 167166.6423418732, 174059.67855408558, 181131.58754325553]}, {\"mode\": \"lines+markers\", \"name\": \"Fitted Deaths\", \"type\": \"scatter\", \"x\": [0, 1, 2, 3, 4, 5, 6, 7, 8, 9, 10, 11, 12, 13, 14, 15, 16, 17, 18, 19, 20, 21, 22, 23, 24, 25, 26, 27, 28, 29, 30, 31, 32, 33, 34, 35, 36, 37, 38, 39, 40, 41, 42, 43, 44, 45, 46, 47, 48, 49, 50, 51, 52, 53, 54, 55, 56, 57, 58, 59, 60, 61, 62, 63, 64, 65, 66, 67, 68, 69, 70, 71, 72, 73, 74, 75, 76, 77, 78, 79, 80, 81, 82, 83, 84, 85, 86, 87, 88, 89, 90, 91, 92, 93, 94, 95, 96, 97, 98, 99], \"y\": [0.0, 0.14356698093299602, 0.32214574989915806, 0.5404815603347068, 0.8042732348864607, 1.1202275770200605, 1.496129320530576, 1.9409246539496787, 2.464816620348216, 3.0793710460795833, 3.7976320626215454, 4.634246264180263, 5.605594689798542, 6.729931897060871, 8.02753140564394, 9.520836725947852, 11.23461722670718, 13.196128005753522, 15.435272989320746, 17.984770200917044, 20.880318416693193, 24.160764123731987, 27.868267754777765, 32.04846813067331, 36.750643997949375, 42.02787140399555, 47.93717642191173, 54.539680886415134, 61.90074040618292, 70.09007501556147, 79.1818887147675, 89.25497917326891, 100.3928350221762, 112.68372054007529, 126.22074643009904, 141.10192616747543, 157.43021690410595, 175.3135444437646, 194.864811433919, 216.20188850928412, 239.44758807859188, 264.72962018735086, 292.1805307029566, 321.9376211346708, 354.14285112462477, 388.9427226942722, 426.4881473918536, 466.934296363857, 510.4404336464189, 557.1697339982059, 607.2890849191513, 660.9688747216217, 718.3827666616359, 779.707460508127, 845.1224425911595, 914.8097249437067, 988.9535753397048, 1067.7402387738812, 1151.3576516532098, 1239.9951498790417, 1333.843173860629, 1433.0929673217424, 1537.9362762146047, 1648.5650453460194, 1765.1711155212156, 1887.9459224425975, 2017.080197652746, 2152.7636729997403, 2295.1847907010037, 2444.5304179749483, 2600.985569364904, 2764.7331365692216, 2935.953625558181, 3114.824905607363, 3301.5219648277925, 3496.216680021001, 3699.077595289843, 3910.2697128275113, 4129.954297069945, 4358.288690795732, 4595.4261441305, 4841.515656352517, 5096.701832605148, 5361.124752255541, 5634.919852374819, 5918.217823567377, 6211.14452038916, 6513.820884411909, 6826.362880753062, 7148.881447757471, 7481.482459356815, 7824.266700204995, 8177.329852014697, 8540.762493403277, 8914.6501086239, 9299.07311047208, 9694.106869833362, 10099.82175978407, 10516.28320412998, 10943.551740692406]}],\n",
       "                        {\"height\": 600, \"template\": {\"data\": {\"bar\": [{\"error_x\": {\"color\": \"#2a3f5f\"}, \"error_y\": {\"color\": \"#2a3f5f\"}, \"marker\": {\"line\": {\"color\": \"#E5ECF6\", \"width\": 0.5}}, \"type\": \"bar\"}], \"barpolar\": [{\"marker\": {\"line\": {\"color\": \"#E5ECF6\", \"width\": 0.5}}, \"type\": \"barpolar\"}], \"carpet\": [{\"aaxis\": {\"endlinecolor\": \"#2a3f5f\", \"gridcolor\": \"white\", \"linecolor\": \"white\", \"minorgridcolor\": \"white\", \"startlinecolor\": \"#2a3f5f\"}, \"baxis\": {\"endlinecolor\": \"#2a3f5f\", \"gridcolor\": \"white\", \"linecolor\": \"white\", \"minorgridcolor\": \"white\", \"startlinecolor\": \"#2a3f5f\"}, \"type\": \"carpet\"}], \"choropleth\": [{\"colorbar\": {\"outlinewidth\": 0, \"ticks\": \"\"}, \"type\": \"choropleth\"}], \"contour\": [{\"colorbar\": {\"outlinewidth\": 0, \"ticks\": \"\"}, \"colorscale\": [[0.0, \"#0d0887\"], [0.1111111111111111, \"#46039f\"], [0.2222222222222222, \"#7201a8\"], [0.3333333333333333, \"#9c179e\"], [0.4444444444444444, \"#bd3786\"], [0.5555555555555556, \"#d8576b\"], [0.6666666666666666, \"#ed7953\"], [0.7777777777777778, \"#fb9f3a\"], [0.8888888888888888, \"#fdca26\"], [1.0, \"#f0f921\"]], \"type\": \"contour\"}], \"contourcarpet\": [{\"colorbar\": {\"outlinewidth\": 0, \"ticks\": \"\"}, \"type\": \"contourcarpet\"}], \"heatmap\": [{\"colorbar\": {\"outlinewidth\": 0, \"ticks\": \"\"}, \"colorscale\": [[0.0, \"#0d0887\"], [0.1111111111111111, \"#46039f\"], [0.2222222222222222, \"#7201a8\"], [0.3333333333333333, \"#9c179e\"], [0.4444444444444444, \"#bd3786\"], [0.5555555555555556, \"#d8576b\"], [0.6666666666666666, \"#ed7953\"], [0.7777777777777778, \"#fb9f3a\"], [0.8888888888888888, \"#fdca26\"], [1.0, \"#f0f921\"]], \"type\": \"heatmap\"}], \"heatmapgl\": [{\"colorbar\": {\"outlinewidth\": 0, \"ticks\": \"\"}, \"colorscale\": [[0.0, \"#0d0887\"], [0.1111111111111111, \"#46039f\"], [0.2222222222222222, \"#7201a8\"], [0.3333333333333333, \"#9c179e\"], [0.4444444444444444, \"#bd3786\"], [0.5555555555555556, \"#d8576b\"], [0.6666666666666666, \"#ed7953\"], [0.7777777777777778, \"#fb9f3a\"], [0.8888888888888888, \"#fdca26\"], [1.0, \"#f0f921\"]], \"type\": \"heatmapgl\"}], \"histogram\": [{\"marker\": {\"colorbar\": {\"outlinewidth\": 0, \"ticks\": \"\"}}, \"type\": \"histogram\"}], \"histogram2d\": [{\"colorbar\": {\"outlinewidth\": 0, \"ticks\": \"\"}, \"colorscale\": [[0.0, \"#0d0887\"], [0.1111111111111111, \"#46039f\"], [0.2222222222222222, \"#7201a8\"], [0.3333333333333333, \"#9c179e\"], [0.4444444444444444, \"#bd3786\"], [0.5555555555555556, \"#d8576b\"], [0.6666666666666666, \"#ed7953\"], [0.7777777777777778, \"#fb9f3a\"], [0.8888888888888888, \"#fdca26\"], [1.0, \"#f0f921\"]], \"type\": \"histogram2d\"}], \"histogram2dcontour\": [{\"colorbar\": {\"outlinewidth\": 0, \"ticks\": \"\"}, \"colorscale\": [[0.0, \"#0d0887\"], [0.1111111111111111, \"#46039f\"], [0.2222222222222222, \"#7201a8\"], [0.3333333333333333, \"#9c179e\"], [0.4444444444444444, \"#bd3786\"], [0.5555555555555556, \"#d8576b\"], [0.6666666666666666, \"#ed7953\"], [0.7777777777777778, \"#fb9f3a\"], [0.8888888888888888, \"#fdca26\"], [1.0, \"#f0f921\"]], \"type\": \"histogram2dcontour\"}], \"mesh3d\": [{\"colorbar\": {\"outlinewidth\": 0, \"ticks\": \"\"}, \"type\": \"mesh3d\"}], \"parcoords\": [{\"line\": {\"colorbar\": {\"outlinewidth\": 0, \"ticks\": \"\"}}, \"type\": \"parcoords\"}], \"pie\": [{\"automargin\": true, \"type\": \"pie\"}], \"scatter\": [{\"marker\": {\"colorbar\": {\"outlinewidth\": 0, \"ticks\": \"\"}}, \"type\": \"scatter\"}], \"scatter3d\": [{\"line\": {\"colorbar\": {\"outlinewidth\": 0, \"ticks\": \"\"}}, \"marker\": {\"colorbar\": {\"outlinewidth\": 0, \"ticks\": \"\"}}, \"type\": \"scatter3d\"}], \"scattercarpet\": [{\"marker\": {\"colorbar\": {\"outlinewidth\": 0, \"ticks\": \"\"}}, \"type\": \"scattercarpet\"}], \"scattergeo\": [{\"marker\": {\"colorbar\": {\"outlinewidth\": 0, \"ticks\": \"\"}}, \"type\": \"scattergeo\"}], \"scattergl\": [{\"marker\": {\"colorbar\": {\"outlinewidth\": 0, \"ticks\": \"\"}}, \"type\": \"scattergl\"}], \"scattermapbox\": [{\"marker\": {\"colorbar\": {\"outlinewidth\": 0, \"ticks\": \"\"}}, \"type\": \"scattermapbox\"}], \"scatterpolar\": [{\"marker\": {\"colorbar\": {\"outlinewidth\": 0, \"ticks\": \"\"}}, \"type\": \"scatterpolar\"}], \"scatterpolargl\": [{\"marker\": {\"colorbar\": {\"outlinewidth\": 0, \"ticks\": \"\"}}, \"type\": \"scatterpolargl\"}], \"scatterternary\": [{\"marker\": {\"colorbar\": {\"outlinewidth\": 0, \"ticks\": \"\"}}, \"type\": \"scatterternary\"}], \"surface\": [{\"colorbar\": {\"outlinewidth\": 0, \"ticks\": \"\"}, \"colorscale\": [[0.0, \"#0d0887\"], [0.1111111111111111, \"#46039f\"], [0.2222222222222222, \"#7201a8\"], [0.3333333333333333, \"#9c179e\"], [0.4444444444444444, \"#bd3786\"], [0.5555555555555556, \"#d8576b\"], [0.6666666666666666, \"#ed7953\"], [0.7777777777777778, \"#fb9f3a\"], [0.8888888888888888, \"#fdca26\"], [1.0, \"#f0f921\"]], \"type\": \"surface\"}], \"table\": [{\"cells\": {\"fill\": {\"color\": \"#EBF0F8\"}, \"line\": {\"color\": \"white\"}}, \"header\": {\"fill\": {\"color\": \"#C8D4E3\"}, \"line\": {\"color\": \"white\"}}, \"type\": \"table\"}]}, \"layout\": {\"annotationdefaults\": {\"arrowcolor\": \"#2a3f5f\", \"arrowhead\": 0, \"arrowwidth\": 1}, \"coloraxis\": {\"colorbar\": {\"outlinewidth\": 0, \"ticks\": \"\"}}, \"colorscale\": {\"diverging\": [[0, \"#8e0152\"], [0.1, \"#c51b7d\"], [0.2, \"#de77ae\"], [0.3, \"#f1b6da\"], [0.4, \"#fde0ef\"], [0.5, \"#f7f7f7\"], [0.6, \"#e6f5d0\"], [0.7, \"#b8e186\"], [0.8, \"#7fbc41\"], [0.9, \"#4d9221\"], [1, \"#276419\"]], \"sequential\": [[0.0, \"#0d0887\"], [0.1111111111111111, \"#46039f\"], [0.2222222222222222, \"#7201a8\"], [0.3333333333333333, \"#9c179e\"], [0.4444444444444444, \"#bd3786\"], [0.5555555555555556, \"#d8576b\"], [0.6666666666666666, \"#ed7953\"], [0.7777777777777778, \"#fb9f3a\"], [0.8888888888888888, \"#fdca26\"], [1.0, \"#f0f921\"]], \"sequentialminus\": [[0.0, \"#0d0887\"], [0.1111111111111111, \"#46039f\"], [0.2222222222222222, \"#7201a8\"], [0.3333333333333333, \"#9c179e\"], [0.4444444444444444, \"#bd3786\"], [0.5555555555555556, \"#d8576b\"], [0.6666666666666666, \"#ed7953\"], [0.7777777777777778, \"#fb9f3a\"], [0.8888888888888888, \"#fdca26\"], [1.0, \"#f0f921\"]]}, \"colorway\": [\"#636efa\", \"#EF553B\", \"#00cc96\", \"#ab63fa\", \"#FFA15A\", \"#19d3f3\", \"#FF6692\", \"#B6E880\", \"#FF97FF\", \"#FECB52\"], \"font\": {\"color\": \"#2a3f5f\"}, \"geo\": {\"bgcolor\": \"white\", \"lakecolor\": \"white\", \"landcolor\": \"#E5ECF6\", \"showlakes\": true, \"showland\": true, \"subunitcolor\": \"white\"}, \"hoverlabel\": {\"align\": \"left\"}, \"hovermode\": \"closest\", \"mapbox\": {\"style\": \"light\"}, \"paper_bgcolor\": \"white\", \"plot_bgcolor\": \"#E5ECF6\", \"polar\": {\"angularaxis\": {\"gridcolor\": \"white\", \"linecolor\": \"white\", \"ticks\": \"\"}, \"bgcolor\": \"#E5ECF6\", \"radialaxis\": {\"gridcolor\": \"white\", \"linecolor\": \"white\", \"ticks\": \"\"}}, \"scene\": {\"xaxis\": {\"backgroundcolor\": \"#E5ECF6\", \"gridcolor\": \"white\", \"gridwidth\": 2, \"linecolor\": \"white\", \"showbackground\": true, \"ticks\": \"\", \"zerolinecolor\": \"white\"}, \"yaxis\": {\"backgroundcolor\": \"#E5ECF6\", \"gridcolor\": \"white\", \"gridwidth\": 2, \"linecolor\": \"white\", \"showbackground\": true, \"ticks\": \"\", \"zerolinecolor\": \"white\"}, \"zaxis\": {\"backgroundcolor\": \"#E5ECF6\", \"gridcolor\": \"white\", \"gridwidth\": 2, \"linecolor\": \"white\", \"showbackground\": true, \"ticks\": \"\", \"zerolinecolor\": \"white\"}}, \"shapedefaults\": {\"line\": {\"color\": \"#2a3f5f\"}}, \"ternary\": {\"aaxis\": {\"gridcolor\": \"white\", \"linecolor\": \"white\", \"ticks\": \"\"}, \"baxis\": {\"gridcolor\": \"white\", \"linecolor\": \"white\", \"ticks\": \"\"}, \"bgcolor\": \"#E5ECF6\", \"caxis\": {\"gridcolor\": \"white\", \"linecolor\": \"white\", \"ticks\": \"\"}}, \"title\": {\"x\": 0.05}, \"xaxis\": {\"automargin\": true, \"gridcolor\": \"white\", \"linecolor\": \"white\", \"ticks\": \"\", \"title\": {\"standoff\": 15}, \"zerolinecolor\": \"white\", \"zerolinewidth\": 2}, \"yaxis\": {\"automargin\": true, \"gridcolor\": \"white\", \"linecolor\": \"white\", \"ticks\": \"\", \"title\": {\"standoff\": 15}, \"zerolinecolor\": \"white\", \"zerolinewidth\": 2}}}, \"title\": {\"text\": \"VSEIRD: Observed vs Fitted\", \"x\": 0.5}, \"width\": 1000, \"xaxis\": {\"title\": {\"text\": \"Day\"}}, \"yaxis\": {\"title\": {\"text\": \"Counts\"}}},\n",
       "                        {\"responsive\": true}\n",
       "                    ).then(function(){\n",
       "                            \n",
       "var gd = document.getElementById('ea608cd0-8d94-464d-af78-87ae41c8da30');\n",
       "var x = new MutationObserver(function (mutations, observer) {{\n",
       "        var display = window.getComputedStyle(gd).display;\n",
       "        if (!display || display === 'none') {{\n",
       "            console.log([gd, 'removed!']);\n",
       "            Plotly.purge(gd);\n",
       "            observer.disconnect();\n",
       "        }}\n",
       "}});\n",
       "\n",
       "// Listen for the removal of the full notebook cells\n",
       "var notebookContainer = gd.closest('#notebook-container');\n",
       "if (notebookContainer) {{\n",
       "    x.observe(notebookContainer, {childList: true});\n",
       "}}\n",
       "\n",
       "// Listen for the clearing of the current output cell\n",
       "var outputEl = gd.closest('.output');\n",
       "if (outputEl) {{\n",
       "    x.observe(outputEl, {childList: true});\n",
       "}}\n",
       "\n",
       "                        })\n",
       "                };\n",
       "                });\n",
       "            </script>\n",
       "        </div>"
      ]
     },
     "metadata": {},
     "output_type": "display_data"
    }
   ],
   "source": [
    "fig = go.Figure()\n",
    "fig.add_trace(go.Scatter(x=tspan, y=data[:, 0], mode='markers', name='Observed Infections', line = dict(dash='dot')))\n",
    "fig.add_trace(go.Scatter(x=tspan, y=data[:, 1], mode='markers', name='Observed Recovered', line = dict(dash='dot')))\n",
    "fig.add_trace(go.Scatter(x=tspan, y=data[:, 2], mode='markers', name='Observed Deaths', line = dict(dash='dot')))\n",
    "fig.add_trace(go.Scatter(x=tspan, y=final[:, 0], mode='lines+markers', name='Fitted Infections'))\n",
    "fig.add_trace(go.Scatter(x=tspan, y=final[:, 1], mode='lines+markers', name='Fitted Recovered'))\n",
    "fig.add_trace(go.Scatter(x=tspan, y=final[:, 2], mode='lines+markers', name='Fitted Deaths'))\n",
    "fig.update_layout(title='VSEIRD: Observed vs Fitted',\n",
    "                       xaxis_title='Day',\n",
    "                       yaxis_title='Counts',\n",
    "                       title_x=0.5,\n",
    "                       width=1000, \n",
    "                       height=600\n",
    "                     )"
   ]
  },
  {
   "cell_type": "markdown",
   "metadata": {},
   "source": [
    "# Validating"
   ]
  },
  {
   "cell_type": "code",
   "execution_count": 270,
   "metadata": {},
   "outputs": [
    {
     "name": "stdout",
     "output_type": "stream",
     "text": [
      "Parameters([('alpha', <Parameter 'alpha', value=5.9152148734753496e-08, bounds=[0:10]>), ('beta', <Parameter 'beta', value=3.0708916655755947, bounds=[0:10]>), ('sigma', <Parameter 'sigma', value=0.013711870070859944, bounds=[0:10]>), ('gamma', <Parameter 'gamma', value=0.04486936766456728, bounds=[0:10]>), ('epsilon', <Parameter 'epsilon', value=0.034133794399046624, bounds=[0:10]>), ('mu', <Parameter 'mu', value=0.0027109003540382037, bounds=[0:10]>)]) 0 0.00087\n"
     ]
    }
   ],
   "source": [
    "# print(params, nat_d_rate, nat_b_rate)\n",
    "params['beta'].value = result.params['beta'].value\n",
    "params['sigma'].value = result.params['sigma'].value\n",
    "params['gamma'].value = result.params['gamma'].value\n",
    "params['mu'].value = result.params['mu'].value\n",
    "params['alpha'].value = result.params['alpha'].value\n",
    "params['epsilon'].value = result.params['epsilon'].value\n",
    "print(params, nat_d_rate, nat_b_rate)\n",
    "\n",
    "val_days = 400\n",
    "tspan = np.arange(0, val_days, 1)\n",
    "fitted_predicted = ode_solver(tspan, initial_conditions, params, nat_d_rate, nat_b_rate)\n",
    "fitted_predicted_IRD = fitted_predicted[:, 3:6]"
   ]
  },
  {
   "cell_type": "code",
   "execution_count": 271,
   "metadata": {},
   "outputs": [
    {
     "data": {
      "text/html": [
       "<div>\n",
       "        \n",
       "        \n",
       "            <div id=\"b7fcee8b-aa24-4472-85b6-e20a61a850bd\" class=\"plotly-graph-div\" style=\"height:600px; width:1000px;\"></div>\n",
       "            <script type=\"text/javascript\">\n",
       "                require([\"plotly\"], function(Plotly) {\n",
       "                    window.PLOTLYENV=window.PLOTLYENV || {};\n",
       "                    \n",
       "                if (document.getElementById(\"b7fcee8b-aa24-4472-85b6-e20a61a850bd\")) {\n",
       "                    Plotly.newPlot(\n",
       "                        'b7fcee8b-aa24-4472-85b6-e20a61a850bd',\n",
       "                        [{\"line\": {\"dash\": \"dot\"}, \"mode\": \"markers\", \"name\": \"Observed Infections\", \"type\": \"scatter\", \"x\": [0, 1, 2, 3, 4, 5, 6, 7, 8, 9, 10, 11, 12, 13, 14, 15, 16, 17, 18, 19, 20, 21, 22, 23, 24, 25, 26, 27, 28, 29, 30, 31, 32, 33, 34, 35, 36, 37, 38, 39, 40, 41, 42, 43, 44, 45, 46, 47, 48, 49, 50, 51, 52, 53, 54, 55, 56, 57, 58, 59, 60, 61, 62, 63, 64, 65, 66, 67, 68, 69, 70, 71, 72, 73, 74, 75, 76, 77, 78, 79, 80, 81, 82, 83, 84, 85, 86, 87, 88, 89, 90, 91, 92, 93, 94, 95, 96, 97, 98, 99, 100, 101, 102, 103, 104, 105, 106, 107, 108, 109, 110, 111, 112, 113, 114, 115, 116, 117, 118, 119, 120, 121, 122, 123, 124, 125, 126, 127, 128, 129, 130, 131, 132, 133, 134, 135, 136, 137, 138, 139, 140, 141, 142, 143, 144, 145, 146, 147, 148, 149, 150, 151, 152, 153, 154, 155, 156, 157, 158, 159, 160, 161, 162, 163, 164, 165, 166, 167, 168, 169, 170, 171, 172, 173, 174, 175, 176, 177, 178, 179, 180, 181, 182, 183, 184, 185, 186, 187, 188, 189, 190, 191, 192, 193, 194, 195, 196, 197, 198, 199, 200, 201, 202, 203, 204, 205, 206, 207, 208, 209, 210, 211, 212, 213, 214, 215, 216, 217, 218, 219, 220, 221, 222, 223, 224, 225, 226, 227, 228, 229, 230, 231, 232, 233, 234, 235, 236, 237, 238, 239, 240, 241, 242, 243, 244, 245, 246, 247, 248, 249, 250, 251, 252, 253, 254, 255, 256, 257, 258, 259, 260, 261, 262, 263, 264, 265, 266, 267, 268, 269, 270, 271, 272, 273, 274, 275, 276, 277, 278, 279, 280, 281, 282, 283, 284, 285, 286, 287, 288, 289, 290, 291, 292, 293, 294, 295, 296, 297, 298, 299, 300, 301, 302, 303, 304, 305, 306, 307, 308, 309, 310, 311, 312, 313, 314, 315, 316, 317, 318, 319, 320, 321, 322, 323, 324, 325, 326, 327, 328, 329, 330, 331, 332, 333, 334, 335, 336, 337, 338, 339, 340, 341, 342, 343, 344, 345, 346, 347, 348, 349, 350, 351, 352, 353, 354, 355, 356, 357, 358, 359, 360, 361, 362, 363, 364, 365, 366, 367, 368, 369, 370, 371, 372, 373, 374, 375, 376, 377, 378, 379, 380, 381, 382, 383, 384, 385, 386, 387, 388, 389, 390, 391, 392, 393, 394, 395, 396, 397, 398, 399], \"y\": [47, 60, 73, 70, 72, 95, 99, 120, 134, 149, 196, 256, 329, 424, 469, 553, 634, 640, 810, 901, 1118, 1238, 1649, 1860, 2322, 2784, 3219, 3851, 4312, 4714, 5218, 6039, 6634, 7409, 8048, 9272, 10197, 10824, 11616, 12289, 13295, 14255, 15122, 15859, 16689, 17915, 18953, 20177, 21132, 22010, 22904, 24162, 25148, 26535, 28070, 29685, 31967, 33514, 35902, 37916, 39834, 41472, 44029, 46008, 47480, 49219, 51401, 52805, 53946, 56316, 58802, 61149, 63624, 66330, 69597, 73560, 77103, 80722, 83004, 86110, 89987, 86422, 89995, 93322, 97581, 101497, 106737, 110960, 115942, 120406, 124981, 129813, 133632, 137448, 141842, 145779, 149348, 153106, 153178, 155227, 160384, 163248, 168269, 169451, 174387, 178014, 183022, 186514, 189463, 197387, 203051, 210120, 215125, 220114, 226947, 227439, 235433, 244814, 253287, 259557, 264944, 269789, 276682, 283407, 292258, 301609, 311565, 319840, 331146, 342473, 358692, 373379, 390459, 402529, 411133, 426167, 440135, 456071, 467882, 485114, 496988, 509447, 528242, 545318, 565103, 567730, 579357, 586298, 586244, 595501, 607384, 619088, 628747, 634945, 639929, 643948, 653622, 661595, 668220, 677444, 676900, 673166, 676514, 686395, 692028, 697330, 707668, 710771, 704348, 707267, 725991, 742023, 752424, 765302, 781975, 785996, 801282, 815538, 831124, 846395, 862320, 882542, 883697, 897394, 919018, 943480, 958316, 973175, 986598, 990061, 995933, 1009976, 1017754, 1013964, 1010824, 1003299, 975861, 968377, 969251, 970116, 960969, 956402, 962640, 947576, 940441, 941334, 942217, 944996, 939718, 934427, 919023, 910737, 902425, 893592, 883185, 867496, 861853, 838729, 826876, 812390, 804528, 795087, 783311, 772055, 748538, 740090, 715812, 695509, 680680, 668154, 653717, 625857, 610803, 603687, 594386, 582649, 570458, 561908, 541405, 533787, 527962, 520773, 516632, 512665, 509673, 501214, 494657, 489294, 484547, 480719, 479216, 465478, 453401, 446805, 443303, 443794, 439747, 440962, 443486, 438667, 444746, 452344, 455555, 454940, 453956, 446952, 435603, 428644, 422943, 416082, 409689, 403248, 396729, 383866, 378909, 372293, 363749, 359819, 356546, 352586, 339820, 332002, 322366, 313831, 308751, 305344, 303639, 292518, 289240, 283849, 281919, 281667, 278690, 277301, 268581, 262272, 257656, 254254, 250183, 247220, 243953, 231036, 227546, 228083, 225449, 224190, 223335, 222526, 216558, 214507, 213603, 213027, 211033, 208826, 208012, 200528, 197201, 192308, 188688, 185662, 184408, 184182, 177266, 176498, 173740, 171686, 169824, 168784, 168235, 163353, 160057, 155025, 151460, 148590, 148766, 148609, 143625, 141511, 142562, 135926, 136571, 137567, 139637, 136872, 136549, 137342, 139542, 143127, 145634, 150055, 147306, 146907, 151708, 155986, 159590, 164511, 168627, 168358, 170126, 173413, 176319, 180304, 184523, 188747, 187462, 184598, 189226, 197237, 202022, 210544, 219262, 223432, 234406, 252364, 271282, 288394, 309087, 334646, 345377, 368457, 395192, 421066, 452647, 486310, 521808, 540720, 552566, 584055, 614696, 658909, 691597, 741830, 788223, 843473, 910319, 979608, 1046631, 1108087, 1201009, 1264698]}, {\"line\": {\"dash\": \"dot\"}, \"mode\": \"markers\", \"name\": \"Observed Deaths\", \"type\": \"scatter\", \"x\": [0, 1, 2, 3, 4, 5, 6, 7, 8, 9, 10, 11, 12, 13, 14, 15, 16, 17, 18, 19, 20, 21, 22, 23, 24, 25, 26, 27, 28, 29, 30, 31, 32, 33, 34, 35, 36, 37, 38, 39, 40, 41, 42, 43, 44, 45, 46, 47, 48, 49, 50, 51, 52, 53, 54, 55, 56, 57, 58, 59, 60, 61, 62, 63, 64, 65, 66, 67, 68, 69, 70, 71, 72, 73, 74, 75, 76, 77, 78, 79, 80, 81, 82, 83, 84, 85, 86, 87, 88, 89, 90, 91, 92, 93, 94, 95, 96, 97, 98, 99, 100, 101, 102, 103, 104, 105, 106, 107, 108, 109, 110, 111, 112, 113, 114, 115, 116, 117, 118, 119, 120, 121, 122, 123, 124, 125, 126, 127, 128, 129, 130, 131, 132, 133, 134, 135, 136, 137, 138, 139, 140, 141, 142, 143, 144, 145, 146, 147, 148, 149, 150, 151, 152, 153, 154, 155, 156, 157, 158, 159, 160, 161, 162, 163, 164, 165, 166, 167, 168, 169, 170, 171, 172, 173, 174, 175, 176, 177, 178, 179, 180, 181, 182, 183, 184, 185, 186, 187, 188, 189, 190, 191, 192, 193, 194, 195, 196, 197, 198, 199, 200, 201, 202, 203, 204, 205, 206, 207, 208, 209, 210, 211, 212, 213, 214, 215, 216, 217, 218, 219, 220, 221, 222, 223, 224, 225, 226, 227, 228, 229, 230, 231, 232, 233, 234, 235, 236, 237, 238, 239, 240, 241, 242, 243, 244, 245, 246, 247, 248, 249, 250, 251, 252, 253, 254, 255, 256, 257, 258, 259, 260, 261, 262, 263, 264, 265, 266, 267, 268, 269, 270, 271, 272, 273, 274, 275, 276, 277, 278, 279, 280, 281, 282, 283, 284, 285, 286, 287, 288, 289, 290, 291, 292, 293, 294, 295, 296, 297, 298, 299, 300, 301, 302, 303, 304, 305, 306, 307, 308, 309, 310, 311, 312, 313, 314, 315, 316, 317, 318, 319, 320, 321, 322, 323, 324, 325, 326, 327, 328, 329, 330, 331, 332, 333, 334, 335, 336, 337, 338, 339, 340, 341, 342, 343, 344, 345, 346, 347, 348, 349, 350, 351, 352, 353, 354, 355, 356, 357, 358, 359, 360, 361, 362, 363, 364, 365, 366, 367, 368, 369, 370, 371, 372, 373, 374, 375, 376, 377, 378, 379, 380, 381, 382, 383, 384, 385, 386, 387, 388, 389, 390, 391, 392, 393, 394, 395, 396, 397, 398, 399], \"y\": [0, 0, 0, 2, 2, 2, 2, 3, 3, 4, 4, 4, 7, 8, 10, 10, 15, 17, 19, 27, 31, 35, 41, 53, 62, 75, 83, 111, 124, 149, 169, 206, 242, 273, 324, 353, 392, 420, 452, 488, 519, 559, 603, 652, 686, 723, 779, 826, 886, 937, 1008, 1075, 1152, 1223, 1306, 1389, 1583, 1694, 1783, 1886, 1981, 2109, 2206, 2293, 2415, 2549, 2649, 2752, 2872, 3029, 3163, 3303, 3435, 3583, 3720, 3867, 4021, 4167, 4337, 4531, 4706, 4971, 5164, 5394, 5598, 5815, 6075, 6348, 6642, 6929, 7200, 7471, 7745, 8102, 8498, 8884, 9195, 9520, 9900, 11903, 12237, 12573, 12948, 13254, 13699, 14011, 14476, 14894, 15301, 15685, 16095, 16475, 16893, 17400, 17834, 18213, 18655, 19268, 19693, 20160, 20642, 21129, 21604, 22123, 22674, 23174, 23727, 24309, 24915, 25602, 26273, 26816, 27497, 28084, 28732, 29861, 30601, 31358, 32063, 32771, 33425, 34193, 34968, 35747, 36511, 37364, 38135, 38938, 39795, 40699, 41585, 42518, 43379, 44386, 45257, 46091, 47033, 48040, 49036, 49980, 50921, 51797, 52889, 53866, 54849, 55794, 56706, 57542, 58390, 59449, 60472, 61529, 62550, 63498, 64469, 65288, 66333, 67376, 68472, 69561, 70626, 71642, 72775, 73890, 75062, 76271, 77472, 78586, 79722, 80776, 82066, 83198, 84372, 85619, 86752, 87882, 88935, 90020, 91148, 92290, 93379, 94503, 95542, 96318, 97497, 98627, 99773, 100842, 101757, 102685, 103569, 104538, 105526, 106490, 107416, 108334, 109150, 109856, 110586, 111266, 112161, 112998, 114031, 114610, 115197, 115914, 116616, 117306, 117956, 118534, 119014, 119502, 120010, 120527, 121090, 121641, 122111, 122607, 123097, 123611, 124315, 124985, 125562, 126121, 126611, 127059, 127571, 128121, 128668, 129188, 129635, 130070, 130519, 130993, 131578, 132162, 132726, 133227, 133738, 134218, 134699, 135223, 135715, 136200, 136696, 137139, 137621, 138122, 138648, 139188, 139700, 140182, 140573, 140958, 141360, 141772, 142186, 142628, 143019, 143355, 143709, 144096, 144451, 144789, 145136, 145477, 145810, 146111, 146444, 146756, 147092, 147343, 147622, 147901, 148153, 148439, 148738, 148994, 149218, 149435, 149649, 149850, 150114, 150336, 150570, 150798, 150999, 151160, 151327, 151529, 151727, 151918, 152093, 152274, 152419, 152556, 152718, 152869, 153032, 153184, 153339, 153470, 153587, 153724, 153847, 154010, 154147, 154274, 154392, 154486, 154596, 154703, 154823, 154918, 154996, 155080, 155158, 155252, 155360, 155447, 155550, 155642, 155732, 155813, 155913, 156014, 156111, 156212, 156302, 156385, 156463, 156567, 156705, 156825, 156938, 157051, 157157, 157248, 157346, 157435, 157548, 157656, 157756, 157853, 157930, 158063, 158189, 158306, 158446, 158607, 158725, 158856, 159044, 159216, 159370, 159558, 159755, 159967, 160166, 160441, 160692, 160949, 161240, 161552, 161843, 162114, 162468, 162927, 163396, 164110, 164623, 165101, 165547, 166177, 166862, 167642, 168436, 169275, 170179, 171058]}, {\"mode\": \"lines+markers\", \"name\": \"Fitted Infections\", \"type\": \"scatter\", \"x\": [0, 1, 2, 3, 4, 5, 6, 7, 8, 9, 10, 11, 12, 13, 14, 15, 16, 17, 18, 19, 20, 21, 22, 23, 24, 25, 26, 27, 28, 29, 30, 31, 32, 33, 34, 35, 36, 37, 38, 39, 40, 41, 42, 43, 44, 45, 46, 47, 48, 49, 50, 51, 52, 53, 54, 55, 56, 57, 58, 59, 60, 61, 62, 63, 64, 65, 66, 67, 68, 69, 70, 71, 72, 73, 74, 75, 76, 77, 78, 79, 80, 81, 82, 83, 84, 85, 86, 87, 88, 89, 90, 91, 92, 93, 94, 95, 96, 97, 98, 99, 100, 101, 102, 103, 104, 105, 106, 107, 108, 109, 110, 111, 112, 113, 114, 115, 116, 117, 118, 119, 120, 121, 122, 123, 124, 125, 126, 127, 128, 129, 130, 131, 132, 133, 134, 135, 136, 137, 138, 139, 140, 141, 142, 143, 144, 145, 146, 147, 148, 149, 150, 151, 152, 153, 154, 155, 156, 157, 158, 159, 160, 161, 162, 163, 164, 165, 166, 167, 168, 169, 170, 171, 172, 173, 174, 175, 176, 177, 178, 179, 180, 181, 182, 183, 184, 185, 186, 187, 188, 189, 190, 191, 192, 193, 194, 195, 196, 197, 198, 199, 200, 201, 202, 203, 204, 205, 206, 207, 208, 209, 210, 211, 212, 213, 214, 215, 216, 217, 218, 219, 220, 221, 222, 223, 224, 225, 226, 227, 228, 229, 230, 231, 232, 233, 234, 235, 236, 237, 238, 239, 240, 241, 242, 243, 244, 245, 246, 247, 248, 249, 250, 251, 252, 253, 254, 255, 256, 257, 258, 259, 260, 261, 262, 263, 264, 265, 266, 267, 268, 269, 270, 271, 272, 273, 274, 275, 276, 277, 278, 279, 280, 281, 282, 283, 284, 285, 286, 287, 288, 289, 290, 291, 292, 293, 294, 295, 296, 297, 298, 299, 300, 301, 302, 303, 304, 305, 306, 307, 308, 309, 310, 311, 312, 313, 314, 315, 316, 317, 318, 319, 320, 321, 322, 323, 324, 325, 326, 327, 328, 329, 330, 331, 332, 333, 334, 335, 336, 337, 338, 339, 340, 341, 342, 343, 344, 345, 346, 347, 348, 349, 350, 351, 352, 353, 354, 355, 356, 357, 358, 359, 360, 361, 362, 363, 364, 365, 366, 367, 368, 369, 370, 371, 372, 373, 374, 375, 376, 377, 378, 379, 380, 381, 382, 383, 384, 385, 386, 387, 388, 389, 390, 391, 392, 393, 394, 395, 396, 397, 398, 399], \"y\": [47.0, 59.15353117668353, 72.88665913666651, 88.54328732612262, 106.48416221028873, 127.093121550948, 150.78242727296902, 177.99742387407537, 209.22066174253845, 244.97559892314862, 285.82994656033003, 332.3987051352631, 385.3469176441902, 445.39214843381404, 513.3066885659192, 589.9194826119141, 676.1177635542853, 772.848381121076, 881.1188078146024, 1001.9978015731597, 1136.6157108110112, 1286.16440361773, 1451.8968061237613, 1635.1260373110679, 1837.2241301018169, 2059.6203308661534, 2303.79897653072, 2571.296942860327, 2863.70066277383, 3182.6427524710407, 3529.7982079713665, 3906.880227818392, 4315.635652598726, 4757.840053490066, 5235.292511945585, 5749.810082539944, 6303.22199661905, 6897.3636376585755, 7534.070312008915, 8215.170868239606, 8942.48119083884, 9717.797615821364, 10542.89031169023, 11419.496657576083, 12349.314672583194, 13333.996525325849, 14375.142173234175, 15474.293164397339, 16632.926645358446, 17852.449601955643, 19134.193378801647, 20479.408496250988, 21889.259803062392, 23364.82198842002, 24907.07546854097, 26516.90268653409, 28195.084816118466, 29942.29890332964, 31759.11546466483, 33645.99654473636, 35603.294127482906, 37631.24919192019, 39729.991015255524, 41899.5370837669, 44139.7933773038, 46450.5550468872, 48831.50764470084, 51282.22856672982, 53802.18908187104, 56390.7565777935, 59047.19723313941, 61770.67902336426, 64560.27495247095, 67414.96668879778, 70333.64833336398, 73315.13051185425, 76358.1446296637, 79461.3473011638, 82623.3249619916, 85842.59862144558, 89117.62864599856, 92446.81972697741, 95828.52578711566, 99261.05506186449, 102742.67502141929, 106271.61746670962, 109846.08340364989, 113464.24805105667, 117124.26561279097, 120824.27409812814, 124562.39994750041, 128336.76262493976, 132145.47894854686, 135986.66745802134, 139858.45245807501, 143758.9680540028, 147686.3618663027, 151638.79871872257, 155614.46400356648, 159611.5669876399, 163628.34381889203, 167663.06043336997, 171714.01518484516, 175779.54135140686, 179858.0093842089, 183947.82906709728, 188047.45118834975, 192155.36977990717, 196270.12300663887, 200390.29485345425, 204514.51653644984, 208641.46660806137, 212769.87312832684, 216898.51285755818, 221026.21314279642, 225151.8512714084, 229274.35524482664, 233392.70376682281, 237505.92589685798, 241613.10182713898, 245713.36187421303, 249805.88579113322, 253889.90218653568, 257964.68913848163, 262029.57333781372, 266083.92823603965, 270127.1742459385, 274158.77768719546, 278178.249469958, 282185.14454403217, 286179.06072105246, 290159.63743248704, 294126.5549506812, 298079.5330844923, 302018.3298948615, 305942.7407641013, 309852.59702857275, 313747.7646966855, 317628.1435728877, 321493.66564316786, 325344.2937494349, 329180.0203693655, 333000.86728798994, 336806.88353589585, 340598.14406463265, 344374.74865972693, 348136.8214137555, 351884.5089738929, 355617.97927473515, 359337.42049569264, 363043.0404721282, 366735.06518437405, 370413.7375845133, 374079.3166405798, 377732.0767008895, 381372.306235842, 385000.3067904023, 388616.3921254536, 392220.8875322586, 395814.1288242377, 399396.46143608174, 402968.23965827696, 406529.8259775624, 410081.59026049677, 413623.90899575665, 417157.1646339319, 420681.74496031523, 424198.0424502888, 427706.4536574996, 431207.3786510822, 434701.2204387508, 438188.38446323265, 441669.27812770486, 445144.3103249789, 448613.8909228675, 452078.4303824946, 455538.3393973577, 458994.02851027146, 462445.90765858715, 465894.3858906369, 469339.871128217, 472782.76984465413, 476223.4868041651, 479662.4246701626, 483099.9838056867, 486536.5621550622, 489972.5549735005, 493408.3546296836, 496844.35048079124, 500280.9286999489, 503718.472074028, 507157.35989041475, 510597.967808222, 514040.6678158205, 517485.82813387277, 520933.8130505415, 524384.9828839102, 527839.6939154597, 531298.2983248411, 534761.144137485, 538228.5751898626, 541700.9310876746, 545178.5471740961, 548661.7545667016, 552150.8801711848, 555646.2465838842, 559148.1721360348, 562656.9709017699, 566172.9527067123, 569696.4231416945, 573227.6835895169, 576767.0312448151, 580314.7591395357, 583871.1561833484, 587436.5072174195, 591011.0930021931, 594595.1902815097, 598189.0718130146, 601793.0064601562, 605407.259311003, 609032.0916123416, 612667.7608705576, 616314.5208782178, 619972.6217074277, 623642.3098502284, 627323.8282373635, 631017.4163177896, 634723.3101904395, 638441.7425654221, 642172.9428616469, 645917.1372636338, 649674.5487453323, 653445.3971877503, 657229.8994293024, 661028.2693166652, 664840.7177170233, 668667.4526377848, 672508.6792719853, 676364.6000586628, 680235.4147625958, 684121.3205166874, 688022.5118890196, 691939.1809418102, 695871.5172412378, 699819.7079721079, 703783.9379766866, 707764.3898109341, 711761.2437940823, 715774.6780701486, 719804.8686622549, 723851.9895269134, 727916.212593908, 731997.7078260717, 736096.6432839867, 740213.1851742043, 744347.4978811907, 748499.7439740231, 752670.0843349728, 756858.6781845279, 761065.6831248703, 765291.2551231714, 769535.5486228811, 773798.7165923133, 778080.910560756, 782382.2806096354, 786702.9754155008, 791043.1423591921, 795402.9275379633, 799782.4757874423, 804181.9306764483, 808601.4346068777, 813041.1288554033, 817501.1535938238, 821981.6478415695, 826482.749586743, 831004.5958328744, 835547.3226099315, 840111.065007179, 844695.9572049055, 849302.1324611297, 853929.7231074732, 858578.8606771505, 863249.6758820977, 867942.2986335057, 872656.8580619576, 877393.4825526744, 882152.2999025226, 886933.4371691193, 891737.0207162944, 896563.1762568357, 901412.0288714992, 906283.7030270685, 911178.3226335108, 916096.0110532523, 921036.8910743606, 926001.0849521941, 930988.7144255245, 935999.9007318866, 941034.7646508891, 946093.4266296467, 951176.0066291036, 956282.62419166, 961413.3984700941, 966568.448245074, 971747.8919400788, 976951.8475188103, 982180.432584405, 987433.7644385919, 992711.9600483677, 998015.1360546298, 1003343.4087800246, 1008696.8942928542, 1014075.7083701611, 1019479.9665699707, 1024909.7841302205, 1030365.2760362594, 1035846.5570275439, 1041353.7416112864, 1046886.9441807716, 1052446.2789272899, 1058031.8598426369, 1063643.8007530267, 1069282.215253712, 1074947.2166215454, 1080638.9180226785, 1086357.4324383836, 1092102.8726718575, 1097875.35145942, 1103674.9813865607, 1109501.874883778, 1115356.1442577827, 1121237.901679269, 1127147.2591612283, 1133084.3286246164, 1139049.2218826977, 1145042.0506437726, 1151062.9264629234, 1157111.9607911874, 1163189.2649880445, 1169294.9503131746, 1175429.1279603678, 1181591.9089435784, 1187783.4043220077, 1194003.7250008688, 1200252.9818148247, 1206531.2854861105, 1212838.7466724059, 1219175.4759707793, 1225541.5839053977, 1231937.1809275262, 1238362.3774149271, 1244817.2836599352, 1251302.0098832082, 1257816.6662347044, 1264361.362790232, 1270936.2095514496, 1277541.3164490925, 1284176.7934047766, 1290842.7502591084, 1297539.2967673829, 1304266.5426172044, 1311024.5974284871, 1317813.5707544307, 1324633.5720995762, 1331484.7108986233, 1338367.096515392, 1345280.838247896, 1352226.0453283433, 1359202.8269411256, 1366211.292112071, 1373251.5498922088, 1380323.7092292507, 1387427.8790042265, 1394564.168031102, 1401732.6850523008, 1408933.5386694889, 1416166.8374300478, 1423432.6898249479, 1430731.204267943, 1438062.4890946548, 1445426.6525616525, 1452823.802845537, 1460254.0480420222, 1467717.4961395285, 1475214.254924561, 1482744.4321581714, 1490308.1355166968, 1497905.472577316, 1505536.5508162582, 1513201.4776070118, 1520900.360218533, 1528633.3058134546, 1536400.4214126633, 1544201.8138780636, 1552037.5899965956, 1559907.8564351478, 1567812.7197372292, 1575752.286320669, 1583726.6624753173, 1591735.954360744]}, {\"mode\": \"lines+markers\", \"name\": \"Fitted Deaths\", \"type\": \"scatter\", \"x\": [0, 1, 2, 3, 4, 5, 6, 7, 8, 9, 10, 11, 12, 13, 14, 15, 16, 17, 18, 19, 20, 21, 22, 23, 24, 25, 26, 27, 28, 29, 30, 31, 32, 33, 34, 35, 36, 37, 38, 39, 40, 41, 42, 43, 44, 45, 46, 47, 48, 49, 50, 51, 52, 53, 54, 55, 56, 57, 58, 59, 60, 61, 62, 63, 64, 65, 66, 67, 68, 69, 70, 71, 72, 73, 74, 75, 76, 77, 78, 79, 80, 81, 82, 83, 84, 85, 86, 87, 88, 89, 90, 91, 92, 93, 94, 95, 96, 97, 98, 99, 100, 101, 102, 103, 104, 105, 106, 107, 108, 109, 110, 111, 112, 113, 114, 115, 116, 117, 118, 119, 120, 121, 122, 123, 124, 125, 126, 127, 128, 129, 130, 131, 132, 133, 134, 135, 136, 137, 138, 139, 140, 141, 142, 143, 144, 145, 146, 147, 148, 149, 150, 151, 152, 153, 154, 155, 156, 157, 158, 159, 160, 161, 162, 163, 164, 165, 166, 167, 168, 169, 170, 171, 172, 173, 174, 175, 176, 177, 178, 179, 180, 181, 182, 183, 184, 185, 186, 187, 188, 189, 190, 191, 192, 193, 194, 195, 196, 197, 198, 199, 200, 201, 202, 203, 204, 205, 206, 207, 208, 209, 210, 211, 212, 213, 214, 215, 216, 217, 218, 219, 220, 221, 222, 223, 224, 225, 226, 227, 228, 229, 230, 231, 232, 233, 234, 235, 236, 237, 238, 239, 240, 241, 242, 243, 244, 245, 246, 247, 248, 249, 250, 251, 252, 253, 254, 255, 256, 257, 258, 259, 260, 261, 262, 263, 264, 265, 266, 267, 268, 269, 270, 271, 272, 273, 274, 275, 276, 277, 278, 279, 280, 281, 282, 283, 284, 285, 286, 287, 288, 289, 290, 291, 292, 293, 294, 295, 296, 297, 298, 299, 300, 301, 302, 303, 304, 305, 306, 307, 308, 309, 310, 311, 312, 313, 314, 315, 316, 317, 318, 319, 320, 321, 322, 323, 324, 325, 326, 327, 328, 329, 330, 331, 332, 333, 334, 335, 336, 337, 338, 339, 340, 341, 342, 343, 344, 345, 346, 347, 348, 349, 350, 351, 352, 353, 354, 355, 356, 357, 358, 359, 360, 361, 362, 363, 364, 365, 366, 367, 368, 369, 370, 371, 372, 373, 374, 375, 376, 377, 378, 379, 380, 381, 382, 383, 384, 385, 386, 387, 388, 389, 390, 391, 392, 393, 394, 395, 396, 397, 398, 399], \"y\": [0.0, 0.14356698093299602, 0.32214574989915806, 0.540481560334707, 0.8042732348864606, 1.1202275770200605, 1.496129320530576, 1.9409246539496787, 2.464816620348216, 3.0793710460795833, 3.7976320626215454, 4.634246264180263, 5.605594689798542, 6.729931897060871, 8.02753140564394, 9.520836725947852, 11.23461722670718, 13.196128005753522, 15.435272989320746, 17.984770200917044, 20.880318416693193, 24.160764123731987, 27.868267754777765, 32.04846813067331, 36.750643997949375, 42.02787140399555, 47.93717642191173, 54.539680886415134, 61.90074040618292, 70.09007501556147, 79.1818887147675, 89.25497917326891, 100.3928350221762, 112.68372054007529, 126.22074643009906, 141.10192616747543, 157.43021690410595, 175.3135444437646, 194.864811433919, 216.20188850928412, 239.44758807859188, 264.72962018735086, 292.1805307029566, 321.9376211346708, 354.14285112462477, 388.9427226942722, 426.4881473918536, 466.934296363857, 510.4404336464189, 557.1697339982059, 607.2890849191513, 660.9688747216217, 718.3827666616359, 779.707460508127, 845.1224425911595, 914.8097249437067, 988.9535753397048, 1067.7402387738812, 1151.3576516532098, 1239.9951498790417, 1333.843173860629, 1433.0929673217424, 1537.9362762146047, 1648.5650453460194, 1765.1711155212156, 1887.9459224425975, 2017.080197652746, 2152.7636729997403, 2295.1847907010037, 2444.5304179749483, 2600.985569364904, 2764.7331365692216, 2935.953625558181, 3114.824905607363, 3301.5219648277925, 3496.216680021001, 3699.077595289843, 3910.2697128275113, 4129.954297069945, 4358.288690795732, 4595.4261441305, 4841.515656352517, 5096.701832605148, 5361.124752255541, 5634.919852374819, 5918.217823567377, 6211.14452038916, 6513.820884411909, 6826.362880753062, 7148.881447757471, 7481.482459356815, 7824.266700204995, 8177.329852014697, 8540.762493403277, 8914.6501086239, 9299.07311047208, 9694.106869833362, 10099.82175978407, 10516.28320412998, 10943.551740692406, 11381.683086835512, 11830.728219792716, 12290.733457596127, 12761.740553380781, 13243.786790007112, 13736.905090198707, 14241.12412006694, 14756.468396743137, 15282.958421585401, 15820.610793727656, 16369.438330124689, 16929.45021506983, 17500.65210243605, 18083.046277011334, 18676.631766841045, 19281.404493009126, 19897.357401440164, 20524.480598570375, 21162.761492916474, 21812.184928301678, 22472.733319825213, 23144.386793932284, 23827.123335159147, 24520.918892121957, 25225.747513055267, 25941.58149745853, 26668.391503839244, 27406.146679581056, 28154.814792823392, 28914.362341342192, 29684.75467489678, 30465.956115277448, 31257.930057077898, 32060.639081282803, 32874.04506411785, 33698.10927494765, 34532.79247799636, 35378.05502930083, 36233.856963396654, 37100.158088978926, 37976.918076099966, 38864.09653830153, 39761.65309925276, 40669.547479730456, 41587.739571049984, 42516.18950242914, 43454.857706196715, 44403.70498127303, 45362.6925527289, 46331.78212809116, 47310.93595541427, 48300.116870084894, 49299.288341209845, 50308.4145168173, 51327.46027389333, 52356.39125132713, 53395.17388395088, 54443.775437573866, 55502.164053561144, 56570.30876906094, 57648.17953952303, 58735.74726547334, 59832.98382838055, 60939.86210265517, 62056.35596869444, 63182.44033175596, 64318.09115068468, 65463.28544298203, 66618.00128948539, 67782.21784681827, 68955.91536922834, 70139.07520862146, 71331.67981242818, 72533.712730468, 73745.15863119, 74966.00329634873, 76196.23361525506, 77435.83758660256, 78684.80432989607, 79943.12407729904, 81210.78816152886, 82487.78901608722, 83774.12016965458, 85069.77625290105, 86374.75298973559, 87689.04718266119, 89012.65671251754, 90345.58053311272, 91687.81864708336, 93039.37210086183, 94400.24299288294, 95770.4344572325, 97149.95065570669, 98538.79675624821, 99936.9789230871, 101344.50432092494, 102761.38109792881, 104187.6183756289, 105623.22623259836, 107068.21569226692, 108522.59871953743, 109986.38820594871, 111459.59795845035, 112942.24268668899, 114434.33799103535, 115935.90035348847, 117446.94712539302, 118967.49651627101, 120497.5675800016, 122037.18020175392, 123586.3550914977, 125145.11377069447, 126713.47856116506, 128291.47257340464, 129879.11969456452, 131476.44458002606, 133083.47264142282, 134700.23003650198, 136326.7436564398, 137963.04111217466, 139609.1507294177, 141265.10153628973, 142930.92325402427, 144606.6462888591, 146292.30171992717, 147987.9212908469, 149693.53739927887, 151409.1830843918, 153134.89202216367, 154870.6985148051, 156616.6374818866, 158372.74445238366, 160139.05555497116, 161915.60750986738, 163702.43762092077, 165499.58376891827, 167307.08440220135, 169124.97852944356, 170953.3057120278, 172792.1060553252, 174641.42020290572, 176501.28932910546, 178371.75513162912, 180252.85982790627, 182144.64614338346, 184047.15730923438, 185960.4370544882, 187884.52959964218, 189819.4796513501, 191765.33239646247, 193722.1334960813, 195689.92908089256, 197668.76574490682, 199658.6905388066, 201659.7509646116, 203671.99497313675, 205695.4709651621, 207730.2277746856, 209776.314667399, 211833.78133657156, 213902.67790918375, 215983.0549303641, 218074.96335845525, 220178.45456219482, 222293.58032342483, 224420.39283293593, 226558.94467754278, 228709.28884001682, 230871.47869779423, 233045.56802537845, 235231.6109824407, 237429.66210984092, 239639.77632849757, 241862.00894632438, 244096.41564457375, 246343.05247327322, 248601.97585104426, 250873.24256226112, 253156.9097543596, 255453.0349402438, 257761.6759996814, 260082.8911658277, 262416.73902877857, 264763.27853425307, 267122.56898234313, 269494.67002371704, 271879.64163567784, 274277.54414897936, 276688.4382421868, 279112.3849364336, 281549.44559404184, 283999.6819172484, 286463.15593994665, 288939.9300278388, 291430.06688491226, 293933.62954773445, 296450.68138420186, 298981.2860923617, 301525.5076981436, 304083.4105498089, 306655.05932373734, 309240.51902129885, 311839.85496733314, 314453.1328091325, 317080.41851546156, 319721.7783746536, 322377.278994451, 325046.98730156827, 327730.97054054233, 330429.29627299076, 333142.03237692226, 335869.24704310426, 338611.0087819872, 341367.386409874, 344138.4490611708, 346924.26618268713, 349724.9075332444, 352540.44318290835, 355370.9435065664, 358216.47918865643, 361077.12122300174, 363952.9409109489, 366844.0098635934, 369750.4000048322, 372672.18356335064, 375609.4330751779, 378562.22138321394, 381530.621632974, 384514.70727539697, 387514.55206676497, 390530.23006734345, 393561.8156419073, 396609.3834607498, 399673.0084962238, 402752.76602344186, 405848.73162003135, 408960.98116837424, 412089.590853092, 415234.63716032106, 418396.1968780002, 421574.34709364094, 424769.16520284634, 427980.7288924746, 431209.11615518056, 434454.4052833724, 437716.67487073527, 440996.00381048955, 444292.471295248, 447606.15681746264, 450937.1401694244, 454285.5014431041, 457651.32102699025, 461034.6796097352, 464435.65818041447, 467854.3380276116, 471290.8007394184, 474745.1282028777, 478217.40259331476, 481707.7063867467, 485216.122360626, 488742.7335907982, 492287.6234515019, 495850.8756148114, 499432.5740403273, 503032.8029872708, 506651.64701507794, 510289.19098050165, 513945.5200376118, 517620.719646134, 521314.87552011147, 525028.0737130921, 528760.4005585514, 532511.9426868759, 536282.7870251851, 540073.0207964526, 543882.7315075241, 547712.0069638353, 551560.9352689357, 555429.6048208086, 559318.1043116027, 563226.5227273627, 567154.94934776, 571103.4737458242, 575072.1857864326, 579061.1756214804, 583070.5336982457, 587100.3507562804, 591150.7178264831, 595221.7262307873, 599313.46758185, 603426.0337827394, 607559.5170266242, 611714.0097997152, 615889.6048824487, 620086.3953408718, 624304.4745305203, 628543.9360962559, 632804.8739720036, 637087.3823804889, 641391.5558329761]}],\n",
       "                        {\"height\": 600, \"template\": {\"data\": {\"bar\": [{\"error_x\": {\"color\": \"#2a3f5f\"}, \"error_y\": {\"color\": \"#2a3f5f\"}, \"marker\": {\"line\": {\"color\": \"#E5ECF6\", \"width\": 0.5}}, \"type\": \"bar\"}], \"barpolar\": [{\"marker\": {\"line\": {\"color\": \"#E5ECF6\", \"width\": 0.5}}, \"type\": \"barpolar\"}], \"carpet\": [{\"aaxis\": {\"endlinecolor\": \"#2a3f5f\", \"gridcolor\": \"white\", \"linecolor\": \"white\", \"minorgridcolor\": \"white\", \"startlinecolor\": \"#2a3f5f\"}, \"baxis\": {\"endlinecolor\": \"#2a3f5f\", \"gridcolor\": \"white\", \"linecolor\": \"white\", \"minorgridcolor\": \"white\", \"startlinecolor\": \"#2a3f5f\"}, \"type\": \"carpet\"}], \"choropleth\": [{\"colorbar\": {\"outlinewidth\": 0, \"ticks\": \"\"}, \"type\": \"choropleth\"}], \"contour\": [{\"colorbar\": {\"outlinewidth\": 0, \"ticks\": \"\"}, \"colorscale\": [[0.0, \"#0d0887\"], [0.1111111111111111, \"#46039f\"], [0.2222222222222222, \"#7201a8\"], [0.3333333333333333, \"#9c179e\"], [0.4444444444444444, \"#bd3786\"], [0.5555555555555556, \"#d8576b\"], [0.6666666666666666, \"#ed7953\"], [0.7777777777777778, \"#fb9f3a\"], [0.8888888888888888, \"#fdca26\"], [1.0, \"#f0f921\"]], \"type\": \"contour\"}], \"contourcarpet\": [{\"colorbar\": {\"outlinewidth\": 0, \"ticks\": \"\"}, \"type\": \"contourcarpet\"}], \"heatmap\": [{\"colorbar\": {\"outlinewidth\": 0, \"ticks\": \"\"}, \"colorscale\": [[0.0, \"#0d0887\"], [0.1111111111111111, \"#46039f\"], [0.2222222222222222, \"#7201a8\"], [0.3333333333333333, \"#9c179e\"], [0.4444444444444444, \"#bd3786\"], [0.5555555555555556, \"#d8576b\"], [0.6666666666666666, \"#ed7953\"], [0.7777777777777778, \"#fb9f3a\"], [0.8888888888888888, \"#fdca26\"], [1.0, \"#f0f921\"]], \"type\": \"heatmap\"}], \"heatmapgl\": [{\"colorbar\": {\"outlinewidth\": 0, \"ticks\": \"\"}, \"colorscale\": [[0.0, \"#0d0887\"], [0.1111111111111111, \"#46039f\"], [0.2222222222222222, \"#7201a8\"], [0.3333333333333333, \"#9c179e\"], [0.4444444444444444, \"#bd3786\"], [0.5555555555555556, \"#d8576b\"], [0.6666666666666666, \"#ed7953\"], [0.7777777777777778, \"#fb9f3a\"], [0.8888888888888888, \"#fdca26\"], [1.0, \"#f0f921\"]], \"type\": \"heatmapgl\"}], \"histogram\": [{\"marker\": {\"colorbar\": {\"outlinewidth\": 0, \"ticks\": \"\"}}, \"type\": \"histogram\"}], \"histogram2d\": [{\"colorbar\": {\"outlinewidth\": 0, \"ticks\": \"\"}, \"colorscale\": [[0.0, \"#0d0887\"], [0.1111111111111111, \"#46039f\"], [0.2222222222222222, \"#7201a8\"], [0.3333333333333333, \"#9c179e\"], [0.4444444444444444, \"#bd3786\"], [0.5555555555555556, \"#d8576b\"], [0.6666666666666666, \"#ed7953\"], [0.7777777777777778, \"#fb9f3a\"], [0.8888888888888888, \"#fdca26\"], [1.0, \"#f0f921\"]], \"type\": \"histogram2d\"}], \"histogram2dcontour\": [{\"colorbar\": {\"outlinewidth\": 0, \"ticks\": \"\"}, \"colorscale\": [[0.0, \"#0d0887\"], [0.1111111111111111, \"#46039f\"], [0.2222222222222222, \"#7201a8\"], [0.3333333333333333, \"#9c179e\"], [0.4444444444444444, \"#bd3786\"], [0.5555555555555556, \"#d8576b\"], [0.6666666666666666, \"#ed7953\"], [0.7777777777777778, \"#fb9f3a\"], [0.8888888888888888, \"#fdca26\"], [1.0, \"#f0f921\"]], \"type\": \"histogram2dcontour\"}], \"mesh3d\": [{\"colorbar\": {\"outlinewidth\": 0, \"ticks\": \"\"}, \"type\": \"mesh3d\"}], \"parcoords\": [{\"line\": {\"colorbar\": {\"outlinewidth\": 0, \"ticks\": \"\"}}, \"type\": \"parcoords\"}], \"pie\": [{\"automargin\": true, \"type\": \"pie\"}], \"scatter\": [{\"marker\": {\"colorbar\": {\"outlinewidth\": 0, \"ticks\": \"\"}}, \"type\": \"scatter\"}], \"scatter3d\": [{\"line\": {\"colorbar\": {\"outlinewidth\": 0, \"ticks\": \"\"}}, \"marker\": {\"colorbar\": {\"outlinewidth\": 0, \"ticks\": \"\"}}, \"type\": \"scatter3d\"}], \"scattercarpet\": [{\"marker\": {\"colorbar\": {\"outlinewidth\": 0, \"ticks\": \"\"}}, \"type\": \"scattercarpet\"}], \"scattergeo\": [{\"marker\": {\"colorbar\": {\"outlinewidth\": 0, \"ticks\": \"\"}}, \"type\": \"scattergeo\"}], \"scattergl\": [{\"marker\": {\"colorbar\": {\"outlinewidth\": 0, \"ticks\": \"\"}}, \"type\": \"scattergl\"}], \"scattermapbox\": [{\"marker\": {\"colorbar\": {\"outlinewidth\": 0, \"ticks\": \"\"}}, \"type\": \"scattermapbox\"}], \"scatterpolar\": [{\"marker\": {\"colorbar\": {\"outlinewidth\": 0, \"ticks\": \"\"}}, \"type\": \"scatterpolar\"}], \"scatterpolargl\": [{\"marker\": {\"colorbar\": {\"outlinewidth\": 0, \"ticks\": \"\"}}, \"type\": \"scatterpolargl\"}], \"scatterternary\": [{\"marker\": {\"colorbar\": {\"outlinewidth\": 0, \"ticks\": \"\"}}, \"type\": \"scatterternary\"}], \"surface\": [{\"colorbar\": {\"outlinewidth\": 0, \"ticks\": \"\"}, \"colorscale\": [[0.0, \"#0d0887\"], [0.1111111111111111, \"#46039f\"], [0.2222222222222222, \"#7201a8\"], [0.3333333333333333, \"#9c179e\"], [0.4444444444444444, \"#bd3786\"], [0.5555555555555556, \"#d8576b\"], [0.6666666666666666, \"#ed7953\"], [0.7777777777777778, \"#fb9f3a\"], [0.8888888888888888, \"#fdca26\"], [1.0, \"#f0f921\"]], \"type\": \"surface\"}], \"table\": [{\"cells\": {\"fill\": {\"color\": \"#EBF0F8\"}, \"line\": {\"color\": \"white\"}}, \"header\": {\"fill\": {\"color\": \"#C8D4E3\"}, \"line\": {\"color\": \"white\"}}, \"type\": \"table\"}]}, \"layout\": {\"annotationdefaults\": {\"arrowcolor\": \"#2a3f5f\", \"arrowhead\": 0, \"arrowwidth\": 1}, \"coloraxis\": {\"colorbar\": {\"outlinewidth\": 0, \"ticks\": \"\"}}, \"colorscale\": {\"diverging\": [[0, \"#8e0152\"], [0.1, \"#c51b7d\"], [0.2, \"#de77ae\"], [0.3, \"#f1b6da\"], [0.4, \"#fde0ef\"], [0.5, \"#f7f7f7\"], [0.6, \"#e6f5d0\"], [0.7, \"#b8e186\"], [0.8, \"#7fbc41\"], [0.9, \"#4d9221\"], [1, \"#276419\"]], \"sequential\": [[0.0, \"#0d0887\"], [0.1111111111111111, \"#46039f\"], [0.2222222222222222, \"#7201a8\"], [0.3333333333333333, \"#9c179e\"], [0.4444444444444444, \"#bd3786\"], [0.5555555555555556, \"#d8576b\"], [0.6666666666666666, \"#ed7953\"], [0.7777777777777778, \"#fb9f3a\"], [0.8888888888888888, \"#fdca26\"], [1.0, \"#f0f921\"]], \"sequentialminus\": [[0.0, \"#0d0887\"], [0.1111111111111111, \"#46039f\"], [0.2222222222222222, \"#7201a8\"], [0.3333333333333333, \"#9c179e\"], [0.4444444444444444, \"#bd3786\"], [0.5555555555555556, \"#d8576b\"], [0.6666666666666666, \"#ed7953\"], [0.7777777777777778, \"#fb9f3a\"], [0.8888888888888888, \"#fdca26\"], [1.0, \"#f0f921\"]]}, \"colorway\": [\"#636efa\", \"#EF553B\", \"#00cc96\", \"#ab63fa\", \"#FFA15A\", \"#19d3f3\", \"#FF6692\", \"#B6E880\", \"#FF97FF\", \"#FECB52\"], \"font\": {\"color\": \"#2a3f5f\"}, \"geo\": {\"bgcolor\": \"white\", \"lakecolor\": \"white\", \"landcolor\": \"#E5ECF6\", \"showlakes\": true, \"showland\": true, \"subunitcolor\": \"white\"}, \"hoverlabel\": {\"align\": \"left\"}, \"hovermode\": \"closest\", \"mapbox\": {\"style\": \"light\"}, \"paper_bgcolor\": \"white\", \"plot_bgcolor\": \"#E5ECF6\", \"polar\": {\"angularaxis\": {\"gridcolor\": \"white\", \"linecolor\": \"white\", \"ticks\": \"\"}, \"bgcolor\": \"#E5ECF6\", \"radialaxis\": {\"gridcolor\": \"white\", \"linecolor\": \"white\", \"ticks\": \"\"}}, \"scene\": {\"xaxis\": {\"backgroundcolor\": \"#E5ECF6\", \"gridcolor\": \"white\", \"gridwidth\": 2, \"linecolor\": \"white\", \"showbackground\": true, \"ticks\": \"\", \"zerolinecolor\": \"white\"}, \"yaxis\": {\"backgroundcolor\": \"#E5ECF6\", \"gridcolor\": \"white\", \"gridwidth\": 2, \"linecolor\": \"white\", \"showbackground\": true, \"ticks\": \"\", \"zerolinecolor\": \"white\"}, \"zaxis\": {\"backgroundcolor\": \"#E5ECF6\", \"gridcolor\": \"white\", \"gridwidth\": 2, \"linecolor\": \"white\", \"showbackground\": true, \"ticks\": \"\", \"zerolinecolor\": \"white\"}}, \"shapedefaults\": {\"line\": {\"color\": \"#2a3f5f\"}}, \"ternary\": {\"aaxis\": {\"gridcolor\": \"white\", \"linecolor\": \"white\", \"ticks\": \"\"}, \"baxis\": {\"gridcolor\": \"white\", \"linecolor\": \"white\", \"ticks\": \"\"}, \"bgcolor\": \"#E5ECF6\", \"caxis\": {\"gridcolor\": \"white\", \"linecolor\": \"white\", \"ticks\": \"\"}}, \"title\": {\"x\": 0.05}, \"xaxis\": {\"automargin\": true, \"gridcolor\": \"white\", \"linecolor\": \"white\", \"ticks\": \"\", \"title\": {\"standoff\": 15}, \"zerolinecolor\": \"white\", \"zerolinewidth\": 2}, \"yaxis\": {\"automargin\": true, \"gridcolor\": \"white\", \"linecolor\": \"white\", \"ticks\": \"\", \"title\": {\"standoff\": 15}, \"zerolinecolor\": \"white\", \"zerolinewidth\": 2}}}, \"title\": {\"text\": \"VSEIRD: Observed vs Fitted\\uff08400 Days)\", \"x\": 0.5}, \"width\": 1000, \"xaxis\": {\"title\": {\"text\": \"Day\"}}, \"yaxis\": {\"title\": {\"text\": \"Counts\"}}},\n",
       "                        {\"responsive\": true}\n",
       "                    ).then(function(){\n",
       "                            \n",
       "var gd = document.getElementById('b7fcee8b-aa24-4472-85b6-e20a61a850bd');\n",
       "var x = new MutationObserver(function (mutations, observer) {{\n",
       "        var display = window.getComputedStyle(gd).display;\n",
       "        if (!display || display === 'none') {{\n",
       "            console.log([gd, 'removed!']);\n",
       "            Plotly.purge(gd);\n",
       "            observer.disconnect();\n",
       "        }}\n",
       "}});\n",
       "\n",
       "// Listen for the removal of the full notebook cells\n",
       "var notebookContainer = gd.closest('#notebook-container');\n",
       "if (notebookContainer) {{\n",
       "    x.observe(notebookContainer, {childList: true});\n",
       "}}\n",
       "\n",
       "// Listen for the clearing of the current output cell\n",
       "var outputEl = gd.closest('.output');\n",
       "if (outputEl) {{\n",
       "    x.observe(outputEl, {childList: true});\n",
       "}}\n",
       "\n",
       "                        })\n",
       "                };\n",
       "                });\n",
       "            </script>\n",
       "        </div>"
      ]
     },
     "metadata": {},
     "output_type": "display_data"
    }
   ],
   "source": [
    "# val_days = 200\n",
    "# tspan = np.arange(0, val_days, 1)\n",
    "# observed_IRD = df_covid_history.loc[:, ['infected', 'discharged', 'deaths']].values\n",
    "data = df_covid_history.loc[0:(val_days-1), ['infected', 'discharged', 'deaths']].values\n",
    "\n",
    "fig = go.Figure()\n",
    "fig.add_trace(go.Scatter(x=tspan, y=data[:, 0], mode='markers', name='Observed Infections', line = dict(dash='dot')))\n",
    "# fig.add_trace(go.Scatter(x=tspan, y=data[:, 1], mode='markers', name='Observed Recovered', line = dict(dash='dot')))\n",
    "fig.add_trace(go.Scatter(x=tspan, y=data[:, 2], mode='markers', name='Observed Deaths', line = dict(dash='dot')))\n",
    "fig.add_trace(go.Scatter(x=tspan, y=fitted_predicted_IRD[:, 0], mode='lines+markers', name='Fitted Infections'))\n",
    "# fig.add_trace(go.Scatter(x=tspan, y=fitted_predicted_IRD[:, 1], mode='lines+markers', name='Fitted Recovered'))\n",
    "fig.add_trace(go.Scatter(x=tspan, y=fitted_predicted_IRD[:, 2], mode='lines+markers', name='Fitted Deaths'))\n",
    "fig.update_layout(title='VSEIRD: Observed vs Fitted（{} Days)'.format(val_days),\n",
    "                       xaxis_title='Day',\n",
    "                       yaxis_title='Counts',\n",
    "                       title_x=0.5,\n",
    "                      width=1000, height=600\n",
    "                     )"
   ]
  },
  {
   "cell_type": "code",
   "execution_count": null,
   "metadata": {},
   "outputs": [],
   "source": []
  },
  {
   "cell_type": "code",
   "execution_count": null,
   "metadata": {},
   "outputs": [],
   "source": []
  },
  {
   "cell_type": "code",
   "execution_count": null,
   "metadata": {},
   "outputs": [],
   "source": []
  },
  {
   "cell_type": "code",
   "execution_count": null,
   "metadata": {},
   "outputs": [],
   "source": []
  },
  {
   "cell_type": "markdown",
   "metadata": {},
   "source": [
    "# Parameter search"
   ]
  },
  {
   "cell_type": "code",
   "execution_count": 71,
   "metadata": {},
   "outputs": [],
   "source": [
    "\n",
    "def run(initV, initE, initI, initR, initD, initN, beta, sigma, gamma, mu, days,observed_IRD,data):\n",
    "    initial_conditions = [initV, initE, initI, initR, initN, initD]\n",
    "    params['beta'].value, params['sigma'].value,params['gamma'].value, params['mu'].value = [beta, sigma, gamma, mu]\n",
    "    tspan = np.arange(0, days, 1)\n",
    "    \n",
    "#     print(type(error))\n",
    "    result = minimize(error, params, args=(initial_conditions, tspan, data), method='leastsq')\n",
    "    \n",
    "    tspan_fit_pred = np.arange(0, observed_IRD.shape[0], 1)\n",
    "    params['beta'].value = result.params['beta'].value\n",
    "    params['sigma'].value = result.params['sigma'].value\n",
    "    params['gamma'].value = result.params['gamma'].value\n",
    "    params['mu'].value = result.params['mu'].value\n",
    "    tspan_fit_pred = np.arange(0, observed_IRD.shape[0], 1)\n",
    "\n",
    "    sol = ode_solver(tspan_fit_pred, initial_conditions, params)\n",
    "#     print(sol.shape)\n",
    "    S, E, I, R, D = sol[:, 0], sol[:, 1], sol[:, 2], sol[:, 3], sol[:, 4]\n",
    "#     print(I.shape,observed_IRD.shape[0])\n",
    "    return np.mean(np.abs(I[:days] - observed_IRD[:days, 0]))\n",
    "\n",
    "# run(initE, initI, initR, initD, initN, beta, sigma, gamma, mu, days,observed_IRD,data)\n",
    "errorlist=[]\n",
    "# for initE in range(10,100,100):\n",
    "#     for initI in range(1,100,10):\n",
    "initN = 1380000000\n",
    "# S0 = 966000000\n",
    "initV = 0\n",
    "initE = 1000\n",
    "initI = 47\n",
    "initR = 0\n",
    "initD = 0\n",
    "\n",
    "alpha = 0.02\n",
    "sigma = 1/5.2\n",
    "gamma = 1/2.9\n",
    "epsilon = 0.02\n",
    "mu = 0.034\n",
    "R0 = 4\n",
    "beta = R0 * gamma\n",
    "nat_b_rate=0.0174\n",
    "nat_d_rate = 0.0073\n",
    "days = 50\n",
    "\n",
    "initial_conditions = [initE, initI, initR, initN, initD]\n",
    "# print(initE,initI)\n",
    "observed_IRD = df_covid_history.loc[:, ['infected', 'discharged', 'deaths']].values\n",
    "data = df_covid_history.loc[0:(days-1), ['infected', 'discharged', 'deaths']].values\n",
    "# e = run( initV, initE, initI, initR, initD, initN, beta, sigma, gamma, mu, days,observed_IRD,data)\n",
    "# errorlist.append((e,initE,initI))"
   ]
  },
  {
   "cell_type": "code",
   "execution_count": null,
   "metadata": {},
   "outputs": [],
   "source": []
  },
  {
   "cell_type": "code",
   "execution_count": null,
   "metadata": {},
   "outputs": [],
   "source": []
  },
  {
   "cell_type": "code",
   "execution_count": null,
   "metadata": {},
   "outputs": [],
   "source": []
  },
  {
   "cell_type": "code",
   "execution_count": 72,
   "metadata": {},
   "outputs": [
    {
     "name": "stdout",
     "output_type": "stream",
     "text": [
      "5881.810225856797 1000 47\n"
     ]
    }
   ],
   "source": [
    "# print(errorlist)\n",
    "min_e = min(errorlist)\n",
    "opt_E = min_e[1]\n",
    "opt_I = min_e[2]\n",
    "print(min_e [0], opt_E,opt_I)"
   ]
  },
  {
   "cell_type": "code",
   "execution_count": 73,
   "metadata": {},
   "outputs": [
    {
     "data": {
      "text/plain": [
       "[(5881.810225856797, 1000, 47)]"
      ]
     },
     "execution_count": 73,
     "metadata": {},
     "output_type": "execute_result"
    }
   ],
   "source": [
    "errorlist"
   ]
  },
  {
   "cell_type": "code",
   "execution_count": null,
   "metadata": {},
   "outputs": [],
   "source": []
  }
 ],
 "metadata": {
  "kernelspec": {
   "display_name": "Python 3",
   "language": "python",
   "name": "python3"
  },
  "language_info": {
   "codemirror_mode": {
    "name": "ipython",
    "version": 3
   },
   "file_extension": ".py",
   "mimetype": "text/x-python",
   "name": "python",
   "nbconvert_exporter": "python",
   "pygments_lexer": "ipython3",
   "version": "3.7.4"
  }
 },
 "nbformat": 4,
 "nbformat_minor": 2
}
