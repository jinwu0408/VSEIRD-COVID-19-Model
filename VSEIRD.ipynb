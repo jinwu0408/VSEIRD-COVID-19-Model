{
 "cells": [
  {
   "cell_type": "markdown",
   "metadata": {},
   "source": [
    "# Import Module&Dataset"
   ]
  },
  {
   "cell_type": "code",
   "execution_count": 26,
   "metadata": {},
   "outputs": [],
   "source": [
    "import os\n",
    "import sys\n",
    "import matplotlib.pyplot as plt\n",
    "import numpy as np\n",
    "import pandas as pd\n",
    "from scipy.integrate import odeint\n",
    "import plotly.graph_objects as go\n",
    "import plotly.io as pio\n",
    "import requests\n",
    "from lmfit import minimize, Parameters, Parameter, report_fit\n",
    "pio.renderers.default = \"notebook\"\n",
    "%matplotlib inline\n",
    "plt.style.use('ggplot')\n",
    "# Jupyter Specifics\n",
    "from IPython.display import HTML\n",
    "from ipywidgets.widgets import interact, IntSlider, FloatSlider, Layout, ToggleButton, ToggleButtons\n",
    "\n",
    "style = {'description_width': '100px'}\n",
    "slider_layout = Layout(width='99%')"
   ]
  },
  {
   "cell_type": "code",
   "execution_count": 27,
   "metadata": {},
   "outputs": [
    {
     "name": "stdout",
     "output_type": "stream",
     "text": [
      "Request Success? True\n",
      "(458, 9)\n"
     ]
    },
    {
     "data": {
      "text/html": [
       "<div>\n",
       "<style scoped>\n",
       "    .dataframe tbody tr th:only-of-type {\n",
       "        vertical-align: middle;\n",
       "    }\n",
       "\n",
       "    .dataframe tbody tr th {\n",
       "        vertical-align: top;\n",
       "    }\n",
       "\n",
       "    .dataframe thead th {\n",
       "        text-align: right;\n",
       "    }\n",
       "</style>\n",
       "<table border=\"1\" class=\"dataframe\">\n",
       "  <thead>\n",
       "    <tr style=\"text-align: right;\">\n",
       "      <th></th>\n",
       "      <th>day</th>\n",
       "      <th>total</th>\n",
       "      <th>confirmedCasesIndian</th>\n",
       "      <th>confirmedCasesForeign</th>\n",
       "      <th>confirmedButLocationUnidentified</th>\n",
       "      <th>discharged</th>\n",
       "      <th>deaths</th>\n",
       "      <th>infected</th>\n",
       "      <th>total_recovered_or_dead</th>\n",
       "    </tr>\n",
       "  </thead>\n",
       "  <tbody>\n",
       "    <tr>\n",
       "      <td>0</td>\n",
       "      <td>2020-03-10</td>\n",
       "      <td>47</td>\n",
       "      <td>31</td>\n",
       "      <td>16</td>\n",
       "      <td>0</td>\n",
       "      <td>0</td>\n",
       "      <td>0</td>\n",
       "      <td>47</td>\n",
       "      <td>0</td>\n",
       "    </tr>\n",
       "    <tr>\n",
       "      <td>1</td>\n",
       "      <td>2020-03-11</td>\n",
       "      <td>60</td>\n",
       "      <td>44</td>\n",
       "      <td>16</td>\n",
       "      <td>0</td>\n",
       "      <td>0</td>\n",
       "      <td>0</td>\n",
       "      <td>60</td>\n",
       "      <td>0</td>\n",
       "    </tr>\n",
       "    <tr>\n",
       "      <td>2</td>\n",
       "      <td>2020-03-12</td>\n",
       "      <td>73</td>\n",
       "      <td>56</td>\n",
       "      <td>17</td>\n",
       "      <td>0</td>\n",
       "      <td>0</td>\n",
       "      <td>0</td>\n",
       "      <td>73</td>\n",
       "      <td>0</td>\n",
       "    </tr>\n",
       "    <tr>\n",
       "      <td>3</td>\n",
       "      <td>2020-03-13</td>\n",
       "      <td>82</td>\n",
       "      <td>65</td>\n",
       "      <td>17</td>\n",
       "      <td>0</td>\n",
       "      <td>10</td>\n",
       "      <td>2</td>\n",
       "      <td>70</td>\n",
       "      <td>12</td>\n",
       "    </tr>\n",
       "    <tr>\n",
       "      <td>4</td>\n",
       "      <td>2020-03-14</td>\n",
       "      <td>84</td>\n",
       "      <td>67</td>\n",
       "      <td>17</td>\n",
       "      <td>0</td>\n",
       "      <td>10</td>\n",
       "      <td>2</td>\n",
       "      <td>72</td>\n",
       "      <td>12</td>\n",
       "    </tr>\n",
       "  </tbody>\n",
       "</table>\n",
       "</div>"
      ],
      "text/plain": [
       "          day  total  confirmedCasesIndian  confirmedCasesForeign  \\\n",
       "0  2020-03-10     47                    31                     16   \n",
       "1  2020-03-11     60                    44                     16   \n",
       "2  2020-03-12     73                    56                     17   \n",
       "3  2020-03-13     82                    65                     17   \n",
       "4  2020-03-14     84                    67                     17   \n",
       "\n",
       "   confirmedButLocationUnidentified  discharged  deaths  infected  \\\n",
       "0                                 0           0       0        47   \n",
       "1                                 0           0       0        60   \n",
       "2                                 0           0       0        73   \n",
       "3                                 0          10       2        70   \n",
       "4                                 0          10       2        72   \n",
       "\n",
       "   total_recovered_or_dead  \n",
       "0                        0  \n",
       "1                        0  \n",
       "2                        0  \n",
       "3                       12  \n",
       "4                       12  "
      ]
     },
     "execution_count": 27,
     "metadata": {},
     "output_type": "execute_result"
    }
   ],
   "source": [
    "response = requests.get('https://api.rootnet.in/covid19-in/stats/history')\n",
    "print('Request Success? {}'.format(response.status_code == 200))\n",
    "covid_history = response.json()['data']\n",
    "keys = ['day', 'total', 'confirmedCasesIndian', 'confirmedCasesForeign', 'confirmedButLocationUnidentified',\n",
    "        'discharged', 'deaths']\n",
    "df_covid_history = pd.DataFrame([[d.get('day'), \n",
    "                                  d['summary'].get('total'), \n",
    "                                  d['summary'].get('confirmedCasesIndian'), \n",
    "                                  d['summary'].get('confirmedCasesForeign'),\n",
    "                                  d['summary'].get('confirmedButLocationUnidentified'),\n",
    "                                  d['summary'].get('discharged'), \n",
    "                                  d['summary'].get('deaths')] \n",
    "                                 for d in covid_history],\n",
    "                    columns=keys)\n",
    "df_covid_history = df_covid_history.sort_values(by='day')\n",
    "df_covid_history['infected'] = df_covid_history['total'] - df_covid_history['discharged'] - df_covid_history['deaths']\n",
    "df_covid_history['total_recovered_or_dead'] = df_covid_history['discharged'] + df_covid_history['deaths']\n",
    "print(df_covid_history.shape)\n",
    "df_covid_history.head()"
   ]
  },
  {
   "cell_type": "code",
   "execution_count": 3,
   "metadata": {},
   "outputs": [],
   "source": [
    "# def ode_model(z, t, alpha, beta, epsilon, sigma, gamma, mu,nat_d_rate, nat_b_rate):\n",
    "#     \"\"\"\n",
    "#     Reference https://www.idmod.org/docs/hiv/model-seir.html\n",
    "#     \"\"\"\n",
    "#     V, S, E, I, R, D = z\n",
    "#     N = V + S + E + I + R + D\n",
    "#     dVdt = alpha*R + epsilon*S - nat_d_rate*V\n",
    "#     dSdt = -beta*S*I/N-epsilon*S + nat_b_rate*N - nat_d_rate*S\n",
    "#     dEdt = beta*S*I/N - sigma*E - nat_d_rate*E\n",
    "#     dIdt = sigma*E - gamma*I - mu*I - nat_d_rate*I\n",
    "#     dRdt = gamma*I -alpha*R - nat_d_rate*R\n",
    "#     dDdt = mu*I + nat_d_rate*(N)\n",
    "#     return [dVdt, dSdt, dEdt, dIdt, dRdt, dDdt]"
   ]
  },
  {
   "cell_type": "markdown",
   "metadata": {},
   "source": [
    "# Define model"
   ]
  },
  {
   "cell_type": "code",
   "execution_count": 272,
   "metadata": {},
   "outputs": [],
   "source": [
    "def ode_model(z, t, alpha, beta, epsilon, sigma, gamma, mu,nat_d_rate, nat_b_rate):\n",
    "    \"\"\"\n",
    "    Reference https://www.idmod.org/docs/hiv/model-seir.html\n",
    "    \"\"\"\n",
    "    V, S, E, I, R, D = z\n",
    "    N = V + S + E + I + R - D\n",
    "    dVdt = alpha*R + epsilon*S - nat_d_rate*V\n",
    "    dSdt = -beta*S*I/N-epsilon*S + nat_b_rate*N - nat_d_rate*S\n",
    "    dEdt = beta*S*I/N - sigma*E - nat_d_rate*E\n",
    "    dIdt = sigma*E - gamma*I - mu*I - nat_d_rate*I\n",
    "    dRdt = gamma*I -alpha*R - nat_d_rate*R\n",
    "    dDdt = mu*I + nat_d_rate*N\n",
    "    return [dVdt, dSdt, dEdt, dIdt, dRdt, dDdt]"
   ]
  },
  {
   "cell_type": "code",
   "execution_count": 273,
   "metadata": {},
   "outputs": [],
   "source": [
    "def ode_solver(t, initial_conditions, params, nat_d_rate, nat_b_rate):\n",
    "    initV, initE, initI, initR, initN, initD = initial_conditions\n",
    "    \n",
    "    alpha = params['alpha'].value\n",
    "    beta = params['beta'].value\n",
    "    epsilon = params['epsilon'].value\n",
    "    sigma = params['sigma'].value\n",
    "    gamma = params['gamma'].value\n",
    "    mu = params['mu'].value\n",
    "\n",
    "    \n",
    "    initS = initN - (initV + initE + initI + initR - initD)\n",
    "    res = odeint(ode_model, \n",
    "                 [initV, initS, initE, initI, initR, initD], \n",
    "                 t, \n",
    "                 args=(alpha, beta, epsilon,sigma, gamma, mu, nat_d_rate, nat_b_rate)\n",
    "                )\n",
    "    return res"
   ]
  },
  {
   "cell_type": "code",
   "execution_count": 274,
   "metadata": {},
   "outputs": [],
   "source": [
    "def error(params, initial_conditions, tspan, data, nat_d_rate, nat_b_rate):\n",
    "    sol = ode_solver(tspan, initial_conditions, params, nat_d_rate, nat_b_rate)\n",
    "#     print(sol[45,:])\n",
    "    return (sol[:, 3:6] - data).ravel()"
   ]
  },
  {
   "cell_type": "markdown",
   "metadata": {},
   "source": [
    "# Parameters"
   ]
  },
  {
   "cell_type": "code",
   "execution_count": 281,
   "metadata": {},
   "outputs": [],
   "source": [
    "initN = 1380000000\n",
    "# S0 = 966000000\n",
    "initV = 0\n",
    "initE = 1000\n",
    "initI = 47\n",
    "initR = 0\n",
    "initD = 0\n",
    "\n",
    "alpha = .02\n",
    "sigma = 1/5.2\n",
    "gamma = 1/2.9\n",
    "epsilon = 0.02\n",
    "mu = 0.034\n",
    "R0 = 4\n",
    "beta = R0 * gamma\n",
    "nat_b_rate= 0.00174/2\n",
    "nat_d_rate = 0#.00073\n",
    "days = 100\n",
    "\n",
    "params = Parameters()\n",
    "params.add('alpha', value=alpha, min=0, max=10)\n",
    "params.add('beta', value=beta, min=0, max=10)\n",
    "params.add('sigma', value=sigma, min=0, max=10)\n",
    "params.add('gamma', value=gamma, min=0, max=10)\n",
    "params.add('epsilon', value=epsilon, min=0, max=10)\n",
    "params.add('mu', value=mu, min=0, max=10)\n",
    "\n",
    "initial_conditions = [initV, initE, initI, initR, initN, initD]\n",
    "# print(initE,initI)\n",
    "tspan = np.arange(0, days, 1)\n",
    "observed_IRD = df_covid_history.loc[:, ['infected', 'discharged', 'deaths']].values\n",
    "data = df_covid_history.loc[0:(days-1), ['infected', 'discharged', 'deaths']].values"
   ]
  },
  {
   "cell_type": "markdown",
   "metadata": {},
   "source": [
    "# Training"
   ]
  },
  {
   "cell_type": "code",
   "execution_count": 282,
   "metadata": {},
   "outputs": [
    {
     "name": "stdout",
     "output_type": "stream",
     "text": [
      "(100, 3)\n"
     ]
    }
   ],
   "source": [
    "result = minimize(error, \n",
    "                  params, \n",
    "                  args=(initial_conditions, tspan, data, nat_d_rate, nat_b_rate), \n",
    "                  method='leastsq')\n",
    "final = data + result.residual.reshape(data.shape)\n",
    "print(final.shape)"
   ]
  },
  {
   "cell_type": "code",
   "execution_count": 283,
   "metadata": {},
   "outputs": [
    {
     "data": {
      "text/html": [
       "<div>\n",
       "        \n",
       "        \n",
       "            <div id=\"091dcc3c-436d-46c5-8fc4-ab879f206663\" class=\"plotly-graph-div\" style=\"height:600px; width:1000px;\"></div>\n",
       "            <script type=\"text/javascript\">\n",
       "                require([\"plotly\"], function(Plotly) {\n",
       "                    window.PLOTLYENV=window.PLOTLYENV || {};\n",
       "                    \n",
       "                if (document.getElementById(\"091dcc3c-436d-46c5-8fc4-ab879f206663\")) {\n",
       "                    Plotly.newPlot(\n",
       "                        '091dcc3c-436d-46c5-8fc4-ab879f206663',\n",
       "                        [{\"line\": {\"dash\": \"dot\"}, \"mode\": \"markers\", \"name\": \"Observed Infections\", \"type\": \"scatter\", \"x\": [0, 1, 2, 3, 4, 5, 6, 7, 8, 9, 10, 11, 12, 13, 14, 15, 16, 17, 18, 19, 20, 21, 22, 23, 24, 25, 26, 27, 28, 29, 30, 31, 32, 33, 34, 35, 36, 37, 38, 39, 40, 41, 42, 43, 44, 45, 46, 47, 48, 49, 50, 51, 52, 53, 54, 55, 56, 57, 58, 59, 60, 61, 62, 63, 64, 65, 66, 67, 68, 69, 70, 71, 72, 73, 74, 75, 76, 77, 78, 79, 80, 81, 82, 83, 84, 85, 86, 87, 88, 89, 90, 91, 92, 93, 94, 95, 96, 97, 98, 99], \"y\": [47, 60, 73, 70, 72, 95, 99, 120, 134, 149, 196, 256, 329, 424, 469, 553, 634, 640, 810, 901, 1118, 1238, 1649, 1860, 2322, 2784, 3219, 3851, 4312, 4714, 5218, 6039, 6634, 7409, 8048, 9272, 10197, 10824, 11616, 12289, 13295, 14255, 15122, 15859, 16689, 17915, 18953, 20177, 21132, 22010, 22904, 24162, 25148, 26535, 28070, 29685, 31967, 33514, 35902, 37916, 39834, 41472, 44029, 46008, 47480, 49219, 51401, 52805, 53946, 56316, 58802, 61149, 63624, 66330, 69597, 73560, 77103, 80722, 83004, 86110, 89987, 86422, 89995, 93322, 97581, 101497, 106737, 110960, 115942, 120406, 124981, 129813, 133632, 137448, 141842, 145779, 149348, 153106, 153178, 155227]}, {\"line\": {\"dash\": \"dot\"}, \"mode\": \"markers\", \"name\": \"Observed Recovered\", \"type\": \"scatter\", \"x\": [0, 1, 2, 3, 4, 5, 6, 7, 8, 9, 10, 11, 12, 13, 14, 15, 16, 17, 18, 19, 20, 21, 22, 23, 24, 25, 26, 27, 28, 29, 30, 31, 32, 33, 34, 35, 36, 37, 38, 39, 40, 41, 42, 43, 44, 45, 46, 47, 48, 49, 50, 51, 52, 53, 54, 55, 56, 57, 58, 59, 60, 61, 62, 63, 64, 65, 66, 67, 68, 69, 70, 71, 72, 73, 74, 75, 76, 77, 78, 79, 80, 81, 82, 83, 84, 85, 86, 87, 88, 89, 90, 91, 92, 93, 94, 95, 96, 97, 98, 99], \"y\": [0, 0, 0, 10, 10, 13, 13, 14, 14, 20, 23, 23, 24, 35, 40, 43, 45, 67, 80, 96, 102, 124, 144, 156, 163, 213, 275, 319, 353, 411, 478, 516, 653, 765, 980, 1190, 1344, 1515, 1767, 2015, 2302, 2842, 3260, 3960, 4325, 4814, 5210, 5914, 6362, 7027, 7797, 8373, 9065, 10018, 10887, 11762, 13161, 14183, 15267, 16540, 17847, 19358, 20917, 22455, 24386, 26235, 27920, 30153, 34109, 36824, 39174, 42298, 45300, 48534, 51784, 54441, 57721, 60491, 64426, 67692, 71106, 82370, 86984, 91819, 95527, 100303, 104107, 109462, 114073, 119293, 124430, 129314, 135206, 141029, 147195, 154330, 162379, 169798, 180013, 186935]}, {\"line\": {\"dash\": \"dot\"}, \"mode\": \"markers\", \"name\": \"Observed Deaths\", \"type\": \"scatter\", \"x\": [0, 1, 2, 3, 4, 5, 6, 7, 8, 9, 10, 11, 12, 13, 14, 15, 16, 17, 18, 19, 20, 21, 22, 23, 24, 25, 26, 27, 28, 29, 30, 31, 32, 33, 34, 35, 36, 37, 38, 39, 40, 41, 42, 43, 44, 45, 46, 47, 48, 49, 50, 51, 52, 53, 54, 55, 56, 57, 58, 59, 60, 61, 62, 63, 64, 65, 66, 67, 68, 69, 70, 71, 72, 73, 74, 75, 76, 77, 78, 79, 80, 81, 82, 83, 84, 85, 86, 87, 88, 89, 90, 91, 92, 93, 94, 95, 96, 97, 98, 99], \"y\": [0, 0, 0, 2, 2, 2, 2, 3, 3, 4, 4, 4, 7, 8, 10, 10, 15, 17, 19, 27, 31, 35, 41, 53, 62, 75, 83, 111, 124, 149, 169, 206, 242, 273, 324, 353, 392, 420, 452, 488, 519, 559, 603, 652, 686, 723, 779, 826, 886, 937, 1008, 1075, 1152, 1223, 1306, 1389, 1583, 1694, 1783, 1886, 1981, 2109, 2206, 2293, 2415, 2549, 2649, 2752, 2872, 3029, 3163, 3303, 3435, 3583, 3720, 3867, 4021, 4167, 4337, 4531, 4706, 4971, 5164, 5394, 5598, 5815, 6075, 6348, 6642, 6929, 7200, 7471, 7745, 8102, 8498, 8884, 9195, 9520, 9900, 11903]}, {\"mode\": \"lines+markers\", \"name\": \"Fitted Infections\", \"type\": \"scatter\", \"x\": [0, 1, 2, 3, 4, 5, 6, 7, 8, 9, 10, 11, 12, 13, 14, 15, 16, 17, 18, 19, 20, 21, 22, 23, 24, 25, 26, 27, 28, 29, 30, 31, 32, 33, 34, 35, 36, 37, 38, 39, 40, 41, 42, 43, 44, 45, 46, 47, 48, 49, 50, 51, 52, 53, 54, 55, 56, 57, 58, 59, 60, 61, 62, 63, 64, 65, 66, 67, 68, 69, 70, 71, 72, 73, 74, 75, 76, 77, 78, 79, 80, 81, 82, 83, 84, 85, 86, 87, 88, 89, 90, 91, 92, 93, 94, 95, 96, 97, 98, 99], \"y\": [47.0, 59.09474192462544, 72.77387324025798, 88.37958664607685, 106.27129778472202, 126.83181041403475, 150.47258743399075, 177.6383633080139, 208.811233101498, 244.5143289813867, 285.31514680611997, 331.82856851338767, 384.71960485673225, 444.70586651702104, 512.5597634749803, 589.1104270184107, 675.2453406471575, 771.9116647740901, 880.1172391622974, 1000.9312420741247, 1135.4844913068766, 1284.9693691357659, 1450.6393558939578, 1633.8081594570408, 1835.8484304669773, 2058.1900554507306, 2302.318026553775, 2569.769883274919, 2862.13272191057, 3181.039813707828, 3528.1667922070183, 3905.2274686321807, 4313.969261067652, 4756.168274488364, 5233.624071822184, 5748.154128023106, 6301.5880261100565, 6895.761424187938, 7532.509819069636, 8213.662160418406, 8941.034337298503, 9716.422590690112, 10541.596889673005, 11418.294307894277, 12348.212451138494, 13333.002966931193, 14374.265184812655, 15473.539920656656, 16632.30348804967, 17851.961943989452, 19133.84561504736, 20479.203920548072, 21889.200535481825, 23364.90891039835, 24907.308170345124, 26517.279425427467, 28195.602487154832, 29942.953025264265, 31759.900173024715, 33646.904612072474, 35604.3169875228, 37632.376978528446, 39731.2126340407, 41900.84026628976, 44141.164793286734, 46451.98038948231, 48832.97175840626, 51283.71558792038, 53803.68257091974, 56392.23970327058, 59048.65292358365, 61772.09016991827, 64561.62460088081, 67416.2382420766, 70334.82578282202, 73316.19864391991, 76359.08927358655, 79462.15555819147, 82623.98544940534, 85843.10171371797, 89117.96673738884, 92446.98746216494, 95828.52032718412, 99260.87631924325, 102742.32591803906, 106271.10416649026, 109845.41556130153, 113463.43903374393, 117123.3327414054, 120823.23884409739, 124561.28817767158, 128335.60478739327, 132144.31026393455, 135985.52811384317, 139857.38776804612, 143758.0286394259, 147685.60378962534, 151638.2836396475, 155614.25929457982, 159611.74585570436]}, {\"mode\": \"lines+markers\", \"name\": \"Fitted Recovered\", \"type\": \"scatter\", \"x\": [0, 1, 2, 3, 4, 5, 6, 7, 8, 9, 10, 11, 12, 13, 14, 15, 16, 17, 18, 19, 20, 21, 22, 23, 24, 25, 26, 27, 28, 29, 30, 31, 32, 33, 34, 35, 36, 37, 38, 39, 40, 41, 42, 43, 44, 45, 46, 47, 48, 49, 50, 51, 52, 53, 54, 55, 56, 57, 58, 59, 60, 61, 62, 63, 64, 65, 66, 67, 68, 69, 70, 71, 72, 73, 74, 75, 76, 77, 78, 79, 80, 81, 82, 83, 84, 85, 86, 87, 88, 89, 90, 91, 92, 93, 94, 95, 96, 97, 98, 99], \"y\": [0.0, 2.3749426904047866, 5.326868180535056, 8.934493710116547, 13.292251861061516, 18.511206272635793, 24.720221272201197, 32.067353803021405, 40.721440161310696, 50.873855613786574, 62.74043187019499, 76.56351672206755, 92.61416269663016, 111.19443264251139, 132.63981045769765, 157.32170402973827, 185.6500280569174, 218.07585298952276, 255.09410714809098, 297.2463147913272, 345.123356748027, 399.3682360143968, 460.6788311208755, 529.8106196195513, 607.5793532386899, 694.8636641140499, 792.6075921300566, 901.8230005038366, 1023.5918573241705, 1159.068399608596, 1309.4811102598173, 1476.1345341374808, 1660.4108857840947, 1863.7714502460037, 2087.7577521746293, 2333.9924855765357, 2604.1801884475994, 2900.1076525087337, 3223.644055217279, 3576.7408098451597, 3961.4311262389347, 4379.829277201081, 4834.129569799635, 5326.605013897305, 5859.605703646155, 6435.556895877152, 7056.956807640538, 7726.37412846527, 8446.445257611918, 9219.87128377581, 10049.414703977987, 10937.89591269828, 11888.189458606505, 12903.220096308722, 13985.958645495484, 15139.417671869156, 16366.647016945015, 17670.729186652305, 19054.77462214053, 20521.91686516291, 22075.307678477704, 23718.112063196902, 25453.503274042258, 27284.657805422237, 29214.750378439414, 31246.948963308292, 33384.4098348669, 35630.27268590861, 37987.655833367025, 40459.651506832066, 43049.32125129532, 45759.691473961444, 48593.74909331952, 51554.43739685269, 54644.65200930357, 57867.23708060981, 61224.9816511841, 64720.61617921796, 68356.80932170928, 72136.16489833794, 76061.2190743084, 80134.43775179984, 84358.21420705755, 88734.86692759958, 93266.6376900275, 97955.68984999911, 102804.10686866738, 107813.89105033703, 112986.96250276518, 118325.1583112558, 123830.23193217063, 129503.8527831693, 135347.60603068912, 141362.99259684238, 147551.42930387316, 153914.24927519847, 160452.70241212123, 167167.9561526506, 174061.09625820082, 181133.12788829437]}, {\"mode\": \"lines+markers\", \"name\": \"Fitted Deaths\", \"type\": \"scatter\", \"x\": [0, 1, 2, 3, 4, 5, 6, 7, 8, 9, 10, 11, 12, 13, 14, 15, 16, 17, 18, 19, 20, 21, 22, 23, 24, 25, 26, 27, 28, 29, 30, 31, 32, 33, 34, 35, 36, 37, 38, 39, 40, 41, 42, 43, 44, 45, 46, 47, 48, 49, 50, 51, 52, 53, 54, 55, 56, 57, 58, 59, 60, 61, 62, 63, 64, 65, 66, 67, 68, 69, 70, 71, 72, 73, 74, 75, 76, 77, 78, 79, 80, 81, 82, 83, 84, 85, 86, 87, 88, 89, 90, 91, 92, 93, 94, 95, 96, 97, 98, 99], \"y\": [0.0, 0.14348780904997605, 0.3218354098977511, 0.5397986927447487, 0.8030830276923584, 1.1183985898784734, 1.4935310255287668, 1.9374255486156726, 2.4602828073833782, 3.0736651958622683, 3.7906127025699425, 4.625767348526507, 5.595505420030599, 6.718076766151949, 8.013750448646805, 9.504965963099918, 11.216489286269438, 13.175572918239236, 15.41211913738929, 17.95884542735593, 20.8514512672547, 24.128785221904426, 27.833011293121512, 32.00977346578373, 36.70835733375252, 41.98184756164007, 47.88728058024575, 54.48579052992341, 61.84274710530083, 70.02788630205791, 79.11542985957519, 89.18419498335857, 100.3176914797566, 112.60420639002672, 126.13687462450503, 141.01373513580813, 157.337771678603, 175.21693756490856, 194.76416364002245, 216.097349224781, 239.33933557797775, 264.61786157318863, 292.0655015481399, 321.81958486087024, 354.0220981040218, 388.8195690063116, 426.36293336582884, 466.8073847474023, 510.31220756478956, 557.0405946023807, 607.1594487793078, 660.8391710321808, 718.2534341567047, 779.5789442646374, 844.9951906044749, 914.6841846144872, 988.8301898450972, 1067.6194433503147, 1151.2398699623134, 1239.8807901966256, 1333.7326254396287, 1432.9865969098503, 1537.8344244928358, 1648.4680238130784, 1765.0792033621597, 1887.8593637662846, 2016.9991990532465, 2152.688401412731, 2295.1153715665478, 2444.4669341130943, 2600.9280597732354, 2764.681596340276, 2935.9080058081995, 3114.785114105279, 3301.4878675071673, 3496.1881023218803, 3699.054325289454, 3910.2515037706503, 4129.940871264981, 4358.279743975922, 4595.421350605545, 4841.514674752645, 5096.704312151891, 5361.130340003378, 5634.928200838878, 5918.228599206331, 6211.157412641019, 6513.83561539794, 6826.379215635767, 7148.899205517645, 7481.501524568573, 7824.287034918633, 8177.35150846294, 8540.785627278203, 8914.67499235027, 9299.100147803856, 9694.136609704125, 10099.854911902483, 10516.320653566725, 10943.594564111618]}],\n",
       "                        {\"height\": 600, \"template\": {\"data\": {\"bar\": [{\"error_x\": {\"color\": \"#2a3f5f\"}, \"error_y\": {\"color\": \"#2a3f5f\"}, \"marker\": {\"line\": {\"color\": \"#E5ECF6\", \"width\": 0.5}}, \"type\": \"bar\"}], \"barpolar\": [{\"marker\": {\"line\": {\"color\": \"#E5ECF6\", \"width\": 0.5}}, \"type\": \"barpolar\"}], \"carpet\": [{\"aaxis\": {\"endlinecolor\": \"#2a3f5f\", \"gridcolor\": \"white\", \"linecolor\": \"white\", \"minorgridcolor\": \"white\", \"startlinecolor\": \"#2a3f5f\"}, \"baxis\": {\"endlinecolor\": \"#2a3f5f\", \"gridcolor\": \"white\", \"linecolor\": \"white\", \"minorgridcolor\": \"white\", \"startlinecolor\": \"#2a3f5f\"}, \"type\": \"carpet\"}], \"choropleth\": [{\"colorbar\": {\"outlinewidth\": 0, \"ticks\": \"\"}, \"type\": \"choropleth\"}], \"contour\": [{\"colorbar\": {\"outlinewidth\": 0, \"ticks\": \"\"}, \"colorscale\": [[0.0, \"#0d0887\"], [0.1111111111111111, \"#46039f\"], [0.2222222222222222, \"#7201a8\"], [0.3333333333333333, \"#9c179e\"], [0.4444444444444444, \"#bd3786\"], [0.5555555555555556, \"#d8576b\"], [0.6666666666666666, \"#ed7953\"], [0.7777777777777778, \"#fb9f3a\"], [0.8888888888888888, \"#fdca26\"], [1.0, \"#f0f921\"]], \"type\": \"contour\"}], \"contourcarpet\": [{\"colorbar\": {\"outlinewidth\": 0, \"ticks\": \"\"}, \"type\": \"contourcarpet\"}], \"heatmap\": [{\"colorbar\": {\"outlinewidth\": 0, \"ticks\": \"\"}, \"colorscale\": [[0.0, \"#0d0887\"], [0.1111111111111111, \"#46039f\"], [0.2222222222222222, \"#7201a8\"], [0.3333333333333333, \"#9c179e\"], [0.4444444444444444, \"#bd3786\"], [0.5555555555555556, \"#d8576b\"], [0.6666666666666666, \"#ed7953\"], [0.7777777777777778, \"#fb9f3a\"], [0.8888888888888888, \"#fdca26\"], [1.0, \"#f0f921\"]], \"type\": \"heatmap\"}], \"heatmapgl\": [{\"colorbar\": {\"outlinewidth\": 0, \"ticks\": \"\"}, \"colorscale\": [[0.0, \"#0d0887\"], [0.1111111111111111, \"#46039f\"], [0.2222222222222222, \"#7201a8\"], [0.3333333333333333, \"#9c179e\"], [0.4444444444444444, \"#bd3786\"], [0.5555555555555556, \"#d8576b\"], [0.6666666666666666, \"#ed7953\"], [0.7777777777777778, \"#fb9f3a\"], [0.8888888888888888, \"#fdca26\"], [1.0, \"#f0f921\"]], \"type\": \"heatmapgl\"}], \"histogram\": [{\"marker\": {\"colorbar\": {\"outlinewidth\": 0, \"ticks\": \"\"}}, \"type\": \"histogram\"}], \"histogram2d\": [{\"colorbar\": {\"outlinewidth\": 0, \"ticks\": \"\"}, \"colorscale\": [[0.0, \"#0d0887\"], [0.1111111111111111, \"#46039f\"], [0.2222222222222222, \"#7201a8\"], [0.3333333333333333, \"#9c179e\"], [0.4444444444444444, \"#bd3786\"], [0.5555555555555556, \"#d8576b\"], [0.6666666666666666, \"#ed7953\"], [0.7777777777777778, \"#fb9f3a\"], [0.8888888888888888, \"#fdca26\"], [1.0, \"#f0f921\"]], \"type\": \"histogram2d\"}], \"histogram2dcontour\": [{\"colorbar\": {\"outlinewidth\": 0, \"ticks\": \"\"}, \"colorscale\": [[0.0, \"#0d0887\"], [0.1111111111111111, \"#46039f\"], [0.2222222222222222, \"#7201a8\"], [0.3333333333333333, \"#9c179e\"], [0.4444444444444444, \"#bd3786\"], [0.5555555555555556, \"#d8576b\"], [0.6666666666666666, \"#ed7953\"], [0.7777777777777778, \"#fb9f3a\"], [0.8888888888888888, \"#fdca26\"], [1.0, \"#f0f921\"]], \"type\": \"histogram2dcontour\"}], \"mesh3d\": [{\"colorbar\": {\"outlinewidth\": 0, \"ticks\": \"\"}, \"type\": \"mesh3d\"}], \"parcoords\": [{\"line\": {\"colorbar\": {\"outlinewidth\": 0, \"ticks\": \"\"}}, \"type\": \"parcoords\"}], \"pie\": [{\"automargin\": true, \"type\": \"pie\"}], \"scatter\": [{\"marker\": {\"colorbar\": {\"outlinewidth\": 0, \"ticks\": \"\"}}, \"type\": \"scatter\"}], \"scatter3d\": [{\"line\": {\"colorbar\": {\"outlinewidth\": 0, \"ticks\": \"\"}}, \"marker\": {\"colorbar\": {\"outlinewidth\": 0, \"ticks\": \"\"}}, \"type\": \"scatter3d\"}], \"scattercarpet\": [{\"marker\": {\"colorbar\": {\"outlinewidth\": 0, \"ticks\": \"\"}}, \"type\": \"scattercarpet\"}], \"scattergeo\": [{\"marker\": {\"colorbar\": {\"outlinewidth\": 0, \"ticks\": \"\"}}, \"type\": \"scattergeo\"}], \"scattergl\": [{\"marker\": {\"colorbar\": {\"outlinewidth\": 0, \"ticks\": \"\"}}, \"type\": \"scattergl\"}], \"scattermapbox\": [{\"marker\": {\"colorbar\": {\"outlinewidth\": 0, \"ticks\": \"\"}}, \"type\": \"scattermapbox\"}], \"scatterpolar\": [{\"marker\": {\"colorbar\": {\"outlinewidth\": 0, \"ticks\": \"\"}}, \"type\": \"scatterpolar\"}], \"scatterpolargl\": [{\"marker\": {\"colorbar\": {\"outlinewidth\": 0, \"ticks\": \"\"}}, \"type\": \"scatterpolargl\"}], \"scatterternary\": [{\"marker\": {\"colorbar\": {\"outlinewidth\": 0, \"ticks\": \"\"}}, \"type\": \"scatterternary\"}], \"surface\": [{\"colorbar\": {\"outlinewidth\": 0, \"ticks\": \"\"}, \"colorscale\": [[0.0, \"#0d0887\"], [0.1111111111111111, \"#46039f\"], [0.2222222222222222, \"#7201a8\"], [0.3333333333333333, \"#9c179e\"], [0.4444444444444444, \"#bd3786\"], [0.5555555555555556, \"#d8576b\"], [0.6666666666666666, \"#ed7953\"], [0.7777777777777778, \"#fb9f3a\"], [0.8888888888888888, \"#fdca26\"], [1.0, \"#f0f921\"]], \"type\": \"surface\"}], \"table\": [{\"cells\": {\"fill\": {\"color\": \"#EBF0F8\"}, \"line\": {\"color\": \"white\"}}, \"header\": {\"fill\": {\"color\": \"#C8D4E3\"}, \"line\": {\"color\": \"white\"}}, \"type\": \"table\"}]}, \"layout\": {\"annotationdefaults\": {\"arrowcolor\": \"#2a3f5f\", \"arrowhead\": 0, \"arrowwidth\": 1}, \"coloraxis\": {\"colorbar\": {\"outlinewidth\": 0, \"ticks\": \"\"}}, \"colorscale\": {\"diverging\": [[0, \"#8e0152\"], [0.1, \"#c51b7d\"], [0.2, \"#de77ae\"], [0.3, \"#f1b6da\"], [0.4, \"#fde0ef\"], [0.5, \"#f7f7f7\"], [0.6, \"#e6f5d0\"], [0.7, \"#b8e186\"], [0.8, \"#7fbc41\"], [0.9, \"#4d9221\"], [1, \"#276419\"]], \"sequential\": [[0.0, \"#0d0887\"], [0.1111111111111111, \"#46039f\"], [0.2222222222222222, \"#7201a8\"], [0.3333333333333333, \"#9c179e\"], [0.4444444444444444, \"#bd3786\"], [0.5555555555555556, \"#d8576b\"], [0.6666666666666666, \"#ed7953\"], [0.7777777777777778, \"#fb9f3a\"], [0.8888888888888888, \"#fdca26\"], [1.0, \"#f0f921\"]], \"sequentialminus\": [[0.0, \"#0d0887\"], [0.1111111111111111, \"#46039f\"], [0.2222222222222222, \"#7201a8\"], [0.3333333333333333, \"#9c179e\"], [0.4444444444444444, \"#bd3786\"], [0.5555555555555556, \"#d8576b\"], [0.6666666666666666, \"#ed7953\"], [0.7777777777777778, \"#fb9f3a\"], [0.8888888888888888, \"#fdca26\"], [1.0, \"#f0f921\"]]}, \"colorway\": [\"#636efa\", \"#EF553B\", \"#00cc96\", \"#ab63fa\", \"#FFA15A\", \"#19d3f3\", \"#FF6692\", \"#B6E880\", \"#FF97FF\", \"#FECB52\"], \"font\": {\"color\": \"#2a3f5f\"}, \"geo\": {\"bgcolor\": \"white\", \"lakecolor\": \"white\", \"landcolor\": \"#E5ECF6\", \"showlakes\": true, \"showland\": true, \"subunitcolor\": \"white\"}, \"hoverlabel\": {\"align\": \"left\"}, \"hovermode\": \"closest\", \"mapbox\": {\"style\": \"light\"}, \"paper_bgcolor\": \"white\", \"plot_bgcolor\": \"#E5ECF6\", \"polar\": {\"angularaxis\": {\"gridcolor\": \"white\", \"linecolor\": \"white\", \"ticks\": \"\"}, \"bgcolor\": \"#E5ECF6\", \"radialaxis\": {\"gridcolor\": \"white\", \"linecolor\": \"white\", \"ticks\": \"\"}}, \"scene\": {\"xaxis\": {\"backgroundcolor\": \"#E5ECF6\", \"gridcolor\": \"white\", \"gridwidth\": 2, \"linecolor\": \"white\", \"showbackground\": true, \"ticks\": \"\", \"zerolinecolor\": \"white\"}, \"yaxis\": {\"backgroundcolor\": \"#E5ECF6\", \"gridcolor\": \"white\", \"gridwidth\": 2, \"linecolor\": \"white\", \"showbackground\": true, \"ticks\": \"\", \"zerolinecolor\": \"white\"}, \"zaxis\": {\"backgroundcolor\": \"#E5ECF6\", \"gridcolor\": \"white\", \"gridwidth\": 2, \"linecolor\": \"white\", \"showbackground\": true, \"ticks\": \"\", \"zerolinecolor\": \"white\"}}, \"shapedefaults\": {\"line\": {\"color\": \"#2a3f5f\"}}, \"ternary\": {\"aaxis\": {\"gridcolor\": \"white\", \"linecolor\": \"white\", \"ticks\": \"\"}, \"baxis\": {\"gridcolor\": \"white\", \"linecolor\": \"white\", \"ticks\": \"\"}, \"bgcolor\": \"#E5ECF6\", \"caxis\": {\"gridcolor\": \"white\", \"linecolor\": \"white\", \"ticks\": \"\"}}, \"title\": {\"x\": 0.05}, \"xaxis\": {\"automargin\": true, \"gridcolor\": \"white\", \"linecolor\": \"white\", \"ticks\": \"\", \"title\": {\"standoff\": 15}, \"zerolinecolor\": \"white\", \"zerolinewidth\": 2}, \"yaxis\": {\"automargin\": true, \"gridcolor\": \"white\", \"linecolor\": \"white\", \"ticks\": \"\", \"title\": {\"standoff\": 15}, \"zerolinecolor\": \"white\", \"zerolinewidth\": 2}}}, \"title\": {\"text\": \"VSEIRD: Observed vs Fitted\", \"x\": 0.5}, \"width\": 1000, \"xaxis\": {\"title\": {\"text\": \"Day\"}}, \"yaxis\": {\"title\": {\"text\": \"Counts\"}}},\n",
       "                        {\"responsive\": true}\n",
       "                    ).then(function(){\n",
       "                            \n",
       "var gd = document.getElementById('091dcc3c-436d-46c5-8fc4-ab879f206663');\n",
       "var x = new MutationObserver(function (mutations, observer) {{\n",
       "        var display = window.getComputedStyle(gd).display;\n",
       "        if (!display || display === 'none') {{\n",
       "            console.log([gd, 'removed!']);\n",
       "            Plotly.purge(gd);\n",
       "            observer.disconnect();\n",
       "        }}\n",
       "}});\n",
       "\n",
       "// Listen for the removal of the full notebook cells\n",
       "var notebookContainer = gd.closest('#notebook-container');\n",
       "if (notebookContainer) {{\n",
       "    x.observe(notebookContainer, {childList: true});\n",
       "}}\n",
       "\n",
       "// Listen for the clearing of the current output cell\n",
       "var outputEl = gd.closest('.output');\n",
       "if (outputEl) {{\n",
       "    x.observe(outputEl, {childList: true});\n",
       "}}\n",
       "\n",
       "                        })\n",
       "                };\n",
       "                });\n",
       "            </script>\n",
       "        </div>"
      ]
     },
     "metadata": {},
     "output_type": "display_data"
    }
   ],
   "source": [
    "fig = go.Figure()\n",
    "fig.add_trace(go.Scatter(x=tspan, y=data[:, 0], mode='markers', name='Observed Infections', line = dict(dash='dot')))\n",
    "fig.add_trace(go.Scatter(x=tspan, y=data[:, 1], mode='markers', name='Observed Recovered', line = dict(dash='dot')))\n",
    "fig.add_trace(go.Scatter(x=tspan, y=data[:, 2], mode='markers', name='Observed Deaths', line = dict(dash='dot')))\n",
    "fig.add_trace(go.Scatter(x=tspan, y=final[:, 0], mode='lines+markers', name='Fitted Infections'))\n",
    "fig.add_trace(go.Scatter(x=tspan, y=final[:, 1], mode='lines+markers', name='Fitted Recovered'))\n",
    "fig.add_trace(go.Scatter(x=tspan, y=final[:, 2], mode='lines+markers', name='Fitted Deaths'))\n",
    "fig.update_layout(title='VSEIRD: Observed vs Fitted',\n",
    "                       xaxis_title='Day',\n",
    "                       yaxis_title='Counts',\n",
    "                       title_x=0.5,\n",
    "                       width=1000, \n",
    "                       height=600\n",
    "                     )"
   ]
  },
  {
   "cell_type": "markdown",
   "metadata": {},
   "source": [
    "# Validating"
   ]
  },
  {
   "cell_type": "code",
   "execution_count": 284,
   "metadata": {},
   "outputs": [
    {
     "name": "stdout",
     "output_type": "stream",
     "text": [
      "Parameters([('alpha', <Parameter 'alpha', value=2.9068955575972666e-08, bounds=[0:10]>), ('beta', <Parameter 'beta', value=3.088411580926124, bounds=[0:10]>), ('sigma', <Parameter 'sigma', value=0.013650034987602866, bounds=[0:10]>), ('gamma', <Parameter 'gamma', value=0.04487011739186142, bounds=[0:10]>), ('epsilon', <Parameter 'epsilon', value=0.034175523189275414, bounds=[0:10]>), ('mu', <Parameter 'mu', value=0.002710934782708674, bounds=[0:10]>)]) 0 0.00087\n"
     ]
    }
   ],
   "source": [
    "# print(params, nat_d_rate, nat_b_rate)\n",
    "params['beta'].value = result.params['beta'].value\n",
    "params['sigma'].value = result.params['sigma'].value\n",
    "params['gamma'].value = result.params['gamma'].value\n",
    "params['mu'].value = result.params['mu'].value\n",
    "params['alpha'].value = result.params['alpha'].value\n",
    "params['epsilon'].value = result.params['epsilon'].value\n",
    "print(params, nat_d_rate, nat_b_rate)\n",
    "\n",
    "val_days = 400\n",
    "tspan = np.arange(0, val_days, 1)\n",
    "fitted_predicted = ode_solver(tspan, initial_conditions, params, nat_d_rate, nat_b_rate)\n",
    "fitted_predicted_IRD = fitted_predicted[:, 3:6]"
   ]
  },
  {
   "cell_type": "code",
   "execution_count": 285,
   "metadata": {},
   "outputs": [
    {
     "data": {
      "text/html": [
       "<div>\n",
       "        \n",
       "        \n",
       "            <div id=\"b5bead1b-8fdd-41d5-aa1b-2232b3e1a1bd\" class=\"plotly-graph-div\" style=\"height:600px; width:1000px;\"></div>\n",
       "            <script type=\"text/javascript\">\n",
       "                require([\"plotly\"], function(Plotly) {\n",
       "                    window.PLOTLYENV=window.PLOTLYENV || {};\n",
       "                    \n",
       "                if (document.getElementById(\"b5bead1b-8fdd-41d5-aa1b-2232b3e1a1bd\")) {\n",
       "                    Plotly.newPlot(\n",
       "                        'b5bead1b-8fdd-41d5-aa1b-2232b3e1a1bd',\n",
       "                        [{\"line\": {\"dash\": \"dot\"}, \"mode\": \"markers\", \"name\": \"Observed Infections\", \"type\": \"scatter\", \"x\": [0, 1, 2, 3, 4, 5, 6, 7, 8, 9, 10, 11, 12, 13, 14, 15, 16, 17, 18, 19, 20, 21, 22, 23, 24, 25, 26, 27, 28, 29, 30, 31, 32, 33, 34, 35, 36, 37, 38, 39, 40, 41, 42, 43, 44, 45, 46, 47, 48, 49, 50, 51, 52, 53, 54, 55, 56, 57, 58, 59, 60, 61, 62, 63, 64, 65, 66, 67, 68, 69, 70, 71, 72, 73, 74, 75, 76, 77, 78, 79, 80, 81, 82, 83, 84, 85, 86, 87, 88, 89, 90, 91, 92, 93, 94, 95, 96, 97, 98, 99, 100, 101, 102, 103, 104, 105, 106, 107, 108, 109, 110, 111, 112, 113, 114, 115, 116, 117, 118, 119, 120, 121, 122, 123, 124, 125, 126, 127, 128, 129, 130, 131, 132, 133, 134, 135, 136, 137, 138, 139, 140, 141, 142, 143, 144, 145, 146, 147, 148, 149, 150, 151, 152, 153, 154, 155, 156, 157, 158, 159, 160, 161, 162, 163, 164, 165, 166, 167, 168, 169, 170, 171, 172, 173, 174, 175, 176, 177, 178, 179, 180, 181, 182, 183, 184, 185, 186, 187, 188, 189, 190, 191, 192, 193, 194, 195, 196, 197, 198, 199, 200, 201, 202, 203, 204, 205, 206, 207, 208, 209, 210, 211, 212, 213, 214, 215, 216, 217, 218, 219, 220, 221, 222, 223, 224, 225, 226, 227, 228, 229, 230, 231, 232, 233, 234, 235, 236, 237, 238, 239, 240, 241, 242, 243, 244, 245, 246, 247, 248, 249, 250, 251, 252, 253, 254, 255, 256, 257, 258, 259, 260, 261, 262, 263, 264, 265, 266, 267, 268, 269, 270, 271, 272, 273, 274, 275, 276, 277, 278, 279, 280, 281, 282, 283, 284, 285, 286, 287, 288, 289, 290, 291, 292, 293, 294, 295, 296, 297, 298, 299, 300, 301, 302, 303, 304, 305, 306, 307, 308, 309, 310, 311, 312, 313, 314, 315, 316, 317, 318, 319, 320, 321, 322, 323, 324, 325, 326, 327, 328, 329, 330, 331, 332, 333, 334, 335, 336, 337, 338, 339, 340, 341, 342, 343, 344, 345, 346, 347, 348, 349, 350, 351, 352, 353, 354, 355, 356, 357, 358, 359, 360, 361, 362, 363, 364, 365, 366, 367, 368, 369, 370, 371, 372, 373, 374, 375, 376, 377, 378, 379, 380, 381, 382, 383, 384, 385, 386, 387, 388, 389, 390, 391, 392, 393, 394, 395, 396, 397, 398, 399], \"y\": [47, 60, 73, 70, 72, 95, 99, 120, 134, 149, 196, 256, 329, 424, 469, 553, 634, 640, 810, 901, 1118, 1238, 1649, 1860, 2322, 2784, 3219, 3851, 4312, 4714, 5218, 6039, 6634, 7409, 8048, 9272, 10197, 10824, 11616, 12289, 13295, 14255, 15122, 15859, 16689, 17915, 18953, 20177, 21132, 22010, 22904, 24162, 25148, 26535, 28070, 29685, 31967, 33514, 35902, 37916, 39834, 41472, 44029, 46008, 47480, 49219, 51401, 52805, 53946, 56316, 58802, 61149, 63624, 66330, 69597, 73560, 77103, 80722, 83004, 86110, 89987, 86422, 89995, 93322, 97581, 101497, 106737, 110960, 115942, 120406, 124981, 129813, 133632, 137448, 141842, 145779, 149348, 153106, 153178, 155227, 160384, 163248, 168269, 169451, 174387, 178014, 183022, 186514, 189463, 197387, 203051, 210120, 215125, 220114, 226947, 227439, 235433, 244814, 253287, 259557, 264944, 269789, 276682, 283407, 292258, 301609, 311565, 319840, 331146, 342473, 358692, 373379, 390459, 402529, 411133, 426167, 440135, 456071, 467882, 485114, 496988, 509447, 528242, 545318, 565103, 567730, 579357, 586298, 586244, 595501, 607384, 619088, 628747, 634945, 639929, 643948, 653622, 661595, 668220, 677444, 676900, 673166, 676514, 686395, 692028, 697330, 707668, 710771, 704348, 707267, 725991, 742023, 752424, 765302, 781975, 785996, 801282, 815538, 831124, 846395, 862320, 882542, 883697, 897394, 919018, 943480, 958316, 973175, 986598, 990061, 995933, 1009976, 1017754, 1013964, 1010824, 1003299, 975861, 968377, 969251, 970116, 960969, 956402, 962640, 947576, 940441, 941334, 942217, 944996, 939718, 934427, 919023, 910737, 902425, 893592, 883185, 867496, 861853, 838729, 826876, 812390, 804528, 795087, 783311, 772055, 748538, 740090, 715812, 695509, 680680, 668154, 653717, 625857, 610803, 603687, 594386, 582649, 570458, 561908, 541405, 533787, 527962, 520773, 516632, 512665, 509673, 501214, 494657, 489294, 484547, 480719, 479216, 465478, 453401, 446805, 443303, 443794, 439747, 440962, 443486, 438667, 444746, 452344, 455555, 454940, 453956, 446952, 435603, 428644, 422943, 416082, 409689, 403248, 396729, 383866, 378909, 372293, 363749, 359819, 356546, 352586, 339820, 332002, 322366, 313831, 308751, 305344, 303639, 292518, 289240, 283849, 281919, 281667, 278690, 277301, 268581, 262272, 257656, 254254, 250183, 247220, 243953, 231036, 227546, 228083, 225449, 224190, 223335, 222526, 216558, 214507, 213603, 213027, 211033, 208826, 208012, 200528, 197201, 192308, 188688, 185662, 184408, 184182, 177266, 176498, 173740, 171686, 169824, 168784, 168235, 163353, 160057, 155025, 151460, 148590, 148766, 148609, 143625, 141511, 142562, 135926, 136571, 137567, 139637, 136872, 136549, 137342, 139542, 143127, 145634, 150055, 147306, 146907, 151708, 155986, 159590, 164511, 168627, 168358, 170126, 173413, 176319, 180304, 184523, 188747, 187462, 184598, 189226, 197237, 202022, 210544, 219262, 223432, 234406, 252364, 271282, 288394, 309087, 334646, 345377, 368457, 395192, 421066, 452647, 486310, 521808, 540720, 552566, 584055, 614696, 658909, 691597, 741830, 788223, 843473, 910319, 979608, 1046631, 1108087, 1201009, 1264698]}, {\"line\": {\"dash\": \"dot\"}, \"mode\": \"markers\", \"name\": \"Observed Deaths\", \"type\": \"scatter\", \"x\": [0, 1, 2, 3, 4, 5, 6, 7, 8, 9, 10, 11, 12, 13, 14, 15, 16, 17, 18, 19, 20, 21, 22, 23, 24, 25, 26, 27, 28, 29, 30, 31, 32, 33, 34, 35, 36, 37, 38, 39, 40, 41, 42, 43, 44, 45, 46, 47, 48, 49, 50, 51, 52, 53, 54, 55, 56, 57, 58, 59, 60, 61, 62, 63, 64, 65, 66, 67, 68, 69, 70, 71, 72, 73, 74, 75, 76, 77, 78, 79, 80, 81, 82, 83, 84, 85, 86, 87, 88, 89, 90, 91, 92, 93, 94, 95, 96, 97, 98, 99, 100, 101, 102, 103, 104, 105, 106, 107, 108, 109, 110, 111, 112, 113, 114, 115, 116, 117, 118, 119, 120, 121, 122, 123, 124, 125, 126, 127, 128, 129, 130, 131, 132, 133, 134, 135, 136, 137, 138, 139, 140, 141, 142, 143, 144, 145, 146, 147, 148, 149, 150, 151, 152, 153, 154, 155, 156, 157, 158, 159, 160, 161, 162, 163, 164, 165, 166, 167, 168, 169, 170, 171, 172, 173, 174, 175, 176, 177, 178, 179, 180, 181, 182, 183, 184, 185, 186, 187, 188, 189, 190, 191, 192, 193, 194, 195, 196, 197, 198, 199, 200, 201, 202, 203, 204, 205, 206, 207, 208, 209, 210, 211, 212, 213, 214, 215, 216, 217, 218, 219, 220, 221, 222, 223, 224, 225, 226, 227, 228, 229, 230, 231, 232, 233, 234, 235, 236, 237, 238, 239, 240, 241, 242, 243, 244, 245, 246, 247, 248, 249, 250, 251, 252, 253, 254, 255, 256, 257, 258, 259, 260, 261, 262, 263, 264, 265, 266, 267, 268, 269, 270, 271, 272, 273, 274, 275, 276, 277, 278, 279, 280, 281, 282, 283, 284, 285, 286, 287, 288, 289, 290, 291, 292, 293, 294, 295, 296, 297, 298, 299, 300, 301, 302, 303, 304, 305, 306, 307, 308, 309, 310, 311, 312, 313, 314, 315, 316, 317, 318, 319, 320, 321, 322, 323, 324, 325, 326, 327, 328, 329, 330, 331, 332, 333, 334, 335, 336, 337, 338, 339, 340, 341, 342, 343, 344, 345, 346, 347, 348, 349, 350, 351, 352, 353, 354, 355, 356, 357, 358, 359, 360, 361, 362, 363, 364, 365, 366, 367, 368, 369, 370, 371, 372, 373, 374, 375, 376, 377, 378, 379, 380, 381, 382, 383, 384, 385, 386, 387, 388, 389, 390, 391, 392, 393, 394, 395, 396, 397, 398, 399], \"y\": [0, 0, 0, 2, 2, 2, 2, 3, 3, 4, 4, 4, 7, 8, 10, 10, 15, 17, 19, 27, 31, 35, 41, 53, 62, 75, 83, 111, 124, 149, 169, 206, 242, 273, 324, 353, 392, 420, 452, 488, 519, 559, 603, 652, 686, 723, 779, 826, 886, 937, 1008, 1075, 1152, 1223, 1306, 1389, 1583, 1694, 1783, 1886, 1981, 2109, 2206, 2293, 2415, 2549, 2649, 2752, 2872, 3029, 3163, 3303, 3435, 3583, 3720, 3867, 4021, 4167, 4337, 4531, 4706, 4971, 5164, 5394, 5598, 5815, 6075, 6348, 6642, 6929, 7200, 7471, 7745, 8102, 8498, 8884, 9195, 9520, 9900, 11903, 12237, 12573, 12948, 13254, 13699, 14011, 14476, 14894, 15301, 15685, 16095, 16475, 16893, 17400, 17834, 18213, 18655, 19268, 19693, 20160, 20642, 21129, 21604, 22123, 22674, 23174, 23727, 24309, 24915, 25602, 26273, 26816, 27497, 28084, 28732, 29861, 30601, 31358, 32063, 32771, 33425, 34193, 34968, 35747, 36511, 37364, 38135, 38938, 39795, 40699, 41585, 42518, 43379, 44386, 45257, 46091, 47033, 48040, 49036, 49980, 50921, 51797, 52889, 53866, 54849, 55794, 56706, 57542, 58390, 59449, 60472, 61529, 62550, 63498, 64469, 65288, 66333, 67376, 68472, 69561, 70626, 71642, 72775, 73890, 75062, 76271, 77472, 78586, 79722, 80776, 82066, 83198, 84372, 85619, 86752, 87882, 88935, 90020, 91148, 92290, 93379, 94503, 95542, 96318, 97497, 98627, 99773, 100842, 101757, 102685, 103569, 104538, 105526, 106490, 107416, 108334, 109150, 109856, 110586, 111266, 112161, 112998, 114031, 114610, 115197, 115914, 116616, 117306, 117956, 118534, 119014, 119502, 120010, 120527, 121090, 121641, 122111, 122607, 123097, 123611, 124315, 124985, 125562, 126121, 126611, 127059, 127571, 128121, 128668, 129188, 129635, 130070, 130519, 130993, 131578, 132162, 132726, 133227, 133738, 134218, 134699, 135223, 135715, 136200, 136696, 137139, 137621, 138122, 138648, 139188, 139700, 140182, 140573, 140958, 141360, 141772, 142186, 142628, 143019, 143355, 143709, 144096, 144451, 144789, 145136, 145477, 145810, 146111, 146444, 146756, 147092, 147343, 147622, 147901, 148153, 148439, 148738, 148994, 149218, 149435, 149649, 149850, 150114, 150336, 150570, 150798, 150999, 151160, 151327, 151529, 151727, 151918, 152093, 152274, 152419, 152556, 152718, 152869, 153032, 153184, 153339, 153470, 153587, 153724, 153847, 154010, 154147, 154274, 154392, 154486, 154596, 154703, 154823, 154918, 154996, 155080, 155158, 155252, 155360, 155447, 155550, 155642, 155732, 155813, 155913, 156014, 156111, 156212, 156302, 156385, 156463, 156567, 156705, 156825, 156938, 157051, 157157, 157248, 157346, 157435, 157548, 157656, 157756, 157853, 157930, 158063, 158189, 158306, 158446, 158607, 158725, 158856, 159044, 159216, 159370, 159558, 159755, 159967, 160166, 160441, 160692, 160949, 161240, 161552, 161843, 162114, 162468, 162927, 163396, 164110, 164623, 165101, 165547, 166177, 166862, 167642, 168436, 169275, 170179, 171058]}, {\"mode\": \"lines+markers\", \"name\": \"Fitted Infections\", \"type\": \"scatter\", \"x\": [0, 1, 2, 3, 4, 5, 6, 7, 8, 9, 10, 11, 12, 13, 14, 15, 16, 17, 18, 19, 20, 21, 22, 23, 24, 25, 26, 27, 28, 29, 30, 31, 32, 33, 34, 35, 36, 37, 38, 39, 40, 41, 42, 43, 44, 45, 46, 47, 48, 49, 50, 51, 52, 53, 54, 55, 56, 57, 58, 59, 60, 61, 62, 63, 64, 65, 66, 67, 68, 69, 70, 71, 72, 73, 74, 75, 76, 77, 78, 79, 80, 81, 82, 83, 84, 85, 86, 87, 88, 89, 90, 91, 92, 93, 94, 95, 96, 97, 98, 99, 100, 101, 102, 103, 104, 105, 106, 107, 108, 109, 110, 111, 112, 113, 114, 115, 116, 117, 118, 119, 120, 121, 122, 123, 124, 125, 126, 127, 128, 129, 130, 131, 132, 133, 134, 135, 136, 137, 138, 139, 140, 141, 142, 143, 144, 145, 146, 147, 148, 149, 150, 151, 152, 153, 154, 155, 156, 157, 158, 159, 160, 161, 162, 163, 164, 165, 166, 167, 168, 169, 170, 171, 172, 173, 174, 175, 176, 177, 178, 179, 180, 181, 182, 183, 184, 185, 186, 187, 188, 189, 190, 191, 192, 193, 194, 195, 196, 197, 198, 199, 200, 201, 202, 203, 204, 205, 206, 207, 208, 209, 210, 211, 212, 213, 214, 215, 216, 217, 218, 219, 220, 221, 222, 223, 224, 225, 226, 227, 228, 229, 230, 231, 232, 233, 234, 235, 236, 237, 238, 239, 240, 241, 242, 243, 244, 245, 246, 247, 248, 249, 250, 251, 252, 253, 254, 255, 256, 257, 258, 259, 260, 261, 262, 263, 264, 265, 266, 267, 268, 269, 270, 271, 272, 273, 274, 275, 276, 277, 278, 279, 280, 281, 282, 283, 284, 285, 286, 287, 288, 289, 290, 291, 292, 293, 294, 295, 296, 297, 298, 299, 300, 301, 302, 303, 304, 305, 306, 307, 308, 309, 310, 311, 312, 313, 314, 315, 316, 317, 318, 319, 320, 321, 322, 323, 324, 325, 326, 327, 328, 329, 330, 331, 332, 333, 334, 335, 336, 337, 338, 339, 340, 341, 342, 343, 344, 345, 346, 347, 348, 349, 350, 351, 352, 353, 354, 355, 356, 357, 358, 359, 360, 361, 362, 363, 364, 365, 366, 367, 368, 369, 370, 371, 372, 373, 374, 375, 376, 377, 378, 379, 380, 381, 382, 383, 384, 385, 386, 387, 388, 389, 390, 391, 392, 393, 394, 395, 396, 397, 398, 399], \"y\": [47.0, 59.09474192462544, 72.77387324025798, 88.37958664607685, 106.27129778472202, 126.83181041403475, 150.47258743399075, 177.6383633080139, 208.811233101498, 244.5143289813867, 285.31514680611997, 331.82856851338767, 384.71960485673225, 444.70586651702104, 512.5597634749803, 589.1104270184107, 675.2453406471575, 771.9116647740901, 880.1172391622974, 1000.9312420741247, 1135.4844913068766, 1284.9693691357659, 1450.6393558939578, 1633.8081594570408, 1835.8484304669773, 2058.1900554507306, 2302.318026553775, 2569.769883274919, 2862.13272191057, 3181.039813707828, 3528.1667922070183, 3905.2274686321807, 4313.969261067652, 4756.168274488364, 5233.624071822184, 5748.154128023106, 6301.5880261100565, 6895.761424187938, 7532.509819069636, 8213.662160418406, 8941.034337298503, 9716.422590690112, 10541.596889673005, 11418.294307894277, 12348.212451138494, 13333.002966931193, 14374.265184812655, 15473.539920656656, 16632.30348804967, 17851.961943989452, 19133.84561504736, 20479.203920548072, 21889.200535481825, 23364.90891039835, 24907.308170345124, 26517.279425427467, 28195.602487154832, 29942.953025264265, 31759.900173024715, 33646.904612072474, 35604.3169875228, 37632.376978528446, 39731.2126340407, 41900.84026628976, 44141.164793286734, 46451.98038948231, 48832.97175840626, 51283.71558792038, 53803.68257091974, 56392.23970327058, 59048.65292358365, 61772.09016991827, 64561.62460088081, 67416.2382420766, 70334.82578282202, 73316.19864391991, 76359.08927358655, 79462.15555819147, 82623.98544940534, 85843.10171371797, 89117.96673738884, 92446.98746216494, 95828.52032718412, 99260.87631924325, 102742.32591803906, 106271.10416649026, 109845.41556130153, 113463.43903374393, 117123.3327414054, 120823.23884409739, 124561.28817767158, 128335.60478739327, 132144.31026393455, 135985.52811384317, 139857.38776804612, 143758.0286394259, 147685.60378962534, 151638.2836396475, 155614.25929457982, 159611.74585570436, 163628.98540693228, 167664.24990900798, 171715.84382678382, 175782.1066089863, 179861.41495283242, 183952.1848791345, 188052.8736250962, 192161.98133701447, 196278.0525895526, 200399.6777215096, 204525.4940046058, 208654.18664518572, 212784.48951046373, 216915.18585214182, 221045.10899520118, 225173.14238481323, 229298.21988431885, 233419.32620695347, 237535.49645981533, 241645.81600370537, 245749.42061062294, 249845.49571646782, 253933.27585058933, 258012.04446841218, 262081.1330914634, 266139.92034498637, 270187.8315143392, 274224.33768770704, 278248.9544408601, 282261.24111887434, 286260.80003618996, 290247.2749195811, 294220.35002000164, 298179.74934865325, 302125.23484131653, 306056.6052183279, 309973.6951730239, 313876.3746612608, 317764.54655531456, 321638.1457044848, 325497.13815323287, 329341.5199330667, 333171.31522294873, 336986.57530001865, 340787.3778606556, 344573.82554864296, 348346.0444582558, 352104.1830975938, 355848.4117132351, 359578.92076992604, 363295.919754509, 366999.6361878835, 370690.3149137553, 374368.21669583546, 378033.61723452073, 381686.80626506195, 385328.08682611166, 388957.7740533117, 392576.1943475725, 396183.6845829085, 399780.59136779065, 403367.2700504384, 406944.0840021906, 410511.40389103245, 414069.6071329708, 417619.07702467643, 421160.20211988996, 424693.3756210698, 428218.9947635046, 431737.4602564644, 435249.17574868095, 438754.5473109852, 442253.9829128881, 445747.8919350527, 449236.68479982606, 452720.77253559773, 456200.56636387814, 459676.4772127979, 463148.91552673996, 466618.2909112466, 470085.0118215723, 473549.4851009649, 477012.1158566474, 480473.30724407546, 483933.4602160526, 487392.9731778081, 490852.24181178166, 494311.65901476727, 497771.6146895181, 501232.49553737993, 504694.6847637806, 508158.56221325224, 511624.5041770306, 515092.8832909122, 518564.0684289463, 522038.4244160042, 525516.3121650332, 528998.0885751009, 532484.1064303115, 535974.714335139, 539470.2569008939, 542971.074567493, 546477.5034719905, 549989.8754955147, 553508.5182391802, 557033.7551178107, 560565.9054168592, 564105.2841038433, 567652.2019233138, 571206.9654110662, 574769.8769149065, 578341.2346276079, 581921.3325906668, 585510.4607238617, 589108.9048511415, 592716.9467441874, 596334.8643543018, 599962.9316699151, 603601.4187736671, 607250.5919283998, 610910.7136332502, 614582.0426110376, 618264.833890021, 621959.3388965032, 625665.8054814546, 629384.4779717291, 633115.5972443466, 636859.4008115311, 640616.1228037892, 644385.9940601597, 648169.2421745873, 651966.0915752762, 655776.7637467751, 659601.4772335489, 663440.4476018588, 667293.887272104, 671162.005762184, 675045.0099158838, 678943.1039511226, 682856.4894233593, 686785.3651862897, 690729.9275585378, 694690.3703726691, 698666.8850253697, 702659.6605175729, 706668.8835436921, 710694.738554654, 714737.4078001154, 718797.0713476079, 722873.9071605012, 726968.0911595367, 731079.7972917383, 735209.1975284839, 739356.4619285391, 743521.7586945534, 747705.2542954475, 751907.1134327414, 756127.499100606, 760366.5726446491, 764624.4937782313, 768901.4206458259, 773197.5098889928, 777512.9166826145, 781847.7947519955, 786202.2963784469, 790576.5725244769, 794970.7728475096, 799385.0457327028, 803819.5382665368, 808274.3963557392, 812749.7647561994, 817245.7871040482, 821762.6058920538, 826300.3625395873, 830859.1974607385, 835439.250080343, 840040.6588403577, 844663.5611992184, 849308.0937401131, 853974.392175537, 858662.5913682701, 863372.8253035512, 868105.2271919926, 872859.9294847937, 877637.0638955284, 882436.7613729909, 887259.1521692437, 892104.365880165, 896972.5314586236, 901863.7772065813, 906778.2307912204, 911716.01931772, 916677.2693311156, 921662.1068252996, 926670.657224012, 931703.0454643449, 936759.395999309, 941839.8328096156, 946944.4793910419, 952073.4587928838, 957226.8936593352, 962404.9062307713, 967607.6183107764, 972835.151315829, 978087.6263250193, 983365.164071247, 988667.8849560141, 993995.9090634997, 999349.356173799, 1004728.3457166892, 1010132.9968078084, 1015563.4283090279, 1021019.7588034901, 1026502.1066024171, 1032010.5897510222, 1037545.3260335278, 1043106.4330813925, 1048694.0283565847, 1054308.2290348376, 1059949.1520828148, 1065616.9142644203, 1071311.6321465615, 1077033.422104365, 1082782.4003610888, 1088558.682994958, 1094362.3858892194, 1100193.6247660404, 1106052.5151912614, 1111939.172578643, 1117853.7121936989, 1123796.249206636, 1129766.8987144418, 1135765.7756474973, 1141792.9948228484, 1147848.6709499743, 1153932.9186357977, 1160045.85238949, 1166187.586599632, 1172358.2355182425, 1178557.9133311128, 1184786.734129016, 1191044.8119085361, 1197332.2605733317, 1203649.193935058, 1209995.725748986, 1216371.9696246292, 1222778.0391755144, 1229214.047879905, 1235680.1091351805, 1242176.336256934, 1248702.8424780725, 1255259.740982655, 1261847.144982626, 1268465.1676056879, 1275113.9219385842, 1281793.5209849803, 1288504.0775383685, 1295245.7043672882, 1302018.514152643, 1308822.6195078106, 1315658.1330687064, 1322525.167366617, 1329423.8348673966, 1336354.2479714486, 1343316.5189897807, 1350310.7601783078, 1357337.0837291358, 1364395.6017621597, 1371486.4262965003, 1378609.6692849393, 1385765.4426035357, 1392953.858048656, 1400175.0273624456, 1407429.0621915318, 1414716.0741110037, 1422036.174611014, 1429389.475072153, 1436776.0868069816, 1444196.1210487387, 1451649.6889481705, 1459136.9015735306, 1466657.8698593683, 1474212.7046055177, 1481801.5165654807, 1489424.4164009697, 1497081.5146816922, 1504772.9218782336, 1512498.7482532093, 1520259.103991449, 1528054.09920045, 1535883.8438830338, 1543748.4479373489, 1551648.0211114543, 1559582.672916581, 1567552.512823939, 1575557.6501914158, 1583598.1942566743, 1591674.2541364671, 1599785.9386978736, 1607933.3566418388]}, {\"mode\": \"lines+markers\", \"name\": \"Fitted Deaths\", \"type\": \"scatter\", \"x\": [0, 1, 2, 3, 4, 5, 6, 7, 8, 9, 10, 11, 12, 13, 14, 15, 16, 17, 18, 19, 20, 21, 22, 23, 24, 25, 26, 27, 28, 29, 30, 31, 32, 33, 34, 35, 36, 37, 38, 39, 40, 41, 42, 43, 44, 45, 46, 47, 48, 49, 50, 51, 52, 53, 54, 55, 56, 57, 58, 59, 60, 61, 62, 63, 64, 65, 66, 67, 68, 69, 70, 71, 72, 73, 74, 75, 76, 77, 78, 79, 80, 81, 82, 83, 84, 85, 86, 87, 88, 89, 90, 91, 92, 93, 94, 95, 96, 97, 98, 99, 100, 101, 102, 103, 104, 105, 106, 107, 108, 109, 110, 111, 112, 113, 114, 115, 116, 117, 118, 119, 120, 121, 122, 123, 124, 125, 126, 127, 128, 129, 130, 131, 132, 133, 134, 135, 136, 137, 138, 139, 140, 141, 142, 143, 144, 145, 146, 147, 148, 149, 150, 151, 152, 153, 154, 155, 156, 157, 158, 159, 160, 161, 162, 163, 164, 165, 166, 167, 168, 169, 170, 171, 172, 173, 174, 175, 176, 177, 178, 179, 180, 181, 182, 183, 184, 185, 186, 187, 188, 189, 190, 191, 192, 193, 194, 195, 196, 197, 198, 199, 200, 201, 202, 203, 204, 205, 206, 207, 208, 209, 210, 211, 212, 213, 214, 215, 216, 217, 218, 219, 220, 221, 222, 223, 224, 225, 226, 227, 228, 229, 230, 231, 232, 233, 234, 235, 236, 237, 238, 239, 240, 241, 242, 243, 244, 245, 246, 247, 248, 249, 250, 251, 252, 253, 254, 255, 256, 257, 258, 259, 260, 261, 262, 263, 264, 265, 266, 267, 268, 269, 270, 271, 272, 273, 274, 275, 276, 277, 278, 279, 280, 281, 282, 283, 284, 285, 286, 287, 288, 289, 290, 291, 292, 293, 294, 295, 296, 297, 298, 299, 300, 301, 302, 303, 304, 305, 306, 307, 308, 309, 310, 311, 312, 313, 314, 315, 316, 317, 318, 319, 320, 321, 322, 323, 324, 325, 326, 327, 328, 329, 330, 331, 332, 333, 334, 335, 336, 337, 338, 339, 340, 341, 342, 343, 344, 345, 346, 347, 348, 349, 350, 351, 352, 353, 354, 355, 356, 357, 358, 359, 360, 361, 362, 363, 364, 365, 366, 367, 368, 369, 370, 371, 372, 373, 374, 375, 376, 377, 378, 379, 380, 381, 382, 383, 384, 385, 386, 387, 388, 389, 390, 391, 392, 393, 394, 395, 396, 397, 398, 399], \"y\": [0.0, 0.14348780904997605, 0.3218354098977511, 0.5397986927447487, 0.8030830276923584, 1.1183985898784734, 1.4935310255287668, 1.9374255486156726, 2.4602828073833782, 3.0736651958622683, 3.7906127025699425, 4.625767348526507, 5.595505420030599, 6.718076766151949, 8.013750448646805, 9.504965963099918, 11.216489286269438, 13.175572918239236, 15.41211913738929, 17.95884542735593, 20.8514512672547, 24.128785221904426, 27.833011293121512, 32.00977346578373, 36.70835733375252, 41.98184756164007, 47.88728058024575, 54.48579052992341, 61.84274710530083, 70.02788630205791, 79.11542985957519, 89.18419498335857, 100.31769147975659, 112.6042063900267, 126.13687462450503, 141.01373513580813, 157.337771678603, 175.21693756490856, 194.76416364002245, 216.097349224781, 239.33933557797778, 264.61786157318863, 292.0655015481399, 321.81958486087024, 354.0220981040218, 388.8195690063116, 426.36293336582884, 466.8073847474023, 510.31220756478956, 557.0405946023807, 607.1594487793078, 660.8391710321808, 718.2534341567047, 779.5789442646374, 844.9951906044749, 914.6841846144872, 988.8301898450972, 1067.6194433503147, 1151.2398699623134, 1239.8807901966256, 1333.7326254396287, 1432.9865969098503, 1537.8344244928358, 1648.4680238130784, 1765.0792033621597, 1887.8593637662846, 2016.9991990532465, 2152.688401412731, 2295.1153715665478, 2444.4669341130943, 2600.9280597732354, 2764.681596340276, 2935.9080058081995, 3114.785114105279, 3301.4878675071673, 3496.1881023218803, 3699.054325289454, 3910.2515037706503, 4129.940871264981, 4358.279743975922, 4595.421350605545, 4841.514674752645, 5096.704312151891, 5361.130340003378, 5634.928200838878, 5918.228599206331, 6211.157412641019, 6513.83561539794, 6826.379215635767, 7148.899205517645, 7481.501524568573, 7824.287034918633, 8177.35150846294, 8540.785627278203, 8914.67499235027, 9299.100147803856, 9694.136609704125, 10099.854911902483, 10516.320653566725, 10943.594564111618, 11381.732567920424, 11830.785865650667, 12290.801015060937, 12761.820025826339, 13243.880454807731, 13737.015511819278, 14241.254167737961, 14756.621268785268, 15283.137655658906, 15820.820284210191, 16369.682351444972, 16929.733421939345, 17500.979571254047, 18083.423511496112, 18677.064704310313, 19281.899531731735, 19897.921424067586, 20525.120969636955, 21163.4860839755, 21813.00214467219, 22473.65210073037, 23145.416630372532, 23828.274280337377, 24522.201578050277, 25227.173172725714, 25943.161975407173, 26670.139270917396, 27408.074842139173, 28156.93710758608, 28916.693231695543, 29687.309234291057, 30468.750120663262, 31260.97998626939, 32063.962115193684, 32877.659102782825, 33702.03295607783, 34537.04518333853, 35382.65687751337, 36238.82883377278, 37105.521630729505, 37982.69571013222, 38870.31145868463, 39768.32929454335, 40676.70974033359, 41595.41349155006, 42524.40148733661, 43463.63497812287, 44413.07558698392, 45372.68537034891, 46342.426872969685, 47322.263180520786, 48312.157970401415, 49312.07556571039, 50321.98097259124, 51341.83992210507, 52371.61891147507, 53411.285248542226, 54460.80707477047, 55520.15339839815, 56589.29412862986, 57668.200109904516, 58756.84313039461, 59855.19594837869, 60963.232314446635, 62080.92701143596, 63208.25584545257, 64345.19566332175, 65491.72436653475, 66647.82094165061, 67813.46545763247, 68988.63906578635, 70173.32401012412, 71367.50364335696, 72571.16243846559, 73784.28596889805, 75006.86091781851, 76238.87508153965, 77480.31738623382, 78731.17786310676, 79991.44765041153, 81261.11899093896, 82540.18524651324, 83828.64087779266, 85126.48143519105, 86433.7035549438, 87750.30496374378, 89076.28446930728, 90411.641941934, 91756.37830983453, 93110.49555434848, 94473.9967123491, 95846.88584703271, 97229.16804396006, 98620.84940098379, 100021.9370187458, 101432.4390023017, 102852.36443830389, 104281.723386773, 105720.52687337658, 107168.78687996592, 108626.51631230542, 110093.72900254231, 111570.43970793241, 113056.66409349503, 114552.41872189322, 116057.72103348357, 117572.58933014667, 119097.0427812758, 120631.10140527977, 122174.78605869284, 123728.11842342344, 125291.12098932888, 126863.8170525172, 128446.23070169205, 130038.38680699618, 131640.31100898678, 133252.029702712, 134873.57003217243, 136504.95987959218, 138146.22785413894, 139797.4032816668, 141458.51619376807, 143129.59731816067, 144810.67806939696, 146501.79053896278, 148202.9674858988, 149914.24232687405, 151635.64912611293, 153367.2225887825, 155108.99805114284, 156861.0114722925, 158623.29942482538, 160395.89907993624, 162178.8482014727, 163972.1851415845, 165775.94884155094, 167590.17881690728, 169414.91514348745, 171250.19845045885, 173096.0699167053, 174952.57126710922, 176819.7447616769, 178697.6331890482, 180586.27986010982, 182485.72860212857, 184396.023751082, 186317.21014518538, 188249.3331193611, 190192.43850064484, 192146.57260137668, 194111.78221342547, 196088.11460192254, 198075.61750209567, 200074.33911344619, 202084.32809439223, 204105.63355554655, 206138.30505626719, 208182.3925992427, 210237.94662517993, 212305.01801433065, 214383.65807852236, 216473.91855266198, 218575.85159224158, 220689.50977302235, 222814.94609240812, 224952.21395327107, 227101.367164132, 229262.45993640702, 231435.5468895521, 233620.68303678994, 235817.92378286296, 238027.32492148617, 240248.9426394698, 242482.83350928617, 244729.05448186543, 246987.6628858239, 249258.71642772044, 251542.27319314127, 253838.39163492358, 256147.13057362667, 258468.54919596814, 260802.70705860146, 263149.6640775641, 265509.4805273378, 267882.21703918144, 270267.93460465106, 272666.6945689926, 275078.55862745986, 277503.5888245447, 279941.84755529393, 282393.39756417833, 284858.301938187, 287336.62410715007, 289828.42784326326, 292333.77726333216, 294852.73682105885, 297385.37130719057, 299931.745848755, 302491.9259105959, 305065.9772920818, 307653.9661235384, 310255.95886646654, 312872.0223166902, 315502.2236001848, 318146.63016890653, 320805.30980180897, 323478.33060377283, 326165.7610046027, 328867.66975810094, 331584.1259463315, 334315.19897670223, 337060.9585769429, 339821.47479752725, 342596.81801132945, 345387.0589133631, 348192.2685206028, 351012.518160983, 353847.8794754748, 356698.42443062697, 359564.22531078476, 362445.35471771954, 365341.88557030354, 368253.89110423124, 371181.44486716774, 374124.6207182064, 377083.4928347411, 380058.1357083254, 383048.6241443262, 386055.0332616165, 389077.43849229784, 392115.91557958035, 395170.54057684116, 398241.389851058, 401328.5400807161, 404432.06825552194, 407552.0516761591, 410688.5679540645, 413841.69501011126, 417011.5110735992, 420198.0946847807, 423401.52469338913, 426621.8802583993, 429859.24084783497, 433113.6862385917, 436385.2965148263, 439674.15207280684, 442980.33361207676, 446303.9221429294, 449644.99898353225, 453003.6457598651, 456379.9444056584, 459773.977160692, 463185.8265670697, 466615.57547440653, 470063.3070376817, 473529.1047186955, 477013.0522908478, 480515.2338318079, 484035.7337257955, 487574.6366625416, 491132.02763331117, 494707.99193611916, 498302.61517390603, 501915.9832542581, 505548.18238985114, 509199.29909733176, 512869.42019735253, 516558.63281461084, 520267.02437846543, 523994.6826217561, 527741.6955809018, 531508.1515946887, 535294.1393073912, 539099.7476616339, 542925.0659052993, 546770.1835881897, 550635.1905617929, 554520.1769796765, 558425.2332973798, 562350.4502723849, 566295.9189641157, 570261.7307303608, 574247.9772272026, 578254.7504151919, 582282.1425561723, 586330.2462132652, 590399.1542500524, 594488.9598180788, 598599.7563717993, 602731.6376686313, 606884.6977658148, 611059.0310204135, 615254.732084308, 619471.8958946388, 623710.6176954936, 627970.9930298304, 632253.1177387165, 636557.087961253, 640883.0001204228, 645230.9509322719]}],\n",
       "                        {\"height\": 600, \"template\": {\"data\": {\"bar\": [{\"error_x\": {\"color\": \"#2a3f5f\"}, \"error_y\": {\"color\": \"#2a3f5f\"}, \"marker\": {\"line\": {\"color\": \"#E5ECF6\", \"width\": 0.5}}, \"type\": \"bar\"}], \"barpolar\": [{\"marker\": {\"line\": {\"color\": \"#E5ECF6\", \"width\": 0.5}}, \"type\": \"barpolar\"}], \"carpet\": [{\"aaxis\": {\"endlinecolor\": \"#2a3f5f\", \"gridcolor\": \"white\", \"linecolor\": \"white\", \"minorgridcolor\": \"white\", \"startlinecolor\": \"#2a3f5f\"}, \"baxis\": {\"endlinecolor\": \"#2a3f5f\", \"gridcolor\": \"white\", \"linecolor\": \"white\", \"minorgridcolor\": \"white\", \"startlinecolor\": \"#2a3f5f\"}, \"type\": \"carpet\"}], \"choropleth\": [{\"colorbar\": {\"outlinewidth\": 0, \"ticks\": \"\"}, \"type\": \"choropleth\"}], \"contour\": [{\"colorbar\": {\"outlinewidth\": 0, \"ticks\": \"\"}, \"colorscale\": [[0.0, \"#0d0887\"], [0.1111111111111111, \"#46039f\"], [0.2222222222222222, \"#7201a8\"], [0.3333333333333333, \"#9c179e\"], [0.4444444444444444, \"#bd3786\"], [0.5555555555555556, \"#d8576b\"], [0.6666666666666666, \"#ed7953\"], [0.7777777777777778, \"#fb9f3a\"], [0.8888888888888888, \"#fdca26\"], [1.0, \"#f0f921\"]], \"type\": \"contour\"}], \"contourcarpet\": [{\"colorbar\": {\"outlinewidth\": 0, \"ticks\": \"\"}, \"type\": \"contourcarpet\"}], \"heatmap\": [{\"colorbar\": {\"outlinewidth\": 0, \"ticks\": \"\"}, \"colorscale\": [[0.0, \"#0d0887\"], [0.1111111111111111, \"#46039f\"], [0.2222222222222222, \"#7201a8\"], [0.3333333333333333, \"#9c179e\"], [0.4444444444444444, \"#bd3786\"], [0.5555555555555556, \"#d8576b\"], [0.6666666666666666, \"#ed7953\"], [0.7777777777777778, \"#fb9f3a\"], [0.8888888888888888, \"#fdca26\"], [1.0, \"#f0f921\"]], \"type\": \"heatmap\"}], \"heatmapgl\": [{\"colorbar\": {\"outlinewidth\": 0, \"ticks\": \"\"}, \"colorscale\": [[0.0, \"#0d0887\"], [0.1111111111111111, \"#46039f\"], [0.2222222222222222, \"#7201a8\"], [0.3333333333333333, \"#9c179e\"], [0.4444444444444444, \"#bd3786\"], [0.5555555555555556, \"#d8576b\"], [0.6666666666666666, \"#ed7953\"], [0.7777777777777778, \"#fb9f3a\"], [0.8888888888888888, \"#fdca26\"], [1.0, \"#f0f921\"]], \"type\": \"heatmapgl\"}], \"histogram\": [{\"marker\": {\"colorbar\": {\"outlinewidth\": 0, \"ticks\": \"\"}}, \"type\": \"histogram\"}], \"histogram2d\": [{\"colorbar\": {\"outlinewidth\": 0, \"ticks\": \"\"}, \"colorscale\": [[0.0, \"#0d0887\"], [0.1111111111111111, \"#46039f\"], [0.2222222222222222, \"#7201a8\"], [0.3333333333333333, \"#9c179e\"], [0.4444444444444444, \"#bd3786\"], [0.5555555555555556, \"#d8576b\"], [0.6666666666666666, \"#ed7953\"], [0.7777777777777778, \"#fb9f3a\"], [0.8888888888888888, \"#fdca26\"], [1.0, \"#f0f921\"]], \"type\": \"histogram2d\"}], \"histogram2dcontour\": [{\"colorbar\": {\"outlinewidth\": 0, \"ticks\": \"\"}, \"colorscale\": [[0.0, \"#0d0887\"], [0.1111111111111111, \"#46039f\"], [0.2222222222222222, \"#7201a8\"], [0.3333333333333333, \"#9c179e\"], [0.4444444444444444, \"#bd3786\"], [0.5555555555555556, \"#d8576b\"], [0.6666666666666666, \"#ed7953\"], [0.7777777777777778, \"#fb9f3a\"], [0.8888888888888888, \"#fdca26\"], [1.0, \"#f0f921\"]], \"type\": \"histogram2dcontour\"}], \"mesh3d\": [{\"colorbar\": {\"outlinewidth\": 0, \"ticks\": \"\"}, \"type\": \"mesh3d\"}], \"parcoords\": [{\"line\": {\"colorbar\": {\"outlinewidth\": 0, \"ticks\": \"\"}}, \"type\": \"parcoords\"}], \"pie\": [{\"automargin\": true, \"type\": \"pie\"}], \"scatter\": [{\"marker\": {\"colorbar\": {\"outlinewidth\": 0, \"ticks\": \"\"}}, \"type\": \"scatter\"}], \"scatter3d\": [{\"line\": {\"colorbar\": {\"outlinewidth\": 0, \"ticks\": \"\"}}, \"marker\": {\"colorbar\": {\"outlinewidth\": 0, \"ticks\": \"\"}}, \"type\": \"scatter3d\"}], \"scattercarpet\": [{\"marker\": {\"colorbar\": {\"outlinewidth\": 0, \"ticks\": \"\"}}, \"type\": \"scattercarpet\"}], \"scattergeo\": [{\"marker\": {\"colorbar\": {\"outlinewidth\": 0, \"ticks\": \"\"}}, \"type\": \"scattergeo\"}], \"scattergl\": [{\"marker\": {\"colorbar\": {\"outlinewidth\": 0, \"ticks\": \"\"}}, \"type\": \"scattergl\"}], \"scattermapbox\": [{\"marker\": {\"colorbar\": {\"outlinewidth\": 0, \"ticks\": \"\"}}, \"type\": \"scattermapbox\"}], \"scatterpolar\": [{\"marker\": {\"colorbar\": {\"outlinewidth\": 0, \"ticks\": \"\"}}, \"type\": \"scatterpolar\"}], \"scatterpolargl\": [{\"marker\": {\"colorbar\": {\"outlinewidth\": 0, \"ticks\": \"\"}}, \"type\": \"scatterpolargl\"}], \"scatterternary\": [{\"marker\": {\"colorbar\": {\"outlinewidth\": 0, \"ticks\": \"\"}}, \"type\": \"scatterternary\"}], \"surface\": [{\"colorbar\": {\"outlinewidth\": 0, \"ticks\": \"\"}, \"colorscale\": [[0.0, \"#0d0887\"], [0.1111111111111111, \"#46039f\"], [0.2222222222222222, \"#7201a8\"], [0.3333333333333333, \"#9c179e\"], [0.4444444444444444, \"#bd3786\"], [0.5555555555555556, \"#d8576b\"], [0.6666666666666666, \"#ed7953\"], [0.7777777777777778, \"#fb9f3a\"], [0.8888888888888888, \"#fdca26\"], [1.0, \"#f0f921\"]], \"type\": \"surface\"}], \"table\": [{\"cells\": {\"fill\": {\"color\": \"#EBF0F8\"}, \"line\": {\"color\": \"white\"}}, \"header\": {\"fill\": {\"color\": \"#C8D4E3\"}, \"line\": {\"color\": \"white\"}}, \"type\": \"table\"}]}, \"layout\": {\"annotationdefaults\": {\"arrowcolor\": \"#2a3f5f\", \"arrowhead\": 0, \"arrowwidth\": 1}, \"coloraxis\": {\"colorbar\": {\"outlinewidth\": 0, \"ticks\": \"\"}}, \"colorscale\": {\"diverging\": [[0, \"#8e0152\"], [0.1, \"#c51b7d\"], [0.2, \"#de77ae\"], [0.3, \"#f1b6da\"], [0.4, \"#fde0ef\"], [0.5, \"#f7f7f7\"], [0.6, \"#e6f5d0\"], [0.7, \"#b8e186\"], [0.8, \"#7fbc41\"], [0.9, \"#4d9221\"], [1, \"#276419\"]], \"sequential\": [[0.0, \"#0d0887\"], [0.1111111111111111, \"#46039f\"], [0.2222222222222222, \"#7201a8\"], [0.3333333333333333, \"#9c179e\"], [0.4444444444444444, \"#bd3786\"], [0.5555555555555556, \"#d8576b\"], [0.6666666666666666, \"#ed7953\"], [0.7777777777777778, \"#fb9f3a\"], [0.8888888888888888, \"#fdca26\"], [1.0, \"#f0f921\"]], \"sequentialminus\": [[0.0, \"#0d0887\"], [0.1111111111111111, \"#46039f\"], [0.2222222222222222, \"#7201a8\"], [0.3333333333333333, \"#9c179e\"], [0.4444444444444444, \"#bd3786\"], [0.5555555555555556, \"#d8576b\"], [0.6666666666666666, \"#ed7953\"], [0.7777777777777778, \"#fb9f3a\"], [0.8888888888888888, \"#fdca26\"], [1.0, \"#f0f921\"]]}, \"colorway\": [\"#636efa\", \"#EF553B\", \"#00cc96\", \"#ab63fa\", \"#FFA15A\", \"#19d3f3\", \"#FF6692\", \"#B6E880\", \"#FF97FF\", \"#FECB52\"], \"font\": {\"color\": \"#2a3f5f\"}, \"geo\": {\"bgcolor\": \"white\", \"lakecolor\": \"white\", \"landcolor\": \"#E5ECF6\", \"showlakes\": true, \"showland\": true, \"subunitcolor\": \"white\"}, \"hoverlabel\": {\"align\": \"left\"}, \"hovermode\": \"closest\", \"mapbox\": {\"style\": \"light\"}, \"paper_bgcolor\": \"white\", \"plot_bgcolor\": \"#E5ECF6\", \"polar\": {\"angularaxis\": {\"gridcolor\": \"white\", \"linecolor\": \"white\", \"ticks\": \"\"}, \"bgcolor\": \"#E5ECF6\", \"radialaxis\": {\"gridcolor\": \"white\", \"linecolor\": \"white\", \"ticks\": \"\"}}, \"scene\": {\"xaxis\": {\"backgroundcolor\": \"#E5ECF6\", \"gridcolor\": \"white\", \"gridwidth\": 2, \"linecolor\": \"white\", \"showbackground\": true, \"ticks\": \"\", \"zerolinecolor\": \"white\"}, \"yaxis\": {\"backgroundcolor\": \"#E5ECF6\", \"gridcolor\": \"white\", \"gridwidth\": 2, \"linecolor\": \"white\", \"showbackground\": true, \"ticks\": \"\", \"zerolinecolor\": \"white\"}, \"zaxis\": {\"backgroundcolor\": \"#E5ECF6\", \"gridcolor\": \"white\", \"gridwidth\": 2, \"linecolor\": \"white\", \"showbackground\": true, \"ticks\": \"\", \"zerolinecolor\": \"white\"}}, \"shapedefaults\": {\"line\": {\"color\": \"#2a3f5f\"}}, \"ternary\": {\"aaxis\": {\"gridcolor\": \"white\", \"linecolor\": \"white\", \"ticks\": \"\"}, \"baxis\": {\"gridcolor\": \"white\", \"linecolor\": \"white\", \"ticks\": \"\"}, \"bgcolor\": \"#E5ECF6\", \"caxis\": {\"gridcolor\": \"white\", \"linecolor\": \"white\", \"ticks\": \"\"}}, \"title\": {\"x\": 0.05}, \"xaxis\": {\"automargin\": true, \"gridcolor\": \"white\", \"linecolor\": \"white\", \"ticks\": \"\", \"title\": {\"standoff\": 15}, \"zerolinecolor\": \"white\", \"zerolinewidth\": 2}, \"yaxis\": {\"automargin\": true, \"gridcolor\": \"white\", \"linecolor\": \"white\", \"ticks\": \"\", \"title\": {\"standoff\": 15}, \"zerolinecolor\": \"white\", \"zerolinewidth\": 2}}}, \"title\": {\"text\": \"VSEIRD: Observed vs Fitted\\uff08400 Days)\", \"x\": 0.5}, \"width\": 1000, \"xaxis\": {\"title\": {\"text\": \"Day\"}}, \"yaxis\": {\"title\": {\"text\": \"Counts\"}}},\n",
       "                        {\"responsive\": true}\n",
       "                    ).then(function(){\n",
       "                            \n",
       "var gd = document.getElementById('b5bead1b-8fdd-41d5-aa1b-2232b3e1a1bd');\n",
       "var x = new MutationObserver(function (mutations, observer) {{\n",
       "        var display = window.getComputedStyle(gd).display;\n",
       "        if (!display || display === 'none') {{\n",
       "            console.log([gd, 'removed!']);\n",
       "            Plotly.purge(gd);\n",
       "            observer.disconnect();\n",
       "        }}\n",
       "}});\n",
       "\n",
       "// Listen for the removal of the full notebook cells\n",
       "var notebookContainer = gd.closest('#notebook-container');\n",
       "if (notebookContainer) {{\n",
       "    x.observe(notebookContainer, {childList: true});\n",
       "}}\n",
       "\n",
       "// Listen for the clearing of the current output cell\n",
       "var outputEl = gd.closest('.output');\n",
       "if (outputEl) {{\n",
       "    x.observe(outputEl, {childList: true});\n",
       "}}\n",
       "\n",
       "                        })\n",
       "                };\n",
       "                });\n",
       "            </script>\n",
       "        </div>"
      ]
     },
     "metadata": {},
     "output_type": "display_data"
    }
   ],
   "source": [
    "# val_days = 200\n",
    "# tspan = np.arange(0, val_days, 1)\n",
    "# observed_IRD = df_covid_history.loc[:, ['infected', 'discharged', 'deaths']].values\n",
    "data = df_covid_history.loc[0:(val_days-1), ['infected', 'discharged', 'deaths']].values\n",
    "\n",
    "fig = go.Figure()\n",
    "fig.add_trace(go.Scatter(x=tspan, y=data[:, 0], mode='markers', name='Observed Infections', line = dict(dash='dot')))\n",
    "# fig.add_trace(go.Scatter(x=tspan, y=data[:, 1], mode='markers', name='Observed Recovered', line = dict(dash='dot')))\n",
    "fig.add_trace(go.Scatter(x=tspan, y=data[:, 2], mode='markers', name='Observed Deaths', line = dict(dash='dot')))\n",
    "fig.add_trace(go.Scatter(x=tspan, y=fitted_predicted_IRD[:, 0], mode='lines+markers', name='Fitted Infections'))\n",
    "# fig.add_trace(go.Scatter(x=tspan, y=fitted_predicted_IRD[:, 1], mode='lines+markers', name='Fitted Recovered'))\n",
    "fig.add_trace(go.Scatter(x=tspan, y=fitted_predicted_IRD[:, 2], mode='lines+markers', name='Fitted Deaths'))\n",
    "fig.update_layout(title='VSEIRD: Observed vs Fitted（{} Days)'.format(val_days),\n",
    "                       xaxis_title='Day',\n",
    "                       yaxis_title='Counts',\n",
    "                       title_x=0.5,\n",
    "                      width=1000, height=600\n",
    "                     )"
   ]
  },
  {
   "cell_type": "code",
   "execution_count": null,
   "metadata": {},
   "outputs": [],
   "source": []
  },
  {
   "cell_type": "code",
   "execution_count": null,
   "metadata": {},
   "outputs": [],
   "source": []
  },
  {
   "cell_type": "code",
   "execution_count": null,
   "metadata": {},
   "outputs": [],
   "source": []
  },
  {
   "cell_type": "code",
   "execution_count": null,
   "metadata": {},
   "outputs": [],
   "source": []
  },
  {
   "cell_type": "markdown",
   "metadata": {},
   "source": [
    "# Parameter search"
   ]
  },
  {
   "cell_type": "code",
   "execution_count": 71,
   "metadata": {},
   "outputs": [],
   "source": [
    "\n",
    "def run(initV, initE, initI, initR, initD, initN, beta, sigma, gamma, mu, days,observed_IRD,data):\n",
    "    initial_conditions = [initV, initE, initI, initR, initN, initD]\n",
    "    params['beta'].value, params['sigma'].value,params['gamma'].value, params['mu'].value = [beta, sigma, gamma, mu]\n",
    "    tspan = np.arange(0, days, 1)\n",
    "    \n",
    "#     print(type(error))\n",
    "    result = minimize(error, params, args=(initial_conditions, tspan, data), method='leastsq')\n",
    "    \n",
    "    tspan_fit_pred = np.arange(0, observed_IRD.shape[0], 1)\n",
    "    params['beta'].value = result.params['beta'].value\n",
    "    params['sigma'].value = result.params['sigma'].value\n",
    "    params['gamma'].value = result.params['gamma'].value\n",
    "    params['mu'].value = result.params['mu'].value\n",
    "    tspan_fit_pred = np.arange(0, observed_IRD.shape[0], 1)\n",
    "\n",
    "    sol = ode_solver(tspan_fit_pred, initial_conditions, params)\n",
    "#     print(sol.shape)\n",
    "    S, E, I, R, D = sol[:, 0], sol[:, 1], sol[:, 2], sol[:, 3], sol[:, 4]\n",
    "#     print(I.shape,observed_IRD.shape[0])\n",
    "    return np.mean(np.abs(I[:days] - observed_IRD[:days, 0]))\n",
    "\n",
    "# run(initE, initI, initR, initD, initN, beta, sigma, gamma, mu, days,observed_IRD,data)\n",
    "errorlist=[]\n",
    "# for initE in range(10,100,100):\n",
    "#     for initI in range(1,100,10):\n",
    "initN = 1380000000\n",
    "# S0 = 966000000\n",
    "initV = 0\n",
    "initE = 1000\n",
    "initI = 47\n",
    "initR = 0\n",
    "initD = 0\n",
    "\n",
    "alpha = 0.02\n",
    "sigma = 1/5.2\n",
    "gamma = 1/2.9\n",
    "epsilon = 0.02\n",
    "mu = 0.034\n",
    "R0 = 4\n",
    "beta = R0 * gamma\n",
    "nat_b_rate=0.0174\n",
    "nat_d_rate = 0.0073\n",
    "days = 50\n",
    "\n",
    "initial_conditions = [initE, initI, initR, initN, initD]\n",
    "# print(initE,initI)\n",
    "observed_IRD = df_covid_history.loc[:, ['infected', 'discharged', 'deaths']].values\n",
    "data = df_covid_history.loc[0:(days-1), ['infected', 'discharged', 'deaths']].values\n",
    "# e = run( initV, initE, initI, initR, initD, initN, beta, sigma, gamma, mu, days,observed_IRD,data)\n",
    "# errorlist.append((e,initE,initI))"
   ]
  },
  {
   "cell_type": "code",
   "execution_count": null,
   "metadata": {},
   "outputs": [],
   "source": []
  },
  {
   "cell_type": "code",
   "execution_count": null,
   "metadata": {},
   "outputs": [],
   "source": []
  },
  {
   "cell_type": "code",
   "execution_count": null,
   "metadata": {},
   "outputs": [],
   "source": []
  },
  {
   "cell_type": "code",
   "execution_count": 72,
   "metadata": {},
   "outputs": [
    {
     "name": "stdout",
     "output_type": "stream",
     "text": [
      "5881.810225856797 1000 47\n"
     ]
    }
   ],
   "source": [
    "# print(errorlist)\n",
    "min_e = min(errorlist)\n",
    "opt_E = min_e[1]\n",
    "opt_I = min_e[2]\n",
    "print(min_e [0], opt_E,opt_I)"
   ]
  },
  {
   "cell_type": "code",
   "execution_count": 73,
   "metadata": {},
   "outputs": [
    {
     "data": {
      "text/plain": [
       "[(5881.810225856797, 1000, 47)]"
      ]
     },
     "execution_count": 73,
     "metadata": {},
     "output_type": "execute_result"
    }
   ],
   "source": [
    "errorlist"
   ]
  },
  {
   "cell_type": "code",
   "execution_count": null,
   "metadata": {},
   "outputs": [],
   "source": []
  }
 ],
 "metadata": {
  "kernelspec": {
   "display_name": "Python 3",
   "language": "python",
   "name": "python3"
  },
  "language_info": {
   "codemirror_mode": {
    "name": "ipython",
    "version": 3
   },
   "file_extension": ".py",
   "mimetype": "text/x-python",
   "name": "python",
   "nbconvert_exporter": "python",
   "pygments_lexer": "ipython3",
   "version": "3.7.4"
  }
 },
 "nbformat": 4,
 "nbformat_minor": 2
}
