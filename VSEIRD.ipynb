{
 "cells": [
  {
   "cell_type": "code",
   "execution_count": 1,
   "metadata": {},
   "outputs": [],
   "source": [
    "import os\n",
    "import sys\n",
    "import matplotlib.pyplot as plt\n",
    "import numpy as np\n",
    "import pandas as pd\n",
    "from scipy.integrate import odeint\n",
    "import plotly.graph_objects as go\n",
    "import plotly.io as pio\n",
    "import requests\n",
    "from lmfit import minimize, Parameters, Parameter, report_fit\n",
    "pio.renderers.default = \"notebook\"\n",
    "%matplotlib inline\n",
    "plt.style.use('ggplot')\n",
    "# Jupyter Specifics\n",
    "from IPython.display import HTML\n",
    "from ipywidgets.widgets import interact, IntSlider, FloatSlider, Layout, ToggleButton, ToggleButtons\n",
    "\n",
    "style = {'description_width': '100px'}\n",
    "slider_layout = Layout(width='99%')"
   ]
  },
  {
   "cell_type": "code",
   "execution_count": 2,
   "metadata": {},
   "outputs": [
    {
     "name": "stdout",
     "output_type": "stream",
     "text": [
      "Request Success? True\n",
      "(455, 9)\n"
     ]
    },
    {
     "data": {
      "text/html": [
       "<div>\n",
       "<style scoped>\n",
       "    .dataframe tbody tr th:only-of-type {\n",
       "        vertical-align: middle;\n",
       "    }\n",
       "\n",
       "    .dataframe tbody tr th {\n",
       "        vertical-align: top;\n",
       "    }\n",
       "\n",
       "    .dataframe thead th {\n",
       "        text-align: right;\n",
       "    }\n",
       "</style>\n",
       "<table border=\"1\" class=\"dataframe\">\n",
       "  <thead>\n",
       "    <tr style=\"text-align: right;\">\n",
       "      <th></th>\n",
       "      <th>day</th>\n",
       "      <th>total</th>\n",
       "      <th>confirmedCasesIndian</th>\n",
       "      <th>confirmedCasesForeign</th>\n",
       "      <th>confirmedButLocationUnidentified</th>\n",
       "      <th>discharged</th>\n",
       "      <th>deaths</th>\n",
       "      <th>infected</th>\n",
       "      <th>total_recovered_or_dead</th>\n",
       "    </tr>\n",
       "  </thead>\n",
       "  <tbody>\n",
       "    <tr>\n",
       "      <td>0</td>\n",
       "      <td>2020-03-10</td>\n",
       "      <td>47</td>\n",
       "      <td>31</td>\n",
       "      <td>16</td>\n",
       "      <td>0</td>\n",
       "      <td>0</td>\n",
       "      <td>0</td>\n",
       "      <td>47</td>\n",
       "      <td>0</td>\n",
       "    </tr>\n",
       "    <tr>\n",
       "      <td>1</td>\n",
       "      <td>2020-03-11</td>\n",
       "      <td>60</td>\n",
       "      <td>44</td>\n",
       "      <td>16</td>\n",
       "      <td>0</td>\n",
       "      <td>0</td>\n",
       "      <td>0</td>\n",
       "      <td>60</td>\n",
       "      <td>0</td>\n",
       "    </tr>\n",
       "    <tr>\n",
       "      <td>2</td>\n",
       "      <td>2020-03-12</td>\n",
       "      <td>73</td>\n",
       "      <td>56</td>\n",
       "      <td>17</td>\n",
       "      <td>0</td>\n",
       "      <td>0</td>\n",
       "      <td>0</td>\n",
       "      <td>73</td>\n",
       "      <td>0</td>\n",
       "    </tr>\n",
       "    <tr>\n",
       "      <td>3</td>\n",
       "      <td>2020-03-13</td>\n",
       "      <td>82</td>\n",
       "      <td>65</td>\n",
       "      <td>17</td>\n",
       "      <td>0</td>\n",
       "      <td>10</td>\n",
       "      <td>2</td>\n",
       "      <td>70</td>\n",
       "      <td>12</td>\n",
       "    </tr>\n",
       "    <tr>\n",
       "      <td>4</td>\n",
       "      <td>2020-03-14</td>\n",
       "      <td>84</td>\n",
       "      <td>67</td>\n",
       "      <td>17</td>\n",
       "      <td>0</td>\n",
       "      <td>10</td>\n",
       "      <td>2</td>\n",
       "      <td>72</td>\n",
       "      <td>12</td>\n",
       "    </tr>\n",
       "  </tbody>\n",
       "</table>\n",
       "</div>"
      ],
      "text/plain": [
       "          day  total  confirmedCasesIndian  confirmedCasesForeign  \\\n",
       "0  2020-03-10     47                    31                     16   \n",
       "1  2020-03-11     60                    44                     16   \n",
       "2  2020-03-12     73                    56                     17   \n",
       "3  2020-03-13     82                    65                     17   \n",
       "4  2020-03-14     84                    67                     17   \n",
       "\n",
       "   confirmedButLocationUnidentified  discharged  deaths  infected  \\\n",
       "0                                 0           0       0        47   \n",
       "1                                 0           0       0        60   \n",
       "2                                 0           0       0        73   \n",
       "3                                 0          10       2        70   \n",
       "4                                 0          10       2        72   \n",
       "\n",
       "   total_recovered_or_dead  \n",
       "0                        0  \n",
       "1                        0  \n",
       "2                        0  \n",
       "3                       12  \n",
       "4                       12  "
      ]
     },
     "execution_count": 2,
     "metadata": {},
     "output_type": "execute_result"
    }
   ],
   "source": [
    "response = requests.get('https://api.rootnet.in/covid19-in/stats/history')\n",
    "print('Request Success? {}'.format(response.status_code == 200))\n",
    "covid_history = response.json()['data']\n",
    "keys = ['day', 'total', 'confirmedCasesIndian', 'confirmedCasesForeign', 'confirmedButLocationUnidentified',\n",
    "        'discharged', 'deaths']\n",
    "df_covid_history = pd.DataFrame([[d.get('day'), \n",
    "                                  d['summary'].get('total'), \n",
    "                                  d['summary'].get('confirmedCasesIndian'), \n",
    "                                  d['summary'].get('confirmedCasesForeign'),\n",
    "                                  d['summary'].get('confirmedButLocationUnidentified'),\n",
    "                                  d['summary'].get('discharged'), \n",
    "                                  d['summary'].get('deaths')] \n",
    "                                 for d in covid_history],\n",
    "                    columns=keys)\n",
    "df_covid_history = df_covid_history.sort_values(by='day')\n",
    "df_covid_history['infected'] = df_covid_history['total'] - df_covid_history['discharged'] - df_covid_history['deaths']\n",
    "df_covid_history['total_recovered_or_dead'] = df_covid_history['discharged'] + df_covid_history['deaths']\n",
    "print(df_covid_history.shape)\n",
    "df_covid_history.head()"
   ]
  },
  {
   "cell_type": "code",
   "execution_count": 3,
   "metadata": {},
   "outputs": [],
   "source": [
    "# def ode_model(z, t, alpha, beta, epsilon, sigma, gamma, mu,nat_d_rate, nat_b_rate):\n",
    "#     \"\"\"\n",
    "#     Reference https://www.idmod.org/docs/hiv/model-seir.html\n",
    "#     \"\"\"\n",
    "#     V, S, E, I, R, D = z\n",
    "#     N = V + S + E + I + R + D\n",
    "#     dVdt = alpha*R + epsilon*S - nat_d_rate*V\n",
    "#     dSdt = -beta*S*I/N-epsilon*S + nat_b_rate*N - nat_d_rate*S\n",
    "#     dEdt = beta*S*I/N - sigma*E - nat_d_rate*E\n",
    "#     dIdt = sigma*E - gamma*I - mu*I - nat_d_rate*I\n",
    "#     dRdt = gamma*I -alpha*R - nat_d_rate*R\n",
    "#     dDdt = mu*I + nat_d_rate*(N)\n",
    "#     return [dVdt, dSdt, dEdt, dIdt, dRdt, dDdt]"
   ]
  },
  {
   "cell_type": "code",
   "execution_count": 4,
   "metadata": {},
   "outputs": [],
   "source": [
    "def ode_model(z, t, alpha, beta, epsilon, sigma, gamma, mu,nat_d_rate, nat_b_rate):\n",
    "    \"\"\"\n",
    "    Reference https://www.idmod.org/docs/hiv/model-seir.html\n",
    "    \"\"\"\n",
    "    V, S, E, I, R, D = z\n",
    "    N = V + S + E + I + R + D\n",
    "    dVdt = alpha*R + epsilon*S - nat_d_rate*V\n",
    "    dSdt = -beta*S*I/N-epsilon*S + nat_b_rate*N - nat_d_rate*S\n",
    "    dEdt = beta*S*I/N - sigma*E - nat_d_rate*E\n",
    "    dIdt = sigma*E - gamma*I - mu*I - nat_d_rate*I\n",
    "    dRdt = gamma*I -alpha*R - nat_d_rate*R\n",
    "    dDdt = mu*I + nat_d_rate*N\n",
    "    return [dVdt, dSdt, dEdt, dIdt, dRdt, dDdt]"
   ]
  },
  {
   "cell_type": "code",
   "execution_count": 5,
   "metadata": {},
   "outputs": [],
   "source": [
    "def ode_solver(t, initial_conditions, params, nat_d_rate, nat_b_rate):\n",
    "    initV, initE, initI, initR, initN, initD = initial_conditions\n",
    "    \n",
    "    alpha = params['alpha'].value\n",
    "    beta = params['beta'].value\n",
    "    epsilon = params['epsilon'].value\n",
    "    sigma = params['sigma'].value\n",
    "    gamma = params['gamma'].value\n",
    "    mu = params['mu'].value\n",
    "\n",
    "    \n",
    "    initS = initN - (initV + initE + initI + initR + initD)\n",
    "    res = odeint(ode_model, \n",
    "                 [initV, initS, initE, initI, initR, initD], \n",
    "                 t, \n",
    "                 args=(alpha, beta, epsilon,sigma, gamma, mu, nat_d_rate, nat_b_rate)\n",
    "                )\n",
    "    return res"
   ]
  },
  {
   "cell_type": "code",
   "execution_count": 6,
   "metadata": {},
   "outputs": [
    {
     "data": {
      "text/plain": [
       "'IRD'"
      ]
     },
     "execution_count": 6,
     "metadata": {},
     "output_type": "execute_result"
    }
   ],
   "source": [
    "a='VSEIRD'\n",
    "a[3:6]"
   ]
  },
  {
   "cell_type": "code",
   "execution_count": 7,
   "metadata": {},
   "outputs": [],
   "source": [
    "def error(params, initial_conditions, tspan, data, nat_d_rate, nat_b_rate):\n",
    "    sol = ode_solver(tspan, initial_conditions, params, nat_d_rate, nat_b_rate)\n",
    "#     print(sol[45,:])\n",
    "    return (sol[:, 3:6] - data).ravel()"
   ]
  },
  {
   "cell_type": "code",
   "execution_count": 10,
   "metadata": {},
   "outputs": [
    {
     "name": "stdout",
     "output_type": "stream",
     "text": [
      "(50, 3)\n"
     ]
    },
    {
     "data": {
      "text/html": [
       "<div>\n",
       "        \n",
       "        \n",
       "            <div id=\"44c7812d-ce9f-4fb7-9fab-4adc5f884ce0\" class=\"plotly-graph-div\" style=\"height:600px; width:1000px;\"></div>\n",
       "            <script type=\"text/javascript\">\n",
       "                require([\"plotly\"], function(Plotly) {\n",
       "                    window.PLOTLYENV=window.PLOTLYENV || {};\n",
       "                    \n",
       "                if (document.getElementById(\"44c7812d-ce9f-4fb7-9fab-4adc5f884ce0\")) {\n",
       "                    Plotly.newPlot(\n",
       "                        '44c7812d-ce9f-4fb7-9fab-4adc5f884ce0',\n",
       "                        [{\"line\": {\"dash\": \"dot\"}, \"mode\": \"markers\", \"name\": \"Observed Infections\", \"type\": \"scatter\", \"x\": [0, 1, 2, 3, 4, 5, 6, 7, 8, 9, 10, 11, 12, 13, 14, 15, 16, 17, 18, 19, 20, 21, 22, 23, 24, 25, 26, 27, 28, 29, 30, 31, 32, 33, 34, 35, 36, 37, 38, 39, 40, 41, 42, 43, 44, 45, 46, 47, 48, 49], \"y\": [47, 60, 73, 70, 72, 95, 99, 120, 134, 149, 196, 256, 329, 424, 469, 553, 634, 640, 810, 901, 1118, 1238, 1649, 1860, 2322, 2784, 3219, 3851, 4312, 4714, 5218, 6039, 6634, 7409, 8048, 9272, 10197, 10824, 11616, 12289, 13295, 14255, 15122, 15859, 16689, 17915, 18953, 20177, 21132, 22010]}, {\"line\": {\"dash\": \"dot\"}, \"mode\": \"markers\", \"name\": \"Observed Recovered\", \"type\": \"scatter\", \"x\": [0, 1, 2, 3, 4, 5, 6, 7, 8, 9, 10, 11, 12, 13, 14, 15, 16, 17, 18, 19, 20, 21, 22, 23, 24, 25, 26, 27, 28, 29, 30, 31, 32, 33, 34, 35, 36, 37, 38, 39, 40, 41, 42, 43, 44, 45, 46, 47, 48, 49], \"y\": [0, 0, 0, 10, 10, 13, 13, 14, 14, 20, 23, 23, 24, 35, 40, 43, 45, 67, 80, 96, 102, 124, 144, 156, 163, 213, 275, 319, 353, 411, 478, 516, 653, 765, 980, 1190, 1344, 1515, 1767, 2015, 2302, 2842, 3260, 3960, 4325, 4814, 5210, 5914, 6362, 7027]}, {\"line\": {\"dash\": \"dot\"}, \"mode\": \"markers\", \"name\": \"Observed Deaths\", \"type\": \"scatter\", \"x\": [0, 1, 2, 3, 4, 5, 6, 7, 8, 9, 10, 11, 12, 13, 14, 15, 16, 17, 18, 19, 20, 21, 22, 23, 24, 25, 26, 27, 28, 29, 30, 31, 32, 33, 34, 35, 36, 37, 38, 39, 40, 41, 42, 43, 44, 45, 46, 47, 48, 49], \"y\": [0, 0, 0, 2, 2, 2, 2, 3, 3, 4, 4, 4, 7, 8, 10, 10, 15, 17, 19, 27, 31, 35, 41, 53, 62, 75, 83, 111, 124, 149, 169, 206, 242, 273, 324, 353, 392, 420, 452, 488, 519, 559, 603, 652, 686, 723, 779, 826, 886, 937]}, {\"mode\": \"lines+markers\", \"name\": \"Fitted Infections\", \"type\": \"scatter\", \"x\": [0, 1, 2, 3, 4, 5, 6, 7, 8, 9, 10, 11, 12, 13, 14, 15, 16, 17, 18, 19, 20, 21, 22, 23, 24, 25, 26, 27, 28, 29, 30, 31, 32, 33, 34, 35, 36, 37, 38, 39, 40, 41, 42, 43, 44, 45, 46, 47, 48, 49], \"y\": [47.0, 55.59211077964953, 67.32065857389378, 82.55172598236275, 101.76008789612847, 125.52191975790474, 154.51038242837856, 189.49281991828983, 231.32868348694828, 280.9675538707671, 339.4468073395386, 407.8886152535208, 487.49604066946836, 579.5480935833438, 685.3936550667759, 806.444237001178, 944.1655892525058, 1100.0682020632507, 1275.6967892498758, 1472.6188650448812, 1692.4125473289519, 1936.6537462651277, 2206.9029168584866, 2504.6915436906907, 2831.508552458839, 3188.786835480143, 3577.890075529121, 4000.1000476173476, 4456.6045481881665, 4948.486138834745, 5476.711816049014, 6042.123719143558, 6645.431008108589, 7287.202953178829, 7967.863313153513, 8687.686037311387, 9446.792306360527, 10245.148901554638, 11082.567890269711, 11958.707594254167, 12873.074754609708, 13825.027862222587, 14813.781577021775, 15838.412114596673, 16897.86351687489, 17990.954751203837, 19116.387461206894, 20272.754303249127, 21458.547884293203, 22672.16978077571]}, {\"mode\": \"lines+markers\", \"name\": \"Fitted Recovered\", \"type\": \"scatter\", \"x\": [0, 1, 2, 3, 4, 5, 6, 7, 8, 9, 10, 11, 12, 13, 14, 15, 16, 17, 18, 19, 20, 21, 22, 23, 24, 25, 26, 27, 28, 29, 30, 31, 32, 33, 34, 35, 36, 37, 38, 39, 40, 41, 42, 43, 44, 45, 46, 47, 48, 49], \"y\": [0.0, 1.1123015297932928, 2.445433526209966, 4.071520251048188, 6.071863779187433, 8.539226219656792, 11.579987213316835, 15.3162246521686, 19.88774359533501, 25.45406199984231, 32.19635017485479, 40.31931246264195, 50.052994273733944, 61.65449272968574, 75.40954740527259, 91.63398602402476, 110.67499987428963, 132.9122239523776, 158.75859901739858, 188.66099421168303, 223.10057252444292, 262.5928833463349, 307.6876701043979, 358.96838691536766, 417.0514188972269, 482.5850078955059, 556.2478870784184, 638.7476338023375, 730.8187515281702, 833.2204981184291, 946.7344782793533, 1072.1620216666533, 1210.321372803403, 1362.044715394367, 1528.175060202825, 1709.5630250789154, 1907.0635375137808, 2121.532482023132, 2353.823334229594, 2604.783793180262, 2875.252457688657, 3166.0555573002903, 3478.003763506426, 3811.8891158690094, 4168.482074961954, 4548.528712903061, 4952.74807538526, 5381.829716378809, 5836.431402243865, 6317.177061158684]}, {\"mode\": \"lines+markers\", \"name\": \"Fitted Deaths\", \"type\": \"scatter\", \"x\": [0, 1, 2, 3, 4, 5, 6, 7, 8, 9, 10, 11, 12, 13, 14, 15, 16, 17, 18, 19, 20, 21, 22, 23, 24, 25, 26, 27, 28, 29, 30, 31, 32, 33, 34, 35, 36, 37, 38, 39, 40, 41, 42, 43, 44, 45, 46, 47, 48, 49], \"y\": [0.0, 0.1834021057145704, 0.4032160598340116, 0.6713341212709025, 1.0011618454891145, 1.4079943904351633, 1.9093722577595762, 2.5254243747354694, 3.2792026348796415, 4.197009318270777, 5.308716881841013, 6.648078223994634, 8.2530246415117, 10.165947893035767, 12.433962492979795, 15.109144089613258, 18.248739766790635, 21.915346148245906, 26.177051542502994, 31.107538608711454, 36.786144621220195, 43.29787673552228, 50.73338027517043, 59.18885904009004, 68.7659467524364, 79.57152992957701, 91.71752275368154, 105.32059548804669, 120.50185821767256, 137.38650277147127, 156.10340575515545, 176.78469624286828, 199.56529243902105, 224.5824110341376, 251.9750540637262, 281.88347798406835, 314.4486499731808, 349.8116951344774, 388.1133415067592, 429.4933647827197, 474.0900402859293, 522.0396039539544, 573.4757265527365, 628.5290068376586, 687.3264856243039, 749.9911825454412, 816.6416610853067, 887.3916220843922, 962.3495251771108, 1041.6182506781133]}],\n",
       "                        {\"height\": 600, \"template\": {\"data\": {\"bar\": [{\"error_x\": {\"color\": \"#2a3f5f\"}, \"error_y\": {\"color\": \"#2a3f5f\"}, \"marker\": {\"line\": {\"color\": \"#E5ECF6\", \"width\": 0.5}}, \"type\": \"bar\"}], \"barpolar\": [{\"marker\": {\"line\": {\"color\": \"#E5ECF6\", \"width\": 0.5}}, \"type\": \"barpolar\"}], \"carpet\": [{\"aaxis\": {\"endlinecolor\": \"#2a3f5f\", \"gridcolor\": \"white\", \"linecolor\": \"white\", \"minorgridcolor\": \"white\", \"startlinecolor\": \"#2a3f5f\"}, \"baxis\": {\"endlinecolor\": \"#2a3f5f\", \"gridcolor\": \"white\", \"linecolor\": \"white\", \"minorgridcolor\": \"white\", \"startlinecolor\": \"#2a3f5f\"}, \"type\": \"carpet\"}], \"choropleth\": [{\"colorbar\": {\"outlinewidth\": 0, \"ticks\": \"\"}, \"type\": \"choropleth\"}], \"contour\": [{\"colorbar\": {\"outlinewidth\": 0, \"ticks\": \"\"}, \"colorscale\": [[0.0, \"#0d0887\"], [0.1111111111111111, \"#46039f\"], [0.2222222222222222, \"#7201a8\"], [0.3333333333333333, \"#9c179e\"], [0.4444444444444444, \"#bd3786\"], [0.5555555555555556, \"#d8576b\"], [0.6666666666666666, \"#ed7953\"], [0.7777777777777778, \"#fb9f3a\"], [0.8888888888888888, \"#fdca26\"], [1.0, \"#f0f921\"]], \"type\": \"contour\"}], \"contourcarpet\": [{\"colorbar\": {\"outlinewidth\": 0, \"ticks\": \"\"}, \"type\": \"contourcarpet\"}], \"heatmap\": [{\"colorbar\": {\"outlinewidth\": 0, \"ticks\": \"\"}, \"colorscale\": [[0.0, \"#0d0887\"], [0.1111111111111111, \"#46039f\"], [0.2222222222222222, \"#7201a8\"], [0.3333333333333333, \"#9c179e\"], [0.4444444444444444, \"#bd3786\"], [0.5555555555555556, \"#d8576b\"], [0.6666666666666666, \"#ed7953\"], [0.7777777777777778, \"#fb9f3a\"], [0.8888888888888888, \"#fdca26\"], [1.0, \"#f0f921\"]], \"type\": \"heatmap\"}], \"heatmapgl\": [{\"colorbar\": {\"outlinewidth\": 0, \"ticks\": \"\"}, \"colorscale\": [[0.0, \"#0d0887\"], [0.1111111111111111, \"#46039f\"], [0.2222222222222222, \"#7201a8\"], [0.3333333333333333, \"#9c179e\"], [0.4444444444444444, \"#bd3786\"], [0.5555555555555556, \"#d8576b\"], [0.6666666666666666, \"#ed7953\"], [0.7777777777777778, \"#fb9f3a\"], [0.8888888888888888, \"#fdca26\"], [1.0, \"#f0f921\"]], \"type\": \"heatmapgl\"}], \"histogram\": [{\"marker\": {\"colorbar\": {\"outlinewidth\": 0, \"ticks\": \"\"}}, \"type\": \"histogram\"}], \"histogram2d\": [{\"colorbar\": {\"outlinewidth\": 0, \"ticks\": \"\"}, \"colorscale\": [[0.0, \"#0d0887\"], [0.1111111111111111, \"#46039f\"], [0.2222222222222222, \"#7201a8\"], [0.3333333333333333, \"#9c179e\"], [0.4444444444444444, \"#bd3786\"], [0.5555555555555556, \"#d8576b\"], [0.6666666666666666, \"#ed7953\"], [0.7777777777777778, \"#fb9f3a\"], [0.8888888888888888, \"#fdca26\"], [1.0, \"#f0f921\"]], \"type\": \"histogram2d\"}], \"histogram2dcontour\": [{\"colorbar\": {\"outlinewidth\": 0, \"ticks\": \"\"}, \"colorscale\": [[0.0, \"#0d0887\"], [0.1111111111111111, \"#46039f\"], [0.2222222222222222, \"#7201a8\"], [0.3333333333333333, \"#9c179e\"], [0.4444444444444444, \"#bd3786\"], [0.5555555555555556, \"#d8576b\"], [0.6666666666666666, \"#ed7953\"], [0.7777777777777778, \"#fb9f3a\"], [0.8888888888888888, \"#fdca26\"], [1.0, \"#f0f921\"]], \"type\": \"histogram2dcontour\"}], \"mesh3d\": [{\"colorbar\": {\"outlinewidth\": 0, \"ticks\": \"\"}, \"type\": \"mesh3d\"}], \"parcoords\": [{\"line\": {\"colorbar\": {\"outlinewidth\": 0, \"ticks\": \"\"}}, \"type\": \"parcoords\"}], \"pie\": [{\"automargin\": true, \"type\": \"pie\"}], \"scatter\": [{\"marker\": {\"colorbar\": {\"outlinewidth\": 0, \"ticks\": \"\"}}, \"type\": \"scatter\"}], \"scatter3d\": [{\"line\": {\"colorbar\": {\"outlinewidth\": 0, \"ticks\": \"\"}}, \"marker\": {\"colorbar\": {\"outlinewidth\": 0, \"ticks\": \"\"}}, \"type\": \"scatter3d\"}], \"scattercarpet\": [{\"marker\": {\"colorbar\": {\"outlinewidth\": 0, \"ticks\": \"\"}}, \"type\": \"scattercarpet\"}], \"scattergeo\": [{\"marker\": {\"colorbar\": {\"outlinewidth\": 0, \"ticks\": \"\"}}, \"type\": \"scattergeo\"}], \"scattergl\": [{\"marker\": {\"colorbar\": {\"outlinewidth\": 0, \"ticks\": \"\"}}, \"type\": \"scattergl\"}], \"scattermapbox\": [{\"marker\": {\"colorbar\": {\"outlinewidth\": 0, \"ticks\": \"\"}}, \"type\": \"scattermapbox\"}], \"scatterpolar\": [{\"marker\": {\"colorbar\": {\"outlinewidth\": 0, \"ticks\": \"\"}}, \"type\": \"scatterpolar\"}], \"scatterpolargl\": [{\"marker\": {\"colorbar\": {\"outlinewidth\": 0, \"ticks\": \"\"}}, \"type\": \"scatterpolargl\"}], \"scatterternary\": [{\"marker\": {\"colorbar\": {\"outlinewidth\": 0, \"ticks\": \"\"}}, \"type\": \"scatterternary\"}], \"surface\": [{\"colorbar\": {\"outlinewidth\": 0, \"ticks\": \"\"}, \"colorscale\": [[0.0, \"#0d0887\"], [0.1111111111111111, \"#46039f\"], [0.2222222222222222, \"#7201a8\"], [0.3333333333333333, \"#9c179e\"], [0.4444444444444444, \"#bd3786\"], [0.5555555555555556, \"#d8576b\"], [0.6666666666666666, \"#ed7953\"], [0.7777777777777778, \"#fb9f3a\"], [0.8888888888888888, \"#fdca26\"], [1.0, \"#f0f921\"]], \"type\": \"surface\"}], \"table\": [{\"cells\": {\"fill\": {\"color\": \"#EBF0F8\"}, \"line\": {\"color\": \"white\"}}, \"header\": {\"fill\": {\"color\": \"#C8D4E3\"}, \"line\": {\"color\": \"white\"}}, \"type\": \"table\"}]}, \"layout\": {\"annotationdefaults\": {\"arrowcolor\": \"#2a3f5f\", \"arrowhead\": 0, \"arrowwidth\": 1}, \"coloraxis\": {\"colorbar\": {\"outlinewidth\": 0, \"ticks\": \"\"}}, \"colorscale\": {\"diverging\": [[0, \"#8e0152\"], [0.1, \"#c51b7d\"], [0.2, \"#de77ae\"], [0.3, \"#f1b6da\"], [0.4, \"#fde0ef\"], [0.5, \"#f7f7f7\"], [0.6, \"#e6f5d0\"], [0.7, \"#b8e186\"], [0.8, \"#7fbc41\"], [0.9, \"#4d9221\"], [1, \"#276419\"]], \"sequential\": [[0.0, \"#0d0887\"], [0.1111111111111111, \"#46039f\"], [0.2222222222222222, \"#7201a8\"], [0.3333333333333333, \"#9c179e\"], [0.4444444444444444, \"#bd3786\"], [0.5555555555555556, \"#d8576b\"], [0.6666666666666666, \"#ed7953\"], [0.7777777777777778, \"#fb9f3a\"], [0.8888888888888888, \"#fdca26\"], [1.0, \"#f0f921\"]], \"sequentialminus\": [[0.0, \"#0d0887\"], [0.1111111111111111, \"#46039f\"], [0.2222222222222222, \"#7201a8\"], [0.3333333333333333, \"#9c179e\"], [0.4444444444444444, \"#bd3786\"], [0.5555555555555556, \"#d8576b\"], [0.6666666666666666, \"#ed7953\"], [0.7777777777777778, \"#fb9f3a\"], [0.8888888888888888, \"#fdca26\"], [1.0, \"#f0f921\"]]}, \"colorway\": [\"#636efa\", \"#EF553B\", \"#00cc96\", \"#ab63fa\", \"#FFA15A\", \"#19d3f3\", \"#FF6692\", \"#B6E880\", \"#FF97FF\", \"#FECB52\"], \"font\": {\"color\": \"#2a3f5f\"}, \"geo\": {\"bgcolor\": \"white\", \"lakecolor\": \"white\", \"landcolor\": \"#E5ECF6\", \"showlakes\": true, \"showland\": true, \"subunitcolor\": \"white\"}, \"hoverlabel\": {\"align\": \"left\"}, \"hovermode\": \"closest\", \"mapbox\": {\"style\": \"light\"}, \"paper_bgcolor\": \"white\", \"plot_bgcolor\": \"#E5ECF6\", \"polar\": {\"angularaxis\": {\"gridcolor\": \"white\", \"linecolor\": \"white\", \"ticks\": \"\"}, \"bgcolor\": \"#E5ECF6\", \"radialaxis\": {\"gridcolor\": \"white\", \"linecolor\": \"white\", \"ticks\": \"\"}}, \"scene\": {\"xaxis\": {\"backgroundcolor\": \"#E5ECF6\", \"gridcolor\": \"white\", \"gridwidth\": 2, \"linecolor\": \"white\", \"showbackground\": true, \"ticks\": \"\", \"zerolinecolor\": \"white\"}, \"yaxis\": {\"backgroundcolor\": \"#E5ECF6\", \"gridcolor\": \"white\", \"gridwidth\": 2, \"linecolor\": \"white\", \"showbackground\": true, \"ticks\": \"\", \"zerolinecolor\": \"white\"}, \"zaxis\": {\"backgroundcolor\": \"#E5ECF6\", \"gridcolor\": \"white\", \"gridwidth\": 2, \"linecolor\": \"white\", \"showbackground\": true, \"ticks\": \"\", \"zerolinecolor\": \"white\"}}, \"shapedefaults\": {\"line\": {\"color\": \"#2a3f5f\"}}, \"ternary\": {\"aaxis\": {\"gridcolor\": \"white\", \"linecolor\": \"white\", \"ticks\": \"\"}, \"baxis\": {\"gridcolor\": \"white\", \"linecolor\": \"white\", \"ticks\": \"\"}, \"bgcolor\": \"#E5ECF6\", \"caxis\": {\"gridcolor\": \"white\", \"linecolor\": \"white\", \"ticks\": \"\"}}, \"title\": {\"x\": 0.05}, \"xaxis\": {\"automargin\": true, \"gridcolor\": \"white\", \"linecolor\": \"white\", \"ticks\": \"\", \"title\": {\"standoff\": 15}, \"zerolinecolor\": \"white\", \"zerolinewidth\": 2}, \"yaxis\": {\"automargin\": true, \"gridcolor\": \"white\", \"linecolor\": \"white\", \"ticks\": \"\", \"title\": {\"standoff\": 15}, \"zerolinecolor\": \"white\", \"zerolinewidth\": 2}}}, \"title\": {\"text\": \"SEIRD: Observed vs Fitted\", \"x\": 0.5}, \"width\": 1000, \"xaxis\": {\"title\": {\"text\": \"Day\"}}, \"yaxis\": {\"title\": {\"text\": \"Counts\"}}},\n",
       "                        {\"responsive\": true}\n",
       "                    ).then(function(){\n",
       "                            \n",
       "var gd = document.getElementById('44c7812d-ce9f-4fb7-9fab-4adc5f884ce0');\n",
       "var x = new MutationObserver(function (mutations, observer) {{\n",
       "        var display = window.getComputedStyle(gd).display;\n",
       "        if (!display || display === 'none') {{\n",
       "            console.log([gd, 'removed!']);\n",
       "            Plotly.purge(gd);\n",
       "            observer.disconnect();\n",
       "        }}\n",
       "}});\n",
       "\n",
       "// Listen for the removal of the full notebook cells\n",
       "var notebookContainer = gd.closest('#notebook-container');\n",
       "if (notebookContainer) {{\n",
       "    x.observe(notebookContainer, {childList: true});\n",
       "}}\n",
       "\n",
       "// Listen for the clearing of the current output cell\n",
       "var outputEl = gd.closest('.output');\n",
       "if (outputEl) {{\n",
       "    x.observe(outputEl, {childList: true});\n",
       "}}\n",
       "\n",
       "                        })\n",
       "                };\n",
       "                });\n",
       "            </script>\n",
       "        </div>"
      ]
     },
     "metadata": {},
     "output_type": "display_data"
    }
   ],
   "source": [
    "initN = 1380000000\n",
    "# S0 = 966000000\n",
    "initV = 0\n",
    "initE = 1000\n",
    "initI = 47\n",
    "initR = 0\n",
    "initD = 0\n",
    "\n",
    "alpha = .02\n",
    "sigma = 1/5.2\n",
    "gamma = 1/2.9\n",
    "epsilon = 0.02\n",
    "mu = 0.034\n",
    "R0 = 4\n",
    "beta = R0 * gamma\n",
    "nat_b_rate= 0#.0174\n",
    "nat_d_rate = 0#.00073\n",
    "days = 50\n",
    "\n",
    "params = Parameters()\n",
    "params.add('alpha', value=alpha, min=0, max=10)\n",
    "params.add('beta', value=beta, min=0, max=10)\n",
    "params.add('sigma', value=sigma, min=0, max=10)\n",
    "params.add('gamma', value=gamma, min=0, max=10)\n",
    "params.add('epsilon', value=epsilon, min=0, max=10)\n",
    "params.add('mu', value=mu, min=0, max=10)\n",
    "\n",
    "initial_conditions = [initV, initE, initI, initR, initN, initD]\n",
    "# print(initE,initI)\n",
    "tspan = np.arange(0, days, 1)\n",
    "observed_IRD = df_covid_history.loc[:, ['infected', 'discharged', 'deaths']].values\n",
    "data = df_covid_history.loc[0:(days-1), ['infected', 'discharged', 'deaths']].values\n",
    "result = minimize(error, \n",
    "                  params, \n",
    "                  args=(initial_conditions, tspan, data, nat_d_rate, nat_b_rate), \n",
    "                  method='leastsq')\n",
    "final = data + result.residual.reshape(data.shape)\n",
    "print(final.shape)\n",
    "fig = go.Figure()\n",
    "fig.add_trace(go.Scatter(x=tspan, y=data[:, 0], mode='markers', name='Observed Infections', line = dict(dash='dot')))\n",
    "fig.add_trace(go.Scatter(x=tspan, y=data[:, 1], mode='markers', name='Observed Recovered', line = dict(dash='dot')))\n",
    "fig.add_trace(go.Scatter(x=tspan, y=data[:, 2], mode='markers', name='Observed Deaths', line = dict(dash='dot')))\n",
    "fig.add_trace(go.Scatter(x=tspan, y=final[:, 0], mode='lines+markers', name='Fitted Infections'))\n",
    "fig.add_trace(go.Scatter(x=tspan, y=final[:, 1], mode='lines+markers', name='Fitted Recovered'))\n",
    "fig.add_trace(go.Scatter(x=tspan, y=final[:, 2], mode='lines+markers', name='Fitted Deaths'))\n",
    "fig.update_layout(title='SEIRD: Observed vs Fitted',\n",
    "                       xaxis_title='Day',\n",
    "                       yaxis_title='Counts',\n",
    "                       title_x=0.5,\n",
    "                      width=1000, height=600\n",
    "                     )"
   ]
  },
  {
   "cell_type": "code",
   "execution_count": 69,
   "metadata": {},
   "outputs": [],
   "source": [
    "# result = minimize(error, params, args=(initial_conditions, tspan, data), method='leastsq')\n",
    "# observed_IRD = df_covid_history.loc[:, ['infected', 'discharged', 'deaths']].values\n",
    "# print(observed_IRD.shape)\n",
    "# tspan_fit_pred = np.arange(0, observed_IRD.shape[0], 1)\n",
    "# params['beta'].value = result.params['beta'].value\n",
    "# params['sigma'].value = result.params['sigma'].value\n",
    "# params['gamma'].value = result.params['gamma'].value\n",
    "# params['mu'].value = result.params['mu'].value\n",
    "# fitted_predicted = ode_solver(tspan_fit_pred, initial_conditions, params)"
   ]
  },
  {
   "cell_type": "code",
   "execution_count": null,
   "metadata": {},
   "outputs": [],
   "source": []
  },
  {
   "cell_type": "code",
   "execution_count": null,
   "metadata": {},
   "outputs": [],
   "source": []
  },
  {
   "cell_type": "code",
   "execution_count": null,
   "metadata": {},
   "outputs": [],
   "source": []
  },
  {
   "cell_type": "code",
   "execution_count": null,
   "metadata": {},
   "outputs": [],
   "source": []
  },
  {
   "cell_type": "code",
   "execution_count": 71,
   "metadata": {},
   "outputs": [],
   "source": [
    "\n",
    "def run(initV, initE, initI, initR, initD, initN, beta, sigma, gamma, mu, days,observed_IRD,data):\n",
    "    initial_conditions = [initV, initE, initI, initR, initN, initD]\n",
    "    params['beta'].value, params['sigma'].value,params['gamma'].value, params['mu'].value = [beta, sigma, gamma, mu]\n",
    "    tspan = np.arange(0, days, 1)\n",
    "    \n",
    "#     print(type(error))\n",
    "    result = minimize(error, params, args=(initial_conditions, tspan, data), method='leastsq')\n",
    "    \n",
    "    tspan_fit_pred = np.arange(0, observed_IRD.shape[0], 1)\n",
    "    params['beta'].value = result.params['beta'].value\n",
    "    params['sigma'].value = result.params['sigma'].value\n",
    "    params['gamma'].value = result.params['gamma'].value\n",
    "    params['mu'].value = result.params['mu'].value\n",
    "    tspan_fit_pred = np.arange(0, observed_IRD.shape[0], 1)\n",
    "\n",
    "    sol = ode_solver(tspan_fit_pred, initial_conditions, params)\n",
    "#     print(sol.shape)\n",
    "    S, E, I, R, D = sol[:, 0], sol[:, 1], sol[:, 2], sol[:, 3], sol[:, 4]\n",
    "#     print(I.shape,observed_IRD.shape[0])\n",
    "    return np.mean(np.abs(I[:days] - observed_IRD[:days, 0]))\n",
    "\n",
    "# run(initE, initI, initR, initD, initN, beta, sigma, gamma, mu, days,observed_IRD,data)\n",
    "errorlist=[]\n",
    "# for initE in range(10,100,100):\n",
    "#     for initI in range(1,100,10):\n",
    "initN = 1380000000\n",
    "# S0 = 966000000\n",
    "initV = 0\n",
    "initE = 1000\n",
    "initI = 47\n",
    "initR = 0\n",
    "initD = 0\n",
    "\n",
    "alpha = 0.02\n",
    "sigma = 1/5.2\n",
    "gamma = 1/2.9\n",
    "epsilon = 0.02\n",
    "mu = 0.034\n",
    "R0 = 4\n",
    "beta = R0 * gamma\n",
    "nat_b_rate=0.0174\n",
    "nat_d_rate = 0.0073\n",
    "days = 50\n",
    "\n",
    "initial_conditions = [initE, initI, initR, initN, initD]\n",
    "# print(initE,initI)\n",
    "observed_IRD = df_covid_history.loc[:, ['infected', 'discharged', 'deaths']].values\n",
    "data = df_covid_history.loc[0:(days-1), ['infected', 'discharged', 'deaths']].values\n",
    "# e = run( initV, initE, initI, initR, initD, initN, beta, sigma, gamma, mu, days,observed_IRD,data)\n",
    "# errorlist.append((e,initE,initI))"
   ]
  },
  {
   "cell_type": "code",
   "execution_count": null,
   "metadata": {},
   "outputs": [],
   "source": []
  },
  {
   "cell_type": "code",
   "execution_count": null,
   "metadata": {},
   "outputs": [],
   "source": []
  },
  {
   "cell_type": "code",
   "execution_count": null,
   "metadata": {},
   "outputs": [],
   "source": []
  },
  {
   "cell_type": "code",
   "execution_count": 72,
   "metadata": {},
   "outputs": [
    {
     "name": "stdout",
     "output_type": "stream",
     "text": [
      "5881.810225856797 1000 47\n"
     ]
    }
   ],
   "source": [
    "# print(errorlist)\n",
    "min_e = min(errorlist)\n",
    "opt_E = min_e[1]\n",
    "opt_I = min_e[2]\n",
    "print(min_e [0], opt_E,opt_I)"
   ]
  },
  {
   "cell_type": "code",
   "execution_count": 73,
   "metadata": {},
   "outputs": [
    {
     "data": {
      "text/plain": [
       "[(5881.810225856797, 1000, 47)]"
      ]
     },
     "execution_count": 73,
     "metadata": {},
     "output_type": "execute_result"
    }
   ],
   "source": [
    "errorlist"
   ]
  },
  {
   "cell_type": "code",
   "execution_count": null,
   "metadata": {},
   "outputs": [],
   "source": []
  },
  {
   "cell_type": "code",
   "execution_count": null,
   "metadata": {},
   "outputs": [],
   "source": []
  }
 ],
 "metadata": {
  "kernelspec": {
   "display_name": "Python 3",
   "language": "python",
   "name": "python3"
  },
  "language_info": {
   "codemirror_mode": {
    "name": "ipython",
    "version": 3
   },
   "file_extension": ".py",
   "mimetype": "text/x-python",
   "name": "python",
   "nbconvert_exporter": "python",
   "pygments_lexer": "ipython3",
   "version": "3.7.4"
  }
 },
 "nbformat": 4,
 "nbformat_minor": 2
}
