{
 "cells": [
  {
   "cell_type": "markdown",
   "metadata": {},
   "source": [
    "# Simulation & Parameter Estimation of SEIR Model\n",
    "\n",
    "SEIR is a type of compartmental models which are used in modelling of infectious disease using differential equations. These types of models divide the population into groups or compartments and the dynamics of these groups are expressed with the help of a system of differential equations.\n",
    "\n",
    "These system of equations are parametrized which capture the mechanistic nature of the disease. For simulation, you select values of these parameters and the resulting curves simulate the behaviour by solving the set of equations. Finally the results are plotted in a graph to visually understand the effect of the parameters.\n",
    "\n",
    "## SEIR Model\n",
    "\n",
    "For completeness the SEIR model is produced below:\n",
    "\n",
    "<img src=\"images/seir_model.png\">\n",
    "\n",
    "$\\displaystyle \\frac{dS}{dt} = -\\frac{\\beta S I}{N}$<br><br>\n",
    "$\\displaystyle \\frac{dE}{dt} = \\frac{\\beta S I}{N} - \\sigma E$<br><br>\n",
    "$\\displaystyle \\frac{dI}{dt} = \\sigma E -  \\gamma I$<br><br>\n",
    "$\\displaystyle \\frac{dR}{dt} = \\gamma I$<br><br>\n",
    "$N = S + E + I + R$<br><br>\n",
    "Where,<br><br>\n",
    "$\\beta$ is infection rate or the rate of spread<br><br>\n",
    "$\\sigma$ is the incubation rate or the rate of latent individuals becoming infectious (average duration of incubation is $1/\\sigma$)<br><br>\n",
    "$\\gamma$ is the recovery rate or mortality rate. If the duration of indection is D then $\\gamma$ = 1/D\n",
    "\n",
    "#### A supplementary blogpost to this notebook can be found at [Estimating Parameters of Compartmental Models from Observed Data](https://dilbertai.com/2020/04/27/estimating-parameters-of-compartmental-models-from-observed-data/)"
   ]
  },
  {
   "cell_type": "code",
   "execution_count": 17,
   "metadata": {},
   "outputs": [],
   "source": [
    "import os\n",
    "import sys\n",
    "import matplotlib.pyplot as plt\n",
    "import numpy as np\n",
    "import pandas as pd\n",
    "from scipy.integrate import odeint\n",
    "import plotly.graph_objects as go\n",
    "import plotly.io as pio\n",
    "import requests\n",
    "from lmfit import minimize, Parameters, Parameter, report_fit\n",
    "pio.renderers.default = \"notebook\"\n",
    "%matplotlib inline\n",
    "plt.style.use('ggplot')"
   ]
  },
  {
   "cell_type": "code",
   "execution_count": 18,
   "metadata": {},
   "outputs": [],
   "source": [
    "# Jupyter Specifics\n",
    "from IPython.display import HTML\n",
    "from ipywidgets.widgets import interact, IntSlider, FloatSlider, Layout, ToggleButton\n",
    "\n",
    "style = {'description_width': '100px'}\n",
    "slider_layout = Layout(width='99%')"
   ]
  },
  {
   "cell_type": "code",
   "execution_count": 19,
   "metadata": {},
   "outputs": [],
   "source": [
    "def ode_model(z, t, beta, sigma, gamma):\n",
    "    \"\"\"\n",
    "    Reference https://www.idmod.org/docs/hiv/model-seir.html\n",
    "    \"\"\"\n",
    "    S, E, I, R = z\n",
    "    N = S + E + I + R\n",
    "    dSdt = -beta*S*I/N\n",
    "    dEdt = beta*S*I/N - sigma*E\n",
    "    dIdt = sigma*E - gamma*I\n",
    "    dRdt = gamma*I\n",
    "    return [dSdt, dEdt, dIdt, dRdt]"
   ]
  },
  {
   "cell_type": "code",
   "execution_count": 20,
   "metadata": {},
   "outputs": [],
   "source": [
    "def ode_solver(t, initial_conditions, params):\n",
    "    initE, initI, initR, initN = initial_conditions\n",
    "    beta, sigma, gamma = params['beta'].value, params['sigma'].value, params['gamma'].value\n",
    "    initS = initN - (initE + initI + initR)\n",
    "    res = odeint(ode_model, [initS, initE, initI, initR], t, args=(beta, sigma, gamma))\n",
    "    return res"
   ]
  },
  {
   "cell_type": "code",
   "execution_count": 21,
   "metadata": {},
   "outputs": [
    {
     "name": "stdout",
     "output_type": "stream",
     "text": [
      "Request Success? True\n"
     ]
    }
   ],
   "source": [
    "response = requests.get('https://api.rootnet.in/covid19-in/stats/history')\n",
    "print('Request Success? {}'.format(response.status_code == 200))\n",
    "covid_history = response.json()['data']"
   ]
  },
  {
   "cell_type": "code",
   "execution_count": 22,
   "metadata": {},
   "outputs": [],
   "source": [
    "keys = ['day', 'total', 'confirmedCasesIndian', 'confirmedCasesForeign', 'confirmedButLocationUnidentified',\n",
    "        'discharged', 'deaths']\n",
    "df_covid_history = pd.DataFrame([[d.get('day'), \n",
    "                                  d['summary'].get('total'), \n",
    "                                  d['summary'].get('confirmedCasesIndian'), \n",
    "                                  d['summary'].get('confirmedCasesForeign'),\n",
    "                                  d['summary'].get('confirmedButLocationUnidentified'),\n",
    "                                  d['summary'].get('discharged'), \n",
    "                                  d['summary'].get('deaths')] \n",
    "                                 for d in covid_history],\n",
    "                    columns=keys)\n",
    "df_covid_history = df_covid_history.sort_values(by='day')\n",
    "df_covid_history['infected'] = df_covid_history['total'] - df_covid_history['discharged'] - df_covid_history['deaths']\n",
    "df_covid_history['total_recovered_or_dead'] = df_covid_history['discharged'] + df_covid_history['deaths']"
   ]
  },
  {
   "cell_type": "code",
   "execution_count": 23,
   "metadata": {},
   "outputs": [],
   "source": [
    "# ref: https://www.medrxiv.org/content/10.1101/2020.04.01.20049825v1.full.pdf\n",
    "initN = 1380000000\n",
    "# S0 = 966000000\n",
    "initE = 1000\n",
    "initI = 47\n",
    "initR = 0\n",
    "sigma = 1/5.2\n",
    "gamma = 1/2.9\n",
    "R0 = 4\n",
    "beta = R0 * gamma\n",
    "days = 112\n",
    "\n",
    "params = Parameters()\n",
    "params.add('beta', value=beta, min=0, max=10)\n",
    "params.add('sigma', value=sigma, min=0, max=10)\n",
    "params.add('gamma', value=gamma, min=0, max=10)"
   ]
  },
  {
   "cell_type": "markdown",
   "metadata": {},
   "source": [
    "## Simulation"
   ]
  },
  {
   "cell_type": "code",
   "execution_count": 24,
   "metadata": {},
   "outputs": [],
   "source": [
    "def main(initE, initI, initR, initN, beta, sigma, gamma, days, param_fitting):\n",
    "    initial_conditions = [initE, initI, initR, initN]\n",
    "    params['beta'].value, params['sigma'].value,params['gamma'].value = [beta, sigma, gamma]\n",
    "    tspan = np.arange(0, days, 1)\n",
    "    sol = ode_solver(tspan, initial_conditions, params)\n",
    "    S, E, I, R = sol[:, 0], sol[:, 1], sol[:, 2], sol[:, 3]\n",
    "    \n",
    "    # Create traces\n",
    "    fig = go.Figure()\n",
    "    if not param_fitting:\n",
    "        fig.add_trace(go.Scatter(x=tspan, y=S, mode='lines+markers', name='Susceptible'))\n",
    "        fig.add_trace(go.Scatter(x=tspan, y=E, mode='lines+markers', name='Exposed'))\n",
    "    fig.add_trace(go.Scatter(x=tspan, y=I, mode='lines+markers', name='Infected'))\n",
    "    fig.add_trace(go.Scatter(x=tspan, y=R, mode='lines+markers',name='Recovered'))\n",
    "    if param_fitting:\n",
    "        fig.add_trace(go.Scatter(x=tspan, y=df_covid_history.infected, mode='lines+markers',\\\n",
    "                             name='Infections Observed', line = dict(dash='dash')))\n",
    "        fig.add_trace(go.Scatter(x=tspan, y=df_covid_history.total_recovered_or_dead, mode='lines+markers',\\\n",
    "                             name='Recovered/Deceased Observed', line = dict(dash='dash')))\n",
    "    \n",
    "    if days <= 30:\n",
    "        step = 1\n",
    "    elif days <= 90:\n",
    "        step = 7\n",
    "    else:\n",
    "        step = 30\n",
    "    \n",
    "    # Edit the layout\n",
    "    fig.update_layout(title='Simulation of SEIR Model',\n",
    "                       xaxis_title='Day',\n",
    "                       yaxis_title='Counts',\n",
    "                       title_x=0.5,\n",
    "                      width=900, height=600\n",
    "                     )\n",
    "    fig.update_xaxes(tickangle=-90, tickformat = None, tickmode='array', tickvals=np.arange(0, days + 1, step))\n",
    "    if not os.path.exists(\"images\"):\n",
    "        os.mkdir(\"images\")\n",
    "    fig.write_image(\"images/seir_simulation.png\")\n",
    "    fig.show()"
   ]
  },
  {
   "cell_type": "code",
   "execution_count": 25,
   "metadata": {},
   "outputs": [
    {
     "data": {
      "application/vnd.jupyter.widget-view+json": {
       "model_id": "d0778bd6011845de997df685754fc387",
       "version_major": 2,
       "version_minor": 0
      },
      "text/plain": [
       "interactive(children=(IntSlider(value=1000, description='initE', layout=Layout(width='99%'), max=100000, style…"
      ]
     },
     "metadata": {},
     "output_type": "display_data"
    }
   ],
   "source": [
    "interact(main, initE=IntSlider(min=0, max=100000, step=1, value=initE, description='initE', style=style, \\\n",
    "                               layout=slider_layout),\n",
    "               initI=IntSlider(min=0, max=100000, step=10, value=initI, description='initI', style=style, \\\n",
    "                               layout=slider_layout),\n",
    "               initR=IntSlider(min=0, max=100000, step=10, value=initR, description='initR', style=style, \\\n",
    "                               layout=slider_layout),\n",
    "               initN=IntSlider(min=0, max=1380000000, step=1000, value=initN, description='initN', style=style, \\\n",
    "                               layout=slider_layout),\n",
    "               beta=FloatSlider(min=0, max=4, step=0.01, value=beta, description='Infection rate', style=style, \\\n",
    "                                layout=slider_layout),\n",
    "               sigma=FloatSlider(min=0, max=4, step=0.01, value=sigma, description='Incubation rate', style=style, \\\n",
    "                                 layout=slider_layout),\n",
    "               gamma=FloatSlider(min=0, max=4, step=0.01, value=gamma, description='Recovery rate', style=style, \\\n",
    "                                 layout=slider_layout),\n",
    "               days=IntSlider(min=0, max=600, step=7, value=days, description='Days', style=style, \\\n",
    "                              layout=slider_layout),\n",
    "               param_fitting=ToggleButton(value=False, description='Fitting Mode', disabled=False, button_style='', \\\n",
    "             tooltip='Click to show fewer plots', icon='check-circle')\n",
    "        );"
   ]
  },
  {
   "cell_type": "markdown",
   "metadata": {},
   "source": [
    "## Parameter Estimation"
   ]
  },
  {
   "cell_type": "code",
   "execution_count": 26,
   "metadata": {},
   "outputs": [],
   "source": [
    "def error(params, initial_conditions, tspan, data):\n",
    "    sol = ode_solver(tspan, initial_conditions, params)\n",
    "    return (sol[:, 2:4] - data).ravel()"
   ]
  },
  {
   "cell_type": "code",
   "execution_count": 55,
   "metadata": {},
   "outputs": [],
   "source": [
    "initial_conditions = [initE, initI, initR, initN]\n",
    "beta = 1.08\n",
    "sigma = 0.02\n",
    "gamma = 0.02\n",
    "params['beta'].value = beta\n",
    "params['sigma'].value = sigma\n",
    "params['gamma'].value = gamma\n",
    "days = 100\n",
    "tspan = np.arange(0, days, 1)\n",
    "data = df_covid_history.loc[0:(days-1), ['infected', 'total_recovered_or_dead']].values"
   ]
  },
  {
   "cell_type": "code",
   "execution_count": 56,
   "metadata": {},
   "outputs": [
    {
     "data": {
      "text/html": [
       "<table><tr><th> name </th><th> value </th><th> initial value </th><th> min </th><th> max </th><th> vary </th></tr><tr><td> beta </td><td>  1.08000000 </td><td> 1.3793103448275863 </td><td>  0.00000000 </td><td>  10.0000000 </td><td> True </td></tr><tr><td> sigma </td><td>  0.02000000 </td><td> 0.1923076923076923 </td><td>  0.00000000 </td><td>  10.0000000 </td><td> True </td></tr><tr><td> gamma </td><td>  0.02000000 </td><td> 0.3448275862068966 </td><td>  0.00000000 </td><td>  10.0000000 </td><td> True </td></tr></table>"
      ],
      "text/plain": [
       "Parameters([('beta', <Parameter 'beta', value=1.08, bounds=[0:10]>),\n",
       "            ('sigma', <Parameter 'sigma', value=0.02, bounds=[0:10]>),\n",
       "            ('gamma', <Parameter 'gamma', value=0.02, bounds=[0:10]>)])"
      ]
     },
     "execution_count": 56,
     "metadata": {},
     "output_type": "execute_result"
    }
   ],
   "source": [
    "params"
   ]
  },
  {
   "cell_type": "code",
   "execution_count": 57,
   "metadata": {},
   "outputs": [],
   "source": [
    "# fit model and find predicted values\n",
    "result = minimize(error, params, args=(initial_conditions, tspan, data), method='leastsq')"
   ]
  },
  {
   "cell_type": "code",
   "execution_count": 58,
   "metadata": {},
   "outputs": [
    {
     "data": {
      "text/html": [
       "<table><tr><th> name </th><th> value </th><th> standard error </th><th> relative error </th><th> initial value </th><th> min </th><th> max </th><th> vary </th></tr><tr><td> beta </td><td>  0.11448092 </td><td>  0.00112784 </td><td> (0.99%) </td><td> 1.08 </td><td>  0.00000000 </td><td>  10.0000000 </td><td> True </td></tr><tr><td> sigma </td><td>  1.79360114 </td><td>  0.02096219 </td><td> (1.17%) </td><td> 0.02 </td><td>  0.00000000 </td><td>  10.0000000 </td><td> True </td></tr><tr><td> gamma </td><td>  0.05753477 </td><td>  0.00105321 </td><td> (1.83%) </td><td> 0.02 </td><td>  0.00000000 </td><td>  10.0000000 </td><td> True </td></tr></table>"
      ],
      "text/plain": [
       "Parameters([('beta',\n",
       "             <Parameter 'beta', value=0.11448092452206238 +/- 0.00113, bounds=[0:10]>),\n",
       "            ('sigma',\n",
       "             <Parameter 'sigma', value=1.79360113721442 +/- 0.021, bounds=[0:10]>),\n",
       "            ('gamma',\n",
       "             <Parameter 'gamma', value=0.05753477023458853 +/- 0.00105, bounds=[0:10]>)])"
      ]
     },
     "execution_count": 58,
     "metadata": {},
     "output_type": "execute_result"
    }
   ],
   "source": [
    "result.params"
   ]
  },
  {
   "cell_type": "code",
   "execution_count": 59,
   "metadata": {},
   "outputs": [
    {
     "name": "stdout",
     "output_type": "stream",
     "text": [
      "[[Fit Statistics]]\n",
      "    # fitting method   = leastsq\n",
      "    # function evals   = 251\n",
      "    # data points      = 200\n",
      "    # variables        = 3\n",
      "    chi-square         = 1.5205e+10\n",
      "    reduced chi-square = 77180382.3\n",
      "    Akaike info crit   = 3635.30845\n",
      "    Bayesian info crit = 3645.20340\n",
      "[[Variables]]\n",
      "    beta:   0.11448092 +/- 0.00112784 (0.99%) (init = 1.08)\n",
      "    sigma:  1.79360114 +/- 0.02096219 (1.17%) (init = 0.02)\n",
      "    gamma:  0.05753477 +/- 0.00105321 (1.83%) (init = 0.02)\n",
      "[[Correlations]] (unreported correlations are < 0.100)\n",
      "    C(beta, gamma)  =  0.937\n",
      "    C(beta, sigma)  = -0.521\n",
      "    C(sigma, gamma) = -0.212\n"
     ]
    }
   ],
   "source": [
    "# display fitted statistics\n",
    "report_fit(result)"
   ]
  },
  {
   "cell_type": "code",
   "execution_count": 61,
   "metadata": {},
   "outputs": [
    {
     "data": {
      "text/html": [
       "<div>\n",
       "        \n",
       "        \n",
       "            <div id=\"88c50f33-3da5-4413-8095-763924ba3ea3\" class=\"plotly-graph-div\" style=\"height:600px; width:1000px;\"></div>\n",
       "            <script type=\"text/javascript\">\n",
       "                require([\"plotly\"], function(Plotly) {\n",
       "                    window.PLOTLYENV=window.PLOTLYENV || {};\n",
       "                    \n",
       "                if (document.getElementById(\"88c50f33-3da5-4413-8095-763924ba3ea3\")) {\n",
       "                    Plotly.newPlot(\n",
       "                        '88c50f33-3da5-4413-8095-763924ba3ea3',\n",
       "                        [{\"line\": {\"dash\": \"dot\"}, \"mode\": \"markers\", \"name\": \"Observed Infections\", \"type\": \"scatter\", \"x\": [0, 1, 2, 3, 4, 5, 6, 7, 8, 9, 10, 11, 12, 13, 14, 15, 16, 17, 18, 19, 20, 21, 22, 23, 24, 25, 26, 27, 28, 29, 30, 31, 32, 33, 34, 35, 36, 37, 38, 39, 40, 41, 42, 43, 44, 45, 46, 47, 48, 49, 50, 51, 52, 53, 54, 55, 56, 57, 58, 59, 60, 61, 62, 63, 64, 65, 66, 67, 68, 69, 70, 71, 72, 73, 74, 75, 76, 77, 78, 79, 80, 81, 82, 83, 84, 85, 86, 87, 88, 89, 90, 91, 92, 93, 94, 95, 96, 97, 98, 99], \"y\": [47, 60, 73, 70, 72, 95, 99, 120, 134, 149, 196, 256, 329, 424, 469, 553, 634, 640, 810, 901, 1118, 1238, 1649, 1860, 2322, 2784, 3219, 3851, 4312, 4714, 5218, 6039, 6634, 7409, 8048, 9272, 10197, 10824, 11616, 12289, 13295, 14255, 15122, 15859, 16689, 17915, 18953, 20177, 21132, 22010, 22904, 24162, 25148, 26535, 28070, 29685, 31967, 33514, 35902, 37916, 39834, 41472, 44029, 46008, 47480, 49219, 51401, 52805, 53946, 56316, 58802, 61149, 63624, 66330, 69597, 73560, 77103, 80722, 83004, 86110, 89987, 86422, 89995, 93322, 97581, 101497, 106737, 110960, 115942, 120406, 124981, 129813, 133632, 137448, 141842, 145779, 149348, 153106, 153178, 155227]}, {\"line\": {\"dash\": \"dot\"}, \"mode\": \"markers\", \"name\": \"Observed Recovered/Deceased\", \"type\": \"scatter\", \"x\": [0, 1, 2, 3, 4, 5, 6, 7, 8, 9, 10, 11, 12, 13, 14, 15, 16, 17, 18, 19, 20, 21, 22, 23, 24, 25, 26, 27, 28, 29, 30, 31, 32, 33, 34, 35, 36, 37, 38, 39, 40, 41, 42, 43, 44, 45, 46, 47, 48, 49, 50, 51, 52, 53, 54, 55, 56, 57, 58, 59, 60, 61, 62, 63, 64, 65, 66, 67, 68, 69, 70, 71, 72, 73, 74, 75, 76, 77, 78, 79, 80, 81, 82, 83, 84, 85, 86, 87, 88, 89, 90, 91, 92, 93, 94, 95, 96, 97, 98, 99], \"y\": [0, 0, 0, 12, 12, 15, 15, 17, 17, 24, 27, 27, 31, 43, 50, 53, 60, 84, 99, 123, 133, 159, 185, 209, 225, 288, 358, 430, 477, 560, 647, 722, 895, 1038, 1304, 1543, 1736, 1935, 2219, 2503, 2821, 3401, 3863, 4612, 5011, 5537, 5989, 6740, 7248, 7964, 8805, 9448, 10217, 11241, 12193, 13151, 14744, 15877, 17050, 18426, 19828, 21467, 23123, 24748, 26801, 28784, 30569, 32905, 36981, 39853, 42337, 45601, 48735, 52117, 55504, 58308, 61742, 64658, 68763, 72223, 75812, 87341, 92148, 97213, 101125, 106118, 110182, 115810, 120715, 126222, 131630, 136785, 142951, 149131, 155693, 163214, 171574, 179318, 189913, 198838]}, {\"mode\": \"lines+markers\", \"name\": \"Fitted Infections\", \"type\": \"scatter\", \"x\": [0, 1, 2, 3, 4, 5, 6, 7, 8, 9, 10, 11, 12, 13, 14, 15, 16, 17, 18, 19, 20, 21, 22, 23, 24, 25, 26, 27, 28, 29, 30, 31, 32, 33, 34, 35, 36, 37, 38, 39, 40, 41, 42, 43, 44, 45, 46, 47, 48, 49, 50, 51, 52, 53, 54, 55, 56, 57, 58, 59, 60, 61, 62, 63, 64, 65, 66, 67, 68, 69, 70, 71, 72, 73, 74, 75, 76, 77, 78, 79, 80, 81, 82, 83, 84, 85, 86, 87, 88, 89, 90, 91, 92, 93, 94, 95, 96, 97, 98, 99], \"y\": [47.0, 877.1484854292188, 1048.6568783586067, 1124.761553120217, 1189.4505154291226, 1255.3795652075219, 1324.5945468070372, 1397.570841518951, 1474.5594645864367, 1555.7879649809654, 1641.4908705816129, 1731.9147902148138, 1827.3198063448388, 1927.9803237494089, 2034.185831737278, 2146.241784748523, 2264.47046145754, 2389.2118627990503, 2520.8247733134654, 2659.68770597418, 2806.200010763785, 2960.7830546781124, 3123.8814312074164, 3295.964198347748, 3477.5262523309707, 3669.089758798564, 3871.2056582631562, 4084.45516378126, 4309.451620006218, 4546.842076124821, 4797.309262877908, 5061.573406047903, 5340.394585759285, 5634.574622754787, 5944.959513998775, 6272.44188292617, 6617.96350546277, 6982.5180592648685, 7367.153815483891, 7772.977007690405, 8201.154624123525, 8652.918037299725, 9129.566183960025, 9632.46990720292, 10163.075365651537, 10722.90836024283, 11313.578713890907, 11936.784940871345, 12594.319099386068, 13288.071995426511, 14020.03819987645, 14792.322757567348, 15607.146152726446, 16466.851352216065, 17373.909999169842, 18330.930277849668, 19340.663898949413, 20406.013940521185, 21530.04339660403, 22715.983917283524, 23967.245232070734, 25287.424088502423, 26680.31643223203, 28149.926271981665, 29700.478528273445, 31336.429812990016, 33062.4833098549, 34883.6005694998, 36805.01604843561, 38832.25245863395, 40971.136524564776, 43227.815823841345, 45608.77501961401, 48120.857722335495, 50771.28264626886, 53567.66615104203, 56518.043148166806, 59630.89061680641, 62915.15330637841, 66380.26649592155, 70036.1846185922, 73893.4100287699, 77963.02240124543, 82256.71096705926, 86786.806729497, 91566.31969426505, 96608.97479401996, 101929.25140113205, 107542.42321337057, 113464.604365588, 119712.79587486976, 126304.93074748281, 133259.92695744435, 140597.74224471767, 148339.42997732345, 156507.1998845025, 165124.47794260987, 174215.98042265172, 183807.77624444847, 193927.36606981538]}, {\"mode\": \"lines+markers\", \"name\": \"Fitted Recovered/Deceased\", \"type\": \"scatter\", \"x\": [0, 1, 2, 3, 4, 5, 6, 7, 8, 9, 10, 11, 12, 13, 14, 15, 16, 17, 18, 19, 20, 21, 22, 23, 24, 25, 26, 27, 28, 29, 30, 31, 32, 33, 34, 35, 36, 37, 38, 39, 40, 41, 42, 43, 44, 45, 46, 47, 48, 49, 50, 51, 52, 53, 54, 55, 56, 57, 58, 59, 60, 61, 62, 63, 64, 65, 66, 67, 68, 69, 70, 71, 72, 73, 74, 75, 76, 77, 78, 79, 80, 81, 82, 83, 84, 85, 86, 87, 88, 89, 90, 91, 92, 93, 94, 95, 96, 97, 98, 99], \"y\": [0.0, 33.274783379811765, 89.65862652429865, 152.31558595474604, 218.89555460126152, 289.21336314304637, 363.41518245553493, 441.7060765736014, 524.3099738191906, 611.4642689189319, 703.4195964383733, 800.4404107234744, 902.805752011198, 1010.8100412566815, 1124.7638973850585, 1244.9950631018694, 1371.8493357906166, 1505.691529117436, 1646.9066114663622, 1795.900720007533, 1953.1023513425334, 2118.9636261321125, 2293.961584010383, 2478.599517848707, 2673.4084500275117, 2878.948660844252, 3095.8113059331044, 3324.6200252858202, 3566.0329377449507, 3820.7443291719264, 4089.486773614236, 4373.033078835289, 4672.198818814058, 4987.844361898837, 5320.877487960396, 5672.25599082583, 6042.9904231822875, 6434.14703369254, 6846.85065527987, 7282.288321605739, 7741.712264127251, 8226.443808740258, 8737.876788954447, 9277.48220539071, 9846.811882212667, 10447.503111975213, 11081.28337925486, 11749.975337850188, 12455.502038746274, 13199.892515568394, 13985.287169160289, 14813.944971226036, 15688.248794880468, 16610.71297442, 17583.989958353108, 18610.878760082713, 19694.332460962978, 20837.466594467656, 22043.568369276643, 23316.10604482778, 24658.739044440903, 26075.327560263566, 27569.94563383807, 29146.890682560308, 30810.697303068966, 32566.148848959696, 34418.29341128032, 36372.45649023649, 38434.256667434, 40609.62204127853, 42904.80717844357, 45326.411225724136, 47881.39535590828, 50577.106266246796, 53421.29355859734, 56422.133971959694, 59588.25386186748, 62928.75449548217, 66453.23971258702, 70171.84044363599, 74095.24552421871, 78234.7323826795, 82602.19908501621, 87210.19883278538, 92071.9746870524, 97201.49965566529, 102613.51540135258, 108323.57482399662, 114348.08504270113, 120704.3570895768, 127410.65596764506, 134486.24931506335, 141951.46486490112, 149827.7489712382, 158137.72734625105, 166905.270606026, 176155.55890607138, 185915.16195356095, 196212.1064767023, 207075.96174244667]}],\n",
       "                        {\"height\": 600, \"template\": {\"data\": {\"bar\": [{\"error_x\": {\"color\": \"#2a3f5f\"}, \"error_y\": {\"color\": \"#2a3f5f\"}, \"marker\": {\"line\": {\"color\": \"#E5ECF6\", \"width\": 0.5}}, \"type\": \"bar\"}], \"barpolar\": [{\"marker\": {\"line\": {\"color\": \"#E5ECF6\", \"width\": 0.5}}, \"type\": \"barpolar\"}], \"carpet\": [{\"aaxis\": {\"endlinecolor\": \"#2a3f5f\", \"gridcolor\": \"white\", \"linecolor\": \"white\", \"minorgridcolor\": \"white\", \"startlinecolor\": \"#2a3f5f\"}, \"baxis\": {\"endlinecolor\": \"#2a3f5f\", \"gridcolor\": \"white\", \"linecolor\": \"white\", \"minorgridcolor\": \"white\", \"startlinecolor\": \"#2a3f5f\"}, \"type\": \"carpet\"}], \"choropleth\": [{\"colorbar\": {\"outlinewidth\": 0, \"ticks\": \"\"}, \"type\": \"choropleth\"}], \"contour\": [{\"colorbar\": {\"outlinewidth\": 0, \"ticks\": \"\"}, \"colorscale\": [[0.0, \"#0d0887\"], [0.1111111111111111, \"#46039f\"], [0.2222222222222222, \"#7201a8\"], [0.3333333333333333, \"#9c179e\"], [0.4444444444444444, \"#bd3786\"], [0.5555555555555556, \"#d8576b\"], [0.6666666666666666, \"#ed7953\"], [0.7777777777777778, \"#fb9f3a\"], [0.8888888888888888, \"#fdca26\"], [1.0, \"#f0f921\"]], \"type\": \"contour\"}], \"contourcarpet\": [{\"colorbar\": {\"outlinewidth\": 0, \"ticks\": \"\"}, \"type\": \"contourcarpet\"}], \"heatmap\": [{\"colorbar\": {\"outlinewidth\": 0, \"ticks\": \"\"}, \"colorscale\": [[0.0, \"#0d0887\"], [0.1111111111111111, \"#46039f\"], [0.2222222222222222, \"#7201a8\"], [0.3333333333333333, \"#9c179e\"], [0.4444444444444444, \"#bd3786\"], [0.5555555555555556, \"#d8576b\"], [0.6666666666666666, \"#ed7953\"], [0.7777777777777778, \"#fb9f3a\"], [0.8888888888888888, \"#fdca26\"], [1.0, \"#f0f921\"]], \"type\": \"heatmap\"}], \"heatmapgl\": [{\"colorbar\": {\"outlinewidth\": 0, \"ticks\": \"\"}, \"colorscale\": [[0.0, \"#0d0887\"], [0.1111111111111111, \"#46039f\"], [0.2222222222222222, \"#7201a8\"], [0.3333333333333333, \"#9c179e\"], [0.4444444444444444, \"#bd3786\"], [0.5555555555555556, \"#d8576b\"], [0.6666666666666666, \"#ed7953\"], [0.7777777777777778, \"#fb9f3a\"], [0.8888888888888888, \"#fdca26\"], [1.0, \"#f0f921\"]], \"type\": \"heatmapgl\"}], \"histogram\": [{\"marker\": {\"colorbar\": {\"outlinewidth\": 0, \"ticks\": \"\"}}, \"type\": \"histogram\"}], \"histogram2d\": [{\"colorbar\": {\"outlinewidth\": 0, \"ticks\": \"\"}, \"colorscale\": [[0.0, \"#0d0887\"], [0.1111111111111111, \"#46039f\"], [0.2222222222222222, \"#7201a8\"], [0.3333333333333333, \"#9c179e\"], [0.4444444444444444, \"#bd3786\"], [0.5555555555555556, \"#d8576b\"], [0.6666666666666666, \"#ed7953\"], [0.7777777777777778, \"#fb9f3a\"], [0.8888888888888888, \"#fdca26\"], [1.0, \"#f0f921\"]], \"type\": \"histogram2d\"}], \"histogram2dcontour\": [{\"colorbar\": {\"outlinewidth\": 0, \"ticks\": \"\"}, \"colorscale\": [[0.0, \"#0d0887\"], [0.1111111111111111, \"#46039f\"], [0.2222222222222222, \"#7201a8\"], [0.3333333333333333, \"#9c179e\"], [0.4444444444444444, \"#bd3786\"], [0.5555555555555556, \"#d8576b\"], [0.6666666666666666, \"#ed7953\"], [0.7777777777777778, \"#fb9f3a\"], [0.8888888888888888, \"#fdca26\"], [1.0, \"#f0f921\"]], \"type\": \"histogram2dcontour\"}], \"mesh3d\": [{\"colorbar\": {\"outlinewidth\": 0, \"ticks\": \"\"}, \"type\": \"mesh3d\"}], \"parcoords\": [{\"line\": {\"colorbar\": {\"outlinewidth\": 0, \"ticks\": \"\"}}, \"type\": \"parcoords\"}], \"pie\": [{\"automargin\": true, \"type\": \"pie\"}], \"scatter\": [{\"marker\": {\"colorbar\": {\"outlinewidth\": 0, \"ticks\": \"\"}}, \"type\": \"scatter\"}], \"scatter3d\": [{\"line\": {\"colorbar\": {\"outlinewidth\": 0, \"ticks\": \"\"}}, \"marker\": {\"colorbar\": {\"outlinewidth\": 0, \"ticks\": \"\"}}, \"type\": \"scatter3d\"}], \"scattercarpet\": [{\"marker\": {\"colorbar\": {\"outlinewidth\": 0, \"ticks\": \"\"}}, \"type\": \"scattercarpet\"}], \"scattergeo\": [{\"marker\": {\"colorbar\": {\"outlinewidth\": 0, \"ticks\": \"\"}}, \"type\": \"scattergeo\"}], \"scattergl\": [{\"marker\": {\"colorbar\": {\"outlinewidth\": 0, \"ticks\": \"\"}}, \"type\": \"scattergl\"}], \"scattermapbox\": [{\"marker\": {\"colorbar\": {\"outlinewidth\": 0, \"ticks\": \"\"}}, \"type\": \"scattermapbox\"}], \"scatterpolar\": [{\"marker\": {\"colorbar\": {\"outlinewidth\": 0, \"ticks\": \"\"}}, \"type\": \"scatterpolar\"}], \"scatterpolargl\": [{\"marker\": {\"colorbar\": {\"outlinewidth\": 0, \"ticks\": \"\"}}, \"type\": \"scatterpolargl\"}], \"scatterternary\": [{\"marker\": {\"colorbar\": {\"outlinewidth\": 0, \"ticks\": \"\"}}, \"type\": \"scatterternary\"}], \"surface\": [{\"colorbar\": {\"outlinewidth\": 0, \"ticks\": \"\"}, \"colorscale\": [[0.0, \"#0d0887\"], [0.1111111111111111, \"#46039f\"], [0.2222222222222222, \"#7201a8\"], [0.3333333333333333, \"#9c179e\"], [0.4444444444444444, \"#bd3786\"], [0.5555555555555556, \"#d8576b\"], [0.6666666666666666, \"#ed7953\"], [0.7777777777777778, \"#fb9f3a\"], [0.8888888888888888, \"#fdca26\"], [1.0, \"#f0f921\"]], \"type\": \"surface\"}], \"table\": [{\"cells\": {\"fill\": {\"color\": \"#EBF0F8\"}, \"line\": {\"color\": \"white\"}}, \"header\": {\"fill\": {\"color\": \"#C8D4E3\"}, \"line\": {\"color\": \"white\"}}, \"type\": \"table\"}]}, \"layout\": {\"annotationdefaults\": {\"arrowcolor\": \"#2a3f5f\", \"arrowhead\": 0, \"arrowwidth\": 1}, \"coloraxis\": {\"colorbar\": {\"outlinewidth\": 0, \"ticks\": \"\"}}, \"colorscale\": {\"diverging\": [[0, \"#8e0152\"], [0.1, \"#c51b7d\"], [0.2, \"#de77ae\"], [0.3, \"#f1b6da\"], [0.4, \"#fde0ef\"], [0.5, \"#f7f7f7\"], [0.6, \"#e6f5d0\"], [0.7, \"#b8e186\"], [0.8, \"#7fbc41\"], [0.9, \"#4d9221\"], [1, \"#276419\"]], \"sequential\": [[0.0, \"#0d0887\"], [0.1111111111111111, \"#46039f\"], [0.2222222222222222, \"#7201a8\"], [0.3333333333333333, \"#9c179e\"], [0.4444444444444444, \"#bd3786\"], [0.5555555555555556, \"#d8576b\"], [0.6666666666666666, \"#ed7953\"], [0.7777777777777778, \"#fb9f3a\"], [0.8888888888888888, \"#fdca26\"], [1.0, \"#f0f921\"]], \"sequentialminus\": [[0.0, \"#0d0887\"], [0.1111111111111111, \"#46039f\"], [0.2222222222222222, \"#7201a8\"], [0.3333333333333333, \"#9c179e\"], [0.4444444444444444, \"#bd3786\"], [0.5555555555555556, \"#d8576b\"], [0.6666666666666666, \"#ed7953\"], [0.7777777777777778, \"#fb9f3a\"], [0.8888888888888888, \"#fdca26\"], [1.0, \"#f0f921\"]]}, \"colorway\": [\"#636efa\", \"#EF553B\", \"#00cc96\", \"#ab63fa\", \"#FFA15A\", \"#19d3f3\", \"#FF6692\", \"#B6E880\", \"#FF97FF\", \"#FECB52\"], \"font\": {\"color\": \"#2a3f5f\"}, \"geo\": {\"bgcolor\": \"white\", \"lakecolor\": \"white\", \"landcolor\": \"#E5ECF6\", \"showlakes\": true, \"showland\": true, \"subunitcolor\": \"white\"}, \"hoverlabel\": {\"align\": \"left\"}, \"hovermode\": \"closest\", \"mapbox\": {\"style\": \"light\"}, \"paper_bgcolor\": \"white\", \"plot_bgcolor\": \"#E5ECF6\", \"polar\": {\"angularaxis\": {\"gridcolor\": \"white\", \"linecolor\": \"white\", \"ticks\": \"\"}, \"bgcolor\": \"#E5ECF6\", \"radialaxis\": {\"gridcolor\": \"white\", \"linecolor\": \"white\", \"ticks\": \"\"}}, \"scene\": {\"xaxis\": {\"backgroundcolor\": \"#E5ECF6\", \"gridcolor\": \"white\", \"gridwidth\": 2, \"linecolor\": \"white\", \"showbackground\": true, \"ticks\": \"\", \"zerolinecolor\": \"white\"}, \"yaxis\": {\"backgroundcolor\": \"#E5ECF6\", \"gridcolor\": \"white\", \"gridwidth\": 2, \"linecolor\": \"white\", \"showbackground\": true, \"ticks\": \"\", \"zerolinecolor\": \"white\"}, \"zaxis\": {\"backgroundcolor\": \"#E5ECF6\", \"gridcolor\": \"white\", \"gridwidth\": 2, \"linecolor\": \"white\", \"showbackground\": true, \"ticks\": \"\", \"zerolinecolor\": \"white\"}}, \"shapedefaults\": {\"line\": {\"color\": \"#2a3f5f\"}}, \"ternary\": {\"aaxis\": {\"gridcolor\": \"white\", \"linecolor\": \"white\", \"ticks\": \"\"}, \"baxis\": {\"gridcolor\": \"white\", \"linecolor\": \"white\", \"ticks\": \"\"}, \"bgcolor\": \"#E5ECF6\", \"caxis\": {\"gridcolor\": \"white\", \"linecolor\": \"white\", \"ticks\": \"\"}}, \"title\": {\"x\": 0.05}, \"xaxis\": {\"automargin\": true, \"gridcolor\": \"white\", \"linecolor\": \"white\", \"ticks\": \"\", \"title\": {\"standoff\": 15}, \"zerolinecolor\": \"white\", \"zerolinewidth\": 2}, \"yaxis\": {\"automargin\": true, \"gridcolor\": \"white\", \"linecolor\": \"white\", \"ticks\": \"\", \"title\": {\"standoff\": 15}, \"zerolinecolor\": \"white\", \"zerolinewidth\": 2}}}, \"title\": {\"text\": \"SEIR: Observed vs Fitted\", \"x\": 0.5}, \"width\": 1000, \"xaxis\": {\"title\": {\"text\": \"Day\"}}, \"yaxis\": {\"title\": {\"text\": \"Counts\"}}},\n",
       "                        {\"responsive\": true}\n",
       "                    ).then(function(){\n",
       "                            \n",
       "var gd = document.getElementById('88c50f33-3da5-4413-8095-763924ba3ea3');\n",
       "var x = new MutationObserver(function (mutations, observer) {{\n",
       "        var display = window.getComputedStyle(gd).display;\n",
       "        if (!display || display === 'none') {{\n",
       "            console.log([gd, 'removed!']);\n",
       "            Plotly.purge(gd);\n",
       "            observer.disconnect();\n",
       "        }}\n",
       "}});\n",
       "\n",
       "// Listen for the removal of the full notebook cells\n",
       "var notebookContainer = gd.closest('#notebook-container');\n",
       "if (notebookContainer) {{\n",
       "    x.observe(notebookContainer, {childList: true});\n",
       "}}\n",
       "\n",
       "// Listen for the clearing of the current output cell\n",
       "var outputEl = gd.closest('.output');\n",
       "if (outputEl) {{\n",
       "    x.observe(outputEl, {childList: true});\n",
       "}}\n",
       "\n",
       "                        })\n",
       "                };\n",
       "                });\n",
       "            </script>\n",
       "        </div>"
      ]
     },
     "metadata": {},
     "output_type": "display_data"
    }
   ],
   "source": [
    "final = data + result.residual.reshape(data.shape)\n",
    "fig = go.Figure()\n",
    "fig.add_trace(go.Scatter(x=tspan, y=data[:, 0], mode='markers', name='Observed Infections', line = dict(dash='dot')))\n",
    "fig.add_trace(go.Scatter(x=tspan, y=data[:, 1], mode='markers', name='Observed Recovered/Deceased', line = dict(dash='dot')))\n",
    "fig.add_trace(go.Scatter(x=tspan, y=final[:, 0], mode='lines+markers', name='Fitted Infections'))\n",
    "fig.add_trace(go.Scatter(x=tspan, y=final[:, 1], mode='lines+markers', name='Fitted Recovered/Deceased'))\n",
    "fig.update_layout(title='SEIR: Observed vs Fitted',\n",
    "                       xaxis_title='Day',\n",
    "                       yaxis_title='Counts',\n",
    "                       title_x=0.5,\n",
    "                      width=1000, height=600\n",
    "                     )"
   ]
  },
  {
   "cell_type": "code",
   "execution_count": 39,
   "metadata": {},
   "outputs": [
    {
     "name": "stdout",
     "output_type": "stream",
     "text": [
      "(458, 2)\n"
     ]
    }
   ],
   "source": [
    "observed_IR = df_covid_history.loc[:, ['infected', 'total_recovered_or_dead']].values\n",
    "print(observed_IR.shape)"
   ]
  },
  {
   "cell_type": "code",
   "execution_count": 48,
   "metadata": {},
   "outputs": [],
   "source": [
    "val_days = 450\n",
    "tspan_fit_pred = np.arange(0, val_days, 1)\n",
    "params['beta'].value = result.params['beta'].value\n",
    "params['sigma'].value = result.params['sigma'].value\n",
    "params['gamma'].value = result.params['gamma'].value\n",
    "fitted_predicted = ode_solver(tspan_fit_pred, initial_conditions, params)"
   ]
  },
  {
   "cell_type": "code",
   "execution_count": 49,
   "metadata": {},
   "outputs": [
    {
     "name": "stdout",
     "output_type": "stream",
     "text": [
      "(450, 2)\n"
     ]
    }
   ],
   "source": [
    "fitted_predicted_IR = fitted_predicted[:, 2:4]\n",
    "print(fitted_predicted_IR.shape)"
   ]
  },
  {
   "cell_type": "code",
   "execution_count": 54,
   "metadata": {},
   "outputs": [
    {
     "data": {
      "text/html": [
       "<div>\n",
       "        \n",
       "        \n",
       "            <div id=\"b5955e6d-8c25-4825-aca9-9f6c63082ceb\" class=\"plotly-graph-div\" style=\"height:600px; width:1000px;\"></div>\n",
       "            <script type=\"text/javascript\">\n",
       "                require([\"plotly\"], function(Plotly) {\n",
       "                    window.PLOTLYENV=window.PLOTLYENV || {};\n",
       "                    \n",
       "                if (document.getElementById(\"b5955e6d-8c25-4825-aca9-9f6c63082ceb\")) {\n",
       "                    Plotly.newPlot(\n",
       "                        'b5955e6d-8c25-4825-aca9-9f6c63082ceb',\n",
       "                        [{\"line\": {\"dash\": \"dot\"}, \"mode\": \"markers\", \"name\": \"Observed Infections\", \"type\": \"scatter\", \"x\": [[47.0, 0.0], [175.33652034125404, 2.716948722716584], [287.54407301479733, 8.322619981888993], [388.11353468355145, 16.48441631883705], [480.6451723589796, 26.9667939174205], [568.048984018391, 39.6123083213795], [652.7021641446871, 54.32695137879471], [736.5730554860229, 71.06886262708429], [821.3189135691057, 89.83969929250247], [908.363214826886, 110.67810683349495], [998.9570280952903, 133.6548518442285], [1094.2279663382942, 158.86927857018287], [1195.2194922634148, 186.4468241760328], [1302.9227576164533, 216.53738713013075], [1418.3026781978433, 249.31439093362215], [1542.3195982654177, 284.9744205804023], [1675.9476060217248, 323.7373388099508], [1820.190338810839, 365.84681219506444], [1976.0949488762246, 411.57119470285966], [2144.7647613350964, 461.20473124789163], [2327.371055765831, 515.069054893797], [2525.164317981166, 573.5149610918073], [2739.4852508651484, 636.924449527115], [2971.775779400722, 705.7130309474533], [3223.5902518112994, 780.3323014028639], [3496.60702121677, 861.2727902804238], [3792.640553945194, 949.067093826028], [4113.654209348157, 1044.2933083300713], [4461.773827162077, 1147.5787806622413], [4839.302247281467, 1259.6041973828744], [5248.734889521924, 1381.1080362593516], [5692.776520015072, 1512.8914076904064], [6174.359325444523, 1655.8233143331574], [6696.662446419432, 1810.846365963389], [7263.13308918937, 1978.9829819933893], [7877.50937728027, 2161.342124255536], [8543.84509645247, 2359.1266028793707], [9266.536500924858, 2573.6410030851034], [10050.351371216097, 2806.300287079691], [10900.460495552708, 3058.6391210409465], [11822.47178060025, 3332.3219870878343], [12822.467278048782, 3629.1541636540605], [13907.043361626522, 3951.093644438801], [15083.354182364312, 4300.2640331178545], [16359.158844533995, 4678.968544168879], [17742.872672477904, 5089.705219300926], [19243.622637676694, 5535.183381173507], [20871.307506627058, 6018.341489605754], [22636.663233916515, 6542.366556161926], [24551.33369980126, 7110.715146701617], [26627.947273656813, 7727.136114713083], [28880.200474953373, 8395.695443541603], [31322.948058011138, 9120.802996978986], [33972.30086584126, 9907.241578479887], [36845.73212282071, 10760.198497514592], [39962.19251409769, 11685.299746992956], [43342.235215771194, 12688.647138147231], [47008.151250919516, 13776.858504020729], [50984.11641393271, 14957.111341796955], [55296.35058753744, 16237.190138727363], [59973.290412199036, 17625.537667754365], [65045.776757231724, 19131.310684887372], [70547.25779655966, 20764.440266665526], [76514.00924112152, 22535.697250647074], [82985.3732058078, 24456.76321937055], [90004.01751278204, 26540.307564933886], [97616.21628886952, 28800.07089066354], [105872.15477010398, 31250.955618698703], [114826.25940869917, 33909.12413057258], [124537.55609036052, 36792.1052795928], [135070.05837271104, 39918.90984608667], [146493.18850145518, 43310.15575909657], [158882.23392481022, 46988.203901770656], [172318.841997072, 50977.30530240623], [186891.5567951757, 55303.760889388635], [202696.4003747497, 59996.09450539277], [219837.50385810743, 65085.240804326895], [238427.79029918485, 70604.748608183], [258589.71647846926, 76591.00188637679], [280456.0749941472, 83083.45875583275], [304170.8660283381, 90124.91134199986], [329890.2393198041, 97761.76664716951], [357783.51839465846, 106044.35209168466], [388034.30656888674, 115027.2455518212], [420841.689979553, 124769.63455898043], [456421.53583568474, 135335.7040679573], [495007.9050018013, 146795.05866200424], [536854.5754542735, 159223.17808449484], [582236.70023626, 172701.91340131272], [631452.5945271141, 187320.02204730167], [684825.6807203615, 203173.750759658], [742706.583807562, 220367.46389210748], [805475.412067396, 239014.32810183294], [873544.212702176, 259237.0500115647], [947359.644303159, 281168.68015213724], [1027405.8529126869, 304953.47875566134], [1114207.6012777681, 330747.8593586604], [1208333.6348639901, 358721.40463752364], [1310400.3427146638, 389057.973441673], [1421075.693493381, 421956.892189509], [1541083.513780452, 457634.2529617807], [1671208.0857191016, 496324.31004916935], [1812299.1408557026, 538281.0011264167], [1965277.2265904746, 583779.5842786368], [2131139.522211533, 633118.4177414252], [2310966.093126834, 686620.8773893627], [2505926.6589360223, 744637.439213821], [2717287.867088557, 807547.9227542158], [2946421.1496800375, 875763.924106911], [3194811.167238341, 949731.4392458069], [3464064.907485836, 1029933.7033272301], [3755921.4616612867, 1116894.254263829], [4072262.5344304014, 1211180.2420855588], [4415123.725220934, 1313406.0012285602], [4786706.62820751, 1424236.9021708884], [5189391.799834862, 1544393.5091459712], [5625752.636343913, 1674656.055450463], [6098570.211888663, 1815869.271365299], [6610849.116949429, 1968947.579713639], [7165834.328392934, 2134880.6772233555], [7767029.189648606, 2314739.549523542], [8418214.487404272, 2509682.923432048], [9123468.6734677, 2720964.194653682], [9887189.252258964, 2949938.8577652867], [10714115.349040926, 3198072.467348807], [11609351.427395673, 3466949.153650081], [12578392.162671788, 3758280.722634487], [13627148.40899615, 4073916.3811309873], [14761974.203629013, 4415853.078788477], [15989694.71476591, 4786246.533289636], [17317634.987494685, 5187422.926047197], [18753649.317400552, 5621891.305490411], [20306151.044242185, 6092356.700178622], [21984142.451170724, 6601733.953873945], [23797244.47316686, 7153162.279061641], [25755725.819074415, 7750020.518321005], [27870530.74907331, 8395943.101141915], [30153305.30977784, 9094836.633611059], [32616420.969341345, 9850897.114942726], [35272995.039982736, 10668627.6820164], [38136906.72556818, 11552856.764991447], [41222807.81929365, 12508756.60479397], [44546126.63948179, 13541861.946861073], [48123063.8476332, 14658088.704561396], [51970578.57219097, 15863752.440134082], [56106362.93700866, 17165586.363199633], [60548802.817318946, 18570758.5459944], [65316923.18578253, 20086888.02880053], [70430315.36013012, 21722059.387168393], [75909043.61970136, 23484835.28292826], [81773529.01840034, 25384266.53670109], [88044407.73233347, 27429899.041907497], [94742361.24740706, 29631776.990362093], [101887916.3160489, 32000441.60589003], [109501212.35752042, 34546924.68023215], [117601734.69581242, 37282736.07831255], [126208012.40516786, 40219844.39732206], [135337280.90875068, 43370649.99542864], [145005108.67859098, 46747949.33365682], [155224990.59717327, 50364889.946976215], [166007910.8283226, 54234915.197228976], [177361880.46335265, 58371698.41952074], [189291454.53755873, 62789065.37063295], [201797238.38012564, 67500904.95222308], [214875393.26545402, 72521068.1983428], [228517152.88084295, 77863255.0410128], [242708366.6088592, 83540890.12124684], [257429082.18263128, 89566987.91138859], [272653187.6221629, 95954008.44621764], [288348129.4127214, 102713705.24627554], [304474723.25153816, 109856967.64839536], [320987075.5531071, 117393659.80767302], [337832638.1083688, 125332459.09103797], [354952390.93695164, 133680697.97543283], [372281179.07465637, 142444211.58599782], [389748201.0064824, 151627195.7350025], [407277652.440443, 161232077.8426992], [424789510.8254978, 171259405.832197], [442200456.02902424, 181707757.2294274], [459424905.50632554, 192573671.90026438], [476376139.41895914, 203851610.99134156], [492967489.0227464, 215533943.7186376], [509113555.2704268, 227610963.25184298], [524731423.7086052, 240070932.01169667], [539741841.4760851, 252900155.84529057], [554070322.9839128, 266083085.77177963], [567648153.6203426, 279602445.2186732], [580413265.3009212, 293439379.9421222], [592310962.6486667, 307573627.2889418], [603294484.790516, 321983701.0111553], [613325394.2423639, 336647087.52859235], [622373790.9095476, 351540449.4689555], [630418355.2431601, 366639832.29337746], [637446230.2062678, 381920869.99231], [643452756.3346092, 397358986.13393444], [648441077.7750335, 412929586.9331389], [652421639.6690485, 428608243.47308105], [655411598.6375936, 444370860.721207], [657434168.484984, 460193831.5120064], [658517922.6927346, 476054174.1969937], [658696073.9763414, 491929653.1681294], [658005749.3026204, 507798881.9276851], [656487276.4958789, 523641408.79364055], [654183496.1028593, 539437785.6920878], [651139109.424413, 555169620.7805606], [647400071.2917562, 570819615.8811791], [643013033.626731, 586371589.8807101], [638024843.6371894, 601810489.3721268], [632482098.5571799, 617122387.8811189], [626430757.1774431, 632294475.04639], [619915807.0369215, 647315037.1113502], [612980985.0531538, 662173430.0438726], [605668548.5405273, 676860046.536736], [598019092.9752315, 691366278.0602744], [590071412.4872894, 705684473.0455333], [581862398.8512373, 719807892.178262], [573426974.6883367, 733730661.6809361], [564798056.6913724, 747447725.3512902], [556006544.7871058, 760954796.0367655], [547081333.3592718, 774248307.1272874], [538049341.1246847, 787325364.5312042], [528935556.21760803, 800183699.5692679], [519763093.32899266, 812821623.1413525], [510553260.88405347, 825237981.3318386], [501325635.13118756, 837432112.7783822], [492098139.72122073, 849403807.8643483], [482887128.69024795, 861153269.8812729], [473707471.38261765, 872681078.2199427], [464572638.0719897, 883988153.6183717], [455494785.2667534, 895075725.4702291], [446484839.5027108, 905945301.1815895], [437552579.5143706, 916598637.5188489], [428706715.9183016, 927037713.8958164], [419954967.9123068, 937264707.5628324], [411304136.50678, 947281970.6171558], [402760174.5805648, 957092008.724634], [394328253.4580137, 966697461.4626046], [386012825.56914306, 976101084.2706237], [377817683.6498284, 985305731.8362726], [369746016.2973677, 994314342.8684531], [361800459.9831914, 1003129926.1704369], [353983147.529229, 1011755547.9296324], [346295753.3499893, 1020194320.1266584], [338739535.4769042, 1028449389.9969352], [331315374.47255725, 1036523930.4748274], [324023809.49766487, 1044421131.5342736], [316865071.6162337, 1052144192.3658521], [309839114.49776816, 1059696314.3274488], [302945642.69143957, 1067080694.6045914], [296184137.63307667, 1074300520.5226855], [289553881.50819594, 1081358964.4598596], [283053979.1276541, 1088259179.3152945], [276683377.9674991, 1095004294.4760907], [270440886.4647804, 1101597412.257827], [264325190.7860761, 1108041604.7447946], [258334870.06665024, 1114339911.0373456], [252468410.31037667, 1120495334.8439872], [246724217.058368, 1126510842.3872223], [241100626.88960508, 1132389360.6054611], [235595917.84332928, 1138133775.6244578], [230208318.92714328, 1143746931.451286], [224936018.64464, 1149231628.9109497], [219777172.78636178, 1154590624.7555134], [214729911.42204827, 1159826630.9653013], [209792345.22046155, 1164942314.2062058], [204962571.1414175, 1169940295.431577], [200238677.55349895, 1174823149.6145787], [195618748.82975766, 1179593405.5968502], [191100869.4608417, 1184253546.0433402], [186683127.7167511, 1188806007.4951098], [182363618.98089018, 1193253180.4876437], [178140448.61903074, 1197597409.7713802], [174011734.60096592, 1201840994.5768194], [169975609.77174816, 1205986188.9521258], [166030223.89237893, 1210035202.1419957], [162173745.4116218, 1213990199.0181067], [158404363.00986964, 1217853300.5499864], [154720286.95187813, 1221626584.3083112], [151119750.25207824, 1225312084.9992487], [147601009.66810435, 1228911795.0258596], [144162346.5496808, 1232427665.070232], [140802067.5460573, 1235861604.6955416], [137518505.19501916, 1239215482.962733], [134310018.39844126, 1242491129.0603242], [131174992.79366438, 1245690332.9454246], [128111841.04362552, 1248814845.9905953], [125119003.03834029, 1251866381.6382906], [122194946.02500302, 1254846616.0589345], [119338164.67360426, 1257757188.8110945], [116547181.08470345, 1260599703.5023792], [113820544.7432596, 1263375728.450153], [111156832.42071557, 1266086797.3416288], [108554648.05023573, 1268734409.8880053], [106012622.54769975, 1271320032.47864], [103529413.61027819, 1273845098.828445], [101103705.48386127, 1276311010.6204848], [98734208.70127273, 1278719138.1433613], [96419659.80570316, 1281070820.9206347], [94158821.04696758, 1283367368.3347232], [91950480.06454913, 1285610060.2426105], [89793449.55773611, 1287800147.5835009], [87686566.93875517, 1289938852.9790978], [85628693.9800804, 1292027371.3246665], [83618716.45040287, 1294066870.3719096], [81655543.74317305, 1296058491.3029716], [79738108.50216016, 1298003349.2950969], [77865366.23955335, 1299902534.076579], [76036294.95108649, 1301757110.4733763], [74249894.73199543, 1303568118.9461825], [72505187.38769421, 1305336576.118476], [70801216.04745898, 1307063475.2950826], [69137044.77426554, 1308749786.9715133], [67511758.18078293, 1310396459.3337827], [65924461.041662656, 1312004418.7490757], [64374277.9126533, 1313574570.247046], [62860352.748544075, 1315107797.9919984], [61381848.52633664, 1316604965.7458942], [59937946.87109986, 1318066917.3223367], [58527847.68527428, 1319494477.03145], [57150768.7828822, 1320888450.1161554], [55805945.526497304, 1322249623.1792347], [54492630.47061706, 1323578764.6023083], [53210093.00767773, 1324876624.9555588], [51957619.02077344, 1326143937.3997192], [50734510.53972475, 1327381418.0790358], [49540085.40351825, 1328589766.5066514], [48373676.926995836, 1329769665.9413972], [47234633.5733941, 1330921783.7569387], [46122318.631867945, 1332046771.8029914], [45036109.90047145, 1333145266.7587073], [43975399.37457047, 1334217890.4788198], [42939592.94052699, 1335265250.3318138], [41928110.07494882, 1336287939.5314755], [40940383.54919728, 1337286537.4604335], [39975859.139386214, 1338261609.987547], [39033995.34170244, 1339213709.7774441], [38114263.093074456, 1340143376.594142], [37216145.497171, 1341051137.5972407], [36339137.55563618, 1341937507.632146], [35482745.90455781, 1342802989.5135367], [34646488.55613861, 1343648074.302645], [33829894.64539407, 1344473241.5785024], [33032504.18207644, 1345278959.7027962], [32253867.807353135, 1346065686.0793402], [31493546.55574282, 1346833867.4070578], [30751111.621539533, 1347583939.9280734], [30026144.130466834, 1348316329.6693923], [29318234.915627792, 1349031452.67997], [28626984.298535295, 1349729715.261668], [27952001.874383017, 1350411514.195627], [27292906.302091494, 1351077236.9630625], [26649325.09866846, 1351727261.9613004], [26020894.43794555, 1352361958.7148755], [25407258.953740843, 1352981688.0816662], [24808071.54700202, 1353586802.4546776], [24222993.19745133, 1354177645.9587364], [23651692.77887269, 1354754554.6432996], [23093846.878897313, 1355317856.670181], [22549139.622196883, 1355867872.4976907], [22017262.49804602, 1356404915.059871], [21497914.191208284, 1356929289.9422352], [20990800.416903388, 1357441295.55299], [20495633.75916901, 1357941223.2906442], [20012133.51290082, 1358429357.7076228], [19540025.52941914, 1358905976.6700888], [19079042.06531394, 1359371351.514265], [18628921.634914547, 1359825747.1988392], [18189408.86569825, 1360269422.4542766], [17760254.357351493, 1360702629.9281824], [17341214.543524653, 1361125616.3278584], [16932051.557162818, 1361538622.559001], [16532533.098413868, 1361941883.861724], [16142432.305899845, 1362335629.9429734], [15761527.630598113, 1362720085.1062217], [15389602.712750902, 1363095468.3779461], [15026446.261499632, 1363461993.6312463], [14671851.937193522, 1363819869.7066505], [14325618.23652475, 1364169300.529945], [13987548.38002914, 1364510485.227539], [13657450.202454036, 1364843618.2388053], [13335136.045303846, 1365168889.4261677], [13020422.652122278, 1365486484.1823063], [12713131.065972958, 1365796583.535087], [12413086.529645782, 1366099364.2496207], [12120118.387837633, 1366394998.9283302], [11834059.988579739, 1366683656.1117227], [11554748.596814428, 1366965500.3665805], [11282025.29358915, 1367240692.389087], [11015734.897775535, 1367509389.0845525], [10755725.868078494, 1367771743.667619], [10501850.228119953, 1368027905.738526], [10253963.47387026, 1368278021.377679], [10011924.501000546, 1368522233.2195814], [9775595.518002048, 1368760680.5415068], [9544841.976433344, 1368993499.3344655], [9319532.486101514, 1369220822.3897345], [9099538.745979019, 1369442779.3691447], [8884735.477517353, 1369659496.8728893], [8675000.340287682, 1369871098.5255847], [8470213.879748743, 1370077705.0292034], [8270259.443553833, 1370279434.248421], [8075023.128313348, 1370476401.2646153], [7884393.709324233, 1370668718.4473886], [7698262.575839673, 1370856495.5203998], [7516523.679113775, 1371039839.6140573], [7339073.458494662, 1371218855.3407829], [7165810.79783248, 1371393644.8391447], [6996636.955832168, 1371564307.8447263], [6831455.517700977, 1371730941.739162], [6670172.339583843, 1371893641.606563], [6512695.489805193, 1372052500.293223], [6358935.207602346, 1372207608.449404], [6208803.839321712, 1372359054.5942035], [6062215.800703289, 1372506925.1537235], [5919087.520135394, 1372651304.5187051], [5779337.394316558, 1372792275.0894809], [5642885.74485307, 1372929917.3199687], [5509654.765392048, 1373064309.7713425], [5379568.488186625, 1373195529.1458507], [5252552.73013555, 1373323650.3415973], [5128535.059262153, 1373448746.4864614], [5007444.749195588, 1373570888.9842572], [4889212.739036543, 1373690147.5554063], [4773771.599190994, 1373806590.2715232], [4661055.481724099, 1373920283.6057808], [4551000.096706441, 1374031292.4567883], [4443542.669052822, 1374139680.1923451], [4338621.898295841, 1374245508.6902084], [4236177.936247414, 1374348838.3606448], [4136152.3399757715, 1374449728.1941125], [4038488.044412919, 1374548235.7889633], [3943129.33454827, 1374644417.3795686], [3850021.802229587, 1374738327.8801036], [3759112.327101715, 1374830020.9037805], [3670349.0402591187, 1374919548.7996619], [3583681.2920282506, 1375006962.6852772], [3499059.6333176596, 1375092312.4654489], [3416435.776185762, 1375175646.8722363], [3335762.5720003787, 1375257013.4870076], [3256993.9874950442, 1375336458.7646496], [3180085.069633011, 1375414028.0691445], [3104991.9299807074, 1375489765.689335], [3031671.713977701, 1375563714.8700264], [2960082.574974264, 1375635917.838247], [2890183.658514484, 1375706415.8191144], [2821935.0695162634, 1375775249.0690522], [2755297.8548598792, 1375842456.8933778], [2690233.9827690707, 1375908077.6671426], [2626706.3142883587, 1375972148.8639896], [2564678.590432248, 1376034707.0691178]], \"y\": [47, 60, 73, 70, 72, 95, 99, 120, 134, 149, 196, 256, 329, 424, 469, 553, 634, 640, 810, 901, 1118, 1238, 1649, 1860, 2322, 2784, 3219, 3851, 4312, 4714, 5218, 6039, 6634, 7409, 8048, 9272, 10197, 10824, 11616, 12289, 13295, 14255, 15122, 15859, 16689, 17915, 18953, 20177, 21132, 22010, 22904, 24162, 25148, 26535, 28070, 29685, 31967, 33514, 35902, 37916, 39834, 41472, 44029, 46008, 47480, 49219, 51401, 52805, 53946, 56316, 58802, 61149, 63624, 66330, 69597, 73560, 77103, 80722, 83004, 86110, 89987, 86422, 89995, 93322, 97581, 101497, 106737, 110960, 115942, 120406, 124981, 129813, 133632, 137448, 141842, 145779, 149348, 153106, 153178, 155227, 160384, 163248, 168269, 169451, 174387, 178014, 183022, 186514, 189463, 197387, 203051, 210120, 215125, 220114, 226947, 227439, 235433, 244814, 253287, 259557, 264944, 269789, 276682, 283407, 292258, 301609, 311565, 319840, 331146, 342473, 358692, 373379, 390459, 402529, 411133, 426167, 440135, 456071, 467882, 485114, 496988, 509447, 528242, 545318, 565103, 567730, 579357, 586298, 586244, 595501, 607384, 619088, 628747, 634945, 639929, 643948, 653622, 661595, 668220, 677444, 676900, 673166, 676514, 686395, 692028, 697330, 707668, 710771, 704348, 707267, 725991, 742023, 752424, 765302, 781975, 785996, 801282, 815538, 831124, 846395, 862320, 882542, 883697, 897394, 919018, 943480, 958316, 973175, 986598, 990061, 995933, 1009976, 1017754, 1013964, 1010824, 1003299, 975861, 968377, 969251, 970116, 960969, 956402, 962640, 947576, 940441, 941334, 942217, 944996, 939718, 934427, 919023, 910737, 902425, 893592, 883185, 867496, 861853, 838729, 826876, 812390, 804528, 795087, 783311, 772055, 748538, 740090, 715812, 695509, 680680, 668154, 653717, 625857, 610803, 603687, 594386, 582649, 570458, 561908, 541405, 533787, 527962, 520773, 516632, 512665, 509673, 501214, 494657, 489294, 484547, 480719, 479216, 465478, 453401, 446805, 443303, 443794, 439747, 440962, 443486, 438667, 444746, 452344, 455555, 454940, 453956, 446952, 435603, 428644, 422943, 416082, 409689, 403248, 396729, 383866, 378909, 372293, 363749, 359819, 356546, 352586, 339820, 332002, 322366, 313831, 308751, 305344, 303639, 292518, 289240, 283849, 281919, 281667, 278690, 277301, 268581, 262272, 257656, 254254, 250183, 247220, 243953, 231036, 227546, 228083, 225449, 224190, 223335, 222526, 216558, 214507, 213603, 213027, 211033, 208826, 208012, 200528, 197201, 192308, 188688, 185662, 184408, 184182, 177266, 176498, 173740, 171686, 169824, 168784, 168235, 163353, 160057, 155025, 151460, 148590, 148766, 148609, 143625, 141511, 142562, 135926, 136571, 137567, 139637, 136872, 136549, 137342, 139542, 143127, 145634, 150055, 147306, 146907, 151708, 155986, 159590, 164511, 168627, 168358, 170126, 173413, 176319, 180304, 184523, 188747, 187462, 184598, 189226, 197237, 202022, 210544, 219262, 223432, 234406, 252364, 271282, 288394, 309087, 334646, 345377, 368457, 395192, 421066, 452647, 486310, 521808, 540720, 552566, 584055, 614696, 658909, 691597, 741830, 788223, 843473, 910319, 979608, 1046631, 1108087, 1201009, 1264698, 1365704, 1471877, 1569743, 1679740, 1801316, 1929329, 2031977, 2157538, 2291428, 2428616, 2552940, 2682751, 2813658, 2882204, 2978709, 3084814, 3170228, 3268710, 3349644, 3413642, 3447133, 3487229, 3566398, 3645164, 3723446, 3736648, 3745237, 3715221, 3704099, 3710525, 3704893, 3673802, 3618458, 3353765, 3353765, 3129878, 3027925, 3027925, 2805399, 2805399, 2720716, 2586782, 2495591, 2419907, 2343152, 2228724, 2114508, 2026092, 1895520, 1713413]}, {\"mode\": \"lines+markers\", \"name\": \"Fitted Infections\", \"type\": \"scatter\", \"x\": [[47.0, 0.0], [175.33652034125404, 2.716948722716584], [287.54407301479733, 8.322619981888993], [388.11353468355145, 16.48441631883705], [480.6451723589796, 26.9667939174205], [568.048984018391, 39.6123083213795], [652.7021641446871, 54.32695137879471], [736.5730554860229, 71.06886262708429], [821.3189135691057, 89.83969929250247], [908.363214826886, 110.67810683349495], [998.9570280952903, 133.6548518442285], [1094.2279663382942, 158.86927857018287], [1195.2194922634148, 186.4468241760328], [1302.9227576164533, 216.53738713013075], [1418.3026781978433, 249.31439093362215], [1542.3195982654177, 284.9744205804023], [1675.9476060217248, 323.7373388099508], [1820.190338810839, 365.84681219506444], [1976.0949488762246, 411.57119470285966], [2144.7647613350964, 461.20473124789163], [2327.371055765831, 515.069054893797], [2525.164317981166, 573.5149610918073], [2739.4852508651484, 636.924449527115], [2971.775779400722, 705.7130309474533], [3223.5902518112994, 780.3323014028639], [3496.60702121677, 861.2727902804238], [3792.640553945194, 949.067093826028], [4113.654209348157, 1044.2933083300713], [4461.773827162077, 1147.5787806622413], [4839.302247281467, 1259.6041973828744], [5248.734889521924, 1381.1080362593516], [5692.776520015072, 1512.8914076904064], [6174.359325444523, 1655.8233143331574], [6696.662446419432, 1810.846365963389], [7263.13308918937, 1978.9829819933893], [7877.50937728027, 2161.342124255536], [8543.84509645247, 2359.1266028793707], [9266.536500924858, 2573.6410030851034], [10050.351371216097, 2806.300287079691], [10900.460495552708, 3058.6391210409465], [11822.47178060025, 3332.3219870878343], [12822.467278048782, 3629.1541636540605], [13907.043361626522, 3951.093644438801], [15083.354182364312, 4300.2640331178545], [16359.158844533995, 4678.968544168879], [17742.872672477904, 5089.705219300926], [19243.622637676694, 5535.183381173507], [20871.307506627058, 6018.341489605754], [22636.663233916515, 6542.366556161926], [24551.33369980126, 7110.715146701617], [26627.947273656813, 7727.136114713083], [28880.200474953373, 8395.695443541603], [31322.948058011138, 9120.802996978986], [33972.30086584126, 9907.241578479887], [36845.73212282071, 10760.198497514592], [39962.19251409769, 11685.299746992956], [43342.235215771194, 12688.647138147231], [47008.151250919516, 13776.858504020729], [50984.11641393271, 14957.111341796955], [55296.35058753744, 16237.190138727363], [59973.290412199036, 17625.537667754365], [65045.776757231724, 19131.310684887372], [70547.25779655966, 20764.440266665526], [76514.00924112152, 22535.697250647074], [82985.3732058078, 24456.76321937055], [90004.01751278204, 26540.307564933886], [97616.21628886952, 28800.07089066354], [105872.15477010398, 31250.955618698703], [114826.25940869917, 33909.12413057258], [124537.55609036052, 36792.1052795928], [135070.05837271104, 39918.90984608667], [146493.18850145518, 43310.15575909657], [158882.23392481022, 46988.203901770656], [172318.841997072, 50977.30530240623], [186891.5567951757, 55303.760889388635], [202696.4003747497, 59996.09450539277], [219837.50385810743, 65085.240804326895], [238427.79029918485, 70604.748608183], [258589.71647846926, 76591.00188637679], [280456.0749941472, 83083.45875583275], [304170.8660283381, 90124.91134199986], [329890.2393198041, 97761.76664716951], [357783.51839465846, 106044.35209168466], [388034.30656888674, 115027.2455518212], [420841.689979553, 124769.63455898043], [456421.53583568474, 135335.7040679573], [495007.9050018013, 146795.05866200424], [536854.5754542735, 159223.17808449484], [582236.70023626, 172701.91340131272], [631452.5945271141, 187320.02204730167], [684825.6807203615, 203173.750759658], [742706.583807562, 220367.46389210748], [805475.412067396, 239014.32810183294], [873544.212702176, 259237.0500115647], [947359.644303159, 281168.68015213724], [1027405.8529126869, 304953.47875566134], [1114207.6012777681, 330747.8593586604], [1208333.6348639901, 358721.40463752364], [1310400.3427146638, 389057.973441673], [1421075.693493381, 421956.892189509], [1541083.513780452, 457634.2529617807], [1671208.0857191016, 496324.31004916935], [1812299.1408557026, 538281.0011264167], [1965277.2265904746, 583779.5842786368], [2131139.522211533, 633118.4177414252], [2310966.093126834, 686620.8773893627], [2505926.6589360223, 744637.439213821], [2717287.867088557, 807547.9227542158], [2946421.1496800375, 875763.924106911], [3194811.167238341, 949731.4392458069], [3464064.907485836, 1029933.7033272301], [3755921.4616612867, 1116894.254263829], [4072262.5344304014, 1211180.2420855588], [4415123.725220934, 1313406.0012285602], [4786706.62820751, 1424236.9021708884], [5189391.799834862, 1544393.5091459712], [5625752.636343913, 1674656.055450463], [6098570.211888663, 1815869.271365299], [6610849.116949429, 1968947.579713639], [7165834.328392934, 2134880.6772233555], [7767029.189648606, 2314739.549523542], [8418214.487404272, 2509682.923432048], [9123468.6734677, 2720964.194653682], [9887189.252258964, 2949938.8577652867], [10714115.349040926, 3198072.467348807], [11609351.427395673, 3466949.153650081], [12578392.162671788, 3758280.722634487], [13627148.40899615, 4073916.3811309873], [14761974.203629013, 4415853.078788477], [15989694.71476591, 4786246.533289636], [17317634.987494685, 5187422.926047197], [18753649.317400552, 5621891.305490411], [20306151.044242185, 6092356.700178622], [21984142.451170724, 6601733.953873945], [23797244.47316686, 7153162.279061641], [25755725.819074415, 7750020.518321005], [27870530.74907331, 8395943.101141915], [30153305.30977784, 9094836.633611059], [32616420.969341345, 9850897.114942726], [35272995.039982736, 10668627.6820164], [38136906.72556818, 11552856.764991447], [41222807.81929365, 12508756.60479397], [44546126.63948179, 13541861.946861073], [48123063.8476332, 14658088.704561396], [51970578.57219097, 15863752.440134082], [56106362.93700866, 17165586.363199633], [60548802.817318946, 18570758.5459944], [65316923.18578253, 20086888.02880053], [70430315.36013012, 21722059.387168393], [75909043.61970136, 23484835.28292826], [81773529.01840034, 25384266.53670109], [88044407.73233347, 27429899.041907497], [94742361.24740706, 29631776.990362093], [101887916.3160489, 32000441.60589003], [109501212.35752042, 34546924.68023215], [117601734.69581242, 37282736.07831255], [126208012.40516786, 40219844.39732206], [135337280.90875068, 43370649.99542864], [145005108.67859098, 46747949.33365682], [155224990.59717327, 50364889.946976215], [166007910.8283226, 54234915.197228976], [177361880.46335265, 58371698.41952074], [189291454.53755873, 62789065.37063295], [201797238.38012564, 67500904.95222308], [214875393.26545402, 72521068.1983428], [228517152.88084295, 77863255.0410128], [242708366.6088592, 83540890.12124684], [257429082.18263128, 89566987.91138859], [272653187.6221629, 95954008.44621764], [288348129.4127214, 102713705.24627554], [304474723.25153816, 109856967.64839536], [320987075.5531071, 117393659.80767302], [337832638.1083688, 125332459.09103797], [354952390.93695164, 133680697.97543283], [372281179.07465637, 142444211.58599782], [389748201.0064824, 151627195.7350025], [407277652.440443, 161232077.8426992], [424789510.8254978, 171259405.832197], [442200456.02902424, 181707757.2294274], [459424905.50632554, 192573671.90026438], [476376139.41895914, 203851610.99134156], [492967489.0227464, 215533943.7186376], [509113555.2704268, 227610963.25184298], [524731423.7086052, 240070932.01169667], [539741841.4760851, 252900155.84529057], [554070322.9839128, 266083085.77177963], [567648153.6203426, 279602445.2186732], [580413265.3009212, 293439379.9421222], [592310962.6486667, 307573627.2889418], [603294484.790516, 321983701.0111553], [613325394.2423639, 336647087.52859235], [622373790.9095476, 351540449.4689555], [630418355.2431601, 366639832.29337746], [637446230.2062678, 381920869.99231], [643452756.3346092, 397358986.13393444], [648441077.7750335, 412929586.9331389], [652421639.6690485, 428608243.47308105], [655411598.6375936, 444370860.721207], [657434168.484984, 460193831.5120064], [658517922.6927346, 476054174.1969937], [658696073.9763414, 491929653.1681294], [658005749.3026204, 507798881.9276851], [656487276.4958789, 523641408.79364055], [654183496.1028593, 539437785.6920878], [651139109.424413, 555169620.7805606], [647400071.2917562, 570819615.8811791], [643013033.626731, 586371589.8807101], [638024843.6371894, 601810489.3721268], [632482098.5571799, 617122387.8811189], [626430757.1774431, 632294475.04639], [619915807.0369215, 647315037.1113502], [612980985.0531538, 662173430.0438726], [605668548.5405273, 676860046.536736], [598019092.9752315, 691366278.0602744], [590071412.4872894, 705684473.0455333], [581862398.8512373, 719807892.178262], [573426974.6883367, 733730661.6809361], [564798056.6913724, 747447725.3512902], [556006544.7871058, 760954796.0367655], [547081333.3592718, 774248307.1272874], [538049341.1246847, 787325364.5312042], [528935556.21760803, 800183699.5692679], [519763093.32899266, 812821623.1413525], [510553260.88405347, 825237981.3318386], [501325635.13118756, 837432112.7783822], [492098139.72122073, 849403807.8643483], [482887128.69024795, 861153269.8812729], [473707471.38261765, 872681078.2199427], [464572638.0719897, 883988153.6183717], [455494785.2667534, 895075725.4702291], [446484839.5027108, 905945301.1815895], [437552579.5143706, 916598637.5188489], [428706715.9183016, 927037713.8958164], [419954967.9123068, 937264707.5628324], [411304136.50678, 947281970.6171558], [402760174.5805648, 957092008.724634], [394328253.4580137, 966697461.4626046], [386012825.56914306, 976101084.2706237], [377817683.6498284, 985305731.8362726], [369746016.2973677, 994314342.8684531], [361800459.9831914, 1003129926.1704369], [353983147.529229, 1011755547.9296324], [346295753.3499893, 1020194320.1266584], [338739535.4769042, 1028449389.9969352], [331315374.47255725, 1036523930.4748274], [324023809.49766487, 1044421131.5342736], [316865071.6162337, 1052144192.3658521], [309839114.49776816, 1059696314.3274488], [302945642.69143957, 1067080694.6045914], [296184137.63307667, 1074300520.5226855], [289553881.50819594, 1081358964.4598596], [283053979.1276541, 1088259179.3152945], [276683377.9674991, 1095004294.4760907], [270440886.4647804, 1101597412.257827], [264325190.7860761, 1108041604.7447946], [258334870.06665024, 1114339911.0373456], [252468410.31037667, 1120495334.8439872], [246724217.058368, 1126510842.3872223], [241100626.88960508, 1132389360.6054611], [235595917.84332928, 1138133775.6244578], [230208318.92714328, 1143746931.451286], [224936018.64464, 1149231628.9109497], [219777172.78636178, 1154590624.7555134], [214729911.42204827, 1159826630.9653013], [209792345.22046155, 1164942314.2062058], [204962571.1414175, 1169940295.431577], [200238677.55349895, 1174823149.6145787], [195618748.82975766, 1179593405.5968502], [191100869.4608417, 1184253546.0433402], [186683127.7167511, 1188806007.4951098], [182363618.98089018, 1193253180.4876437], [178140448.61903074, 1197597409.7713802], [174011734.60096592, 1201840994.5768194], [169975609.77174816, 1205986188.9521258], [166030223.89237893, 1210035202.1419957], [162173745.4116218, 1213990199.0181067], [158404363.00986964, 1217853300.5499864], [154720286.95187813, 1221626584.3083112], [151119750.25207824, 1225312084.9992487], [147601009.66810435, 1228911795.0258596], [144162346.5496808, 1232427665.070232], [140802067.5460573, 1235861604.6955416], [137518505.19501916, 1239215482.962733], [134310018.39844126, 1242491129.0603242], [131174992.79366438, 1245690332.9454246], [128111841.04362552, 1248814845.9905953], [125119003.03834029, 1251866381.6382906], [122194946.02500302, 1254846616.0589345], [119338164.67360426, 1257757188.8110945], [116547181.08470345, 1260599703.5023792], [113820544.7432596, 1263375728.450153], [111156832.42071557, 1266086797.3416288], [108554648.05023573, 1268734409.8880053], [106012622.54769975, 1271320032.47864], [103529413.61027819, 1273845098.828445], [101103705.48386127, 1276311010.6204848], [98734208.70127273, 1278719138.1433613], [96419659.80570316, 1281070820.9206347], [94158821.04696758, 1283367368.3347232], [91950480.06454913, 1285610060.2426105], [89793449.55773611, 1287800147.5835009], [87686566.93875517, 1289938852.9790978], [85628693.9800804, 1292027371.3246665], [83618716.45040287, 1294066870.3719096], [81655543.74317305, 1296058491.3029716], [79738108.50216016, 1298003349.2950969], [77865366.23955335, 1299902534.076579], [76036294.95108649, 1301757110.4733763], [74249894.73199543, 1303568118.9461825], [72505187.38769421, 1305336576.118476], [70801216.04745898, 1307063475.2950826], [69137044.77426554, 1308749786.9715133], [67511758.18078293, 1310396459.3337827], [65924461.041662656, 1312004418.7490757], [64374277.9126533, 1313574570.247046], [62860352.748544075, 1315107797.9919984], [61381848.52633664, 1316604965.7458942], [59937946.87109986, 1318066917.3223367], [58527847.68527428, 1319494477.03145], [57150768.7828822, 1320888450.1161554], [55805945.526497304, 1322249623.1792347], [54492630.47061706, 1323578764.6023083], [53210093.00767773, 1324876624.9555588], [51957619.02077344, 1326143937.3997192], [50734510.53972475, 1327381418.0790358], [49540085.40351825, 1328589766.5066514], [48373676.926995836, 1329769665.9413972], [47234633.5733941, 1330921783.7569387], [46122318.631867945, 1332046771.8029914], [45036109.90047145, 1333145266.7587073], [43975399.37457047, 1334217890.4788198], [42939592.94052699, 1335265250.3318138], [41928110.07494882, 1336287939.5314755], [40940383.54919728, 1337286537.4604335], [39975859.139386214, 1338261609.987547], [39033995.34170244, 1339213709.7774441], [38114263.093074456, 1340143376.594142], [37216145.497171, 1341051137.5972407], [36339137.55563618, 1341937507.632146], [35482745.90455781, 1342802989.5135367], [34646488.55613861, 1343648074.302645], [33829894.64539407, 1344473241.5785024], [33032504.18207644, 1345278959.7027962], [32253867.807353135, 1346065686.0793402], [31493546.55574282, 1346833867.4070578], [30751111.621539533, 1347583939.9280734], [30026144.130466834, 1348316329.6693923], [29318234.915627792, 1349031452.67997], [28626984.298535295, 1349729715.261668], [27952001.874383017, 1350411514.195627], [27292906.302091494, 1351077236.9630625], [26649325.09866846, 1351727261.9613004], [26020894.43794555, 1352361958.7148755], [25407258.953740843, 1352981688.0816662], [24808071.54700202, 1353586802.4546776], [24222993.19745133, 1354177645.9587364], [23651692.77887269, 1354754554.6432996], [23093846.878897313, 1355317856.670181], [22549139.622196883, 1355867872.4976907], [22017262.49804602, 1356404915.059871], [21497914.191208284, 1356929289.9422352], [20990800.416903388, 1357441295.55299], [20495633.75916901, 1357941223.2906442], [20012133.51290082, 1358429357.7076228], [19540025.52941914, 1358905976.6700888], [19079042.06531394, 1359371351.514265], [18628921.634914547, 1359825747.1988392], [18189408.86569825, 1360269422.4542766], [17760254.357351493, 1360702629.9281824], [17341214.543524653, 1361125616.3278584], [16932051.557162818, 1361538622.559001], [16532533.098413868, 1361941883.861724], [16142432.305899845, 1362335629.9429734], [15761527.630598113, 1362720085.1062217], [15389602.712750902, 1363095468.3779461], [15026446.261499632, 1363461993.6312463], [14671851.937193522, 1363819869.7066505], [14325618.23652475, 1364169300.529945], [13987548.38002914, 1364510485.227539], [13657450.202454036, 1364843618.2388053], [13335136.045303846, 1365168889.4261677], [13020422.652122278, 1365486484.1823063], [12713131.065972958, 1365796583.535087], [12413086.529645782, 1366099364.2496207], [12120118.387837633, 1366394998.9283302], [11834059.988579739, 1366683656.1117227], [11554748.596814428, 1366965500.3665805], [11282025.29358915, 1367240692.389087], [11015734.897775535, 1367509389.0845525], [10755725.868078494, 1367771743.667619], [10501850.228119953, 1368027905.738526], [10253963.47387026, 1368278021.377679], [10011924.501000546, 1368522233.2195814], [9775595.518002048, 1368760680.5415068], [9544841.976433344, 1368993499.3344655], [9319532.486101514, 1369220822.3897345], [9099538.745979019, 1369442779.3691447], [8884735.477517353, 1369659496.8728893], [8675000.340287682, 1369871098.5255847], [8470213.879748743, 1370077705.0292034], [8270259.443553833, 1370279434.248421], [8075023.128313348, 1370476401.2646153], [7884393.709324233, 1370668718.4473886], [7698262.575839673, 1370856495.5203998], [7516523.679113775, 1371039839.6140573], [7339073.458494662, 1371218855.3407829], [7165810.79783248, 1371393644.8391447], [6996636.955832168, 1371564307.8447263], [6831455.517700977, 1371730941.739162], [6670172.339583843, 1371893641.606563], [6512695.489805193, 1372052500.293223], [6358935.207602346, 1372207608.449404], [6208803.839321712, 1372359054.5942035], [6062215.800703289, 1372506925.1537235], [5919087.520135394, 1372651304.5187051], [5779337.394316558, 1372792275.0894809], [5642885.74485307, 1372929917.3199687], [5509654.765392048, 1373064309.7713425], [5379568.488186625, 1373195529.1458507], [5252552.73013555, 1373323650.3415973], [5128535.059262153, 1373448746.4864614], [5007444.749195588, 1373570888.9842572], [4889212.739036543, 1373690147.5554063], [4773771.599190994, 1373806590.2715232], [4661055.481724099, 1373920283.6057808], [4551000.096706441, 1374031292.4567883], [4443542.669052822, 1374139680.1923451], [4338621.898295841, 1374245508.6902084], [4236177.936247414, 1374348838.3606448], [4136152.3399757715, 1374449728.1941125], [4038488.044412919, 1374548235.7889633], [3943129.33454827, 1374644417.3795686], [3850021.802229587, 1374738327.8801036], [3759112.327101715, 1374830020.9037805], [3670349.0402591187, 1374919548.7996619], [3583681.2920282506, 1375006962.6852772], [3499059.6333176596, 1375092312.4654489], [3416435.776185762, 1375175646.8722363], [3335762.5720003787, 1375257013.4870076], [3256993.9874950442, 1375336458.7646496], [3180085.069633011, 1375414028.0691445], [3104991.9299807074, 1375489765.689335], [3031671.713977701, 1375563714.8700264], [2960082.574974264, 1375635917.838247], [2890183.658514484, 1375706415.8191144], [2821935.0695162634, 1375775249.0690522], [2755297.8548598792, 1375842456.8933778], [2690233.9827690707, 1375908077.6671426], [2626706.3142883587, 1375972148.8639896], [2564678.590432248, 1376034707.0691178]], \"y\": [47.0, 175.33652034125404, 287.54407301479733, 388.11353468355145, 480.6451723589796, 568.048984018391, 652.7021641446871, 736.5730554860229, 821.3189135691057, 908.363214826886, 998.9570280952903, 1094.2279663382942, 1195.2194922634148, 1302.9227576164533, 1418.3026781978433, 1542.3195982654177, 1675.9476060217248, 1820.190338810839, 1976.0949488762246, 2144.7647613350964, 2327.371055765831, 2525.164317981166, 2739.4852508651484, 2971.775779400722, 3223.5902518112994, 3496.60702121677, 3792.640553945194, 4113.654209348157, 4461.773827162077, 4839.302247281467, 5248.734889521924, 5692.776520015072, 6174.359325444523, 6696.662446419432, 7263.13308918937, 7877.50937728027, 8543.84509645247, 9266.536500924858, 10050.351371216097, 10900.460495552708, 11822.47178060025, 12822.467278048782, 13907.043361626522, 15083.354182364312, 16359.158844533995, 17742.872672477904, 19243.622637676694, 20871.307506627058, 22636.663233916515, 24551.33369980126, 26627.947273656813, 28880.200474953373, 31322.948058011138, 33972.30086584126, 36845.73212282071, 39962.19251409769, 43342.235215771194, 47008.151250919516, 50984.11641393271, 55296.35058753744, 59973.290412199036, 65045.776757231724, 70547.25779655966, 76514.00924112152, 82985.3732058078, 90004.01751278204, 97616.21628886952, 105872.15477010398, 114826.25940869917, 124537.55609036052, 135070.05837271104, 146493.18850145518, 158882.23392481022, 172318.841997072, 186891.5567951757, 202696.4003747497, 219837.50385810743, 238427.79029918485, 258589.71647846926, 280456.0749941472, 304170.8660283381, 329890.2393198041, 357783.51839465846, 388034.30656888674, 420841.689979553, 456421.53583568474, 495007.9050018013, 536854.5754542735, 582236.70023626, 631452.5945271141, 684825.6807203615, 742706.583807562, 805475.412067396, 873544.212702176, 947359.644303159, 1027405.8529126869, 1114207.6012777681, 1208333.6348639901, 1310400.3427146638, 1421075.693493381, 1541083.513780452, 1671208.0857191016, 1812299.1408557026, 1965277.2265904746, 2131139.522211533, 2310966.093126834, 2505926.6589360223, 2717287.867088557, 2946421.1496800375, 3194811.167238341, 3464064.907485836, 3755921.4616612867, 4072262.5344304014, 4415123.725220934, 4786706.62820751, 5189391.799834862, 5625752.636343913, 6098570.211888663, 6610849.116949429, 7165834.328392934, 7767029.189648606, 8418214.487404272, 9123468.6734677, 9887189.252258964, 10714115.349040926, 11609351.427395673, 12578392.162671788, 13627148.40899615, 14761974.203629013, 15989694.71476591, 17317634.987494685, 18753649.317400552, 20306151.044242185, 21984142.451170724, 23797244.47316686, 25755725.819074415, 27870530.74907331, 30153305.30977784, 32616420.969341345, 35272995.039982736, 38136906.72556818, 41222807.81929365, 44546126.63948179, 48123063.8476332, 51970578.57219097, 56106362.93700866, 60548802.817318946, 65316923.18578253, 70430315.36013012, 75909043.61970136, 81773529.01840034, 88044407.73233347, 94742361.24740706, 101887916.3160489, 109501212.35752042, 117601734.69581242, 126208012.40516786, 135337280.90875068, 145005108.67859098, 155224990.59717327, 166007910.8283226, 177361880.46335265, 189291454.53755873, 201797238.38012564, 214875393.26545402, 228517152.88084295, 242708366.6088592, 257429082.18263128, 272653187.6221629, 288348129.4127214, 304474723.25153816, 320987075.5531071, 337832638.1083688, 354952390.93695164, 372281179.07465637, 389748201.0064824, 407277652.440443, 424789510.8254978, 442200456.02902424, 459424905.50632554, 476376139.41895914, 492967489.0227464, 509113555.2704268, 524731423.7086052, 539741841.4760851, 554070322.9839128, 567648153.6203426, 580413265.3009212, 592310962.6486667, 603294484.790516, 613325394.2423639, 622373790.9095476, 630418355.2431601, 637446230.2062678, 643452756.3346092, 648441077.7750335, 652421639.6690485, 655411598.6375936, 657434168.484984, 658517922.6927346, 658696073.9763414, 658005749.3026204, 656487276.4958789, 654183496.1028593, 651139109.424413, 647400071.2917562, 643013033.626731, 638024843.6371894, 632482098.5571799, 626430757.1774431, 619915807.0369215, 612980985.0531538, 605668548.5405273, 598019092.9752315, 590071412.4872894, 581862398.8512373, 573426974.6883367, 564798056.6913724, 556006544.7871058, 547081333.3592718, 538049341.1246847, 528935556.21760803, 519763093.32899266, 510553260.88405347, 501325635.13118756, 492098139.72122073, 482887128.69024795, 473707471.38261765, 464572638.0719897, 455494785.2667534, 446484839.5027108, 437552579.5143706, 428706715.9183016, 419954967.9123068, 411304136.50678, 402760174.5805648, 394328253.4580137, 386012825.56914306, 377817683.6498284, 369746016.2973677, 361800459.9831914, 353983147.529229, 346295753.3499893, 338739535.4769042, 331315374.47255725, 324023809.49766487, 316865071.6162337, 309839114.49776816, 302945642.69143957, 296184137.63307667, 289553881.50819594, 283053979.1276541, 276683377.9674991, 270440886.4647804, 264325190.7860761, 258334870.06665024, 252468410.31037667, 246724217.058368, 241100626.88960508, 235595917.84332928, 230208318.92714328, 224936018.64464, 219777172.78636178, 214729911.42204827, 209792345.22046155, 204962571.1414175, 200238677.55349895, 195618748.82975766, 191100869.4608417, 186683127.7167511, 182363618.98089018, 178140448.61903074, 174011734.60096592, 169975609.77174816, 166030223.89237893, 162173745.4116218, 158404363.00986964, 154720286.95187813, 151119750.25207824, 147601009.66810435, 144162346.5496808, 140802067.5460573, 137518505.19501916, 134310018.39844126, 131174992.79366438, 128111841.04362552, 125119003.03834029, 122194946.02500302, 119338164.67360426, 116547181.08470345, 113820544.7432596, 111156832.42071557, 108554648.05023573, 106012622.54769975, 103529413.61027819, 101103705.48386127, 98734208.70127273, 96419659.80570316, 94158821.04696758, 91950480.06454913, 89793449.55773611, 87686566.93875517, 85628693.9800804, 83618716.45040287, 81655543.74317305, 79738108.50216016, 77865366.23955335, 76036294.95108649, 74249894.73199543, 72505187.38769421, 70801216.04745898, 69137044.77426554, 67511758.18078293, 65924461.041662656, 64374277.9126533, 62860352.748544075, 61381848.52633664, 59937946.87109986, 58527847.68527428, 57150768.7828822, 55805945.526497304, 54492630.47061706, 53210093.00767773, 51957619.02077344, 50734510.53972475, 49540085.40351825, 48373676.926995836, 47234633.5733941, 46122318.631867945, 45036109.90047145, 43975399.37457047, 42939592.94052699, 41928110.07494882, 40940383.54919728, 39975859.139386214, 39033995.34170244, 38114263.093074456, 37216145.497171, 36339137.55563618, 35482745.90455781, 34646488.55613861, 33829894.64539407, 33032504.18207644, 32253867.807353135, 31493546.55574282, 30751111.621539533, 30026144.130466834, 29318234.915627792, 28626984.298535295, 27952001.874383017, 27292906.302091494, 26649325.09866846, 26020894.43794555, 25407258.953740843, 24808071.54700202, 24222993.19745133, 23651692.77887269, 23093846.878897313, 22549139.622196883, 22017262.49804602, 21497914.191208284, 20990800.416903388, 20495633.75916901, 20012133.51290082, 19540025.52941914, 19079042.06531394, 18628921.634914547, 18189408.86569825, 17760254.357351493, 17341214.543524653, 16932051.557162818, 16532533.098413868, 16142432.305899845, 15761527.630598113, 15389602.712750902, 15026446.261499632, 14671851.937193522, 14325618.23652475, 13987548.38002914, 13657450.202454036, 13335136.045303846, 13020422.652122278, 12713131.065972958, 12413086.529645782, 12120118.387837633, 11834059.988579739, 11554748.596814428, 11282025.29358915, 11015734.897775535, 10755725.868078494, 10501850.228119953, 10253963.47387026, 10011924.501000546, 9775595.518002048, 9544841.976433344, 9319532.486101514, 9099538.745979019, 8884735.477517353, 8675000.340287682, 8470213.879748743, 8270259.443553833, 8075023.128313348, 7884393.709324233, 7698262.575839673, 7516523.679113775, 7339073.458494662, 7165810.79783248, 6996636.955832168, 6831455.517700977, 6670172.339583843, 6512695.489805193, 6358935.207602346, 6208803.839321712, 6062215.800703289, 5919087.520135394, 5779337.394316558, 5642885.74485307, 5509654.765392048, 5379568.488186625, 5252552.73013555, 5128535.059262153, 5007444.749195588, 4889212.739036543, 4773771.599190994, 4661055.481724099, 4551000.096706441, 4443542.669052822, 4338621.898295841, 4236177.936247414, 4136152.3399757715, 4038488.044412919, 3943129.33454827, 3850021.802229587, 3759112.327101715, 3670349.0402591187, 3583681.2920282506, 3499059.6333176596, 3416435.776185762, 3335762.5720003787, 3256993.9874950442, 3180085.069633011, 3104991.9299807074, 3031671.713977701, 2960082.574974264, 2890183.658514484, 2821935.0695162634, 2755297.8548598792, 2690233.9827690707, 2626706.3142883587, 2564678.590432248]}],\n",
       "                        {\"height\": 600, \"template\": {\"data\": {\"bar\": [{\"error_x\": {\"color\": \"#2a3f5f\"}, \"error_y\": {\"color\": \"#2a3f5f\"}, \"marker\": {\"line\": {\"color\": \"#E5ECF6\", \"width\": 0.5}}, \"type\": \"bar\"}], \"barpolar\": [{\"marker\": {\"line\": {\"color\": \"#E5ECF6\", \"width\": 0.5}}, \"type\": \"barpolar\"}], \"carpet\": [{\"aaxis\": {\"endlinecolor\": \"#2a3f5f\", \"gridcolor\": \"white\", \"linecolor\": \"white\", \"minorgridcolor\": \"white\", \"startlinecolor\": \"#2a3f5f\"}, \"baxis\": {\"endlinecolor\": \"#2a3f5f\", \"gridcolor\": \"white\", \"linecolor\": \"white\", \"minorgridcolor\": \"white\", \"startlinecolor\": \"#2a3f5f\"}, \"type\": \"carpet\"}], \"choropleth\": [{\"colorbar\": {\"outlinewidth\": 0, \"ticks\": \"\"}, \"type\": \"choropleth\"}], \"contour\": [{\"colorbar\": {\"outlinewidth\": 0, \"ticks\": \"\"}, \"colorscale\": [[0.0, \"#0d0887\"], [0.1111111111111111, \"#46039f\"], [0.2222222222222222, \"#7201a8\"], [0.3333333333333333, \"#9c179e\"], [0.4444444444444444, \"#bd3786\"], [0.5555555555555556, \"#d8576b\"], [0.6666666666666666, \"#ed7953\"], [0.7777777777777778, \"#fb9f3a\"], [0.8888888888888888, \"#fdca26\"], [1.0, \"#f0f921\"]], \"type\": \"contour\"}], \"contourcarpet\": [{\"colorbar\": {\"outlinewidth\": 0, \"ticks\": \"\"}, \"type\": \"contourcarpet\"}], \"heatmap\": [{\"colorbar\": {\"outlinewidth\": 0, \"ticks\": \"\"}, \"colorscale\": [[0.0, \"#0d0887\"], [0.1111111111111111, \"#46039f\"], [0.2222222222222222, \"#7201a8\"], [0.3333333333333333, \"#9c179e\"], [0.4444444444444444, \"#bd3786\"], [0.5555555555555556, \"#d8576b\"], [0.6666666666666666, \"#ed7953\"], [0.7777777777777778, \"#fb9f3a\"], [0.8888888888888888, \"#fdca26\"], [1.0, \"#f0f921\"]], \"type\": \"heatmap\"}], \"heatmapgl\": [{\"colorbar\": {\"outlinewidth\": 0, \"ticks\": \"\"}, \"colorscale\": [[0.0, \"#0d0887\"], [0.1111111111111111, \"#46039f\"], [0.2222222222222222, \"#7201a8\"], [0.3333333333333333, \"#9c179e\"], [0.4444444444444444, \"#bd3786\"], [0.5555555555555556, \"#d8576b\"], [0.6666666666666666, \"#ed7953\"], [0.7777777777777778, \"#fb9f3a\"], [0.8888888888888888, \"#fdca26\"], [1.0, \"#f0f921\"]], \"type\": \"heatmapgl\"}], \"histogram\": [{\"marker\": {\"colorbar\": {\"outlinewidth\": 0, \"ticks\": \"\"}}, \"type\": \"histogram\"}], \"histogram2d\": [{\"colorbar\": {\"outlinewidth\": 0, \"ticks\": \"\"}, \"colorscale\": [[0.0, \"#0d0887\"], [0.1111111111111111, \"#46039f\"], [0.2222222222222222, \"#7201a8\"], [0.3333333333333333, \"#9c179e\"], [0.4444444444444444, \"#bd3786\"], [0.5555555555555556, \"#d8576b\"], [0.6666666666666666, \"#ed7953\"], [0.7777777777777778, \"#fb9f3a\"], [0.8888888888888888, \"#fdca26\"], [1.0, \"#f0f921\"]], \"type\": \"histogram2d\"}], \"histogram2dcontour\": [{\"colorbar\": {\"outlinewidth\": 0, \"ticks\": \"\"}, \"colorscale\": [[0.0, \"#0d0887\"], [0.1111111111111111, \"#46039f\"], [0.2222222222222222, \"#7201a8\"], [0.3333333333333333, \"#9c179e\"], [0.4444444444444444, \"#bd3786\"], [0.5555555555555556, \"#d8576b\"], [0.6666666666666666, \"#ed7953\"], [0.7777777777777778, \"#fb9f3a\"], [0.8888888888888888, \"#fdca26\"], [1.0, \"#f0f921\"]], \"type\": \"histogram2dcontour\"}], \"mesh3d\": [{\"colorbar\": {\"outlinewidth\": 0, \"ticks\": \"\"}, \"type\": \"mesh3d\"}], \"parcoords\": [{\"line\": {\"colorbar\": {\"outlinewidth\": 0, \"ticks\": \"\"}}, \"type\": \"parcoords\"}], \"pie\": [{\"automargin\": true, \"type\": \"pie\"}], \"scatter\": [{\"marker\": {\"colorbar\": {\"outlinewidth\": 0, \"ticks\": \"\"}}, \"type\": \"scatter\"}], \"scatter3d\": [{\"line\": {\"colorbar\": {\"outlinewidth\": 0, \"ticks\": \"\"}}, \"marker\": {\"colorbar\": {\"outlinewidth\": 0, \"ticks\": \"\"}}, \"type\": \"scatter3d\"}], \"scattercarpet\": [{\"marker\": {\"colorbar\": {\"outlinewidth\": 0, \"ticks\": \"\"}}, \"type\": \"scattercarpet\"}], \"scattergeo\": [{\"marker\": {\"colorbar\": {\"outlinewidth\": 0, \"ticks\": \"\"}}, \"type\": \"scattergeo\"}], \"scattergl\": [{\"marker\": {\"colorbar\": {\"outlinewidth\": 0, \"ticks\": \"\"}}, \"type\": \"scattergl\"}], \"scattermapbox\": [{\"marker\": {\"colorbar\": {\"outlinewidth\": 0, \"ticks\": \"\"}}, \"type\": \"scattermapbox\"}], \"scatterpolar\": [{\"marker\": {\"colorbar\": {\"outlinewidth\": 0, \"ticks\": \"\"}}, \"type\": \"scatterpolar\"}], \"scatterpolargl\": [{\"marker\": {\"colorbar\": {\"outlinewidth\": 0, \"ticks\": \"\"}}, \"type\": \"scatterpolargl\"}], \"scatterternary\": [{\"marker\": {\"colorbar\": {\"outlinewidth\": 0, \"ticks\": \"\"}}, \"type\": \"scatterternary\"}], \"surface\": [{\"colorbar\": {\"outlinewidth\": 0, \"ticks\": \"\"}, \"colorscale\": [[0.0, \"#0d0887\"], [0.1111111111111111, \"#46039f\"], [0.2222222222222222, \"#7201a8\"], [0.3333333333333333, \"#9c179e\"], [0.4444444444444444, \"#bd3786\"], [0.5555555555555556, \"#d8576b\"], [0.6666666666666666, \"#ed7953\"], [0.7777777777777778, \"#fb9f3a\"], [0.8888888888888888, \"#fdca26\"], [1.0, \"#f0f921\"]], \"type\": \"surface\"}], \"table\": [{\"cells\": {\"fill\": {\"color\": \"#EBF0F8\"}, \"line\": {\"color\": \"white\"}}, \"header\": {\"fill\": {\"color\": \"#C8D4E3\"}, \"line\": {\"color\": \"white\"}}, \"type\": \"table\"}]}, \"layout\": {\"annotationdefaults\": {\"arrowcolor\": \"#2a3f5f\", \"arrowhead\": 0, \"arrowwidth\": 1}, \"coloraxis\": {\"colorbar\": {\"outlinewidth\": 0, \"ticks\": \"\"}}, \"colorscale\": {\"diverging\": [[0, \"#8e0152\"], [0.1, \"#c51b7d\"], [0.2, \"#de77ae\"], [0.3, \"#f1b6da\"], [0.4, \"#fde0ef\"], [0.5, \"#f7f7f7\"], [0.6, \"#e6f5d0\"], [0.7, \"#b8e186\"], [0.8, \"#7fbc41\"], [0.9, \"#4d9221\"], [1, \"#276419\"]], \"sequential\": [[0.0, \"#0d0887\"], [0.1111111111111111, \"#46039f\"], [0.2222222222222222, \"#7201a8\"], [0.3333333333333333, \"#9c179e\"], [0.4444444444444444, \"#bd3786\"], [0.5555555555555556, \"#d8576b\"], [0.6666666666666666, \"#ed7953\"], [0.7777777777777778, \"#fb9f3a\"], [0.8888888888888888, \"#fdca26\"], [1.0, \"#f0f921\"]], \"sequentialminus\": [[0.0, \"#0d0887\"], [0.1111111111111111, \"#46039f\"], [0.2222222222222222, \"#7201a8\"], [0.3333333333333333, \"#9c179e\"], [0.4444444444444444, \"#bd3786\"], [0.5555555555555556, \"#d8576b\"], [0.6666666666666666, \"#ed7953\"], [0.7777777777777778, \"#fb9f3a\"], [0.8888888888888888, \"#fdca26\"], [1.0, \"#f0f921\"]]}, \"colorway\": [\"#636efa\", \"#EF553B\", \"#00cc96\", \"#ab63fa\", \"#FFA15A\", \"#19d3f3\", \"#FF6692\", \"#B6E880\", \"#FF97FF\", \"#FECB52\"], \"font\": {\"color\": \"#2a3f5f\"}, \"geo\": {\"bgcolor\": \"white\", \"lakecolor\": \"white\", \"landcolor\": \"#E5ECF6\", \"showlakes\": true, \"showland\": true, \"subunitcolor\": \"white\"}, \"hoverlabel\": {\"align\": \"left\"}, \"hovermode\": \"closest\", \"mapbox\": {\"style\": \"light\"}, \"paper_bgcolor\": \"white\", \"plot_bgcolor\": \"#E5ECF6\", \"polar\": {\"angularaxis\": {\"gridcolor\": \"white\", \"linecolor\": \"white\", \"ticks\": \"\"}, \"bgcolor\": \"#E5ECF6\", \"radialaxis\": {\"gridcolor\": \"white\", \"linecolor\": \"white\", \"ticks\": \"\"}}, \"scene\": {\"xaxis\": {\"backgroundcolor\": \"#E5ECF6\", \"gridcolor\": \"white\", \"gridwidth\": 2, \"linecolor\": \"white\", \"showbackground\": true, \"ticks\": \"\", \"zerolinecolor\": \"white\"}, \"yaxis\": {\"backgroundcolor\": \"#E5ECF6\", \"gridcolor\": \"white\", \"gridwidth\": 2, \"linecolor\": \"white\", \"showbackground\": true, \"ticks\": \"\", \"zerolinecolor\": \"white\"}, \"zaxis\": {\"backgroundcolor\": \"#E5ECF6\", \"gridcolor\": \"white\", \"gridwidth\": 2, \"linecolor\": \"white\", \"showbackground\": true, \"ticks\": \"\", \"zerolinecolor\": \"white\"}}, \"shapedefaults\": {\"line\": {\"color\": \"#2a3f5f\"}}, \"ternary\": {\"aaxis\": {\"gridcolor\": \"white\", \"linecolor\": \"white\", \"ticks\": \"\"}, \"baxis\": {\"gridcolor\": \"white\", \"linecolor\": \"white\", \"ticks\": \"\"}, \"bgcolor\": \"#E5ECF6\", \"caxis\": {\"gridcolor\": \"white\", \"linecolor\": \"white\", \"ticks\": \"\"}}, \"title\": {\"x\": 0.05}, \"xaxis\": {\"automargin\": true, \"gridcolor\": \"white\", \"linecolor\": \"white\", \"ticks\": \"\", \"title\": {\"standoff\": 15}, \"zerolinecolor\": \"white\", \"zerolinewidth\": 2}, \"yaxis\": {\"automargin\": true, \"gridcolor\": \"white\", \"linecolor\": \"white\", \"ticks\": \"\", \"title\": {\"standoff\": 15}, \"zerolinecolor\": \"white\", \"zerolinewidth\": 2}}}, \"title\": {\"text\": \"VSEIRD: Observed vs Fitted\\uff08450 Days)\", \"x\": 0.5}, \"width\": 1000, \"xaxis\": {\"title\": {\"text\": \"Day\"}}, \"yaxis\": {\"title\": {\"text\": \"Counts\"}}},\n",
       "                        {\"responsive\": true}\n",
       "                    ).then(function(){\n",
       "                            \n",
       "var gd = document.getElementById('b5955e6d-8c25-4825-aca9-9f6c63082ceb');\n",
       "var x = new MutationObserver(function (mutations, observer) {{\n",
       "        var display = window.getComputedStyle(gd).display;\n",
       "        if (!display || display === 'none') {{\n",
       "            console.log([gd, 'removed!']);\n",
       "            Plotly.purge(gd);\n",
       "            observer.disconnect();\n",
       "        }}\n",
       "}});\n",
       "\n",
       "// Listen for the removal of the full notebook cells\n",
       "var notebookContainer = gd.closest('#notebook-container');\n",
       "if (notebookContainer) {{\n",
       "    x.observe(notebookContainer, {childList: true});\n",
       "}}\n",
       "\n",
       "// Listen for the clearing of the current output cell\n",
       "var outputEl = gd.closest('.output');\n",
       "if (outputEl) {{\n",
       "    x.observe(outputEl, {childList: true});\n",
       "}}\n",
       "\n",
       "                        })\n",
       "                };\n",
       "                });\n",
       "            </script>\n",
       "        </div>"
      ]
     },
     "metadata": {},
     "output_type": "display_data"
    }
   ],
   "source": [
    "# val_days = 200\n",
    "# tspan = np.arange(0, val_days, 1)\n",
    "# observed_IRD = df_covid_history.loc[:, ['infected', 'discharged', 'deaths']].values\n",
    "data = df_covid_history.loc[0:(val_days-1), ['infected', 'discharged', 'deaths']].values\n",
    "\n",
    "fig = go.Figure()\n",
    "fig.add_trace(go.Scatter(x=fitted_predicted_IR, y=data[:, 0], mode='markers', name='Observed Infections', line = dict(dash='dot')))\n",
    "# fig.add_trace(go.Scatter(x=tspan, y=data[:, 1], mode='markers', name='Observed Recovered', line = dict(dash='dot')))\n",
    "# fig.add_trace(go.Scatter(x=tspan, y=data[:, 2], mode='markers', name='Observed Deaths', line = dict(dash='dot')))\n",
    "fig.add_trace(go.Scatter(x=fitted_predicted_IR, y=fitted_predicted_IR[:, 0], mode='lines+markers', name='Fitted Infections'))\n",
    "# fig.add_trace(go.Scatter(x=tspan, y=fitted_predicted_IRD[:, 1], mode='lines+markers', name='Fitted Recovered'))\n",
    "# fig.add_trace(go.Scatter(x=tspan, y=fitted_predicted_IRD[:, 2], mode='lines+markers', name='Fitted Deaths'))\n",
    "fig.update_layout(title='VSEIRD: Observed vs Fitted（{} Days)'.format(val_days),\n",
    "                       xaxis_title='Day',\n",
    "                       yaxis_title='Counts',\n",
    "                       title_x=0.5,\n",
    "                      width=1000, height=600\n",
    "                     )"
   ]
  },
  {
   "cell_type": "code",
   "execution_count": 52,
   "metadata": {},
   "outputs": [
    {
     "name": "stdout",
     "output_type": "stream",
     "text": [
      "Fitted MAE\n",
      "Infected:  836.9923389687799\n",
      "Recovered/Deceased:  387.2454115091947\n",
      "\n",
      "Fitted RMSE\n",
      "Infected:  983.7427962189978\n",
      "Recovered/Deceased:  467.7038942354901\n"
     ]
    }
   ],
   "source": [
    "print(\"Fitted MAE\")\n",
    "print('Infected: ', np.mean(np.abs(fitted_predicted_IR[:days, 0] - observed_IR[:days, 0])))\n",
    "print('Recovered/Deceased: ', np.mean(np.abs(fitted_predicted_IR[:days, 1] - observed_IR[:days, 1])))\n",
    "\n",
    "print(\"\\nFitted RMSE\")\n",
    "print('Infected: ', np.sqrt(np.mean((fitted_predicted_IR[:days, 0] - observed_IR[:days, 0])**2)))\n",
    "print('Recovered/Deceased: ', np.sqrt(np.mean((fitted_predicted_IR[:days, 1] - observed_IR[:days, 1])**2)))"
   ]
  },
  {
   "cell_type": "code",
   "execution_count": 44,
   "metadata": {},
   "outputs": [
    {
     "name": "stdout",
     "output_type": "stream",
     "text": [
      "Predicted MAE\n",
      "Infected:  139249357.809918\n",
      "Recovered/Deceased:  788231711.7877078\n",
      "\n",
      "Predicted RMSE\n",
      "Infected:  241865100.87343892\n",
      "Recovered/Deceased:  980949032.1110216\n"
     ]
    }
   ],
   "source": [
    "print(\"Predicted MAE\")\n",
    "print('Infected: ', np.mean(np.abs(fitted_predicted_IR[days:observed_IR.shape[0], 0] - observed_IR[days:, 0])))\n",
    "print('Recovered/Deceased: ', np.mean(np.abs(fitted_predicted_IR[days:observed_IR.shape[0], 1] - observed_IR[days:, 1])))\n",
    "\n",
    "print(\"\\nPredicted RMSE\")\n",
    "print('Infected: ', np.sqrt(np.mean((fitted_predicted_IR[days:observed_IR.shape[0], 0] - observed_IR[days:, 0])**2)))\n",
    "print('Recovered/Deceased: ', np.sqrt(np.mean((fitted_predicted_IR[days:observed_IR.shape[0], 1] - observed_IR[days:, 1])**2)))"
   ]
  },
  {
   "cell_type": "code",
   "execution_count": 45,
   "metadata": {},
   "outputs": [
    {
     "data": {
      "application/vnd.jupyter.widget-view+json": {
       "model_id": "7c84a5dc72b749409b08d2864ea69a7a",
       "version_major": 2,
       "version_minor": 0
      },
      "text/plain": [
       "interactive(children=(IntSlider(value=1000, description='initE', layout=Layout(width='99%'), max=100000, style…"
      ]
     },
     "metadata": {},
     "output_type": "display_data"
    }
   ],
   "source": [
    "interact(main, initE=IntSlider(min=0, max=100000, step=1, value=initE, description='initE', style=style, \\\n",
    "                               layout=slider_layout),\n",
    "               initI=IntSlider(min=0, max=100000, step=10, value=initI, description='initI', style=style, \\\n",
    "                               layout=slider_layout),\n",
    "               initR=IntSlider(min=0, max=100000, step=10, value=initR, description='initR', style=style, \\\n",
    "                               layout=slider_layout),\n",
    "               initN=IntSlider(min=0, max=1380000000, step=1000, value=initN, description='initN', style=style, \\\n",
    "                               layout=slider_layout),\n",
    "               beta=FloatSlider(min=0, max=4, step=0.01, value=result.params['beta'].value, description='Infection rate', style=style, \\\n",
    "                                layout=slider_layout),\n",
    "               sigma=FloatSlider(min=0, max=4, step=0.01, value=result.params['sigma'].value, description='Incubation rate', style=style, \\\n",
    "                                 layout=slider_layout),\n",
    "               gamma=FloatSlider(min=0, max=4, step=0.01, value=result.params['gamma'].value, description='Recovery rate', style=style, \\\n",
    "                                 layout=slider_layout),\n",
    "               days=IntSlider(min=0, max=600, step=7, value=240, description='Days', style=style, \\\n",
    "                              layout=slider_layout),\n",
    "               param_fitting=ToggleButton(value=False, description='Fitting Mode', disabled=True, button_style='', \\\n",
    "             tooltip='Click to show fewer plots', icon='check-circle')\n",
    "        );"
   ]
  },
  {
   "cell_type": "markdown",
   "metadata": {},
   "source": [
    "**References:**<br>\n",
    "1. SEIR and SEIRS Model https://www.idmod.org/docs/hiv/model-seir.html<br>\n",
    "2. Compartmental models in epidemiology https://en.wikipedia.org/wiki/Compartmental_models_in_epidemiology#The_SEIR_model<br>\n",
    "3. Solve Differential Equations in Python https://www.youtube.com/watch?v=VV3BnroVjZo<br>\n",
    "4. Computational Statistics in Python https://people.duke.edu/~ccc14/sta-663/CalibratingODEs.html<br>\n",
    "5. Ordinary Differential Equations (ODE) with Python and Jupyter https://elc.github.io/posts/ordinary-differential-equations-with-python/<br>\n",
    "6. SEIRS+ Model https://github.com/ryansmcgee/seirsplus<br>\n",
    "7. Stack Overflow https://stackoverflow.com/questions/40753159/why-is-scipy-minimize-ignoring-my-constraints<br>\n",
    "8. Lotka–Volterra equations https://en.wikipedia.org/wiki/Lotka%E2%80%93Volterra_equations<br>\n",
    "9. SEIR and Regression Model based COVID-19 outbreak predictions in India https://www.medrxiv.org/content/10.1101/2020.04.01.20049825v1.full.pdf<br>\n",
    "\n",
    "A simulator built with RShiny which provides many more parameters https://alhill.shinyapps.io/COVID19seir/"
   ]
  },
  {
   "cell_type": "code",
   "execution_count": null,
   "metadata": {},
   "outputs": [],
   "source": []
  }
 ],
 "metadata": {
  "kernelspec": {
   "display_name": "Python 3",
   "language": "python",
   "name": "python3"
  },
  "language_info": {
   "codemirror_mode": {
    "name": "ipython",
    "version": 3
   },
   "file_extension": ".py",
   "mimetype": "text/x-python",
   "name": "python",
   "nbconvert_exporter": "python",
   "pygments_lexer": "ipython3",
   "version": "3.7.4"
  }
 },
 "nbformat": 4,
 "nbformat_minor": 4
}
