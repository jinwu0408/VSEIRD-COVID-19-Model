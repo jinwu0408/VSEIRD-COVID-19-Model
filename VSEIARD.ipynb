{
 "cells": [
  {
   "cell_type": "markdown",
   "metadata": {},
   "source": [
    "# Import Module&Dataset"
   ]
  },
  {
   "cell_type": "code",
   "execution_count": 1,
   "metadata": {},
   "outputs": [],
   "source": [
    "import os\n",
    "import sys\n",
    "import matplotlib.pyplot as plt\n",
    "import numpy as np\n",
    "import pandas as pd\n",
    "from scipy.integrate import odeint\n",
    "import plotly.graph_objects as go\n",
    "import plotly.io as pio\n",
    "import requests\n",
    "from lmfit import minimize, Parameters, Parameter, report_fit\n",
    "pio.renderers.default = \"notebook\"\n",
    "%matplotlib inline\n",
    "plt.style.use('ggplot')\n",
    "# Jupyter Specifics\n",
    "from IPython.display import HTML\n",
    "from ipywidgets.widgets import interact, IntSlider, FloatSlider, Layout, ToggleButton, ToggleButtons\n",
    "\n",
    "style = {'description_width': '100px'}\n",
    "slider_layout = Layout(width='99%')"
   ]
  },
  {
   "cell_type": "code",
   "execution_count": 2,
   "metadata": {},
   "outputs": [
    {
     "name": "stdout",
     "output_type": "stream",
     "text": [
      "Request Success? True\n",
      "(458, 9)\n"
     ]
    },
    {
     "data": {
      "text/html": [
       "<div>\n",
       "<style scoped>\n",
       "    .dataframe tbody tr th:only-of-type {\n",
       "        vertical-align: middle;\n",
       "    }\n",
       "\n",
       "    .dataframe tbody tr th {\n",
       "        vertical-align: top;\n",
       "    }\n",
       "\n",
       "    .dataframe thead th {\n",
       "        text-align: right;\n",
       "    }\n",
       "</style>\n",
       "<table border=\"1\" class=\"dataframe\">\n",
       "  <thead>\n",
       "    <tr style=\"text-align: right;\">\n",
       "      <th></th>\n",
       "      <th>day</th>\n",
       "      <th>total</th>\n",
       "      <th>confirmedCasesIndian</th>\n",
       "      <th>confirmedCasesForeign</th>\n",
       "      <th>confirmedButLocationUnidentified</th>\n",
       "      <th>discharged</th>\n",
       "      <th>deaths</th>\n",
       "      <th>infected</th>\n",
       "      <th>total_recovered_or_dead</th>\n",
       "    </tr>\n",
       "  </thead>\n",
       "  <tbody>\n",
       "    <tr>\n",
       "      <td>0</td>\n",
       "      <td>2020-03-10</td>\n",
       "      <td>47</td>\n",
       "      <td>31</td>\n",
       "      <td>16</td>\n",
       "      <td>0</td>\n",
       "      <td>0</td>\n",
       "      <td>0</td>\n",
       "      <td>47</td>\n",
       "      <td>0</td>\n",
       "    </tr>\n",
       "    <tr>\n",
       "      <td>1</td>\n",
       "      <td>2020-03-11</td>\n",
       "      <td>60</td>\n",
       "      <td>44</td>\n",
       "      <td>16</td>\n",
       "      <td>0</td>\n",
       "      <td>0</td>\n",
       "      <td>0</td>\n",
       "      <td>60</td>\n",
       "      <td>0</td>\n",
       "    </tr>\n",
       "    <tr>\n",
       "      <td>2</td>\n",
       "      <td>2020-03-12</td>\n",
       "      <td>73</td>\n",
       "      <td>56</td>\n",
       "      <td>17</td>\n",
       "      <td>0</td>\n",
       "      <td>0</td>\n",
       "      <td>0</td>\n",
       "      <td>73</td>\n",
       "      <td>0</td>\n",
       "    </tr>\n",
       "    <tr>\n",
       "      <td>3</td>\n",
       "      <td>2020-03-13</td>\n",
       "      <td>82</td>\n",
       "      <td>65</td>\n",
       "      <td>17</td>\n",
       "      <td>0</td>\n",
       "      <td>10</td>\n",
       "      <td>2</td>\n",
       "      <td>70</td>\n",
       "      <td>12</td>\n",
       "    </tr>\n",
       "    <tr>\n",
       "      <td>4</td>\n",
       "      <td>2020-03-14</td>\n",
       "      <td>84</td>\n",
       "      <td>67</td>\n",
       "      <td>17</td>\n",
       "      <td>0</td>\n",
       "      <td>10</td>\n",
       "      <td>2</td>\n",
       "      <td>72</td>\n",
       "      <td>12</td>\n",
       "    </tr>\n",
       "  </tbody>\n",
       "</table>\n",
       "</div>"
      ],
      "text/plain": [
       "          day  total  confirmedCasesIndian  confirmedCasesForeign  \\\n",
       "0  2020-03-10     47                    31                     16   \n",
       "1  2020-03-11     60                    44                     16   \n",
       "2  2020-03-12     73                    56                     17   \n",
       "3  2020-03-13     82                    65                     17   \n",
       "4  2020-03-14     84                    67                     17   \n",
       "\n",
       "   confirmedButLocationUnidentified  discharged  deaths  infected  \\\n",
       "0                                 0           0       0        47   \n",
       "1                                 0           0       0        60   \n",
       "2                                 0           0       0        73   \n",
       "3                                 0          10       2        70   \n",
       "4                                 0          10       2        72   \n",
       "\n",
       "   total_recovered_or_dead  \n",
       "0                        0  \n",
       "1                        0  \n",
       "2                        0  \n",
       "3                       12  \n",
       "4                       12  "
      ]
     },
     "execution_count": 2,
     "metadata": {},
     "output_type": "execute_result"
    }
   ],
   "source": [
    "response = requests.get('https://api.rootnet.in/covid19-in/stats/history')\n",
    "print('Request Success? {}'.format(response.status_code == 200))\n",
    "covid_history = response.json()['data']\n",
    "keys = ['day', 'total', 'confirmedCasesIndian', 'confirmedCasesForeign', 'confirmedButLocationUnidentified',\n",
    "        'discharged', 'deaths']\n",
    "df_covid_history = pd.DataFrame([[d.get('day'), \n",
    "                                  d['summary'].get('total'), \n",
    "                                  d['summary'].get('confirmedCasesIndian'), \n",
    "                                  d['summary'].get('confirmedCasesForeign'),\n",
    "                                  d['summary'].get('confirmedButLocationUnidentified'),\n",
    "                                  d['summary'].get('discharged'), \n",
    "                                  d['summary'].get('deaths')] \n",
    "                                 for d in covid_history],\n",
    "                    columns=keys)\n",
    "df_covid_history = df_covid_history.sort_values(by='day')\n",
    "df_covid_history['infected'] = df_covid_history['total'] - df_covid_history['discharged'] - df_covid_history['deaths']\n",
    "df_covid_history['total_recovered_or_dead'] = df_covid_history['discharged'] + df_covid_history['deaths']\n",
    "print(df_covid_history.shape)\n",
    "df_covid_history.head()"
   ]
  },
  {
   "cell_type": "code",
   "execution_count": 3,
   "metadata": {},
   "outputs": [],
   "source": [
    "# def ode_model(z, t, alpha, beta, epsilon, sigma, gamma, mu,nat_d_rate, nat_b_rate):\n",
    "#     \"\"\"\n",
    "#     Reference https://www.idmod.org/docs/hiv/model-seir.html\n",
    "#     \"\"\"\n",
    "#     V, S, E, I, R, D = z\n",
    "#     N = V + S + E + I + R + D\n",
    "#     dVdt = alpha*R + epsilon*S - nat_d_rate*V\n",
    "#     dSdt = -beta*S*I/N-epsilon*S + nat_b_rate*N - nat_d_rate*S\n",
    "#     dEdt = beta*S*I/N - sigma*E - nat_d_rate*E\n",
    "#     dIdt = sigma*E - gamma*I - mu*I - nat_d_rate*I\n",
    "#     dRdt = gamma*I -alpha*R - nat_d_rate*R\n",
    "#     dDdt = mu*I + nat_d_rate*(N)\n",
    "#     return [dVdt, dSdt, dEdt, dIdt, dRdt, dDdt]"
   ]
  },
  {
   "cell_type": "markdown",
   "metadata": {},
   "source": [
    "# Define model"
   ]
  },
  {
   "cell_type": "code",
   "execution_count": 31,
   "metadata": {},
   "outputs": [],
   "source": [
    "def ode_model(z, t, alpha, beta, epsilon, sigma, gamma, mu, rou, theta, nat_d_rate, nat_b_rate):\n",
    "    \"\"\"\n",
    "    Reference https://www.idmod.org/docs/hiv/model-seir.html\n",
    "    \"\"\"\n",
    "    V, S, E, A, I, R, D = z\n",
    "    N = V + S + E + I + A + R + D\n",
    "    dVdt = alpha*R + epsilon*S - nat_d_rate*V\n",
    "    dSdt = -beta*S*I/N-epsilon*S + nat_b_rate*N - nat_d_rate*S\n",
    "    dEdt = beta*S*I/N - sigma*E - nat_d_rate*E - rou*E\n",
    "    dIdt = sigma*E - gamma*I - mu*I - nat_d_rate*I\n",
    "    dAdt = rou*E-theta*A - nat_d_rate*I\n",
    "    dRdt = gamma*I -alpha*R - nat_d_rate*R+ theta*A\n",
    "    dDdt = mu*I + nat_d_rate*N\n",
    "    return [dVdt, dSdt, dEdt, dAdt, dIdt, dRdt, dDdt]"
   ]
  },
  {
   "cell_type": "code",
   "execution_count": 32,
   "metadata": {},
   "outputs": [],
   "source": [
    "def ode_solver(t, initial_conditions, params, nat_d_rate, nat_b_rate):\n",
    "    initV, initE, initI, initA, initR, initN, initD = initial_conditions\n",
    "    \n",
    "    alpha = params['alpha'].value\n",
    "    beta = params['beta'].value\n",
    "    epsilon = params['epsilon'].value\n",
    "    sigma = params['sigma'].value\n",
    "    gamma = params['gamma'].value\n",
    "    mu = params['mu'].value\n",
    "    rou = params['rou'].value\n",
    "    theta = params['theta'].value\n",
    "    \n",
    "    initS = initN - (initV + initA + initE + initI + initR + initD)\n",
    "    res = odeint(ode_model, \n",
    "                 [initV, initS, initE, initA, initI, initR, initD], \n",
    "                 t, \n",
    "                 args=(alpha, beta, epsilon,sigma, gamma, mu, rou, theta, nat_d_rate, nat_b_rate)\n",
    "                )\n",
    "    return res"
   ]
  },
  {
   "cell_type": "code",
   "execution_count": 33,
   "metadata": {},
   "outputs": [],
   "source": [
    "def error(params, initial_conditions, tspan, data, nat_d_rate, nat_b_rate):\n",
    "    sol = ode_solver(tspan, initial_conditions, params, nat_d_rate, nat_b_rate)\n",
    "#     print(sol[45,:])\n",
    "    return (sol[:, 4:7] - data).ravel()"
   ]
  },
  {
   "cell_type": "markdown",
   "metadata": {},
   "source": [
    "# Parameters"
   ]
  },
  {
   "cell_type": "code",
   "execution_count": 196,
   "metadata": {},
   "outputs": [],
   "source": [
    "initN = 1380000000\n",
    "# S0 = 966000000\n",
    "initV = 0\n",
    "initE = 3000\n",
    "initI = 67\n",
    "initA = 50\n",
    "initR = 0\n",
    "initD = 0\n",
    "\n",
    "alpha = .02\n",
    "sigma = 1/5.2\n",
    "gamma = 1/2.9\n",
    "epsilon = 0.02\n",
    "rou = 0.05\n",
    "theta=0.7\n",
    "\n",
    "\n",
    "\n",
    "mu = 0.034\n",
    "R0 = 4\n",
    "beta = R0 * gamma\n",
    "nat_b_rate= 0.00174\n",
    "nat_d_rate = 0#.000000073\n",
    "days = 100\n",
    "\n",
    "params = Parameters()\n",
    "params.add('alpha', value=alpha, min=0, max=10)\n",
    "params.add('beta', value=beta, min=0, max=10)\n",
    "params.add('sigma', value=sigma, min=0, max=10)\n",
    "params.add('gamma', value=gamma, min=0, max=10)\n",
    "params.add('epsilon', value=epsilon, min=0, max=10)\n",
    "params.add('mu', value=mu, min=0, max=10)\n",
    "params.add('rou', value=rou, min=0, max=10)\n",
    "params.add('theta', value=theta, min=0, max=10)\n",
    "\n",
    "\n",
    "initial_conditions = [initV, initE, initI, initA, initR, initN, initD]\n",
    "# print(initE,initI)\n",
    "tspan = np.arange(0, days, 1)\n",
    "observed_IRD = df_covid_history.loc[:, ['infected', 'discharged', 'deaths']].values\n",
    "data = df_covid_history.loc[0:(days-1), ['infected', 'discharged', 'deaths']].values"
   ]
  },
  {
   "cell_type": "markdown",
   "metadata": {},
   "source": [
    "# Training"
   ]
  },
  {
   "cell_type": "code",
   "execution_count": 197,
   "metadata": {},
   "outputs": [
    {
     "name": "stdout",
     "output_type": "stream",
     "text": [
      "(100, 3)\n"
     ]
    }
   ],
   "source": [
    "result = minimize(error, \n",
    "                  params, \n",
    "                  args=(initial_conditions, tspan, data, nat_d_rate, nat_b_rate), \n",
    "                  method='leastsq')\n",
    "final = data + result.residual.reshape(data.shape)\n",
    "print(final.shape)"
   ]
  },
  {
   "cell_type": "code",
   "execution_count": 198,
   "metadata": {},
   "outputs": [
    {
     "data": {
      "text/html": [
       "<div>\n",
       "        \n",
       "        \n",
       "            <div id=\"cf6bd169-dca9-411a-8405-8fa97c29d8f3\" class=\"plotly-graph-div\" style=\"height:600px; width:1000px;\"></div>\n",
       "            <script type=\"text/javascript\">\n",
       "                require([\"plotly\"], function(Plotly) {\n",
       "                    window.PLOTLYENV=window.PLOTLYENV || {};\n",
       "                    \n",
       "                if (document.getElementById(\"cf6bd169-dca9-411a-8405-8fa97c29d8f3\")) {\n",
       "                    Plotly.newPlot(\n",
       "                        'cf6bd169-dca9-411a-8405-8fa97c29d8f3',\n",
       "                        [{\"line\": {\"dash\": \"dot\"}, \"mode\": \"markers\", \"name\": \"Observed Infections\", \"type\": \"scatter\", \"x\": [0, 1, 2, 3, 4, 5, 6, 7, 8, 9, 10, 11, 12, 13, 14, 15, 16, 17, 18, 19, 20, 21, 22, 23, 24, 25, 26, 27, 28, 29, 30, 31, 32, 33, 34, 35, 36, 37, 38, 39, 40, 41, 42, 43, 44, 45, 46, 47, 48, 49, 50, 51, 52, 53, 54, 55, 56, 57, 58, 59, 60, 61, 62, 63, 64, 65, 66, 67, 68, 69, 70, 71, 72, 73, 74, 75, 76, 77, 78, 79, 80, 81, 82, 83, 84, 85, 86, 87, 88, 89, 90, 91, 92, 93, 94, 95, 96, 97, 98, 99], \"y\": [47, 60, 73, 70, 72, 95, 99, 120, 134, 149, 196, 256, 329, 424, 469, 553, 634, 640, 810, 901, 1118, 1238, 1649, 1860, 2322, 2784, 3219, 3851, 4312, 4714, 5218, 6039, 6634, 7409, 8048, 9272, 10197, 10824, 11616, 12289, 13295, 14255, 15122, 15859, 16689, 17915, 18953, 20177, 21132, 22010, 22904, 24162, 25148, 26535, 28070, 29685, 31967, 33514, 35902, 37916, 39834, 41472, 44029, 46008, 47480, 49219, 51401, 52805, 53946, 56316, 58802, 61149, 63624, 66330, 69597, 73560, 77103, 80722, 83004, 86110, 89987, 86422, 89995, 93322, 97581, 101497, 106737, 110960, 115942, 120406, 124981, 129813, 133632, 137448, 141842, 145779, 149348, 153106, 153178, 155227]}, {\"line\": {\"dash\": \"dot\"}, \"mode\": \"markers\", \"name\": \"Observed Recovered\", \"type\": \"scatter\", \"x\": [0, 1, 2, 3, 4, 5, 6, 7, 8, 9, 10, 11, 12, 13, 14, 15, 16, 17, 18, 19, 20, 21, 22, 23, 24, 25, 26, 27, 28, 29, 30, 31, 32, 33, 34, 35, 36, 37, 38, 39, 40, 41, 42, 43, 44, 45, 46, 47, 48, 49, 50, 51, 52, 53, 54, 55, 56, 57, 58, 59, 60, 61, 62, 63, 64, 65, 66, 67, 68, 69, 70, 71, 72, 73, 74, 75, 76, 77, 78, 79, 80, 81, 82, 83, 84, 85, 86, 87, 88, 89, 90, 91, 92, 93, 94, 95, 96, 97, 98, 99], \"y\": [0, 0, 0, 10, 10, 13, 13, 14, 14, 20, 23, 23, 24, 35, 40, 43, 45, 67, 80, 96, 102, 124, 144, 156, 163, 213, 275, 319, 353, 411, 478, 516, 653, 765, 980, 1190, 1344, 1515, 1767, 2015, 2302, 2842, 3260, 3960, 4325, 4814, 5210, 5914, 6362, 7027, 7797, 8373, 9065, 10018, 10887, 11762, 13161, 14183, 15267, 16540, 17847, 19358, 20917, 22455, 24386, 26235, 27920, 30153, 34109, 36824, 39174, 42298, 45300, 48534, 51784, 54441, 57721, 60491, 64426, 67692, 71106, 82370, 86984, 91819, 95527, 100303, 104107, 109462, 114073, 119293, 124430, 129314, 135206, 141029, 147195, 154330, 162379, 169798, 180013, 186935]}, {\"line\": {\"dash\": \"dot\"}, \"mode\": \"markers\", \"name\": \"Observed Deaths\", \"type\": \"scatter\", \"x\": [0, 1, 2, 3, 4, 5, 6, 7, 8, 9, 10, 11, 12, 13, 14, 15, 16, 17, 18, 19, 20, 21, 22, 23, 24, 25, 26, 27, 28, 29, 30, 31, 32, 33, 34, 35, 36, 37, 38, 39, 40, 41, 42, 43, 44, 45, 46, 47, 48, 49, 50, 51, 52, 53, 54, 55, 56, 57, 58, 59, 60, 61, 62, 63, 64, 65, 66, 67, 68, 69, 70, 71, 72, 73, 74, 75, 76, 77, 78, 79, 80, 81, 82, 83, 84, 85, 86, 87, 88, 89, 90, 91, 92, 93, 94, 95, 96, 97, 98, 99], \"y\": [0, 0, 0, 2, 2, 2, 2, 3, 3, 4, 4, 4, 7, 8, 10, 10, 15, 17, 19, 27, 31, 35, 41, 53, 62, 75, 83, 111, 124, 149, 169, 206, 242, 273, 324, 353, 392, 420, 452, 488, 519, 559, 603, 652, 686, 723, 779, 826, 886, 937, 1008, 1075, 1152, 1223, 1306, 1389, 1583, 1694, 1783, 1886, 1981, 2109, 2206, 2293, 2415, 2549, 2649, 2752, 2872, 3029, 3163, 3303, 3435, 3583, 3720, 3867, 4021, 4167, 4337, 4531, 4706, 4971, 5164, 5394, 5598, 5815, 6075, 6348, 6642, 6929, 7200, 7471, 7745, 8102, 8498, 8884, 9195, 9520, 9900, 11903]}, {\"mode\": \"lines+markers\", \"name\": \"Fitted Infections\", \"type\": \"scatter\", \"x\": [0, 1, 2, 3, 4, 5, 6, 7, 8, 9, 10, 11, 12, 13, 14, 15, 16, 17, 18, 19, 20, 21, 22, 23, 24, 25, 26, 27, 28, 29, 30, 31, 32, 33, 34, 35, 36, 37, 38, 39, 40, 41, 42, 43, 44, 45, 46, 47, 48, 49, 50, 51, 52, 53, 54, 55, 56, 57, 58, 59, 60, 61, 62, 63, 64, 65, 66, 67, 68, 69, 70, 71, 72, 73, 74, 75, 76, 77, 78, 79, 80, 81, 82, 83, 84, 85, 86, 87, 88, 89, 90, 91, 92, 93, 94, 95, 96, 97, 98, 99], \"y\": [67.0, 214.38854658902426, 288.3731295127194, 340.6749835946509, 388.78480040688083, 438.8190193807838, 493.1212636593088, 552.7952562887473, 618.5507380098245, 690.9868960583128, 770.6879016256065, 858.2555486170071, 954.3207697643109, 1059.5480125052804, 1174.6371552275882, 1300.3245371992125, 1437.383618957554, 1586.6254482007207, 1748.8989818145542, 1925.0912910643221, 2116.1276009899057, 2322.9712626391433, 2546.623517553765, 2788.123169486164, 3048.5460922472007, 3329.0045838170404, 3630.646600507166, 3954.654776519145, 4302.245345292156, 4674.666852194865, 5073.198787987435, 5499.1500023314475, 5953.856924257383, 6438.68174856672, 6955.010385976791, 7504.250290210503, 8087.8281278257655, 8707.187429321535, 9363.785838670514, 10059.092569146596, 10794.585554436575, 11571.748518977274, 12392.06795821675, 13257.030087163519, 14168.117634222255, 15126.806609232894, 16134.563009954056, 17192.839474805518, 18303.071938146437, 19466.67620226679, 20685.044559389382, 21959.542359766434, 23291.504646601406, 24682.232783337382, 26132.99112496985, 27645.003737164665, 29219.451179011543, 30857.467349949333, 32560.136421648167, 34328.48986018132, 36163.50349491142, 38066.09470076385, 40037.1203176536, 42077.37363251089, 44187.58121897232, 46368.40273634582, 48620.425389336626, 50944.16717082604, 53340.07062656982, 55808.502726246224, 58349.75358684129, 60964.03460367511, 63651.478617802255, 66412.13844639863, 69245.9851782837, 72152.90832834122, 75132.71599650166, 78185.13373809743, 81309.80525830739, 84506.29252425733, 87774.07571976888, 91112.55460600616, 94521.04761505447, 97998.7940618529, 101544.95467277303, 105158.61283463461, 108838.7758565423, 112584.37647218749, 116394.27439978845, 120267.25811476848, 124202.04667556947, 128197.29177419194, 132251.57968086205, 136363.43355800133, 140531.31575927252, 144753.63010633664, 149028.7245127788, 153354.893376107, 157730.38030963636, 162153.3807695391]}, {\"mode\": \"lines+markers\", \"name\": \"Fitted Recovered\", \"type\": \"scatter\", \"x\": [0, 1, 2, 3, 4, 5, 6, 7, 8, 9, 10, 11, 12, 13, 14, 15, 16, 17, 18, 19, 20, 21, 22, 23, 24, 25, 26, 27, 28, 29, 30, 31, 32, 33, 34, 35, 36, 37, 38, 39, 40, 41, 42, 43, 44, 45, 46, 47, 48, 49, 50, 51, 52, 53, 54, 55, 56, 57, 58, 59, 60, 61, 62, 63, 64, 65, 66, 67, 68, 69, 70, 71, 72, 73, 74, 75, 76, 77, 78, 79, 80, 81, 82, 83, 84, 85, 86, 87, 88, 89, 90, 91, 92, 93, 94, 95, 96, 97, 98, 99], \"y\": [0.0, 4.585999592149033, 13.121503426784127, 24.032872528648735, 36.91401923399506, 51.759263464660705, 68.70863894999857, 87.96376462576687, 109.76060787830747, 134.3612783583749, 162.05221940801272, 193.14457404031134, 227.97531027777404, 266.90863050742513, 310.3374995936485, 358.68524045213064, 412.40717408707997, 471.9922939955825, 537.9649473964992, 610.8866033004085, 691.3575482864151, 780.0186639704204, 877.5531889758823, 984.6884853403379, 1102.1978021695022, 1230.9020455054056, 1371.6714673161716, 1525.427488942685, 1693.144313305419, 1875.8506168157696, 2074.631177471723, 2290.6284555740326, 2525.044122207843, 2779.1405308018952, 3054.242124444564, 3351.7367753256535, 3673.0770529722195, 4019.7813580940547, 4393.435102042903, 4795.691618856275, 5228.273098333495, 5692.971374415564, 6191.648612060193, 6726.237868634989, 7298.743552660483, 7911.241753155717, 8565.880444455166, 9264.879562616517, 10010.53095251327, 10805.19818023683, 11651.316212696573, 12551.390955378793, 13507.998659820478, 14523.785189082155, 15601.465146054388, 16743.82086365988, 17953.701260382644, 19234.020557907377, 20587.756866544136, 22017.950638745868, 23527.70304149244, 25120.17418973109, 26798.580696128418, 28566.194167539106, 30426.339655365126, 32382.391707453924, 34437.77444951307, 36595.95566004342, 38860.44718187087, 41234.80123899299, 43722.60762784528, 46327.49109629837, 49053.10795544225, 51903.14340874406, 54881.30887257836, 57991.33856508799, 61236.98627947738, 64622.022415291176, 68150.23063221564, 71825.40468787485, 75651.34521793781, 79631.85646685466, 83770.74304256983, 88071.80659164293, 92538.84255976311, 97175.63693804388, 101985.96303132207, 106973.57824804666, 112142.22092050899, 117495.60716691049, 123037.42778691761, 128771.34523832223, 134700.99056909696, 140829.9605252681, 147161.81467768372, 153700.0725330916, 160448.21089625426, 167409.6610804876, 174587.8064103529, 181985.97967545575]}, {\"mode\": \"lines+markers\", \"name\": \"Fitted Deaths\", \"type\": \"scatter\", \"x\": [0, 1, 2, 3, 4, 5, 6, 7, 8, 9, 10, 11, 12, 13, 14, 15, 16, 17, 18, 19, 20, 21, 22, 23, 24, 25, 26, 27, 28, 29, 30, 31, 32, 33, 34, 35, 36, 37, 38, 39, 40, 41, 42, 43, 44, 45, 46, 47, 48, 49, 50, 51, 52, 53, 54, 55, 56, 57, 58, 59, 60, 61, 62, 63, 64, 65, 66, 67, 68, 69, 70, 71, 72, 73, 74, 75, 76, 77, 78, 79, 80, 81, 82, 83, 84, 85, 86, 87, 88, 89, 90, 91, 92, 93, 94, 95, 96, 97, 98, 99], \"y\": [0.0, 0.4063004457340087, 1.0921350704778798, 1.9418268081386412, 2.9246459877915556, 4.038909762188932, 5.293414860948544, 6.7012961148860155, 8.278029098382085, 10.04081845606054, 12.00845149355123, 14.201309326230316, 16.641432454802285, 19.352606104214477, 22.360453309390692, 25.69253193314176, 29.378433946979207, 33.44988622891168, 37.9408511589274, 42.887631717424114, 48.32897151095749, 54.30615886948214, 60.86312916587569, 68.0465664468355, 75.90600394669644, 84.49392385124418, 93.86585142483098, 104.08045541718847, 115.1996352958019, 127.28861168097492, 140.416011653777, 154.6539500085572, 170.07810592090954, 186.76779490316972, 204.80603545262193, 224.27961015545208, 245.2791209173067, 267.8990357214138, 292.2377342226566, 318.39753873503446, 346.4847431594855, 376.60963230228367, 408.88649372707647, 443.4336205106144, 480.37330664837987, 519.8318332526391, 561.9394459745465, 606.8303234098466, 654.6425369672465, 705.5180008343062, 759.6024135644067, 817.0451895274116, 877.999382304379, 942.6215982949294, 1011.0719014570354, 1083.5137090916107, 1160.113679063636, 1241.0415881960573, 1326.4702024335074, 1416.5751388279728, 1511.534721599177, 1611.5298298511818, 1716.7437147774533, 1827.3618557516452, 1943.5718103115516, 2065.5629656364204, 2193.526441950913, 2327.654782903836, 2468.141859496848, 2615.1826346825865, 2768.9729557213154, 2929.7093470686277, 3097.588791404805, 3272.808522440357, 3455.5658105719003, 3646.0577362031736, 3844.4809729524322, 4051.0315638355564, 4265.904700648074, 4489.294508452375, 4721.393820263966, 4962.393973082715, 5212.484557387392, 5471.853228702057, 5740.685485965199, 6019.164462111391, 6307.470717293745, 6605.782035806734, 6914.2732268452, 7233.11593082276, 7562.478429155932, 7902.525463462812, 8253.418048713953, 8615.313306535798, 8988.364298925666, 9372.719859918718, 9768.524452756652, 10175.91801057881, 10595.0358057036, 11026.00831297481]}],\n",
       "                        {\"height\": 600, \"template\": {\"data\": {\"bar\": [{\"error_x\": {\"color\": \"#2a3f5f\"}, \"error_y\": {\"color\": \"#2a3f5f\"}, \"marker\": {\"line\": {\"color\": \"#E5ECF6\", \"width\": 0.5}}, \"type\": \"bar\"}], \"barpolar\": [{\"marker\": {\"line\": {\"color\": \"#E5ECF6\", \"width\": 0.5}}, \"type\": \"barpolar\"}], \"carpet\": [{\"aaxis\": {\"endlinecolor\": \"#2a3f5f\", \"gridcolor\": \"white\", \"linecolor\": \"white\", \"minorgridcolor\": \"white\", \"startlinecolor\": \"#2a3f5f\"}, \"baxis\": {\"endlinecolor\": \"#2a3f5f\", \"gridcolor\": \"white\", \"linecolor\": \"white\", \"minorgridcolor\": \"white\", \"startlinecolor\": \"#2a3f5f\"}, \"type\": \"carpet\"}], \"choropleth\": [{\"colorbar\": {\"outlinewidth\": 0, \"ticks\": \"\"}, \"type\": \"choropleth\"}], \"contour\": [{\"colorbar\": {\"outlinewidth\": 0, \"ticks\": \"\"}, \"colorscale\": [[0.0, \"#0d0887\"], [0.1111111111111111, \"#46039f\"], [0.2222222222222222, \"#7201a8\"], [0.3333333333333333, \"#9c179e\"], [0.4444444444444444, \"#bd3786\"], [0.5555555555555556, \"#d8576b\"], [0.6666666666666666, \"#ed7953\"], [0.7777777777777778, \"#fb9f3a\"], [0.8888888888888888, \"#fdca26\"], [1.0, \"#f0f921\"]], \"type\": \"contour\"}], \"contourcarpet\": [{\"colorbar\": {\"outlinewidth\": 0, \"ticks\": \"\"}, \"type\": \"contourcarpet\"}], \"heatmap\": [{\"colorbar\": {\"outlinewidth\": 0, \"ticks\": \"\"}, \"colorscale\": [[0.0, \"#0d0887\"], [0.1111111111111111, \"#46039f\"], [0.2222222222222222, \"#7201a8\"], [0.3333333333333333, \"#9c179e\"], [0.4444444444444444, \"#bd3786\"], [0.5555555555555556, \"#d8576b\"], [0.6666666666666666, \"#ed7953\"], [0.7777777777777778, \"#fb9f3a\"], [0.8888888888888888, \"#fdca26\"], [1.0, \"#f0f921\"]], \"type\": \"heatmap\"}], \"heatmapgl\": [{\"colorbar\": {\"outlinewidth\": 0, \"ticks\": \"\"}, \"colorscale\": [[0.0, \"#0d0887\"], [0.1111111111111111, \"#46039f\"], [0.2222222222222222, \"#7201a8\"], [0.3333333333333333, \"#9c179e\"], [0.4444444444444444, \"#bd3786\"], [0.5555555555555556, \"#d8576b\"], [0.6666666666666666, \"#ed7953\"], [0.7777777777777778, \"#fb9f3a\"], [0.8888888888888888, \"#fdca26\"], [1.0, \"#f0f921\"]], \"type\": \"heatmapgl\"}], \"histogram\": [{\"marker\": {\"colorbar\": {\"outlinewidth\": 0, \"ticks\": \"\"}}, \"type\": \"histogram\"}], \"histogram2d\": [{\"colorbar\": {\"outlinewidth\": 0, \"ticks\": \"\"}, \"colorscale\": [[0.0, \"#0d0887\"], [0.1111111111111111, \"#46039f\"], [0.2222222222222222, \"#7201a8\"], [0.3333333333333333, \"#9c179e\"], [0.4444444444444444, \"#bd3786\"], [0.5555555555555556, \"#d8576b\"], [0.6666666666666666, \"#ed7953\"], [0.7777777777777778, \"#fb9f3a\"], [0.8888888888888888, \"#fdca26\"], [1.0, \"#f0f921\"]], \"type\": \"histogram2d\"}], \"histogram2dcontour\": [{\"colorbar\": {\"outlinewidth\": 0, \"ticks\": \"\"}, \"colorscale\": [[0.0, \"#0d0887\"], [0.1111111111111111, \"#46039f\"], [0.2222222222222222, \"#7201a8\"], [0.3333333333333333, \"#9c179e\"], [0.4444444444444444, \"#bd3786\"], [0.5555555555555556, \"#d8576b\"], [0.6666666666666666, \"#ed7953\"], [0.7777777777777778, \"#fb9f3a\"], [0.8888888888888888, \"#fdca26\"], [1.0, \"#f0f921\"]], \"type\": \"histogram2dcontour\"}], \"mesh3d\": [{\"colorbar\": {\"outlinewidth\": 0, \"ticks\": \"\"}, \"type\": \"mesh3d\"}], \"parcoords\": [{\"line\": {\"colorbar\": {\"outlinewidth\": 0, \"ticks\": \"\"}}, \"type\": \"parcoords\"}], \"pie\": [{\"automargin\": true, \"type\": \"pie\"}], \"scatter\": [{\"marker\": {\"colorbar\": {\"outlinewidth\": 0, \"ticks\": \"\"}}, \"type\": \"scatter\"}], \"scatter3d\": [{\"line\": {\"colorbar\": {\"outlinewidth\": 0, \"ticks\": \"\"}}, \"marker\": {\"colorbar\": {\"outlinewidth\": 0, \"ticks\": \"\"}}, \"type\": \"scatter3d\"}], \"scattercarpet\": [{\"marker\": {\"colorbar\": {\"outlinewidth\": 0, \"ticks\": \"\"}}, \"type\": \"scattercarpet\"}], \"scattergeo\": [{\"marker\": {\"colorbar\": {\"outlinewidth\": 0, \"ticks\": \"\"}}, \"type\": \"scattergeo\"}], \"scattergl\": [{\"marker\": {\"colorbar\": {\"outlinewidth\": 0, \"ticks\": \"\"}}, \"type\": \"scattergl\"}], \"scattermapbox\": [{\"marker\": {\"colorbar\": {\"outlinewidth\": 0, \"ticks\": \"\"}}, \"type\": \"scattermapbox\"}], \"scatterpolar\": [{\"marker\": {\"colorbar\": {\"outlinewidth\": 0, \"ticks\": \"\"}}, \"type\": \"scatterpolar\"}], \"scatterpolargl\": [{\"marker\": {\"colorbar\": {\"outlinewidth\": 0, \"ticks\": \"\"}}, \"type\": \"scatterpolargl\"}], \"scatterternary\": [{\"marker\": {\"colorbar\": {\"outlinewidth\": 0, \"ticks\": \"\"}}, \"type\": \"scatterternary\"}], \"surface\": [{\"colorbar\": {\"outlinewidth\": 0, \"ticks\": \"\"}, \"colorscale\": [[0.0, \"#0d0887\"], [0.1111111111111111, \"#46039f\"], [0.2222222222222222, \"#7201a8\"], [0.3333333333333333, \"#9c179e\"], [0.4444444444444444, \"#bd3786\"], [0.5555555555555556, \"#d8576b\"], [0.6666666666666666, \"#ed7953\"], [0.7777777777777778, \"#fb9f3a\"], [0.8888888888888888, \"#fdca26\"], [1.0, \"#f0f921\"]], \"type\": \"surface\"}], \"table\": [{\"cells\": {\"fill\": {\"color\": \"#EBF0F8\"}, \"line\": {\"color\": \"white\"}}, \"header\": {\"fill\": {\"color\": \"#C8D4E3\"}, \"line\": {\"color\": \"white\"}}, \"type\": \"table\"}]}, \"layout\": {\"annotationdefaults\": {\"arrowcolor\": \"#2a3f5f\", \"arrowhead\": 0, \"arrowwidth\": 1}, \"coloraxis\": {\"colorbar\": {\"outlinewidth\": 0, \"ticks\": \"\"}}, \"colorscale\": {\"diverging\": [[0, \"#8e0152\"], [0.1, \"#c51b7d\"], [0.2, \"#de77ae\"], [0.3, \"#f1b6da\"], [0.4, \"#fde0ef\"], [0.5, \"#f7f7f7\"], [0.6, \"#e6f5d0\"], [0.7, \"#b8e186\"], [0.8, \"#7fbc41\"], [0.9, \"#4d9221\"], [1, \"#276419\"]], \"sequential\": [[0.0, \"#0d0887\"], [0.1111111111111111, \"#46039f\"], [0.2222222222222222, \"#7201a8\"], [0.3333333333333333, \"#9c179e\"], [0.4444444444444444, \"#bd3786\"], [0.5555555555555556, \"#d8576b\"], [0.6666666666666666, \"#ed7953\"], [0.7777777777777778, \"#fb9f3a\"], [0.8888888888888888, \"#fdca26\"], [1.0, \"#f0f921\"]], \"sequentialminus\": [[0.0, \"#0d0887\"], [0.1111111111111111, \"#46039f\"], [0.2222222222222222, \"#7201a8\"], [0.3333333333333333, \"#9c179e\"], [0.4444444444444444, \"#bd3786\"], [0.5555555555555556, \"#d8576b\"], [0.6666666666666666, \"#ed7953\"], [0.7777777777777778, \"#fb9f3a\"], [0.8888888888888888, \"#fdca26\"], [1.0, \"#f0f921\"]]}, \"colorway\": [\"#636efa\", \"#EF553B\", \"#00cc96\", \"#ab63fa\", \"#FFA15A\", \"#19d3f3\", \"#FF6692\", \"#B6E880\", \"#FF97FF\", \"#FECB52\"], \"font\": {\"color\": \"#2a3f5f\"}, \"geo\": {\"bgcolor\": \"white\", \"lakecolor\": \"white\", \"landcolor\": \"#E5ECF6\", \"showlakes\": true, \"showland\": true, \"subunitcolor\": \"white\"}, \"hoverlabel\": {\"align\": \"left\"}, \"hovermode\": \"closest\", \"mapbox\": {\"style\": \"light\"}, \"paper_bgcolor\": \"white\", \"plot_bgcolor\": \"#E5ECF6\", \"polar\": {\"angularaxis\": {\"gridcolor\": \"white\", \"linecolor\": \"white\", \"ticks\": \"\"}, \"bgcolor\": \"#E5ECF6\", \"radialaxis\": {\"gridcolor\": \"white\", \"linecolor\": \"white\", \"ticks\": \"\"}}, \"scene\": {\"xaxis\": {\"backgroundcolor\": \"#E5ECF6\", \"gridcolor\": \"white\", \"gridwidth\": 2, \"linecolor\": \"white\", \"showbackground\": true, \"ticks\": \"\", \"zerolinecolor\": \"white\"}, \"yaxis\": {\"backgroundcolor\": \"#E5ECF6\", \"gridcolor\": \"white\", \"gridwidth\": 2, \"linecolor\": \"white\", \"showbackground\": true, \"ticks\": \"\", \"zerolinecolor\": \"white\"}, \"zaxis\": {\"backgroundcolor\": \"#E5ECF6\", \"gridcolor\": \"white\", \"gridwidth\": 2, \"linecolor\": \"white\", \"showbackground\": true, \"ticks\": \"\", \"zerolinecolor\": \"white\"}}, \"shapedefaults\": {\"line\": {\"color\": \"#2a3f5f\"}}, \"ternary\": {\"aaxis\": {\"gridcolor\": \"white\", \"linecolor\": \"white\", \"ticks\": \"\"}, \"baxis\": {\"gridcolor\": \"white\", \"linecolor\": \"white\", \"ticks\": \"\"}, \"bgcolor\": \"#E5ECF6\", \"caxis\": {\"gridcolor\": \"white\", \"linecolor\": \"white\", \"ticks\": \"\"}}, \"title\": {\"x\": 0.05}, \"xaxis\": {\"automargin\": true, \"gridcolor\": \"white\", \"linecolor\": \"white\", \"ticks\": \"\", \"title\": {\"standoff\": 15}, \"zerolinecolor\": \"white\", \"zerolinewidth\": 2}, \"yaxis\": {\"automargin\": true, \"gridcolor\": \"white\", \"linecolor\": \"white\", \"ticks\": \"\", \"title\": {\"standoff\": 15}, \"zerolinecolor\": \"white\", \"zerolinewidth\": 2}}}, \"title\": {\"text\": \"VSEIARD: Observed vs Fitted\", \"x\": 0.5}, \"width\": 1000, \"xaxis\": {\"title\": {\"text\": \"Day\"}}, \"yaxis\": {\"title\": {\"text\": \"Counts\"}}},\n",
       "                        {\"responsive\": true}\n",
       "                    ).then(function(){\n",
       "                            \n",
       "var gd = document.getElementById('cf6bd169-dca9-411a-8405-8fa97c29d8f3');\n",
       "var x = new MutationObserver(function (mutations, observer) {{\n",
       "        var display = window.getComputedStyle(gd).display;\n",
       "        if (!display || display === 'none') {{\n",
       "            console.log([gd, 'removed!']);\n",
       "            Plotly.purge(gd);\n",
       "            observer.disconnect();\n",
       "        }}\n",
       "}});\n",
       "\n",
       "// Listen for the removal of the full notebook cells\n",
       "var notebookContainer = gd.closest('#notebook-container');\n",
       "if (notebookContainer) {{\n",
       "    x.observe(notebookContainer, {childList: true});\n",
       "}}\n",
       "\n",
       "// Listen for the clearing of the current output cell\n",
       "var outputEl = gd.closest('.output');\n",
       "if (outputEl) {{\n",
       "    x.observe(outputEl, {childList: true});\n",
       "}}\n",
       "\n",
       "                        })\n",
       "                };\n",
       "                });\n",
       "            </script>\n",
       "        </div>"
      ]
     },
     "metadata": {},
     "output_type": "display_data"
    }
   ],
   "source": [
    "fig = go.Figure()\n",
    "fig.add_trace(go.Scatter(x=tspan, y=data[:, 0], mode='markers', name='Observed Infections', line = dict(dash='dot')))\n",
    "fig.add_trace(go.Scatter(x=tspan, y=data[:, 1], mode='markers', name='Observed Recovered', line = dict(dash='dot')))\n",
    "fig.add_trace(go.Scatter(x=tspan, y=data[:, 2], mode='markers', name='Observed Deaths', line = dict(dash='dot')))\n",
    "fig.add_trace(go.Scatter(x=tspan, y=final[:, 0], mode='lines+markers', name='Fitted Infections'))\n",
    "fig.add_trace(go.Scatter(x=tspan, y=final[:, 1], mode='lines+markers', name='Fitted Recovered'))\n",
    "fig.add_trace(go.Scatter(x=tspan, y=final[:, 2], mode='lines+markers', name='Fitted Deaths'))\n",
    "fig.update_layout(title='VSEIARD: Observed vs Fitted',\n",
    "                       xaxis_title='Day',\n",
    "                       yaxis_title='Counts',\n",
    "                       title_x=0.5,\n",
    "                       width=1000, \n",
    "                       height=600\n",
    "                     )"
   ]
  },
  {
   "cell_type": "markdown",
   "metadata": {},
   "source": [
    "# Validating"
   ]
  },
  {
   "cell_type": "code",
   "execution_count": 199,
   "metadata": {},
   "outputs": [
    {
     "name": "stdout",
     "output_type": "stream",
     "text": [
      "beta:2.1268523753903255\n",
      "sigma:0.07404933590231477\n",
      "gamma:0.020354420508338356\n",
      "mu:0.002694622478426334\n",
      "alpha:1.54458218326603e-06\n",
      "epsilon:0.013400787347854215\n",
      "rou:0.8785381162620254\n",
      "theta:0.0014300221597107754\n"
     ]
    }
   ],
   "source": [
    "print('beta:{}'.format(result.params['beta'].value))\n",
    "print('sigma:{}'.format(result.params['sigma'].value))\n",
    "print('gamma:{}'.format(result.params['gamma'].value))\n",
    "print('mu:{}'.format(result.params['mu'].value))\n",
    "print('alpha:{}'.format(result.params['alpha'].value))\n",
    "print('epsilon:{}'.format(result.params['epsilon'].value))\n",
    "print('rou:{}'.format(result.params['rou'].value))\n",
    "print('theta:{}'.format(result.params['theta'].value))"
   ]
  },
  {
   "cell_type": "code",
   "execution_count": 200,
   "metadata": {},
   "outputs": [],
   "source": [
    "# print(params, nat_d_rate, nat_b_rate)\n",
    "params['beta'].value = result.params['beta'].value\n",
    "params['sigma'].value = result.params['sigma'].value\n",
    "params['gamma'].value = result.params['gamma'].value\n",
    "params['mu'].value = result.params['mu'].value\n",
    "params['alpha'].value = result.params['alpha'].value\n",
    "params['epsilon'].value = result.params['epsilon'].value\n",
    "params['rou'].value = result.params['rou'].value\n",
    "params['theta'].value = result.params['theta'].value\n",
    "# print(params, nat_d_rate, nat_b_rate)\n",
    "\n",
    "val_days = 450\n",
    "tspan = np.arange(0, val_days, 1)\n",
    "fitted_predicted = ode_solver(tspan, initial_conditions, params, nat_d_rate, nat_b_rate)\n",
    "fitted_predicted_IRD = fitted_predicted[:, 3:7]"
   ]
  },
  {
   "cell_type": "code",
   "execution_count": 201,
   "metadata": {},
   "outputs": [
    {
     "data": {
      "text/html": [
       "<div>\n",
       "        \n",
       "        \n",
       "            <div id=\"75c128ed-d505-4c06-9642-532819b1bc35\" class=\"plotly-graph-div\" style=\"height:600px; width:1000px;\"></div>\n",
       "            <script type=\"text/javascript\">\n",
       "                require([\"plotly\"], function(Plotly) {\n",
       "                    window.PLOTLYENV=window.PLOTLYENV || {};\n",
       "                    \n",
       "                if (document.getElementById(\"75c128ed-d505-4c06-9642-532819b1bc35\")) {\n",
       "                    Plotly.newPlot(\n",
       "                        '75c128ed-d505-4c06-9642-532819b1bc35',\n",
       "                        [{\"line\": {\"dash\": \"dot\"}, \"mode\": \"markers\", \"name\": \"Observed Infections\", \"type\": \"scatter\", \"x\": [0, 1, 2, 3, 4, 5, 6, 7, 8, 9, 10, 11, 12, 13, 14, 15, 16, 17, 18, 19, 20, 21, 22, 23, 24, 25, 26, 27, 28, 29, 30, 31, 32, 33, 34, 35, 36, 37, 38, 39, 40, 41, 42, 43, 44, 45, 46, 47, 48, 49, 50, 51, 52, 53, 54, 55, 56, 57, 58, 59, 60, 61, 62, 63, 64, 65, 66, 67, 68, 69, 70, 71, 72, 73, 74, 75, 76, 77, 78, 79, 80, 81, 82, 83, 84, 85, 86, 87, 88, 89, 90, 91, 92, 93, 94, 95, 96, 97, 98, 99, 100, 101, 102, 103, 104, 105, 106, 107, 108, 109, 110, 111, 112, 113, 114, 115, 116, 117, 118, 119, 120, 121, 122, 123, 124, 125, 126, 127, 128, 129, 130, 131, 132, 133, 134, 135, 136, 137, 138, 139, 140, 141, 142, 143, 144, 145, 146, 147, 148, 149, 150, 151, 152, 153, 154, 155, 156, 157, 158, 159, 160, 161, 162, 163, 164, 165, 166, 167, 168, 169, 170, 171, 172, 173, 174, 175, 176, 177, 178, 179, 180, 181, 182, 183, 184, 185, 186, 187, 188, 189, 190, 191, 192, 193, 194, 195, 196, 197, 198, 199, 200, 201, 202, 203, 204, 205, 206, 207, 208, 209, 210, 211, 212, 213, 214, 215, 216, 217, 218, 219, 220, 221, 222, 223, 224, 225, 226, 227, 228, 229, 230, 231, 232, 233, 234, 235, 236, 237, 238, 239, 240, 241, 242, 243, 244, 245, 246, 247, 248, 249, 250, 251, 252, 253, 254, 255, 256, 257, 258, 259, 260, 261, 262, 263, 264, 265, 266, 267, 268, 269, 270, 271, 272, 273, 274, 275, 276, 277, 278, 279, 280, 281, 282, 283, 284, 285, 286, 287, 288, 289, 290, 291, 292, 293, 294, 295, 296, 297, 298, 299, 300, 301, 302, 303, 304, 305, 306, 307, 308, 309, 310, 311, 312, 313, 314, 315, 316, 317, 318, 319, 320, 321, 322, 323, 324, 325, 326, 327, 328, 329, 330, 331, 332, 333, 334, 335, 336, 337, 338, 339, 340, 341, 342, 343, 344, 345, 346, 347, 348, 349, 350, 351, 352, 353, 354, 355, 356, 357, 358, 359, 360, 361, 362, 363, 364, 365, 366, 367, 368, 369, 370, 371, 372, 373, 374, 375, 376, 377, 378, 379, 380, 381, 382, 383, 384, 385, 386, 387, 388, 389, 390, 391, 392, 393, 394, 395, 396, 397, 398, 399, 400, 401, 402, 403, 404, 405, 406, 407, 408, 409, 410, 411, 412, 413, 414, 415, 416, 417, 418, 419, 420, 421, 422, 423, 424, 425, 426, 427, 428, 429, 430, 431, 432, 433, 434, 435, 436, 437, 438, 439, 440, 441, 442, 443, 444, 445, 446, 447, 448, 449], \"y\": [47, 60, 73, 70, 72, 95, 99, 120, 134, 149, 196, 256, 329, 424, 469, 553, 634, 640, 810, 901, 1118, 1238, 1649, 1860, 2322, 2784, 3219, 3851, 4312, 4714, 5218, 6039, 6634, 7409, 8048, 9272, 10197, 10824, 11616, 12289, 13295, 14255, 15122, 15859, 16689, 17915, 18953, 20177, 21132, 22010, 22904, 24162, 25148, 26535, 28070, 29685, 31967, 33514, 35902, 37916, 39834, 41472, 44029, 46008, 47480, 49219, 51401, 52805, 53946, 56316, 58802, 61149, 63624, 66330, 69597, 73560, 77103, 80722, 83004, 86110, 89987, 86422, 89995, 93322, 97581, 101497, 106737, 110960, 115942, 120406, 124981, 129813, 133632, 137448, 141842, 145779, 149348, 153106, 153178, 155227, 160384, 163248, 168269, 169451, 174387, 178014, 183022, 186514, 189463, 197387, 203051, 210120, 215125, 220114, 226947, 227439, 235433, 244814, 253287, 259557, 264944, 269789, 276682, 283407, 292258, 301609, 311565, 319840, 331146, 342473, 358692, 373379, 390459, 402529, 411133, 426167, 440135, 456071, 467882, 485114, 496988, 509447, 528242, 545318, 565103, 567730, 579357, 586298, 586244, 595501, 607384, 619088, 628747, 634945, 639929, 643948, 653622, 661595, 668220, 677444, 676900, 673166, 676514, 686395, 692028, 697330, 707668, 710771, 704348, 707267, 725991, 742023, 752424, 765302, 781975, 785996, 801282, 815538, 831124, 846395, 862320, 882542, 883697, 897394, 919018, 943480, 958316, 973175, 986598, 990061, 995933, 1009976, 1017754, 1013964, 1010824, 1003299, 975861, 968377, 969251, 970116, 960969, 956402, 962640, 947576, 940441, 941334, 942217, 944996, 939718, 934427, 919023, 910737, 902425, 893592, 883185, 867496, 861853, 838729, 826876, 812390, 804528, 795087, 783311, 772055, 748538, 740090, 715812, 695509, 680680, 668154, 653717, 625857, 610803, 603687, 594386, 582649, 570458, 561908, 541405, 533787, 527962, 520773, 516632, 512665, 509673, 501214, 494657, 489294, 484547, 480719, 479216, 465478, 453401, 446805, 443303, 443794, 439747, 440962, 443486, 438667, 444746, 452344, 455555, 454940, 453956, 446952, 435603, 428644, 422943, 416082, 409689, 403248, 396729, 383866, 378909, 372293, 363749, 359819, 356546, 352586, 339820, 332002, 322366, 313831, 308751, 305344, 303639, 292518, 289240, 283849, 281919, 281667, 278690, 277301, 268581, 262272, 257656, 254254, 250183, 247220, 243953, 231036, 227546, 228083, 225449, 224190, 223335, 222526, 216558, 214507, 213603, 213027, 211033, 208826, 208012, 200528, 197201, 192308, 188688, 185662, 184408, 184182, 177266, 176498, 173740, 171686, 169824, 168784, 168235, 163353, 160057, 155025, 151460, 148590, 148766, 148609, 143625, 141511, 142562, 135926, 136571, 137567, 139637, 136872, 136549, 137342, 139542, 143127, 145634, 150055, 147306, 146907, 151708, 155986, 159590, 164511, 168627, 168358, 170126, 173413, 176319, 180304, 184523, 188747, 187462, 184598, 189226, 197237, 202022, 210544, 219262, 223432, 234406, 252364, 271282, 288394, 309087, 334646, 345377, 368457, 395192, 421066, 452647, 486310, 521808, 540720, 552566, 584055, 614696, 658909, 691597, 741830, 788223, 843473, 910319, 979608, 1046631, 1108087, 1201009, 1264698, 1365704, 1471877, 1569743, 1679740, 1801316, 1929329, 2031977, 2157538, 2291428, 2428616, 2552940, 2682751, 2813658, 2882204, 2978709, 3084814, 3170228, 3268710, 3349644, 3413642, 3447133, 3487229, 3566398, 3645164, 3723446, 3736648, 3745237, 3715221, 3704099, 3710525, 3704893, 3673802, 3618458, 3353765, 3353765, 3129878, 3027925, 3027925, 2805399, 2805399, 2720716, 2586782, 2495591, 2419907, 2343152, 2228724, 2114508, 2026092, 1895520, 1713413]}, {\"line\": {\"dash\": \"dot\"}, \"mode\": \"markers\", \"name\": \"Observed Recovered\", \"type\": \"scatter\", \"x\": [0, 1, 2, 3, 4, 5, 6, 7, 8, 9, 10, 11, 12, 13, 14, 15, 16, 17, 18, 19, 20, 21, 22, 23, 24, 25, 26, 27, 28, 29, 30, 31, 32, 33, 34, 35, 36, 37, 38, 39, 40, 41, 42, 43, 44, 45, 46, 47, 48, 49, 50, 51, 52, 53, 54, 55, 56, 57, 58, 59, 60, 61, 62, 63, 64, 65, 66, 67, 68, 69, 70, 71, 72, 73, 74, 75, 76, 77, 78, 79, 80, 81, 82, 83, 84, 85, 86, 87, 88, 89, 90, 91, 92, 93, 94, 95, 96, 97, 98, 99, 100, 101, 102, 103, 104, 105, 106, 107, 108, 109, 110, 111, 112, 113, 114, 115, 116, 117, 118, 119, 120, 121, 122, 123, 124, 125, 126, 127, 128, 129, 130, 131, 132, 133, 134, 135, 136, 137, 138, 139, 140, 141, 142, 143, 144, 145, 146, 147, 148, 149, 150, 151, 152, 153, 154, 155, 156, 157, 158, 159, 160, 161, 162, 163, 164, 165, 166, 167, 168, 169, 170, 171, 172, 173, 174, 175, 176, 177, 178, 179, 180, 181, 182, 183, 184, 185, 186, 187, 188, 189, 190, 191, 192, 193, 194, 195, 196, 197, 198, 199, 200, 201, 202, 203, 204, 205, 206, 207, 208, 209, 210, 211, 212, 213, 214, 215, 216, 217, 218, 219, 220, 221, 222, 223, 224, 225, 226, 227, 228, 229, 230, 231, 232, 233, 234, 235, 236, 237, 238, 239, 240, 241, 242, 243, 244, 245, 246, 247, 248, 249, 250, 251, 252, 253, 254, 255, 256, 257, 258, 259, 260, 261, 262, 263, 264, 265, 266, 267, 268, 269, 270, 271, 272, 273, 274, 275, 276, 277, 278, 279, 280, 281, 282, 283, 284, 285, 286, 287, 288, 289, 290, 291, 292, 293, 294, 295, 296, 297, 298, 299, 300, 301, 302, 303, 304, 305, 306, 307, 308, 309, 310, 311, 312, 313, 314, 315, 316, 317, 318, 319, 320, 321, 322, 323, 324, 325, 326, 327, 328, 329, 330, 331, 332, 333, 334, 335, 336, 337, 338, 339, 340, 341, 342, 343, 344, 345, 346, 347, 348, 349, 350, 351, 352, 353, 354, 355, 356, 357, 358, 359, 360, 361, 362, 363, 364, 365, 366, 367, 368, 369, 370, 371, 372, 373, 374, 375, 376, 377, 378, 379, 380, 381, 382, 383, 384, 385, 386, 387, 388, 389, 390, 391, 392, 393, 394, 395, 396, 397, 398, 399, 400, 401, 402, 403, 404, 405, 406, 407, 408, 409, 410, 411, 412, 413, 414, 415, 416, 417, 418, 419, 420, 421, 422, 423, 424, 425, 426, 427, 428, 429, 430, 431, 432, 433, 434, 435, 436, 437, 438, 439, 440, 441, 442, 443, 444, 445, 446, 447, 448, 449], \"y\": [0, 0, 0, 10, 10, 13, 13, 14, 14, 20, 23, 23, 24, 35, 40, 43, 45, 67, 80, 96, 102, 124, 144, 156, 163, 213, 275, 319, 353, 411, 478, 516, 653, 765, 980, 1190, 1344, 1515, 1767, 2015, 2302, 2842, 3260, 3960, 4325, 4814, 5210, 5914, 6362, 7027, 7797, 8373, 9065, 10018, 10887, 11762, 13161, 14183, 15267, 16540, 17847, 19358, 20917, 22455, 24386, 26235, 27920, 30153, 34109, 36824, 39174, 42298, 45300, 48534, 51784, 54441, 57721, 60491, 64426, 67692, 71106, 82370, 86984, 91819, 95527, 100303, 104107, 109462, 114073, 119293, 124430, 129314, 135206, 141029, 147195, 154330, 162379, 169798, 180013, 186935, 194325, 204711, 213831, 227756, 237196, 248190, 258685, 271697, 285637, 295881, 309713, 321723, 334822, 347979, 359860, 379892, 394227, 409083, 424433, 439948, 456831, 476378, 495516, 515386, 534621, 553471, 571460, 592032, 612815, 635757, 653751, 677423, 700087, 724578, 753050, 782607, 817209, 849432, 885577, 917568, 952743, 988029, 1020582, 1057805, 1094374, 1145629, 1186203, 1230509, 1282215, 1328336, 1378105, 1427005, 1480884, 1535743, 1583489, 1639599, 1695982, 1751555, 1808936, 1862258, 1919842, 1977779, 2037870, 2096664, 2158946, 2222577, 2280566, 2338035, 2404585, 2467758, 2523771, 2583948, 2648998, 2713933, 2774801, 2839882, 2901908, 2970492, 3037151, 3107223, 3180865, 3250429, 3323950, 3398844, 3471783, 3542663, 3624196, 3702595, 3780107, 3859399, 3942360, 4025079, 4112551, 4208431, 4303043, 4396399, 4497867, 4587613, 4671881, 4756164, 4849584, 4941627, 5016520, 5101397, 5187825, 5269944, 5352078, 5427706, 5507196, 5586703, 5662490, 5745086, 5827704, 5906069, 5988822, 6077976, 6149535, 6227295, 6301927, 6383441, 6453779, 6524595, 6597209, 6663608, 6733328, 6795103, 6874518, 6948497, 7016046, 7078123, 7137228, 7201070, 7259509, 7315989, 7373375, 7432829, 7491513, 7544798, 7603121, 7656478, 7711809, 7765966, 7819886, 7868968, 7917373, 7963457, 8013783, 8066501, 8115580, 8163572, 8205728, 8249579, 8290370, 8335109, 8383602, 8428409, 8478124, 8521617, 8562641, 8604955, 8642771, 8679138, 8718517, 8759969, 8802267, 8847600, 8889585, 8932647, 8973373, 9016289, 9058822, 9100792, 9139901, 9178946, 9215581, 9253306, 9290834, 9324328, 9357464, 9388159, 9422636, 9456449, 9489740, 9520827, 9550712, 9580402, 9606111, 9636487, 9663382, 9693173, 9717834, 9740108, 9761538, 9782669, 9807569, 9834141, 9860280, 9883461, 9906387, 9927310, 9946867, 9975958, 9997272, 10016859, 10037398, 10056651, 10075950, 10092909, 10111294, 10129111, 10146763, 10162738, 10179715, 10196885, 10211342, 10228753, 10245741, 10265706, 10283708, 10300838, 10316786, 10330084, 10345985, 10359305, 10373606, 10394352, 10409160, 10423125, 10434983, 10448406, 10462631, 10480455, 10496308, 10510796, 10522601, 10534505, 10548521, 10561608, 10573372, 10589230, 10600625, 10611731, 10621220, 10633025, 10644858, 10656845, 10667741, 10678048, 10689715, 10699410, 10712665, 10726702, 10738501, 10750680, 10763451, 10775169, 10786457, 10798921, 10812044, 10826075, 10839894, 10854128, 10868520, 10882798, 10899394, 10920046, 10938146, 10953303, 10973260, 10989897, 11007352, 11027543, 11045284, 11063025, 11083679, 11107332, 11130288, 11151468, 11181253, 11205160, 11231650, 11264637, 11295023, 11323762, 11355993, 11393021, 11434301, 11474683, 11525039, 11569241, 11629289, 11682136, 11732279, 11792135, 11851393, 11913292, 11990859, 12081443, 12156529, 12253697, 12336036, 12429564, 12547866, 12671220, 12809643, 12953821, 13108582, 13276039, 13454880, 13648159, 13867997, 14085110, 14304382, 14556209, 14817371, 15086878, 15384418, 15684406, 15992271, 16293003, 16613292, 16951731, 17280844, 17612351, 17930960, 18317404, 18671222, 19027304, 19382642, 19734823, 20079599, 20432898, 20795335, 21596512, 21596512, 22355440, 22712735, 22712735, 23425467, 23425467, 23728011, 24054861, 24350816, 24633951, 24893410, 25178011, 25454320, 25692342, 25947629, 26390584]}, {\"line\": {\"dash\": \"dot\"}, \"mode\": \"markers\", \"name\": \"Observed Deaths\", \"type\": \"scatter\", \"x\": [0, 1, 2, 3, 4, 5, 6, 7, 8, 9, 10, 11, 12, 13, 14, 15, 16, 17, 18, 19, 20, 21, 22, 23, 24, 25, 26, 27, 28, 29, 30, 31, 32, 33, 34, 35, 36, 37, 38, 39, 40, 41, 42, 43, 44, 45, 46, 47, 48, 49, 50, 51, 52, 53, 54, 55, 56, 57, 58, 59, 60, 61, 62, 63, 64, 65, 66, 67, 68, 69, 70, 71, 72, 73, 74, 75, 76, 77, 78, 79, 80, 81, 82, 83, 84, 85, 86, 87, 88, 89, 90, 91, 92, 93, 94, 95, 96, 97, 98, 99, 100, 101, 102, 103, 104, 105, 106, 107, 108, 109, 110, 111, 112, 113, 114, 115, 116, 117, 118, 119, 120, 121, 122, 123, 124, 125, 126, 127, 128, 129, 130, 131, 132, 133, 134, 135, 136, 137, 138, 139, 140, 141, 142, 143, 144, 145, 146, 147, 148, 149, 150, 151, 152, 153, 154, 155, 156, 157, 158, 159, 160, 161, 162, 163, 164, 165, 166, 167, 168, 169, 170, 171, 172, 173, 174, 175, 176, 177, 178, 179, 180, 181, 182, 183, 184, 185, 186, 187, 188, 189, 190, 191, 192, 193, 194, 195, 196, 197, 198, 199, 200, 201, 202, 203, 204, 205, 206, 207, 208, 209, 210, 211, 212, 213, 214, 215, 216, 217, 218, 219, 220, 221, 222, 223, 224, 225, 226, 227, 228, 229, 230, 231, 232, 233, 234, 235, 236, 237, 238, 239, 240, 241, 242, 243, 244, 245, 246, 247, 248, 249, 250, 251, 252, 253, 254, 255, 256, 257, 258, 259, 260, 261, 262, 263, 264, 265, 266, 267, 268, 269, 270, 271, 272, 273, 274, 275, 276, 277, 278, 279, 280, 281, 282, 283, 284, 285, 286, 287, 288, 289, 290, 291, 292, 293, 294, 295, 296, 297, 298, 299, 300, 301, 302, 303, 304, 305, 306, 307, 308, 309, 310, 311, 312, 313, 314, 315, 316, 317, 318, 319, 320, 321, 322, 323, 324, 325, 326, 327, 328, 329, 330, 331, 332, 333, 334, 335, 336, 337, 338, 339, 340, 341, 342, 343, 344, 345, 346, 347, 348, 349, 350, 351, 352, 353, 354, 355, 356, 357, 358, 359, 360, 361, 362, 363, 364, 365, 366, 367, 368, 369, 370, 371, 372, 373, 374, 375, 376, 377, 378, 379, 380, 381, 382, 383, 384, 385, 386, 387, 388, 389, 390, 391, 392, 393, 394, 395, 396, 397, 398, 399, 400, 401, 402, 403, 404, 405, 406, 407, 408, 409, 410, 411, 412, 413, 414, 415, 416, 417, 418, 419, 420, 421, 422, 423, 424, 425, 426, 427, 428, 429, 430, 431, 432, 433, 434, 435, 436, 437, 438, 439, 440, 441, 442, 443, 444, 445, 446, 447, 448, 449], \"y\": [0, 0, 0, 2, 2, 2, 2, 3, 3, 4, 4, 4, 7, 8, 10, 10, 15, 17, 19, 27, 31, 35, 41, 53, 62, 75, 83, 111, 124, 149, 169, 206, 242, 273, 324, 353, 392, 420, 452, 488, 519, 559, 603, 652, 686, 723, 779, 826, 886, 937, 1008, 1075, 1152, 1223, 1306, 1389, 1583, 1694, 1783, 1886, 1981, 2109, 2206, 2293, 2415, 2549, 2649, 2752, 2872, 3029, 3163, 3303, 3435, 3583, 3720, 3867, 4021, 4167, 4337, 4531, 4706, 4971, 5164, 5394, 5598, 5815, 6075, 6348, 6642, 6929, 7200, 7471, 7745, 8102, 8498, 8884, 9195, 9520, 9900, 11903, 12237, 12573, 12948, 13254, 13699, 14011, 14476, 14894, 15301, 15685, 16095, 16475, 16893, 17400, 17834, 18213, 18655, 19268, 19693, 20160, 20642, 21129, 21604, 22123, 22674, 23174, 23727, 24309, 24915, 25602, 26273, 26816, 27497, 28084, 28732, 29861, 30601, 31358, 32063, 32771, 33425, 34193, 34968, 35747, 36511, 37364, 38135, 38938, 39795, 40699, 41585, 42518, 43379, 44386, 45257, 46091, 47033, 48040, 49036, 49980, 50921, 51797, 52889, 53866, 54849, 55794, 56706, 57542, 58390, 59449, 60472, 61529, 62550, 63498, 64469, 65288, 66333, 67376, 68472, 69561, 70626, 71642, 72775, 73890, 75062, 76271, 77472, 78586, 79722, 80776, 82066, 83198, 84372, 85619, 86752, 87882, 88935, 90020, 91148, 92290, 93379, 94503, 95542, 96318, 97497, 98627, 99773, 100842, 101757, 102685, 103569, 104538, 105526, 106490, 107416, 108334, 109150, 109856, 110586, 111266, 112161, 112998, 114031, 114610, 115197, 115914, 116616, 117306, 117956, 118534, 119014, 119502, 120010, 120527, 121090, 121641, 122111, 122607, 123097, 123611, 124315, 124985, 125562, 126121, 126611, 127059, 127571, 128121, 128668, 129188, 129635, 130070, 130519, 130993, 131578, 132162, 132726, 133227, 133738, 134218, 134699, 135223, 135715, 136200, 136696, 137139, 137621, 138122, 138648, 139188, 139700, 140182, 140573, 140958, 141360, 141772, 142186, 142628, 143019, 143355, 143709, 144096, 144451, 144789, 145136, 145477, 145810, 146111, 146444, 146756, 147092, 147343, 147622, 147901, 148153, 148439, 148738, 148994, 149218, 149435, 149649, 149850, 150114, 150336, 150570, 150798, 150999, 151160, 151327, 151529, 151727, 151918, 152093, 152274, 152419, 152556, 152718, 152869, 153032, 153184, 153339, 153470, 153587, 153724, 153847, 154010, 154147, 154274, 154392, 154486, 154596, 154703, 154823, 154918, 154996, 155080, 155158, 155252, 155360, 155447, 155550, 155642, 155732, 155813, 155913, 156014, 156111, 156212, 156302, 156385, 156463, 156567, 156705, 156825, 156938, 157051, 157157, 157248, 157346, 157435, 157548, 157656, 157756, 157853, 157930, 158063, 158189, 158306, 158446, 158607, 158725, 158856, 159044, 159216, 159370, 159558, 159755, 159967, 160166, 160441, 160692, 160949, 161240, 161552, 161843, 162114, 162468, 162927, 163396, 164110, 164623, 165101, 165547, 166177, 166862, 167642, 168436, 169275, 170179, 171058, 172085, 173123, 174308, 175649, 177150, 178769, 180530, 182553, 184657, 186920, 189544, 192311, 195123, 197894, 201187, 204832, 208330, 211853, 215542, 218959, 222408, 226188, 230168, 234083, 238270, 242362, 246116, 249992, 254197, 258317, 262317, 266207, 270284, 278719, 278719, 287122, 291331, 291331, 299266, 299266, 303720, 307231, 311388, 315235, 318895, 322512, 325972, 329100, 331895, 337989]}, {\"mode\": \"lines+markers\", \"name\": \"Fitted Infections\", \"type\": \"scatter\", \"x\": [0, 1, 2, 3, 4, 5, 6, 7, 8, 9, 10, 11, 12, 13, 14, 15, 16, 17, 18, 19, 20, 21, 22, 23, 24, 25, 26, 27, 28, 29, 30, 31, 32, 33, 34, 35, 36, 37, 38, 39, 40, 41, 42, 43, 44, 45, 46, 47, 48, 49, 50, 51, 52, 53, 54, 55, 56, 57, 58, 59, 60, 61, 62, 63, 64, 65, 66, 67, 68, 69, 70, 71, 72, 73, 74, 75, 76, 77, 78, 79, 80, 81, 82, 83, 84, 85, 86, 87, 88, 89, 90, 91, 92, 93, 94, 95, 96, 97, 98, 99, 100, 101, 102, 103, 104, 105, 106, 107, 108, 109, 110, 111, 112, 113, 114, 115, 116, 117, 118, 119, 120, 121, 122, 123, 124, 125, 126, 127, 128, 129, 130, 131, 132, 133, 134, 135, 136, 137, 138, 139, 140, 141, 142, 143, 144, 145, 146, 147, 148, 149, 150, 151, 152, 153, 154, 155, 156, 157, 158, 159, 160, 161, 162, 163, 164, 165, 166, 167, 168, 169, 170, 171, 172, 173, 174, 175, 176, 177, 178, 179, 180, 181, 182, 183, 184, 185, 186, 187, 188, 189, 190, 191, 192, 193, 194, 195, 196, 197, 198, 199, 200, 201, 202, 203, 204, 205, 206, 207, 208, 209, 210, 211, 212, 213, 214, 215, 216, 217, 218, 219, 220, 221, 222, 223, 224, 225, 226, 227, 228, 229, 230, 231, 232, 233, 234, 235, 236, 237, 238, 239, 240, 241, 242, 243, 244, 245, 246, 247, 248, 249, 250, 251, 252, 253, 254, 255, 256, 257, 258, 259, 260, 261, 262, 263, 264, 265, 266, 267, 268, 269, 270, 271, 272, 273, 274, 275, 276, 277, 278, 279, 280, 281, 282, 283, 284, 285, 286, 287, 288, 289, 290, 291, 292, 293, 294, 295, 296, 297, 298, 299, 300, 301, 302, 303, 304, 305, 306, 307, 308, 309, 310, 311, 312, 313, 314, 315, 316, 317, 318, 319, 320, 321, 322, 323, 324, 325, 326, 327, 328, 329, 330, 331, 332, 333, 334, 335, 336, 337, 338, 339, 340, 341, 342, 343, 344, 345, 346, 347, 348, 349, 350, 351, 352, 353, 354, 355, 356, 357, 358, 359, 360, 361, 362, 363, 364, 365, 366, 367, 368, 369, 370, 371, 372, 373, 374, 375, 376, 377, 378, 379, 380, 381, 382, 383, 384, 385, 386, 387, 388, 389, 390, 391, 392, 393, 394, 395, 396, 397, 398, 399, 400, 401, 402, 403, 404, 405, 406, 407, 408, 409, 410, 411, 412, 413, 414, 415, 416, 417, 418, 419, 420, 421, 422, 423, 424, 425, 426, 427, 428, 429, 430, 431, 432, 433, 434, 435, 436, 437, 438, 439, 440, 441, 442, 443, 444, 445, 446, 447, 448, 449], \"y\": [117.0, 2052.7554631802564, 3070.755736684057, 3825.315072686089, 4538.493108540181, 5288.795292849186, 6107.1896572422675, 7009.1053052563, 8005.123941506621, 9104.567475192227, 10316.712880171159, 11651.212916957365, 13118.250303390998, 14728.601902645789, 16493.67199585687, 18425.514514299288, 20536.850719977898, 22841.08451519064, 25352.31587250311, 28085.353165869044, 31055.722888090335, 34279.67886653887, 37774.208628027205, 41557.03849075128, 45646.63642913243, 50062.21287295662, 54823.71942973477, 59951.845396611425, 65468.0117836056, 71394.36292215815, 77753.75655921677, 84569.75072699237, 91866.58768172054, 99669.1769472851, 108003.0748051249, 116894.46166447466, 126370.11684036, 136457.39230131469, 147184.18107861644, 158578.88700411172, 170670.39028248857, 183488.01112136224, 197061.4714899974, 211420.85560372774, 226596.56771932173, 242619.28872392603, 259519.93109976774, 277329.5923428083, 296079.5076124501, 315801.0003647742, 336525.4328483178, 358284.1549430078, 381108.4531106408, 405029.4983219826, 430078.2937204825, 456285.6220626211, 483681.9931778212, 512297.5914292762, 542162.2235025058, 573305.2665956189, 605755.6166455764, 639541.6372422588, 674691.1153822988, 711231.2084571493, 749188.3887903587, 788588.4179014222, 829456.2646201544, 871816.118967742, 915691.3010571493, 961104.2374499473, 1008076.4249015282, 1056628.3863562124, 1106779.65261308, 1158548.7234994322, 1211953.0252519231, 1267008.891197825, 1323731.5433885101, 1382135.056631765, 1442232.3467159753, 1504035.1515155388, 1567554.0090610702, 1632798.2560722413, 1699775.992228181, 1768494.0914010303, 1838958.1875291984, 1911172.6711043585, 1985140.686089323, 2060864.130311205, 2138343.6569840023, 2217578.679532241, 2298567.3774425727, 2381306.705951742, 2465792.4037577384, 2552019.0075033265, 2639979.866093566, 2729667.154518976, 2821071.8946743812, 2914183.9715490825, 3008992.1566146673, 3105484.1292659463, 3203646.4992935387, 3303464.833982744, 3404923.6838346124, 3508006.6091602007, 3612696.2092628754, 3718974.151291242, 3826821.201728025, 3936217.256205227, 4047141.372311532, 4159571.801168163, 4273486.021174093, 4388860.770662427, 4505672.08257079, 4623895.317472807, 4743505.199220089, 4864475.84807396, 4986780.816891356, 5110393.122946478, 5235285.2849453, 5361429.357797588, 5488796.963451965, 5617359.328558923, 5747087.315247645, 5877951.457164157, 6009921.988789202, 6142968.881576651, 6277061.873500401, 6412170.500353059, 6548264.127787298, 6685311.982509824, 6823283.177972762, 6962146.745570015, 7101871.664044773, 7242426.885847363, 7383781.361238704, 7525904.067592754, 7668764.034441783, 7812330.367552593, 7956572.263690552, 8101459.04873555, 8246960.18800647, 8393045.31518553, 8539684.251445478, 8686847.013775883, 8834503.846419597, 8982625.231627874, 9131181.907089733, 9280144.885796517, 9429485.483588265, 9579175.286241252, 9729186.211711101, 9879490.50851536, 10030060.742426837, 10180869.86204094, 10331891.168031374, 10483098.329629846, 10634465.398768723, 10785966.81182051, 10937577.404805848, 11089272.412880996, 11241027.47971169, 11392818.661921702, 11544622.440238127, 11696415.71572279, 11848175.817353679, 11999880.503834404, 12151507.966436258, 12303036.830887714, 12454446.159388691, 12605715.45112937, 12756824.643295377, 12907754.110586215, 13058484.665551057, 13208997.557481173, 13359274.471042216, 13509297.525016492, 13659049.270659003, 13808512.68884351, 13957671.188152423, 14106508.601758972, 14255009.184079269, 14403157.607796645, 14550938.959948245, 14698338.738081217, 14845342.846101476, 14991937.547459684, 15138109.6036137, 15283846.126601746, 15429134.566698425, 15573962.793426907, 15718319.018267337, 15862191.901038894, 16005570.453409502, 16148443.976222292, 16290802.181073403, 16432635.114155691, 16573933.138589112, 16714687.111731004, 16854887.987539046, 16994527.196746465, 17133596.421397157, 17272087.763243135, 17409993.56227658, 17547306.392731745, 17684019.233752176, 17820125.315690357, 17955618.15174901, 18090491.55594791, 18224739.604350347, 18358356.603126395, 18491337.173282072, 18623676.165625483, 18755368.677832823, 18886410.08535657, 19016795.984473664, 19146522.153602473, 19275584.66864507, 19403979.795194842, 19531704.02370671, 19658754.053066224, 19785126.788966544, 19910819.336878717, 20035828.997724157, 20160153.26258318, 20283789.80785919, 20406736.490226116, 20528991.341779824, 20650552.56522255, 20771418.52923989, 20891587.763777122, 21011058.9556019, 21129830.94372297, 21247902.71512928, 21365273.40038187, 21481942.269500215, 21597908.72770139, 21713172.311383132, 21827732.684290335, 21941589.63354499, 22054743.065943427, 22167193.003674667, 22278939.581488602, 22389983.042824805, 22500323.73599731, 22609962.111072898, 22718898.716914017, 22827134.196926277, 22934669.28711405, 23041504.811807927, 23147641.68173939, 23253080.889947068, 23357823.51020476, 23461870.69262663, 23565223.66278231, 23667883.717161562, 23769852.222085457, 23871130.610314116, 23971720.378590565, 24071623.08588753, 24170840.35046382, 24269373.84764859, 24367225.30755303, 24464396.51367779, 24560889.299966216, 24656705.548887167, 24751847.18950851, 24846316.19581444, 24940114.58498702, 25033244.414669447, 25125707.782186497, 25217506.822372988, 25308643.706204977, 25399120.63826533, 25488939.856368363, 25578103.629436415, 25666614.25656946, 25754474.06392236, 25841685.40528891, 25928250.66007664, 26014172.23206033, 26099452.547476333, 26184094.054479454, 26268099.221811447, 26351470.537075326, 26434210.50713714, 26516321.655959457, 26597806.522080358, 26678667.659235846, 26758907.637852132, 26838529.039636664, 26917534.458549142, 26995926.502807826, 27073707.780890714, 27150880.923820533, 27227448.57636851, 27303413.351615153, 27378777.89879833, 27453544.922316626, 27527717.05538995, 27601296.965619378, 27674287.326931845, 27746690.813949738, 27818510.10685128, 27889747.887824133, 27960406.84119188, 28030489.652925357, 28099999.010166507, 28168937.60045639, 28237308.111549307, 28305113.230432183, 28372355.64401239, 28439038.084776167, 28505163.150323946, 28570733.52859666, 28635751.9552114, 28700221.081599806, 28764143.63722361, 28827522.217387337, 28890359.445946027, 28952658.10799724, 29014420.73833145, 29075650.122385792, 29136348.731604848, 29196519.339417186, 29256164.548129234, 29315287.041168593, 29373889.373224095, 29431974.111604225, 29489544.082324672, 29546601.50720365, 29603149.36770899, 29659190.05063346, 29714726.18687253, 29769760.351201966, 29824295.17053919, 29878333.153248865, 29931876.882886797, 29984928.838255014, 30037491.57134608, 30089567.614963964, 30141159.480669446, 30192269.696512584, 30242900.727001414, 30293055.103165526, 30342735.27442995, 30391943.72961842, 30440682.932165354, 30488955.322078884, 30536763.372635137, 30584109.490649734, 30630996.11349985, 30677425.67194534, 30723400.54891036, 30768923.152016234, 30813995.881339964, 30858621.096885305, 30902801.1687833, 30946538.465501882, 30989835.334954925, 31032694.104269635, 31075117.105945997, 31117106.66248058, 31158665.084959853, 31199794.66805161, 31240497.696729872, 31280776.45079173, 31320633.199237548, 31360070.201310296, 31399089.704555724, 31437693.94704245, 31475885.156547286, 31513665.549881246, 31551037.335059285, 31588002.709512845, 31624563.86007411, 31660722.96428313, 31696482.189050395, 31731843.690734863, 31766809.615093462, 31801382.099520084, 31835563.27410064, 31869355.256295145, 31902760.151257485, 31935780.055090822, 31968417.054598585, 32000673.226171628, 32032550.63595561, 32064051.341598414, 32095177.390025847, 32125930.819198363, 32156313.65617625, 32186327.911607753, 32215975.595228765, 32245258.70963886, 32274179.24515447, 32302739.166719925, 32330940.448546275, 32358785.062578294, 32386274.932719205, 32413412.019360784, 32440198.24367975, 32466635.520996645, 32492725.77850378, 32518470.893826384, 32543872.785117146, 32568933.30887522, 32593654.359718997, 32618037.7908222, 32642085.44866482, 32665799.20428588, 32689180.855699636, 32712232.266314205, 32734955.239797026, 32757351.566258147, 32779423.073003866, 32801171.54620833, 32822598.74739431, 32843706.453002445, 32864496.45243686, 32884970.482304767, 32905130.282633066, 32924977.58239801, 32944514.130386975, 32963741.648957863, 32982661.837815005, 33001276.398930073, 33019587.02065817, 33037595.38408493, 33055303.176740646, 33072712.065932598, 33089823.710886788, 33106639.766017742, 33123161.866736278, 33139391.6488276, 33155330.739669222, 33170980.752720762, 33186343.300289784, 33201419.983605288, 33216212.39266607, 33230722.115415826, 33244950.728941392, 33258899.799034733, 33272570.886712525, 33285965.54500984, 33299085.319029894, 33311931.746023208, 33324506.35544206, 33336810.668967072, 33348846.2005312, 33360614.456356514]}, {\"mode\": \"lines+markers\", \"name\": \"Fitted Recovered\", \"type\": \"scatter\", \"x\": [0, 1, 2, 3, 4, 5, 6, 7, 8, 9, 10, 11, 12, 13, 14, 15, 16, 17, 18, 19, 20, 21, 22, 23, 24, 25, 26, 27, 28, 29, 30, 31, 32, 33, 34, 35, 36, 37, 38, 39, 40, 41, 42, 43, 44, 45, 46, 47, 48, 49, 50, 51, 52, 53, 54, 55, 56, 57, 58, 59, 60, 61, 62, 63, 64, 65, 66, 67, 68, 69, 70, 71, 72, 73, 74, 75, 76, 77, 78, 79, 80, 81, 82, 83, 84, 85, 86, 87, 88, 89, 90, 91, 92, 93, 94, 95, 96, 97, 98, 99, 100, 101, 102, 103, 104, 105, 106, 107, 108, 109, 110, 111, 112, 113, 114, 115, 116, 117, 118, 119, 120, 121, 122, 123, 124, 125, 126, 127, 128, 129, 130, 131, 132, 133, 134, 135, 136, 137, 138, 139, 140, 141, 142, 143, 144, 145, 146, 147, 148, 149, 150, 151, 152, 153, 154, 155, 156, 157, 158, 159, 160, 161, 162, 163, 164, 165, 166, 167, 168, 169, 170, 171, 172, 173, 174, 175, 176, 177, 178, 179, 180, 181, 182, 183, 184, 185, 186, 187, 188, 189, 190, 191, 192, 193, 194, 195, 196, 197, 198, 199, 200, 201, 202, 203, 204, 205, 206, 207, 208, 209, 210, 211, 212, 213, 214, 215, 216, 217, 218, 219, 220, 221, 222, 223, 224, 225, 226, 227, 228, 229, 230, 231, 232, 233, 234, 235, 236, 237, 238, 239, 240, 241, 242, 243, 244, 245, 246, 247, 248, 249, 250, 251, 252, 253, 254, 255, 256, 257, 258, 259, 260, 261, 262, 263, 264, 265, 266, 267, 268, 269, 270, 271, 272, 273, 274, 275, 276, 277, 278, 279, 280, 281, 282, 283, 284, 285, 286, 287, 288, 289, 290, 291, 292, 293, 294, 295, 296, 297, 298, 299, 300, 301, 302, 303, 304, 305, 306, 307, 308, 309, 310, 311, 312, 313, 314, 315, 316, 317, 318, 319, 320, 321, 322, 323, 324, 325, 326, 327, 328, 329, 330, 331, 332, 333, 334, 335, 336, 337, 338, 339, 340, 341, 342, 343, 344, 345, 346, 347, 348, 349, 350, 351, 352, 353, 354, 355, 356, 357, 358, 359, 360, 361, 362, 363, 364, 365, 366, 367, 368, 369, 370, 371, 372, 373, 374, 375, 376, 377, 378, 379, 380, 381, 382, 383, 384, 385, 386, 387, 388, 389, 390, 391, 392, 393, 394, 395, 396, 397, 398, 399, 400, 401, 402, 403, 404, 405, 406, 407, 408, 409, 410, 411, 412, 413, 414, 415, 416, 417, 418, 419, 420, 421, 422, 423, 424, 425, 426, 427, 428, 429, 430, 431, 432, 433, 434, 435, 436, 437, 438, 439, 440, 441, 442, 443, 444, 445, 446, 447, 448, 449], \"y\": [0.0, 4.585999592149033, 13.121503426784127, 24.032872528648735, 36.91401923399506, 51.759263464660705, 68.70863894999857, 87.96376462576687, 109.76060787830747, 134.3612783583749, 162.05221940801272, 193.14457404031134, 227.97531027777404, 266.90863050742513, 310.3374995936485, 358.68524045213064, 412.40717408707997, 471.9922939955825, 537.9649473964992, 610.8866033004085, 691.3575482864151, 780.0186639704204, 877.5531889758823, 984.6884853403379, 1102.1978021695022, 1230.9020455054056, 1371.6714673161716, 1525.427488942685, 1693.144313305419, 1875.8506168157696, 2074.631177471723, 2290.6284555740326, 2525.044122207843, 2779.1405308018952, 3054.242124444564, 3351.7367753256535, 3673.0770529722195, 4019.7813580940547, 4393.435102042903, 4795.691618856275, 5228.273098333495, 5692.971374415564, 6191.648612060193, 6726.237868634989, 7298.743552660483, 7911.241753155717, 8565.880444455166, 9264.879562616517, 10010.53095251327, 10805.19818023683, 11651.316212696573, 12551.390955378793, 13507.998659820478, 14523.785189082155, 15601.465146054388, 16743.82086365988, 17953.701260382644, 19234.020557907377, 20587.756866544136, 22017.950638745868, 23527.70304149244, 25120.17418973109, 26798.580696128418, 28566.194167539106, 30426.339655365126, 32382.391707453924, 34437.77444951307, 36595.95566004342, 38860.44718187087, 41234.80123899299, 43722.60762784528, 46327.49109629837, 49053.10795544225, 51903.14340874406, 54881.30887257836, 57991.33856508799, 61236.98627947738, 64622.022415291176, 68150.23063221564, 71825.40468787485, 75651.34521793781, 79631.85646685466, 83770.74304256983, 88071.80659164293, 92538.84255976311, 97175.63693804388, 101985.96303132207, 106973.57824804666, 112142.22092050899, 117495.60716691049, 123037.42778691761, 128771.34523832223, 134700.99056909696, 140829.9605252681, 147161.81467768372, 153700.0725330916, 160448.21089625426, 167409.6610804876, 174587.8064103529, 181985.97967545575, 189607.46062977906, 197455.47375008388, 205533.18595877636, 213843.70441198224, 222390.07447263552, 231175.27769422845, 240202.23003393586, 249473.77997783202, 258992.70694805225, 268761.71964758594, 278783.45466298127, 289060.47500683984, 299595.2689469193, 310390.2487044678, 321447.74955346255, 332770.028674442, 344359.2645325103, 356217.555689296, 368346.9204884676, 380749.29664796067, 393426.5400846213, 406380.425336488, 419612.64460330113, 433124.80816221103, 446918.4435826808, 460994.99634166854, 475355.8294201729, 490002.223636047, 504935.3775991437, 520156.409057922, 535666.3540748184, 551466.1673902723, 567556.7227374573, 583938.8163275, 600613.1639308305, 617580.4029947718, 634841.0933217809, 652395.7166869546, 670244.6840185248, 688388.3276783169, 706826.9027523946, 725560.5946656624, 744589.5133644558, 763913.7034884099, 783533.1370338014, 803447.7182199672, 823657.2839811365, 844161.6045354407, 864960.3821995191, 886053.2627012146, 907439.8260709929, 929119.591281282, 951092.0198490053, 973356.5113532679, 995912.4100007202, 1018759.0048568918, 1041895.5306914457, 1065321.170238365, 1089035.0545387107, 1113036.2653054465, 1137323.835925147, 1161896.7529289532, 1186753.956730287, 1211894.3439939558, 1237316.768592904, 1263020.0431295766, 1289002.9403060055, 1315264.1943128442, 1341802.502158992, 1368616.5250781758, 1395704.8898437272, 1423066.190148431, 1450698.9878775338, 1478601.8144432895, 1506773.1720880903, 1535211.5351408697, 1563915.351257936, 1592883.0426995477, 1622113.0075098637, 1651603.6207323084, 1681353.235597853, 1711360.1846606163, 1741622.780947558, 1772139.3190707753, 1802908.0763219188, 1833927.308052717, 1865195.267317437, 1896710.188870897, 1928470.2860306448, 1960473.765663825, 1992718.8174378525, 2025203.6324265285, 2057926.391280527, 2090885.2529412312, 2124078.378412836, 2157503.9188478943, 2191160.0138706374, 2225044.8287524795, 2259156.4781565033, 2293493.101752874, 2328052.821934888, 2362833.7830711897, 2397834.111461438, 2433051.9163877694, 2468485.3317653784, 2504132.4834971824, 2539991.4964907556, 2576060.503894665, 2612337.637611223, 2648821.0224057697, 2685508.799357392, 2722399.108645666, 2759490.0902960342, 2796779.9023774504, 2834266.7018375704, 2871948.6331356307, 2909823.8694712627, 2947890.582636489, 2986146.9513013624, 3024591.1610424253, 3063221.4048898714, 3102035.8835664373, 3141032.805830834, 3180210.388765622, 3219566.8580663344, 3259100.448305025, 3298809.4031839543, 3338691.97577417, 3378746.4287468563, 3418971.0345819374, 3459364.0757761067, 3499923.845024868, 3540648.6454080464, 3581536.7905487907, 3622586.6047757044, 3663796.4232581607, 3705164.5921405554, 3746689.4686798733, 3788369.4213513616, 3830202.829966222, 3872188.085708301, 3914323.5913020703, 3956607.761063124, 3999039.0209296113, 4041615.8085544896, 4084336.57340478, 4127199.7766883136, 4170203.891544299, 4213347.402925734, 4256628.80777502, 4300046.614880313, 4343599.345082219, 4387285.531043783, 4431103.717534235, 4475052.461135837, 4519130.330480976, 4563335.906088268, 4607667.780354111, 4652124.557646177, 4696704.854156985, 4741407.297897069, 4786230.528632589, 4831173.198005718, 4876233.969327661, 4921411.517552859, 4966704.5292183785, 5012111.702466807, 5057631.747059935, 5103263.384047161, 5149005.34596018, 5194856.3766599195, 5240815.2313738195, 5286880.676296152, 5333051.488890824, 5379326.457675842, 5425704.382372399, 5472184.073142215, 5518764.351211146, 5565444.048603626, 5612222.0081612365, 5659097.083132769, 5706068.137335984, 5753134.0449993815, 5800293.69040663, 5847545.968751738, 5894889.785491381, 5942324.055287602, 5989847.702574587, 6037459.663384162, 6085158.882398793, 6132944.313952263, 6180814.924746465, 6228769.6827813545, 6276807.574381124, 6324927.5889612585, 6373128.740205422, 6421410.038685085, 6469770.487795487, 6518209.1269435575, 6566724.994419161, 6615317.136699807, 6663984.610487988, 6712726.480441078, 6761541.81979899, 6810429.710289509, 6859389.242090538, 6908419.515163613, 6957519.634522997, 7006688.716106158, 7055925.880307322, 7105230.259106454, 7154600.977167545, 7204037.208601082, 7253538.10550968, 7303102.812221618, 7352730.505438262, 7402420.345010155, 7452171.538652153, 7501983.290650645, 7551854.762424181, 7601785.196387393, 7651773.766368571, 7701819.744498361, 7751922.319014177, 7802080.733381746, 7852294.213031697, 7902562.025630688, 7952883.439496001, 8003257.65433026, 8053684.04428215, 8104161.77529275, 8154690.184134603, 8205268.543349472, 8255896.14497754, 8306572.271191913, 8357296.240604151, 8408067.354990788, 8458884.94820323, 8509748.337875431, 8560656.850039015, 8611609.819948722, 8662606.582058746, 8713646.490657412, 8764728.885815555, 8815853.132014614, 8867018.586557405, 8918224.61629441, 8969470.596901732, 9020755.898483342, 9072079.910804007, 9123442.018537754, 9174841.610740803, 9226278.091023652, 9277750.859322384, 9329259.319959039, 9380802.889586166, 9432380.98467201, 9483993.02442479, 9535638.43535238, 9587316.651203092, 9639027.106560199, 9690769.24054112, 9742542.497086274, 9794346.326086858, 9846180.181705447, 9898043.52126277, 9949935.80652887, 10001856.503430733, 10053805.082459351, 10105781.018095482, 10157783.78896034, 10209812.877925025, 10261867.771560885, 10313947.96051722, 10366052.939480497, 10418182.206831653, 10470335.264917523, 10522511.619992122, 10574710.78218798, 10626932.264972305, 10679175.58487797, 10731440.26267555, 10783725.823261255, 10836031.794883829, 10888357.709171036, 10940703.101350538, 10993067.51017741, 11045450.477516152, 11097851.548810285, 11150270.272659227, 11202706.201221569, 11255158.89139424, 11307627.901369506, 11360112.792000214, 11412613.127896564, 11465128.480242604, 11517658.419214815, 11570202.516506996, 11622760.355208976, 11675331.511467794, 11727915.570872108, 11780512.121175596, 11833120.748521043, 11885741.050560221, 11938372.617170397, 11991015.052248415, 12043667.952432087, 12096330.924001077, 12149003.57548245, 12201685.51100652, 12254376.35093686, 12307075.702618027, 12359783.18675494, 12412498.42763627, 12465221.042497752, 12517950.657935014, 12570686.906385234, 12623429.417886967, 12676177.820483547, 12728931.753882019, 12781690.857739404, 12834454.774645587, 12887223.143774737, 12939995.610393917, 12992771.825069929, 13045551.438522447, 13098334.104862781, 13151119.480305795, 13203907.220342286, 13256696.985182084, 13309488.437271794, 13362281.240594631, 13415075.063561263, 13467869.575064445, 13520664.44623091, 13573459.351550767, 13626253.966281759, 13679047.968422601, 13731841.038761778, 13784632.859014967, 13837423.11356273, 13890211.489557555, 13942997.675601479, 13995781.362366924, 14048562.242580311, 14101340.01100584, 14154114.36442953, 14206885.00164356, 14259651.623430809, 14312413.932549518]}, {\"mode\": \"lines+markers\", \"name\": \"Fitted Deaths\", \"type\": \"scatter\", \"x\": [0, 1, 2, 3, 4, 5, 6, 7, 8, 9, 10, 11, 12, 13, 14, 15, 16, 17, 18, 19, 20, 21, 22, 23, 24, 25, 26, 27, 28, 29, 30, 31, 32, 33, 34, 35, 36, 37, 38, 39, 40, 41, 42, 43, 44, 45, 46, 47, 48, 49, 50, 51, 52, 53, 54, 55, 56, 57, 58, 59, 60, 61, 62, 63, 64, 65, 66, 67, 68, 69, 70, 71, 72, 73, 74, 75, 76, 77, 78, 79, 80, 81, 82, 83, 84, 85, 86, 87, 88, 89, 90, 91, 92, 93, 94, 95, 96, 97, 98, 99, 100, 101, 102, 103, 104, 105, 106, 107, 108, 109, 110, 111, 112, 113, 114, 115, 116, 117, 118, 119, 120, 121, 122, 123, 124, 125, 126, 127, 128, 129, 130, 131, 132, 133, 134, 135, 136, 137, 138, 139, 140, 141, 142, 143, 144, 145, 146, 147, 148, 149, 150, 151, 152, 153, 154, 155, 156, 157, 158, 159, 160, 161, 162, 163, 164, 165, 166, 167, 168, 169, 170, 171, 172, 173, 174, 175, 176, 177, 178, 179, 180, 181, 182, 183, 184, 185, 186, 187, 188, 189, 190, 191, 192, 193, 194, 195, 196, 197, 198, 199, 200, 201, 202, 203, 204, 205, 206, 207, 208, 209, 210, 211, 212, 213, 214, 215, 216, 217, 218, 219, 220, 221, 222, 223, 224, 225, 226, 227, 228, 229, 230, 231, 232, 233, 234, 235, 236, 237, 238, 239, 240, 241, 242, 243, 244, 245, 246, 247, 248, 249, 250, 251, 252, 253, 254, 255, 256, 257, 258, 259, 260, 261, 262, 263, 264, 265, 266, 267, 268, 269, 270, 271, 272, 273, 274, 275, 276, 277, 278, 279, 280, 281, 282, 283, 284, 285, 286, 287, 288, 289, 290, 291, 292, 293, 294, 295, 296, 297, 298, 299, 300, 301, 302, 303, 304, 305, 306, 307, 308, 309, 310, 311, 312, 313, 314, 315, 316, 317, 318, 319, 320, 321, 322, 323, 324, 325, 326, 327, 328, 329, 330, 331, 332, 333, 334, 335, 336, 337, 338, 339, 340, 341, 342, 343, 344, 345, 346, 347, 348, 349, 350, 351, 352, 353, 354, 355, 356, 357, 358, 359, 360, 361, 362, 363, 364, 365, 366, 367, 368, 369, 370, 371, 372, 373, 374, 375, 376, 377, 378, 379, 380, 381, 382, 383, 384, 385, 386, 387, 388, 389, 390, 391, 392, 393, 394, 395, 396, 397, 398, 399, 400, 401, 402, 403, 404, 405, 406, 407, 408, 409, 410, 411, 412, 413, 414, 415, 416, 417, 418, 419, 420, 421, 422, 423, 424, 425, 426, 427, 428, 429, 430, 431, 432, 433, 434, 435, 436, 437, 438, 439, 440, 441, 442, 443, 444, 445, 446, 447, 448, 449], \"y\": [0.0, 0.4063004457340087, 1.0921350704778798, 1.9418268081386412, 2.9246459877915556, 4.038909762188932, 5.293414860948544, 6.7012961148860155, 8.278029098382085, 10.04081845606054, 12.00845149355123, 14.201309326230316, 16.641432454802285, 19.352606104214477, 22.360453309390692, 25.69253193314176, 29.378433946979207, 33.44988622891168, 37.9408511589274, 42.887631717424114, 48.32897151095749, 54.30615886948214, 60.86312916587569, 68.0465664468355, 75.90600394669644, 84.49392385124418, 93.86585142483098, 104.08045541718847, 115.1996352958019, 127.28861168097492, 140.416011653777, 154.6539500085572, 170.07810592090954, 186.76779490316972, 204.80603545262193, 224.27961015545208, 245.2791209173067, 267.8990357214138, 292.2377342226566, 318.39753873503446, 346.4847431594855, 376.60963230228367, 408.88649372707647, 443.4336205106144, 480.37330664837987, 519.8318332526391, 561.9394459745465, 606.8303234098466, 654.6425369672465, 705.5180008343062, 759.6024135644067, 817.0451895274116, 877.999382304379, 942.6215982949294, 1011.0719014570354, 1083.5137090916107, 1160.113679063636, 1241.0415881960573, 1326.4702024335074, 1416.5751388279728, 1511.534721599177, 1611.5298298511818, 1716.7437147774533, 1827.3618557516452, 1943.5718103115516, 2065.5629656364204, 2193.526441950913, 2327.654782903836, 2468.141859496848, 2615.1826346825865, 2768.9729557213154, 2929.7093470686277, 3097.588791404805, 3272.808522440357, 3455.5658105719003, 3646.0577362031736, 3844.4809729524322, 4051.0315638355564, 4265.904700648074, 4489.294508452375, 4721.393820263966, 4962.393973082715, 5212.484557387392, 5471.853228702057, 5740.685485965199, 6019.164462111391, 6307.470717293745, 6605.782035806734, 6914.2732268452, 7233.11593082276, 7562.478429155932, 7902.525463462812, 8253.418048713953, 8615.313306535798, 8988.364298925666, 9372.719859918718, 9768.524452756652, 10175.91801057881, 10595.0358057036, 11026.00831297481, 11468.961077254255, 11924.014604226812, 12391.284246899595, 12870.880097657784, 13362.906896084209, 13867.463937108423, 14384.64499809919, 14914.538258019375, 15457.22623962541, 16012.785746013118, 16581.287817660104, 17162.797684187004, 17757.374738385603, 18365.072499640773, 18985.938607960437, 19620.014798803953, 20267.336917157518, 20927.934889161057, 21601.832758464763, 22289.04871413504, 22989.59506346458, 23703.478319762984, 24430.6991901361, 25171.2526613002, 25925.127999899298, 26692.30885076584, 27472.7732640035, 28266.49377198842, 29073.437441471102, 29893.566016340454, 30726.835916577813, 31573.198317338556, 32432.599224787264, 33304.97975036564, 34190.27597797225, 35088.41915264373, 35999.335776057946, 36922.9476391757, 37859.17230418438, 38807.92270466766, 39769.10725093596, 40742.63037853122, 41728.39221653697, 42726.289280666235, 43736.21406005238, 44758.05536257521, 45791.69839525589, 46837.02485204563, 47893.91291596721, 48962.237893559235, 50041.87179956848, 51132.68365534992, 52234.53971921039, 53347.303332641655, 54470.83529415927, 55604.99392526264, 56749.63516844877, 57904.61274558767, 59069.77823360434, 60244.9812242505, 61430.06942459032, 62624.88877720994, 63829.28355262898, 65043.09650016302, 66266.16894499742, 67498.3409045542, 68739.45119808131, 69989.33755544161, 71247.83672287024, 72514.78456925722, 73790.01618845519, 75073.36600137474, 76364.66785415444, 77663.75511582106, 78970.4607733037, 80284.61752394254, 81606.05786602882, 82934.61418744133, 84270.11885157257, 85612.40428138555, 86961.30304085504, 88316.64791449033, 89678.2719843282, 91046.00870472421, 92419.69197479876, 93799.15567554024, 95184.23549725072, 96574.76735687052, 97970.58712768854, 99371.53199262636, 100777.43943379719, 102188.14887519582, 103603.50056417278, 105023.33458898477, 106447.49293711115, 107875.81843007338, 109308.15456545625, 110744.34860321226, 112184.24515208315, 113627.69248590586, 115074.53902037673, 116524.6364364973, 117977.83646597338, 119433.99096646857, 120892.9551907551, 122354.58519872386, 123818.73839748836, 125285.27420889935, 126754.0533390634, 128224.93730133213, 129697.7901892706, 131172.47734079623, 132648.86541996268, 134126.82367794638, 135606.2225569995, 137086.9328736562, 138568.82873860322, 140051.78538540428, 141535.67978576222, 143020.3905718627, 144505.79809327185, 145991.78440154428, 147478.23326180733, 148965.03015387928, 150452.06227570004, 151939.21854337622, 153426.3895911182, 154913.4677699403, 156400.34714651387, 157886.92349936417, 159373.09431630984, 160858.7587887167, 162343.81780754018, 163828.17395612545, 165311.73150460655, 166794.39640108182, 168276.0762636836, 169756.68037394123, 171236.11966620426, 172714.30671965232, 174191.15573959792, 175666.5825582685, 177140.50461931064, 178612.8409607604, 180083.51220711693, 181552.44056250848, 183019.54978179414, 184484.76517704272, 185948.01358413912, 187409.22336804224, 188868.32438754133, 190325.2480049873, 191779.92704173346, 193232.29579775815, 194682.29000087056, 196129.84682086742, 197574.90483575285, 199017.40401708425, 200457.2857274409, 201894.4926903434, 203328.96897679428, 204760.65998589568, 206189.51244620024, 207615.47438052727, 209038.49509171632, 210458.52514481917, 211875.5163585673, 213289.42179568578, 214700.1957169568, 216107.79359176077, 217512.17207155895, 218913.2889836605, 220311.10328032795, 221705.5750605973, 223096.66553856098, 224484.3370487944, 225868.55296137897, 227249.27773563753, 228626.4768844976, 230000.11696734186, 231370.16554211298, 232736.59117248454, 234099.36340484375, 235458.45272723888, 236813.8306407978, 238165.46959063373, 239513.342860763, 240857.4246231815, 242197.6900910842, 243534.11524548993, 244866.67692113057, 246195.35303438694, 247520.1216126816, 248840.9623001127, 250157.8551994199, 251470.78150463922, 252779.72288628944, 254084.6614955854, 255385.58074327387, 256682.46457303423, 257975.29759175912, 259264.06522777784, 260548.753540905, 261829.3492674572, 263105.83980676194, 264378.2132121598, 265646.45828549843, 266910.56421235175, 268170.52100088133, 269426.318993721, 270677.9494095753, 271925.40385032643, 273168.6748408307, 274407.7551658025, 275642.63802658254, 276873.3173818185, 278099.78753217746, 279322.0435691934, 280540.0809742008, 281753.8954522462, 282963.48356796784, 284168.8420192687, 285369.96831072815, 286566.86005715653, 287759.5154940239, 288947.93322589557, 290132.112340909, 291312.0522944649, 292487.7529318645, 293659.2144532459, 294826.43755515985, 295989.42319417687, 297148.172739985, 298302.6879180526, 299452.9708512581, 300599.0239182668, 301740.8499018965, 302878.45179131906, 304011.8329800912, 305140.99716552586, 306265.94832301565, 307386.6907670588, 308503.22899621236, 309615.5679318487, 310723.7126237738, 311827.668483298, 312927.4411497329, 314023.03647548024, 315114.4606661237, 316201.72001950844, 317284.82116779353, 318363.77098384703, 319438.57644787827, 320509.2448531899, 321575.7837134964, 322638.2006472828, 323696.503531682, 324750.7004656964, 325800.7996994187, 326846.80962248956, 327888.7388546381, 328926.59618770884, 329960.39057485125, 330990.13110456034, 332015.8270212309, 333037.48774000845, 334055.1228200194, 335068.7419641261, 336078.35500593047, 337083.97191502084, 338085.60278916697, 339083.25784694566, 340076.94743377186, 341066.6820096572, 342052.4721450548, 343034.32852338534, 344012.2619307299, 344986.28325233527, 345956.40346857806, 346922.6336630447, 347884.98502516764, 348843.4688188556, 349798.0963800265, 350748.879130638, 351695.82857432944, 352638.9562870912, 353578.2739149735, 354513.79318102985, 355445.5258696588, 356373.48383384896, 357297.678980941, 358218.1232361847, 359134.8286323403, 360047.8072712011, 360957.07129004324, 361862.63277623686, 362764.5039782535, 363662.69723562314, 364557.2246851824, 365448.09879313136, 366335.33187381586, 367218.9362967866, 368098.9246033758, 368975.3091011322, 369848.10245438747, 370717.31700618466, 371582.965440013, 372445.06024547905, 373303.6139487054, 374158.6393247466, 375010.1487271492, 375858.15503819, 376702.67080317764, 377543.70854575024, 378381.2811245596, 379215.4011809263, 380046.08125057037, 380873.3340433171, 381697.17243177275, 382517.6089744393, 383334.65631810453, 384148.3270921544, 384958.6341337948, 385765.59014888556, 386569.2077350296, 387369.49956472515, 388166.47826654284, 388960.15646995744, 389750.5469091723, 390537.6622203688, 391321.515031042, 392102.11798487714, 392879.48363062897, 393653.6245694189, 394424.55338727555, 395192.2826098934, 395956.8248009485, 396718.19248451316, 397476.39814127743, 398231.45428003906, 398983.37336812133, 399732.1678254037, 400477.8500751712, 401220.4325183582, 401959.9275328363, 402696.34747271764, 403429.7046676849, 404160.0114223469, 404887.28001561406, 405611.52270009037]}],\n",
       "                        {\"height\": 600, \"template\": {\"data\": {\"bar\": [{\"error_x\": {\"color\": \"#2a3f5f\"}, \"error_y\": {\"color\": \"#2a3f5f\"}, \"marker\": {\"line\": {\"color\": \"#E5ECF6\", \"width\": 0.5}}, \"type\": \"bar\"}], \"barpolar\": [{\"marker\": {\"line\": {\"color\": \"#E5ECF6\", \"width\": 0.5}}, \"type\": \"barpolar\"}], \"carpet\": [{\"aaxis\": {\"endlinecolor\": \"#2a3f5f\", \"gridcolor\": \"white\", \"linecolor\": \"white\", \"minorgridcolor\": \"white\", \"startlinecolor\": \"#2a3f5f\"}, \"baxis\": {\"endlinecolor\": \"#2a3f5f\", \"gridcolor\": \"white\", \"linecolor\": \"white\", \"minorgridcolor\": \"white\", \"startlinecolor\": \"#2a3f5f\"}, \"type\": \"carpet\"}], \"choropleth\": [{\"colorbar\": {\"outlinewidth\": 0, \"ticks\": \"\"}, \"type\": \"choropleth\"}], \"contour\": [{\"colorbar\": {\"outlinewidth\": 0, \"ticks\": \"\"}, \"colorscale\": [[0.0, \"#0d0887\"], [0.1111111111111111, \"#46039f\"], [0.2222222222222222, \"#7201a8\"], [0.3333333333333333, \"#9c179e\"], [0.4444444444444444, \"#bd3786\"], [0.5555555555555556, \"#d8576b\"], [0.6666666666666666, \"#ed7953\"], [0.7777777777777778, \"#fb9f3a\"], [0.8888888888888888, \"#fdca26\"], [1.0, \"#f0f921\"]], \"type\": \"contour\"}], \"contourcarpet\": [{\"colorbar\": {\"outlinewidth\": 0, \"ticks\": \"\"}, \"type\": \"contourcarpet\"}], \"heatmap\": [{\"colorbar\": {\"outlinewidth\": 0, \"ticks\": \"\"}, \"colorscale\": [[0.0, \"#0d0887\"], [0.1111111111111111, \"#46039f\"], [0.2222222222222222, \"#7201a8\"], [0.3333333333333333, \"#9c179e\"], [0.4444444444444444, \"#bd3786\"], [0.5555555555555556, \"#d8576b\"], [0.6666666666666666, \"#ed7953\"], [0.7777777777777778, \"#fb9f3a\"], [0.8888888888888888, \"#fdca26\"], [1.0, \"#f0f921\"]], \"type\": \"heatmap\"}], \"heatmapgl\": [{\"colorbar\": {\"outlinewidth\": 0, \"ticks\": \"\"}, \"colorscale\": [[0.0, \"#0d0887\"], [0.1111111111111111, \"#46039f\"], [0.2222222222222222, \"#7201a8\"], [0.3333333333333333, \"#9c179e\"], [0.4444444444444444, \"#bd3786\"], [0.5555555555555556, \"#d8576b\"], [0.6666666666666666, \"#ed7953\"], [0.7777777777777778, \"#fb9f3a\"], [0.8888888888888888, \"#fdca26\"], [1.0, \"#f0f921\"]], \"type\": \"heatmapgl\"}], \"histogram\": [{\"marker\": {\"colorbar\": {\"outlinewidth\": 0, \"ticks\": \"\"}}, \"type\": \"histogram\"}], \"histogram2d\": [{\"colorbar\": {\"outlinewidth\": 0, \"ticks\": \"\"}, \"colorscale\": [[0.0, \"#0d0887\"], [0.1111111111111111, \"#46039f\"], [0.2222222222222222, \"#7201a8\"], [0.3333333333333333, \"#9c179e\"], [0.4444444444444444, \"#bd3786\"], [0.5555555555555556, \"#d8576b\"], [0.6666666666666666, \"#ed7953\"], [0.7777777777777778, \"#fb9f3a\"], [0.8888888888888888, \"#fdca26\"], [1.0, \"#f0f921\"]], \"type\": \"histogram2d\"}], \"histogram2dcontour\": [{\"colorbar\": {\"outlinewidth\": 0, \"ticks\": \"\"}, \"colorscale\": [[0.0, \"#0d0887\"], [0.1111111111111111, \"#46039f\"], [0.2222222222222222, \"#7201a8\"], [0.3333333333333333, \"#9c179e\"], [0.4444444444444444, \"#bd3786\"], [0.5555555555555556, \"#d8576b\"], [0.6666666666666666, \"#ed7953\"], [0.7777777777777778, \"#fb9f3a\"], [0.8888888888888888, \"#fdca26\"], [1.0, \"#f0f921\"]], \"type\": \"histogram2dcontour\"}], \"mesh3d\": [{\"colorbar\": {\"outlinewidth\": 0, \"ticks\": \"\"}, \"type\": \"mesh3d\"}], \"parcoords\": [{\"line\": {\"colorbar\": {\"outlinewidth\": 0, \"ticks\": \"\"}}, \"type\": \"parcoords\"}], \"pie\": [{\"automargin\": true, \"type\": \"pie\"}], \"scatter\": [{\"marker\": {\"colorbar\": {\"outlinewidth\": 0, \"ticks\": \"\"}}, \"type\": \"scatter\"}], \"scatter3d\": [{\"line\": {\"colorbar\": {\"outlinewidth\": 0, \"ticks\": \"\"}}, \"marker\": {\"colorbar\": {\"outlinewidth\": 0, \"ticks\": \"\"}}, \"type\": \"scatter3d\"}], \"scattercarpet\": [{\"marker\": {\"colorbar\": {\"outlinewidth\": 0, \"ticks\": \"\"}}, \"type\": \"scattercarpet\"}], \"scattergeo\": [{\"marker\": {\"colorbar\": {\"outlinewidth\": 0, \"ticks\": \"\"}}, \"type\": \"scattergeo\"}], \"scattergl\": [{\"marker\": {\"colorbar\": {\"outlinewidth\": 0, \"ticks\": \"\"}}, \"type\": \"scattergl\"}], \"scattermapbox\": [{\"marker\": {\"colorbar\": {\"outlinewidth\": 0, \"ticks\": \"\"}}, \"type\": \"scattermapbox\"}], \"scatterpolar\": [{\"marker\": {\"colorbar\": {\"outlinewidth\": 0, \"ticks\": \"\"}}, \"type\": \"scatterpolar\"}], \"scatterpolargl\": [{\"marker\": {\"colorbar\": {\"outlinewidth\": 0, \"ticks\": \"\"}}, \"type\": \"scatterpolargl\"}], \"scatterternary\": [{\"marker\": {\"colorbar\": {\"outlinewidth\": 0, \"ticks\": \"\"}}, \"type\": \"scatterternary\"}], \"surface\": [{\"colorbar\": {\"outlinewidth\": 0, \"ticks\": \"\"}, \"colorscale\": [[0.0, \"#0d0887\"], [0.1111111111111111, \"#46039f\"], [0.2222222222222222, \"#7201a8\"], [0.3333333333333333, \"#9c179e\"], [0.4444444444444444, \"#bd3786\"], [0.5555555555555556, \"#d8576b\"], [0.6666666666666666, \"#ed7953\"], [0.7777777777777778, \"#fb9f3a\"], [0.8888888888888888, \"#fdca26\"], [1.0, \"#f0f921\"]], \"type\": \"surface\"}], \"table\": [{\"cells\": {\"fill\": {\"color\": \"#EBF0F8\"}, \"line\": {\"color\": \"white\"}}, \"header\": {\"fill\": {\"color\": \"#C8D4E3\"}, \"line\": {\"color\": \"white\"}}, \"type\": \"table\"}]}, \"layout\": {\"annotationdefaults\": {\"arrowcolor\": \"#2a3f5f\", \"arrowhead\": 0, \"arrowwidth\": 1}, \"coloraxis\": {\"colorbar\": {\"outlinewidth\": 0, \"ticks\": \"\"}}, \"colorscale\": {\"diverging\": [[0, \"#8e0152\"], [0.1, \"#c51b7d\"], [0.2, \"#de77ae\"], [0.3, \"#f1b6da\"], [0.4, \"#fde0ef\"], [0.5, \"#f7f7f7\"], [0.6, \"#e6f5d0\"], [0.7, \"#b8e186\"], [0.8, \"#7fbc41\"], [0.9, \"#4d9221\"], [1, \"#276419\"]], \"sequential\": [[0.0, \"#0d0887\"], [0.1111111111111111, \"#46039f\"], [0.2222222222222222, \"#7201a8\"], [0.3333333333333333, \"#9c179e\"], [0.4444444444444444, \"#bd3786\"], [0.5555555555555556, \"#d8576b\"], [0.6666666666666666, \"#ed7953\"], [0.7777777777777778, \"#fb9f3a\"], [0.8888888888888888, \"#fdca26\"], [1.0, \"#f0f921\"]], \"sequentialminus\": [[0.0, \"#0d0887\"], [0.1111111111111111, \"#46039f\"], [0.2222222222222222, \"#7201a8\"], [0.3333333333333333, \"#9c179e\"], [0.4444444444444444, \"#bd3786\"], [0.5555555555555556, \"#d8576b\"], [0.6666666666666666, \"#ed7953\"], [0.7777777777777778, \"#fb9f3a\"], [0.8888888888888888, \"#fdca26\"], [1.0, \"#f0f921\"]]}, \"colorway\": [\"#636efa\", \"#EF553B\", \"#00cc96\", \"#ab63fa\", \"#FFA15A\", \"#19d3f3\", \"#FF6692\", \"#B6E880\", \"#FF97FF\", \"#FECB52\"], \"font\": {\"color\": \"#2a3f5f\"}, \"geo\": {\"bgcolor\": \"white\", \"lakecolor\": \"white\", \"landcolor\": \"#E5ECF6\", \"showlakes\": true, \"showland\": true, \"subunitcolor\": \"white\"}, \"hoverlabel\": {\"align\": \"left\"}, \"hovermode\": \"closest\", \"mapbox\": {\"style\": \"light\"}, \"paper_bgcolor\": \"white\", \"plot_bgcolor\": \"#E5ECF6\", \"polar\": {\"angularaxis\": {\"gridcolor\": \"white\", \"linecolor\": \"white\", \"ticks\": \"\"}, \"bgcolor\": \"#E5ECF6\", \"radialaxis\": {\"gridcolor\": \"white\", \"linecolor\": \"white\", \"ticks\": \"\"}}, \"scene\": {\"xaxis\": {\"backgroundcolor\": \"#E5ECF6\", \"gridcolor\": \"white\", \"gridwidth\": 2, \"linecolor\": \"white\", \"showbackground\": true, \"ticks\": \"\", \"zerolinecolor\": \"white\"}, \"yaxis\": {\"backgroundcolor\": \"#E5ECF6\", \"gridcolor\": \"white\", \"gridwidth\": 2, \"linecolor\": \"white\", \"showbackground\": true, \"ticks\": \"\", \"zerolinecolor\": \"white\"}, \"zaxis\": {\"backgroundcolor\": \"#E5ECF6\", \"gridcolor\": \"white\", \"gridwidth\": 2, \"linecolor\": \"white\", \"showbackground\": true, \"ticks\": \"\", \"zerolinecolor\": \"white\"}}, \"shapedefaults\": {\"line\": {\"color\": \"#2a3f5f\"}}, \"ternary\": {\"aaxis\": {\"gridcolor\": \"white\", \"linecolor\": \"white\", \"ticks\": \"\"}, \"baxis\": {\"gridcolor\": \"white\", \"linecolor\": \"white\", \"ticks\": \"\"}, \"bgcolor\": \"#E5ECF6\", \"caxis\": {\"gridcolor\": \"white\", \"linecolor\": \"white\", \"ticks\": \"\"}}, \"title\": {\"x\": 0.05}, \"xaxis\": {\"automargin\": true, \"gridcolor\": \"white\", \"linecolor\": \"white\", \"ticks\": \"\", \"title\": {\"standoff\": 15}, \"zerolinecolor\": \"white\", \"zerolinewidth\": 2}, \"yaxis\": {\"automargin\": true, \"gridcolor\": \"white\", \"linecolor\": \"white\", \"ticks\": \"\", \"title\": {\"standoff\": 15}, \"zerolinecolor\": \"white\", \"zerolinewidth\": 2}}}, \"title\": {\"text\": \"VSEIARD: Observed vs Fitted\\uff08450 Days)\", \"x\": 0.5}, \"width\": 1000, \"xaxis\": {\"title\": {\"text\": \"Day\"}}, \"yaxis\": {\"title\": {\"text\": \"Counts\"}}},\n",
       "                        {\"responsive\": true}\n",
       "                    ).then(function(){\n",
       "                            \n",
       "var gd = document.getElementById('75c128ed-d505-4c06-9642-532819b1bc35');\n",
       "var x = new MutationObserver(function (mutations, observer) {{\n",
       "        var display = window.getComputedStyle(gd).display;\n",
       "        if (!display || display === 'none') {{\n",
       "            console.log([gd, 'removed!']);\n",
       "            Plotly.purge(gd);\n",
       "            observer.disconnect();\n",
       "        }}\n",
       "}});\n",
       "\n",
       "// Listen for the removal of the full notebook cells\n",
       "var notebookContainer = gd.closest('#notebook-container');\n",
       "if (notebookContainer) {{\n",
       "    x.observe(notebookContainer, {childList: true});\n",
       "}}\n",
       "\n",
       "// Listen for the clearing of the current output cell\n",
       "var outputEl = gd.closest('.output');\n",
       "if (outputEl) {{\n",
       "    x.observe(outputEl, {childList: true});\n",
       "}}\n",
       "\n",
       "                        })\n",
       "                };\n",
       "                });\n",
       "            </script>\n",
       "        </div>"
      ]
     },
     "metadata": {},
     "output_type": "display_data"
    }
   ],
   "source": [
    "# val_days = 200\n",
    "# tspan = np.arange(0, val_days, 1)\n",
    "# observed_IRD = df_covid_history.loc[:, ['infected', 'discharged', 'deaths']].values\n",
    "data = df_covid_history.loc[0:(val_days-1), ['infected', 'discharged', 'deaths']].values\n",
    "\n",
    "fig = go.Figure()\n",
    "fig.add_trace(go.Scatter(x=tspan, y=data[:, 0], mode='markers', name='Observed Infections', line = dict(dash='dot')))\n",
    "fig.add_trace(go.Scatter(x=tspan, y=data[:, 1], mode='markers', name='Observed Recovered', line = dict(dash='dot')))\n",
    "fig.add_trace(go.Scatter(x=tspan, y=data[:, 2], mode='markers', name='Observed Deaths', line = dict(dash='dot')))\n",
    "fig.add_trace(go.Scatter(x=tspan, y=fitted_predicted_IRD[:, 0]+fitted_predicted_IRD[:, 1], mode='lines+markers', name='Fitted Infections'))\n",
    "fig.add_trace(go.Scatter(x=tspan, y=fitted_predicted_IRD[:, 2], mode='lines+markers', name='Fitted Recovered'))\n",
    "fig.add_trace(go.Scatter(x=tspan, y=fitted_predicted_IRD[:, 3], mode='lines+markers', name='Fitted Deaths'))\n",
    "fig.update_layout(title='VSEIARD: Observed vs Fitted（{} Days)'.format(val_days),\n",
    "                       xaxis_title='Day',\n",
    "                       yaxis_title='Counts',\n",
    "                       title_x=0.5,\n",
    "                      width=1000, height=600\n",
    "                     )"
   ]
  },
  {
   "cell_type": "code",
   "execution_count": null,
   "metadata": {},
   "outputs": [],
   "source": []
  },
  {
   "cell_type": "code",
   "execution_count": null,
   "metadata": {},
   "outputs": [],
   "source": []
  },
  {
   "cell_type": "code",
   "execution_count": null,
   "metadata": {},
   "outputs": [],
   "source": []
  },
  {
   "cell_type": "code",
   "execution_count": null,
   "metadata": {},
   "outputs": [],
   "source": []
  },
  {
   "cell_type": "markdown",
   "metadata": {},
   "source": [
    "# Parameter search"
   ]
  },
  {
   "cell_type": "code",
   "execution_count": 71,
   "metadata": {},
   "outputs": [],
   "source": [
    "\n",
    "def run(initV, initE, initI, initR, initD, initN, beta, sigma, gamma, mu, days,observed_IRD,data):\n",
    "    initial_conditions = [initV, initE, initI, initR, initN, initD]\n",
    "    params['beta'].value, params['sigma'].value,params['gamma'].value, params['mu'].value = [beta, sigma, gamma, mu]\n",
    "    tspan = np.arange(0, days, 1)\n",
    "    \n",
    "#     print(type(error))\n",
    "    result = minimize(error, params, args=(initial_conditions, tspan, data), method='leastsq')\n",
    "    \n",
    "    tspan_fit_pred = np.arange(0, observed_IRD.shape[0], 1)\n",
    "    params['beta'].value = result.params['beta'].value\n",
    "    params['sigma'].value = result.params['sigma'].value\n",
    "    params['gamma'].value = result.params['gamma'].value\n",
    "    params['mu'].value = result.params['mu'].value\n",
    "    tspan_fit_pred = np.arange(0, observed_IRD.shape[0], 1)\n",
    "\n",
    "    sol = ode_solver(tspan_fit_pred, initial_conditions, params)\n",
    "#     print(sol.shape)\n",
    "    S, E, I, R, D = sol[:, 0], sol[:, 1], sol[:, 2], sol[:, 3], sol[:, 4]\n",
    "#     print(I.shape,observed_IRD.shape[0])\n",
    "    return np.mean(np.abs(I[:days] - observed_IRD[:days, 0]))\n",
    "\n",
    "# run(initE, initI, initR, initD, initN, beta, sigma, gamma, mu, days,observed_IRD,data)\n",
    "errorlist=[]\n",
    "# for initE in range(10,100,100):\n",
    "#     for initI in range(1,100,10):\n",
    "initN = 1380000000\n",
    "# S0 = 966000000\n",
    "initV = 0\n",
    "initE = 1000\n",
    "initI = 47\n",
    "initR = 0\n",
    "initD = 0\n",
    "\n",
    "alpha = 0.02\n",
    "sigma = 1/5.2\n",
    "gamma = 1/2.9\n",
    "epsilon = 0.02\n",
    "mu = 0.034\n",
    "R0 = 4\n",
    "beta = R0 * gamma\n",
    "nat_b_rate=0.0174\n",
    "nat_d_rate = 0.0073\n",
    "days = 50\n",
    "\n",
    "initial_conditions = [initE, initI, initR, initN, initD]\n",
    "# print(initE,initI)\n",
    "observed_IRD = df_covid_history.loc[:, ['infected', 'discharged', 'deaths']].values\n",
    "data = df_covid_history.loc[0:(days-1), ['infected', 'discharged', 'deaths']].values\n",
    "# e = run( initV, initE, initI, initR, initD, initN, beta, sigma, gamma, mu, days,observed_IRD,data)\n",
    "# errorlist.append((e,initE,initI))"
   ]
  },
  {
   "cell_type": "code",
   "execution_count": null,
   "metadata": {},
   "outputs": [],
   "source": []
  },
  {
   "cell_type": "code",
   "execution_count": null,
   "metadata": {},
   "outputs": [],
   "source": []
  },
  {
   "cell_type": "code",
   "execution_count": null,
   "metadata": {},
   "outputs": [],
   "source": []
  },
  {
   "cell_type": "code",
   "execution_count": 72,
   "metadata": {},
   "outputs": [
    {
     "name": "stdout",
     "output_type": "stream",
     "text": [
      "5881.810225856797 1000 47\n"
     ]
    }
   ],
   "source": [
    "# print(errorlist)\n",
    "min_e = min(errorlist)\n",
    "opt_E = min_e[1]\n",
    "opt_I = min_e[2]\n",
    "print(min_e [0], opt_E,opt_I)"
   ]
  },
  {
   "cell_type": "code",
   "execution_count": 73,
   "metadata": {},
   "outputs": [
    {
     "data": {
      "text/plain": [
       "[(5881.810225856797, 1000, 47)]"
      ]
     },
     "execution_count": 73,
     "metadata": {},
     "output_type": "execute_result"
    }
   ],
   "source": [
    "errorlist"
   ]
  },
  {
   "cell_type": "code",
   "execution_count": null,
   "metadata": {},
   "outputs": [],
   "source": []
  }
 ],
 "metadata": {
  "kernelspec": {
   "display_name": "Python 3",
   "language": "python",
   "name": "python3"
  },
  "language_info": {
   "codemirror_mode": {
    "name": "ipython",
    "version": 3
   },
   "file_extension": ".py",
   "mimetype": "text/x-python",
   "name": "python",
   "nbconvert_exporter": "python",
   "pygments_lexer": "ipython3",
   "version": "3.7.4"
  }
 },
 "nbformat": 4,
 "nbformat_minor": 2
}
